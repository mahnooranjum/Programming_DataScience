{
  "nbformat": 4,
  "nbformat_minor": 0,
  "metadata": {
    "colab": {
      "name": "Demo114_TruncatedSVD_LFWPeople.ipynb",
      "provenance": [],
      "collapsed_sections": []
    },
    "kernelspec": {
      "name": "python3",
      "display_name": "Python 3"
    }
  },
  "cells": [
    {
      "cell_type": "markdown",
      "metadata": {
        "id": "P9bJCDjdlgG6",
        "colab_type": "text"
      },
      "source": [
        "# **Tame Your Python**\n",
        "\n"
      ]
    },
    {
      "cell_type": "code",
      "metadata": {
        "id": "aQwc0re5mFld",
        "colab_type": "code",
        "outputId": "c678b452-2723-4ee4-f49f-72d21e500438",
        "colab": {
          "base_uri": "https://localhost:8080/",
          "height": 35
        }
      },
      "source": [
        "import numpy as np\n",
        "import pandas as pd\n",
        "import matplotlib.pyplot as plt\n",
        "import tensorflow as tf\n",
        "print(tf.__version__)"
      ],
      "execution_count": 1,
      "outputs": [
        {
          "output_type": "stream",
          "text": [
            "2.2.0\n"
          ],
          "name": "stdout"
        }
      ]
    },
    {
      "cell_type": "code",
      "metadata": {
        "id": "6CkmP_T7NuLU",
        "colab_type": "code",
        "colab": {}
      },
      "source": [
        "import matplotlib.pyplot as plt\n",
        "from sklearn.datasets import fetch_lfw_people"
      ],
      "execution_count": 0,
      "outputs": []
    },
    {
      "cell_type": "code",
      "metadata": {
        "id": "HktWQUiENwPD",
        "colab_type": "code",
        "outputId": "105d8c44-e43b-4897-b3bf-1281219067af",
        "colab": {
          "base_uri": "https://localhost:8080/",
          "height": 87
        }
      },
      "source": [
        "# Load data\n",
        "dataset = fetch_lfw_people(min_faces_per_person=100)\n",
        " \n",
        "N, H, W = dataset.images.shape\n",
        "X = dataset.data\n",
        "y = dataset.target\n",
        "target_names = dataset.target_names"
      ],
      "execution_count": 3,
      "outputs": [
        {
          "output_type": "stream",
          "text": [
            "Downloading LFW metadata: https://ndownloader.figshare.com/files/5976012\n",
            "Downloading LFW metadata: https://ndownloader.figshare.com/files/5976009\n",
            "Downloading LFW metadata: https://ndownloader.figshare.com/files/5976006\n",
            "Downloading LFW data (~200MB): https://ndownloader.figshare.com/files/5976015\n"
          ],
          "name": "stderr"
        }
      ]
    },
    {
      "cell_type": "code",
      "metadata": {
        "id": "XzPUK9XOQKDj",
        "colab_type": "code",
        "outputId": "1e442cd0-01e9-48a3-afb0-a9810b4b85e1",
        "colab": {
          "base_uri": "https://localhost:8080/",
          "height": 52
        }
      },
      "source": [
        "print(target_names)"
      ],
      "execution_count": 4,
      "outputs": [
        {
          "output_type": "stream",
          "text": [
            "['Colin Powell' 'Donald Rumsfeld' 'George W Bush' 'Gerhard Schroeder'\n",
            " 'Tony Blair']\n"
          ],
          "name": "stdout"
        }
      ]
    },
    {
      "cell_type": "code",
      "metadata": {
        "id": "kbDSjkI5Oemq",
        "colab_type": "code",
        "outputId": "c6e6a93f-7e26-4200-beed-0ceef8899fef",
        "colab": {
          "base_uri": "https://localhost:8080/",
          "height": 69
        }
      },
      "source": [
        "print(dataset.images.shape)\n",
        "print(dataset.data.shape)\n",
        "print(dataset.target.shape)"
      ],
      "execution_count": 5,
      "outputs": [
        {
          "output_type": "stream",
          "text": [
            "(1140, 62, 47)\n",
            "(1140, 2914)\n",
            "(1140,)\n"
          ],
          "name": "stdout"
        }
      ]
    },
    {
      "cell_type": "code",
      "metadata": {
        "id": "I_XJ7C71OtoK",
        "colab_type": "code",
        "outputId": "c9d32717-2f3f-46f9-84fc-46d7125f4d48",
        "colab": {
          "base_uri": "https://localhost:8080/",
          "height": 35
        }
      },
      "source": [
        "print(H*W)"
      ],
      "execution_count": 6,
      "outputs": [
        {
          "output_type": "stream",
          "text": [
            "2914\n"
          ],
          "name": "stdout"
        }
      ]
    },
    {
      "cell_type": "code",
      "metadata": {
        "id": "ekR2xwrfOZRM",
        "colab_type": "code",
        "colab": {}
      },
      "source": [
        "from sklearn.model_selection import train_test_split\n",
        "X_train, X_test, y_train, y_test = train_test_split(X, y, test_size=0.1)"
      ],
      "execution_count": 0,
      "outputs": []
    },
    {
      "cell_type": "code",
      "metadata": {
        "id": "3fohxN_0OL67",
        "colab_type": "code",
        "colab": {}
      },
      "source": [
        "from sklearn.decomposition import TruncatedSVD\n",
        "n_components = 80\n",
        "decomposer = TruncatedSVD(n_components=n_components).fit(X_train)\n",
        "\n",
        "X_train_d = decomposer.transform(X_train)\n",
        "X_test_d = decomposer.transform(X_test)"
      ],
      "execution_count": 0,
      "outputs": []
    },
    {
      "cell_type": "code",
      "metadata": {
        "id": "Dw1hKsanOURT",
        "colab_type": "code",
        "outputId": "6383ffa2-0743-455a-cfb2-c672f474df15",
        "colab": {
          "base_uri": "https://localhost:8080/",
          "height": 1000
        }
      },
      "source": [
        "from sklearn.neural_network import MLPClassifier\n",
        "model = MLPClassifier (hidden_layer_sizes=(1024,), batch_size=256, verbose=True, early_stopping=True)\n",
        "model.fit(X_train_d, y_train)"
      ],
      "execution_count": 9,
      "outputs": [
        {
          "output_type": "stream",
          "text": [
            "Iteration 1, loss = inf\n",
            "Validation score: 0.504854\n",
            "Iteration 2, loss = inf\n",
            "Validation score: 0.524272\n",
            "Iteration 3, loss = inf\n",
            "Validation score: 0.660194\n",
            "Iteration 4, loss = 38.61485418\n",
            "Validation score: 0.747573\n",
            "Iteration 5, loss = 24.06446176\n",
            "Validation score: 0.737864\n",
            "Iteration 6, loss = 18.49100660\n",
            "Validation score: 0.766990\n",
            "Iteration 7, loss = 11.89795329\n",
            "Validation score: 0.786408\n",
            "Iteration 8, loss = 11.13935410\n",
            "Validation score: 0.825243\n",
            "Iteration 9, loss = 8.09218864\n",
            "Validation score: 0.805825\n",
            "Iteration 10, loss = 4.51426572\n",
            "Validation score: 0.815534\n",
            "Iteration 11, loss = 4.63631676\n",
            "Validation score: 0.834951\n",
            "Iteration 12, loss = 2.47639943\n",
            "Validation score: 0.825243\n",
            "Iteration 13, loss = 1.89308690\n",
            "Validation score: 0.805825\n",
            "Iteration 14, loss = 1.54381536\n",
            "Validation score: 0.844660\n",
            "Iteration 15, loss = 1.12802979\n",
            "Validation score: 0.825243\n",
            "Iteration 16, loss = 1.04773064\n",
            "Validation score: 0.825243\n",
            "Iteration 17, loss = 0.70350971\n",
            "Validation score: 0.825243\n",
            "Iteration 18, loss = 0.87397269\n",
            "Validation score: 0.815534\n",
            "Iteration 19, loss = 0.42295971\n",
            "Validation score: 0.805825\n",
            "Iteration 20, loss = 0.42773207\n",
            "Validation score: 0.805825\n",
            "Iteration 21, loss = 0.30144057\n",
            "Validation score: 0.786408\n",
            "Iteration 22, loss = 0.36649198\n",
            "Validation score: 0.796117\n",
            "Iteration 23, loss = 0.20863068\n",
            "Validation score: 0.815534\n",
            "Iteration 24, loss = 0.15177379\n",
            "Validation score: 0.786408\n",
            "Iteration 25, loss = 0.16532456\n",
            "Validation score: 0.786408\n",
            "Validation score did not improve more than tol=0.000100 for 10 consecutive epochs. Stopping.\n"
          ],
          "name": "stdout"
        },
        {
          "output_type": "execute_result",
          "data": {
            "text/plain": [
              "MLPClassifier(activation='relu', alpha=0.0001, batch_size=256, beta_1=0.9,\n",
              "              beta_2=0.999, early_stopping=True, epsilon=1e-08,\n",
              "              hidden_layer_sizes=(1024,), learning_rate='constant',\n",
              "              learning_rate_init=0.001, max_fun=15000, max_iter=200,\n",
              "              momentum=0.9, n_iter_no_change=10, nesterovs_momentum=True,\n",
              "              power_t=0.5, random_state=None, shuffle=True, solver='adam',\n",
              "              tol=0.0001, validation_fraction=0.1, verbose=True,\n",
              "              warm_start=False)"
            ]
          },
          "metadata": {
            "tags": []
          },
          "execution_count": 9
        }
      ]
    },
    {
      "cell_type": "code",
      "metadata": {
        "id": "5VGk76GvPHaS",
        "colab_type": "code",
        "colab": {}
      },
      "source": [
        "y_pred = model.predict(X_test_d)"
      ],
      "execution_count": 0,
      "outputs": []
    },
    {
      "cell_type": "code",
      "metadata": {
        "id": "o8uBVnDdPPFS",
        "colab_type": "code",
        "outputId": "04791bd4-9ffa-444d-f77e-a3c00d4a6244",
        "colab": {
          "base_uri": "https://localhost:8080/",
          "height": 225
        }
      },
      "source": [
        "from sklearn.metrics import classification_report\n",
        "print(classification_report(y_test, y_pred, target_names=target_names))"
      ],
      "execution_count": 11,
      "outputs": [
        {
          "output_type": "stream",
          "text": [
            "                   precision    recall  f1-score   support\n",
            "\n",
            "     Colin Powell       0.97      1.00      0.98        29\n",
            "  Donald Rumsfeld       0.82      0.69      0.75        13\n",
            "    George W Bush       0.88      0.88      0.88        48\n",
            "Gerhard Schroeder       0.80      0.67      0.73        12\n",
            "       Tony Blair       0.67      0.83      0.74        12\n",
            "\n",
            "         accuracy                           0.86       114\n",
            "        macro avg       0.83      0.81      0.82       114\n",
            "     weighted avg       0.86      0.86      0.86       114\n",
            "\n"
          ],
          "name": "stdout"
        }
      ]
    },
    {
      "cell_type": "code",
      "metadata": {
        "id": "9qBRSJI5Proa",
        "colab_type": "code",
        "outputId": "d6f8cf8a-94ab-4acb-c12f-539802bafd03",
        "colab": {
          "base_uri": "https://localhost:8080/",
          "height": 281
        }
      },
      "source": [
        "idx = np.random.randint(0,len(y_pred))\n",
        "plt.figure()\n",
        "plt.imshow(X_test[idx].reshape((H,W)), cmap = 'gray')\n",
        "plt.title(\"Real = \" + str(target_names[y_test[idx]]) + \" Predicted = \" + str(target_names[y_pred[idx]]))\n",
        "plt.show()"
      ],
      "execution_count": 12,
      "outputs": [
        {
          "output_type": "display_data",
          "data": {
            "image/png": "[encoded data removed]",
            "text/plain": [
              "<Figure size 432x288 with 1 Axes>"
            ]
          },
          "metadata": {
            "tags": [],
            "needs_background": "light"
          }
        }
      ]
    },
    {
      "cell_type": "code",
      "metadata": {
        "id": "fg1kIVqyBO_t",
        "colab_type": "code",
        "outputId": "b48961e5-8826-48ec-bfb1-c41ae4d5933a",
        "colab": {
          "base_uri": "https://localhost:8080/",
          "height": 268
        }
      },
      "source": [
        "idx = 1\n",
        "plt.figure()\n",
        "plt.imshow(decomposer.components_[idx].reshape((H,W)), cmap = 'gray')\n",
        "plt.show()"
      ],
      "execution_count": 13,
      "outputs": [
        {
          "output_type": "display_data",
          "data": {
            "image/png": "[encoded data removed]",
            "text/plain": [
              "<Figure size 432x288 with 1 Axes>"
            ]
          },
          "metadata": {
            "tags": [],
            "needs_background": "light"
          }
        }
      ]
    },
    {
      "cell_type": "code",
      "metadata": {
        "id": "_VrRG-RHBPQm",
        "colab_type": "code",
        "outputId": "f45aa52f-66b1-4d7f-8137-9e36f1baf27c",
        "colab": {
          "base_uri": "https://localhost:8080/",
          "height": 268
        }
      },
      "source": [
        "idx = 79\n",
        "plt.figure()\n",
        "plt.imshow(decomposer.components_[idx].reshape((H,W)), cmap = 'gray')\n",
        "plt.show()"
      ],
      "execution_count": 14,
      "outputs": [
        {
          "output_type": "display_data",
          "data": {
            "image/png": "[encoded data removed]",
            "text/plain": [
              "<Figure size 432x288 with 1 Axes>"
            ]
          },
          "metadata": {
            "tags": [],
            "needs_background": "light"
          }
        }
      ]
    }
  ]
}