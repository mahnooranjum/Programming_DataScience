{
  "nbformat": 4,
  "nbformat_minor": 0,
  "metadata": {
    "colab": {
      "name": "Demo115_RandomProjection_LFWPeople.ipynb",
      "provenance": [],
      "collapsed_sections": []
    },
    "kernelspec": {
      "name": "python3",
      "display_name": "Python 3"
    }
  },
  "cells": [
    {
      "cell_type": "markdown",
      "metadata": {
        "id": "P9bJCDjdlgG6",
        "colab_type": "text"
      },
      "source": [
        "# **Tame Your Python**\n",
        "\n"
      ]
    },
    {
      "cell_type": "code",
      "metadata": {
        "id": "aQwc0re5mFld",
        "colab_type": "code",
        "outputId": "69a04492-5b5f-4f52-cb44-9983a5f464af",
        "colab": {
          "base_uri": "https://localhost:8080/",
          "height": 35
        }
      },
      "source": [
        "import numpy as np\n",
        "import pandas as pd\n",
        "import matplotlib.pyplot as plt\n",
        "import tensorflow as tf\n",
        "print(tf.__version__)"
      ],
      "execution_count": 1,
      "outputs": [
        {
          "output_type": "stream",
          "text": [
            "2.2.0\n"
          ],
          "name": "stdout"
        }
      ]
    },
    {
      "cell_type": "code",
      "metadata": {
        "id": "6CkmP_T7NuLU",
        "colab_type": "code",
        "colab": {}
      },
      "source": [
        "import matplotlib.pyplot as plt\n",
        "from sklearn.datasets import fetch_lfw_people"
      ],
      "execution_count": 0,
      "outputs": []
    },
    {
      "cell_type": "code",
      "metadata": {
        "id": "HktWQUiENwPD",
        "colab_type": "code",
        "outputId": "d9dab12c-f0d1-43de-cfbc-2a9b933ed478",
        "colab": {
          "base_uri": "https://localhost:8080/",
          "height": 87
        }
      },
      "source": [
        "# Load data\n",
        "dataset = fetch_lfw_people(min_faces_per_person=100)\n",
        " \n",
        "N, H, W = dataset.images.shape\n",
        "X = dataset.data\n",
        "y = dataset.target\n",
        "target_names = dataset.target_names"
      ],
      "execution_count": 3,
      "outputs": [
        {
          "output_type": "stream",
          "text": [
            "Downloading LFW metadata: https://ndownloader.figshare.com/files/5976012\n",
            "Downloading LFW metadata: https://ndownloader.figshare.com/files/5976009\n",
            "Downloading LFW metadata: https://ndownloader.figshare.com/files/5976006\n",
            "Downloading LFW data (~200MB): https://ndownloader.figshare.com/files/5976015\n"
          ],
          "name": "stderr"
        }
      ]
    },
    {
      "cell_type": "code",
      "metadata": {
        "id": "XzPUK9XOQKDj",
        "colab_type": "code",
        "outputId": "db4f80a8-292b-4304-f3ef-7aa7543e3892",
        "colab": {
          "base_uri": "https://localhost:8080/",
          "height": 52
        }
      },
      "source": [
        "print(target_names)"
      ],
      "execution_count": 4,
      "outputs": [
        {
          "output_type": "stream",
          "text": [
            "['Colin Powell' 'Donald Rumsfeld' 'George W Bush' 'Gerhard Schroeder'\n",
            " 'Tony Blair']\n"
          ],
          "name": "stdout"
        }
      ]
    },
    {
      "cell_type": "code",
      "metadata": {
        "id": "kbDSjkI5Oemq",
        "colab_type": "code",
        "outputId": "995e88a0-be5a-41bd-e773-1d67d8ea7f87",
        "colab": {
          "base_uri": "https://localhost:8080/",
          "height": 69
        }
      },
      "source": [
        "print(dataset.images.shape)\n",
        "print(dataset.data.shape)\n",
        "print(dataset.target.shape)"
      ],
      "execution_count": 5,
      "outputs": [
        {
          "output_type": "stream",
          "text": [
            "(1140, 62, 47)\n",
            "(1140, 2914)\n",
            "(1140,)\n"
          ],
          "name": "stdout"
        }
      ]
    },
    {
      "cell_type": "code",
      "metadata": {
        "id": "I_XJ7C71OtoK",
        "colab_type": "code",
        "outputId": "80a9094e-3cc0-432e-af6f-2052ef6cc571",
        "colab": {
          "base_uri": "https://localhost:8080/",
          "height": 35
        }
      },
      "source": [
        "print(H*W)"
      ],
      "execution_count": 6,
      "outputs": [
        {
          "output_type": "stream",
          "text": [
            "2914\n"
          ],
          "name": "stdout"
        }
      ]
    },
    {
      "cell_type": "code",
      "metadata": {
        "id": "ekR2xwrfOZRM",
        "colab_type": "code",
        "colab": {}
      },
      "source": [
        "from sklearn.model_selection import train_test_split\n",
        "X_train, X_test, y_train, y_test = train_test_split(X, y, test_size=0.1)"
      ],
      "execution_count": 0,
      "outputs": []
    },
    {
      "cell_type": "code",
      "metadata": {
        "id": "3fohxN_0OL67",
        "colab_type": "code",
        "colab": {}
      },
      "source": [
        "from sklearn.random_projection import SparseRandomProjection\n",
        "n_components = 80\n",
        "decomposer = SparseRandomProjection(n_components=n_components).fit(X_train)\n",
        "\n",
        "X_train_d = decomposer.transform(X_train)\n",
        "X_test_d = decomposer.transform(X_test)"
      ],
      "execution_count": 0,
      "outputs": []
    },
    {
      "cell_type": "code",
      "metadata": {
        "id": "Dw1hKsanOURT",
        "colab_type": "code",
        "outputId": "dd202792-ae88-480f-939b-546191119892",
        "colab": {
          "base_uri": "https://localhost:8080/",
          "height": 1000
        }
      },
      "source": [
        "from sklearn.neural_network import MLPClassifier\n",
        "model = MLPClassifier (hidden_layer_sizes=(1024,), batch_size=256, verbose=True, early_stopping=True)\n",
        "model.fit(X_train_d, y_train)"
      ],
      "execution_count": 9,
      "outputs": [
        {
          "output_type": "stream",
          "text": [
            "Iteration 1, loss = inf\n",
            "Validation score: 0.097087\n",
            "Iteration 2, loss = inf\n",
            "Validation score: 0.504854\n",
            "Iteration 3, loss = inf\n",
            "Validation score: 0.504854\n",
            "Iteration 4, loss = inf\n",
            "Validation score: 0.165049\n",
            "Iteration 5, loss = 118.19313539\n",
            "Validation score: 0.495146\n",
            "Iteration 6, loss = 102.59010305\n",
            "Validation score: 0.533981\n",
            "Iteration 7, loss = 72.29924681\n",
            "Validation score: 0.359223\n",
            "Iteration 8, loss = 48.93886450\n",
            "Validation score: 0.563107\n",
            "Iteration 9, loss = 57.32214557\n",
            "Validation score: 0.601942\n",
            "Iteration 10, loss = 37.00643840\n",
            "Validation score: 0.524272\n",
            "Iteration 11, loss = 27.63759893\n",
            "Validation score: 0.533981\n",
            "Iteration 12, loss = 21.40103703\n",
            "Validation score: 0.631068\n",
            "Iteration 13, loss = 17.76157356\n",
            "Validation score: 0.640777\n",
            "Iteration 14, loss = 18.60423118\n",
            "Validation score: 0.679612\n",
            "Iteration 15, loss = 15.31994439\n",
            "Validation score: 0.660194\n",
            "Iteration 16, loss = 14.56982681\n",
            "Validation score: 0.631068\n",
            "Iteration 17, loss = 13.33366791\n",
            "Validation score: 0.679612\n",
            "Iteration 18, loss = 12.17825825\n",
            "Validation score: 0.669903\n",
            "Iteration 19, loss = 12.22964344\n",
            "Validation score: 0.689320\n",
            "Iteration 20, loss = 8.98635012\n",
            "Validation score: 0.708738\n",
            "Iteration 21, loss = 9.24696375\n",
            "Validation score: 0.718447\n",
            "Iteration 22, loss = 6.88260428\n",
            "Validation score: 0.718447\n",
            "Iteration 23, loss = 7.57142266\n",
            "Validation score: 0.708738\n",
            "Iteration 24, loss = 7.11579175\n",
            "Validation score: 0.708738\n",
            "Iteration 25, loss = 6.75072174\n",
            "Validation score: 0.640777\n",
            "Iteration 26, loss = 7.06697999\n",
            "Validation score: 0.699029\n",
            "Iteration 27, loss = 7.18159312\n",
            "Validation score: 0.728155\n",
            "Iteration 28, loss = 6.85074489\n",
            "Validation score: 0.669903\n",
            "Iteration 29, loss = 12.20079969\n",
            "Validation score: 0.611650\n",
            "Iteration 30, loss = 18.59193635\n",
            "Validation score: 0.640777\n",
            "Iteration 31, loss = 13.36059465\n",
            "Validation score: 0.640777\n",
            "Iteration 32, loss = 12.99631745\n",
            "Validation score: 0.650485\n",
            "Iteration 33, loss = 14.44795680\n",
            "Validation score: 0.640777\n",
            "Iteration 34, loss = 17.79548306\n",
            "Validation score: 0.601942\n",
            "Iteration 35, loss = 17.87364579\n",
            "Validation score: 0.728155\n",
            "Iteration 36, loss = 18.51495215\n",
            "Validation score: 0.699029\n",
            "Iteration 37, loss = 11.60066394\n",
            "Validation score: 0.825243\n",
            "Iteration 38, loss = 6.44958204\n",
            "Validation score: 0.660194\n",
            "Iteration 39, loss = 6.87307955\n",
            "Validation score: 0.601942\n",
            "Iteration 40, loss = 10.09338690\n",
            "Validation score: 0.699029\n",
            "Iteration 41, loss = 11.31272964\n",
            "Validation score: 0.728155\n",
            "Iteration 42, loss = 4.96465363\n",
            "Validation score: 0.660194\n",
            "Iteration 43, loss = 4.70236532\n",
            "Validation score: 0.786408\n",
            "Iteration 44, loss = 4.48736098\n",
            "Validation score: 0.728155\n",
            "Iteration 45, loss = 4.06242401\n",
            "Validation score: 0.747573\n",
            "Iteration 46, loss = 3.17298974\n",
            "Validation score: 0.757282\n",
            "Iteration 47, loss = 2.67730107\n",
            "Validation score: 0.776699\n",
            "Iteration 48, loss = 2.61128678\n",
            "Validation score: 0.776699\n",
            "Validation score did not improve more than tol=0.000100 for 10 consecutive epochs. Stopping.\n"
          ],
          "name": "stdout"
        },
        {
          "output_type": "execute_result",
          "data": {
            "text/plain": [
              "MLPClassifier(activation='relu', alpha=0.0001, batch_size=256, beta_1=0.9,\n",
              "              beta_2=0.999, early_stopping=True, epsilon=1e-08,\n",
              "              hidden_layer_sizes=(1024,), learning_rate='constant',\n",
              "              learning_rate_init=0.001, max_fun=15000, max_iter=200,\n",
              "              momentum=0.9, n_iter_no_change=10, nesterovs_momentum=True,\n",
              "              power_t=0.5, random_state=None, shuffle=True, solver='adam',\n",
              "              tol=0.0001, validation_fraction=0.1, verbose=True,\n",
              "              warm_start=False)"
            ]
          },
          "metadata": {
            "tags": []
          },
          "execution_count": 9
        }
      ]
    },
    {
      "cell_type": "code",
      "metadata": {
        "id": "5VGk76GvPHaS",
        "colab_type": "code",
        "colab": {}
      },
      "source": [
        "y_pred = model.predict(X_test_d)"
      ],
      "execution_count": 0,
      "outputs": []
    },
    {
      "cell_type": "code",
      "metadata": {
        "id": "o8uBVnDdPPFS",
        "colab_type": "code",
        "outputId": "052d0432-3854-45b3-97f5-85197204caa4",
        "colab": {
          "base_uri": "https://localhost:8080/",
          "height": 225
        }
      },
      "source": [
        "from sklearn.metrics import classification_report\n",
        "print(classification_report(y_test, y_pred, target_names=target_names))"
      ],
      "execution_count": 11,
      "outputs": [
        {
          "output_type": "stream",
          "text": [
            "                   precision    recall  f1-score   support\n",
            "\n",
            "     Colin Powell       0.56      0.61      0.58        23\n",
            "  Donald Rumsfeld       0.75      0.38      0.50        16\n",
            "    George W Bush       0.78      0.79      0.79        53\n",
            "Gerhard Schroeder       0.43      0.69      0.53        13\n",
            "       Tony Blair       0.67      0.44      0.53         9\n",
            "\n",
            "         accuracy                           0.66       114\n",
            "        macro avg       0.64      0.58      0.59       114\n",
            "     weighted avg       0.68      0.66      0.66       114\n",
            "\n"
          ],
          "name": "stdout"
        }
      ]
    },
    {
      "cell_type": "code",
      "metadata": {
        "id": "9qBRSJI5Proa",
        "colab_type": "code",
        "outputId": "35a1b1f2-894c-4370-956b-c1ce84e88306",
        "colab": {
          "base_uri": "https://localhost:8080/",
          "height": 281
        }
      },
      "source": [
        "idx = np.random.randint(0,len(y_pred))\n",
        "plt.figure()\n",
        "plt.imshow(X_test[idx].reshape((H,W)), cmap = 'gray')\n",
        "plt.title(\"Real = \" + str(target_names[y_test[idx]]) + \" Predicted = \" + str(target_names[y_pred[idx]]))\n",
        "plt.show()"
      ],
      "execution_count": 12,
      "outputs": [
        {
          "output_type": "display_data",
          "data": {
            "image/png": "[encoded data removed]",
            "text/plain": [
              "<Figure size 432x288 with 1 Axes>"
            ]
          },
          "metadata": {
            "tags": [],
            "needs_background": "light"
          }
        }
      ]
    },
    {
      "cell_type": "code",
      "metadata": {
        "id": "JVdvbWCiDNkB",
        "colab_type": "code",
        "colab": {}
      },
      "source": [
        ""
      ],
      "execution_count": 0,
      "outputs": []
    }
  ]
}