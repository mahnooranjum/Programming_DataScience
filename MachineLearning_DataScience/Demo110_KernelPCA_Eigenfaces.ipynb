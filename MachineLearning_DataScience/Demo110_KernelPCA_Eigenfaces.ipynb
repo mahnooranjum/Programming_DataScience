{
  "nbformat": 4,
  "nbformat_minor": 0,
  "metadata": {
    "colab": {
      "name": "Demo110_KernelPCA_Eigenfaces.ipynb",
      "provenance": [],
      "collapsed_sections": []
    },
    "kernelspec": {
      "name": "python3",
      "display_name": "Python 3"
    }
  },
  "cells": [
    {
      "cell_type": "markdown",
      "metadata": {
        "id": "P9bJCDjdlgG6",
        "colab_type": "text"
      },
      "source": [
        "# **Tame Your Python**\n",
        "\n",
        "Reference: https://pythonmachinelearning.pro/\n"
      ]
    },
    {
      "cell_type": "code",
      "metadata": {
        "id": "aQwc0re5mFld",
        "colab_type": "code",
        "outputId": "f6d37e31-1d20-469d-da73-c423be92a4e5",
        "colab": {
          "base_uri": "https://localhost:8080/",
          "height": 35
        }
      },
      "source": [
        "import numpy as np\n",
        "import pandas as pd\n",
        "import matplotlib.pyplot as plt\n",
        "import tensorflow as tf\n",
        "print(tf.__version__)"
      ],
      "execution_count": 1,
      "outputs": [
        {
          "output_type": "stream",
          "text": [
            "2.2.0\n"
          ],
          "name": "stdout"
        }
      ]
    },
    {
      "cell_type": "code",
      "metadata": {
        "id": "6CkmP_T7NuLU",
        "colab_type": "code",
        "colab": {}
      },
      "source": [
        "import matplotlib.pyplot as plt\n",
        "from sklearn.datasets import fetch_lfw_people"
      ],
      "execution_count": 0,
      "outputs": []
    },
    {
      "cell_type": "code",
      "metadata": {
        "id": "HktWQUiENwPD",
        "colab_type": "code",
        "colab": {
          "base_uri": "https://localhost:8080/",
          "height": 87
        },
        "outputId": "87117fcd-9ec5-4efd-b812-302dda901ec0"
      },
      "source": [
        "# Load data\n",
        "dataset = fetch_lfw_people(min_faces_per_person=100)\n",
        " \n",
        "N, H, W = dataset.images.shape\n",
        "X = dataset.data\n",
        "y = dataset.target\n",
        "target_names = dataset.target_names"
      ],
      "execution_count": 3,
      "outputs": [
        {
          "output_type": "stream",
          "text": [
            "Downloading LFW metadata: https://ndownloader.figshare.com/files/5976012\n",
            "Downloading LFW metadata: https://ndownloader.figshare.com/files/5976009\n",
            "Downloading LFW metadata: https://ndownloader.figshare.com/files/5976006\n",
            "Downloading LFW data (~200MB): https://ndownloader.figshare.com/files/5976015\n"
          ],
          "name": "stderr"
        }
      ]
    },
    {
      "cell_type": "code",
      "metadata": {
        "id": "XzPUK9XOQKDj",
        "colab_type": "code",
        "outputId": "e72e0055-1dde-4370-8e64-034bd9192b8a",
        "colab": {
          "base_uri": "https://localhost:8080/",
          "height": 52
        }
      },
      "source": [
        "print(target_names)"
      ],
      "execution_count": 4,
      "outputs": [
        {
          "output_type": "stream",
          "text": [
            "['Colin Powell' 'Donald Rumsfeld' 'George W Bush' 'Gerhard Schroeder'\n",
            " 'Tony Blair']\n"
          ],
          "name": "stdout"
        }
      ]
    },
    {
      "cell_type": "code",
      "metadata": {
        "id": "kbDSjkI5Oemq",
        "colab_type": "code",
        "outputId": "23de8cee-1dc5-4556-aa41-1f11308c5284",
        "colab": {
          "base_uri": "https://localhost:8080/",
          "height": 69
        }
      },
      "source": [
        "print(dataset.images.shape)\n",
        "print(dataset.data.shape)\n",
        "print(dataset.target.shape)"
      ],
      "execution_count": 5,
      "outputs": [
        {
          "output_type": "stream",
          "text": [
            "(1140, 62, 47)\n",
            "(1140, 2914)\n",
            "(1140,)\n"
          ],
          "name": "stdout"
        }
      ]
    },
    {
      "cell_type": "code",
      "metadata": {
        "id": "I_XJ7C71OtoK",
        "colab_type": "code",
        "outputId": "d8ace3c5-9586-4ef4-9171-72a8110f11d2",
        "colab": {
          "base_uri": "https://localhost:8080/",
          "height": 35
        }
      },
      "source": [
        "print(H*W)"
      ],
      "execution_count": 6,
      "outputs": [
        {
          "output_type": "stream",
          "text": [
            "2914\n"
          ],
          "name": "stdout"
        }
      ]
    },
    {
      "cell_type": "code",
      "metadata": {
        "id": "ekR2xwrfOZRM",
        "colab_type": "code",
        "colab": {}
      },
      "source": [
        "from sklearn.model_selection import train_test_split\n",
        "X_train, X_test, y_train, y_test = train_test_split(X, y, test_size=0.1)"
      ],
      "execution_count": 0,
      "outputs": []
    },
    {
      "cell_type": "code",
      "metadata": {
        "id": "3fohxN_0OL67",
        "colab_type": "code",
        "colab": {}
      },
      "source": [
        "from sklearn.decomposition import KernelPCA\n",
        "n_components = 80\n",
        "pca = KernelPCA(n_components=n_components, kernel=\"poly\").fit(X_train)\n",
        "\n",
        "X_train_pca = pca.transform(X_train)\n",
        "X_test_pca = pca.transform(X_test)"
      ],
      "execution_count": 0,
      "outputs": []
    },
    {
      "cell_type": "code",
      "metadata": {
        "id": "Dw1hKsanOURT",
        "colab_type": "code",
        "outputId": "706b7f5d-138b-4b08-ec70-635e80c49a90",
        "colab": {
          "base_uri": "https://localhost:8080/",
          "height": 763
        }
      },
      "source": [
        "from sklearn.neural_network import MLPClassifier\n",
        "model = MLPClassifier (hidden_layer_sizes=(1024,), batch_size=256, verbose=True, early_stopping=True)\n",
        "model.fit(X_train_pca, y_train)"
      ],
      "execution_count": 12,
      "outputs": [
        {
          "output_type": "stream",
          "text": [
            "Iteration 1, loss = inf\n",
            "Validation score: 0.631068\n",
            "Iteration 2, loss = inf\n",
            "Validation score: 0.679612\n",
            "Iteration 3, loss = inf\n",
            "Validation score: 0.776699\n",
            "Iteration 4, loss = inf\n",
            "Validation score: 0.786408\n",
            "Iteration 5, loss = inf\n",
            "Validation score: 0.805825\n",
            "Iteration 6, loss = inf\n",
            "Validation score: 0.844660\n",
            "Iteration 7, loss = inf\n",
            "Validation score: 0.815534\n",
            "Iteration 8, loss = inf\n",
            "Validation score: 0.815534\n",
            "Iteration 9, loss = inf\n",
            "Validation score: 0.805825\n",
            "Iteration 10, loss = inf\n",
            "Validation score: 0.834951\n",
            "Iteration 11, loss = inf\n",
            "Validation score: 0.844660\n",
            "Iteration 12, loss = inf\n",
            "Validation score: 0.825243\n",
            "Iteration 13, loss = inf\n",
            "Validation score: 0.834951\n",
            "Iteration 14, loss = inf\n",
            "Validation score: 0.834951\n",
            "Iteration 15, loss = inf\n",
            "Validation score: 0.834951\n",
            "Iteration 16, loss = inf\n",
            "Validation score: 0.825243\n",
            "Iteration 17, loss = 0.00003519\n",
            "Validation score: 0.825243\n",
            "Validation score did not improve more than tol=0.000100 for 10 consecutive epochs. Stopping.\n"
          ],
          "name": "stdout"
        },
        {
          "output_type": "execute_result",
          "data": {
            "text/plain": [
              "MLPClassifier(activation='relu', alpha=0.0001, batch_size=256, beta_1=0.9,\n",
              "              beta_2=0.999, early_stopping=True, epsilon=1e-08,\n",
              "              hidden_layer_sizes=(1024,), learning_rate='constant',\n",
              "              learning_rate_init=0.001, max_fun=15000, max_iter=200,\n",
              "              momentum=0.9, n_iter_no_change=10, nesterovs_momentum=True,\n",
              "              power_t=0.5, random_state=None, shuffle=True, solver='adam',\n",
              "              tol=0.0001, validation_fraction=0.1, verbose=True,\n",
              "              warm_start=False)"
            ]
          },
          "metadata": {
            "tags": []
          },
          "execution_count": 12
        }
      ]
    },
    {
      "cell_type": "code",
      "metadata": {
        "id": "5VGk76GvPHaS",
        "colab_type": "code",
        "colab": {}
      },
      "source": [
        "y_pred = model.predict(X_test_pca)"
      ],
      "execution_count": 0,
      "outputs": []
    },
    {
      "cell_type": "code",
      "metadata": {
        "id": "o8uBVnDdPPFS",
        "colab_type": "code",
        "outputId": "da0a1bfd-54eb-4920-cef5-b028b52ba5f9",
        "colab": {
          "base_uri": "https://localhost:8080/",
          "height": 225
        }
      },
      "source": [
        "from sklearn.metrics import classification_report\n",
        "print(classification_report(y_test, y_pred, target_names=target_names))"
      ],
      "execution_count": 14,
      "outputs": [
        {
          "output_type": "stream",
          "text": [
            "                   precision    recall  f1-score   support\n",
            "\n",
            "     Colin Powell       0.95      0.84      0.89        25\n",
            "  Donald Rumsfeld       0.62      0.83      0.71         6\n",
            "    George W Bush       0.89      0.89      0.89        54\n",
            "Gerhard Schroeder       0.69      0.75      0.72        12\n",
            "       Tony Blair       0.71      0.71      0.71        17\n",
            "\n",
            "         accuracy                           0.83       114\n",
            "        macro avg       0.77      0.80      0.78       114\n",
            "     weighted avg       0.84      0.83      0.84       114\n",
            "\n"
          ],
          "name": "stdout"
        }
      ]
    },
    {
      "cell_type": "code",
      "metadata": {
        "id": "9qBRSJI5Proa",
        "colab_type": "code",
        "outputId": "fef3bb4a-8e57-4388-933e-b90e5fbd46bb",
        "colab": {
          "base_uri": "https://localhost:8080/",
          "height": 281
        }
      },
      "source": [
        "idx = np.random.randint(0,len(y_pred))\n",
        "plt.figure()\n",
        "plt.imshow(X_test[idx].reshape((H,W)), cmap = 'gray')\n",
        "plt.title(\"Real = \" + str(target_names[y_test[idx]]) + \" Predicted = \" + str(target_names[y_pred[idx]]))\n",
        "plt.show()"
      ],
      "execution_count": 15,
      "outputs": [
        {
          "output_type": "display_data",
          "data": {
            "image/png": "[encoded data removed]",
            "text/plain": [
              "<Figure size 432x288 with 1 Axes>"
            ]
          },
          "metadata": {
            "tags": [],
            "needs_background": "light"
          }
        }
      ]
    }
  ]
}