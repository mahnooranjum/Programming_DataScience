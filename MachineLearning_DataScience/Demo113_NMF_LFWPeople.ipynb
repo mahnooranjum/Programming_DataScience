{
  "nbformat": 4,
  "nbformat_minor": 0,
  "metadata": {
    "colab": {
      "name": "Demo113_NMF_LFWPeople.ipynb",
      "provenance": [],
      "collapsed_sections": []
    },
    "kernelspec": {
      "name": "python3",
      "display_name": "Python 3"
    }
  },
  "cells": [
    {
      "cell_type": "markdown",
      "metadata": {
        "id": "P9bJCDjdlgG6",
        "colab_type": "text"
      },
      "source": [
        "# **Tame Your Python**\n",
        "\n"
      ]
    },
    {
      "cell_type": "code",
      "metadata": {
        "id": "aQwc0re5mFld",
        "colab_type": "code",
        "outputId": "28bb4a1e-8f24-43ed-f335-1dbced5f23dc",
        "colab": {
          "base_uri": "https://localhost:8080/",
          "height": 35
        }
      },
      "source": [
        "import numpy as np\n",
        "import pandas as pd\n",
        "import matplotlib.pyplot as plt\n",
        "import tensorflow as tf\n",
        "print(tf.__version__)"
      ],
      "execution_count": 1,
      "outputs": [
        {
          "output_type": "stream",
          "text": [
            "2.2.0\n"
          ],
          "name": "stdout"
        }
      ]
    },
    {
      "cell_type": "code",
      "metadata": {
        "id": "6CkmP_T7NuLU",
        "colab_type": "code",
        "colab": {}
      },
      "source": [
        "import matplotlib.pyplot as plt\n",
        "from sklearn.datasets import fetch_lfw_people"
      ],
      "execution_count": 0,
      "outputs": []
    },
    {
      "cell_type": "code",
      "metadata": {
        "id": "HktWQUiENwPD",
        "colab_type": "code",
        "outputId": "61ad0072-ec69-4778-f401-b59a85933f7f",
        "colab": {
          "base_uri": "https://localhost:8080/",
          "height": 87
        }
      },
      "source": [
        "# Load data\n",
        "dataset = fetch_lfw_people(min_faces_per_person=100)\n",
        " \n",
        "N, H, W = dataset.images.shape\n",
        "X = dataset.data\n",
        "y = dataset.target\n",
        "target_names = dataset.target_names"
      ],
      "execution_count": 3,
      "outputs": [
        {
          "output_type": "stream",
          "text": [
            "Downloading LFW metadata: https://ndownloader.figshare.com/files/5976012\n",
            "Downloading LFW metadata: https://ndownloader.figshare.com/files/5976009\n",
            "Downloading LFW metadata: https://ndownloader.figshare.com/files/5976006\n",
            "Downloading LFW data (~200MB): https://ndownloader.figshare.com/files/5976015\n"
          ],
          "name": "stderr"
        }
      ]
    },
    {
      "cell_type": "code",
      "metadata": {
        "id": "XzPUK9XOQKDj",
        "colab_type": "code",
        "outputId": "81f537d3-09d2-47d1-91da-8eaf46613fc3",
        "colab": {
          "base_uri": "https://localhost:8080/",
          "height": 52
        }
      },
      "source": [
        "print(target_names)"
      ],
      "execution_count": 4,
      "outputs": [
        {
          "output_type": "stream",
          "text": [
            "['Colin Powell' 'Donald Rumsfeld' 'George W Bush' 'Gerhard Schroeder'\n",
            " 'Tony Blair']\n"
          ],
          "name": "stdout"
        }
      ]
    },
    {
      "cell_type": "code",
      "metadata": {
        "id": "kbDSjkI5Oemq",
        "colab_type": "code",
        "outputId": "92478de2-6137-4ddc-d275-407523332ccf",
        "colab": {
          "base_uri": "https://localhost:8080/",
          "height": 69
        }
      },
      "source": [
        "print(dataset.images.shape)\n",
        "print(dataset.data.shape)\n",
        "print(dataset.target.shape)"
      ],
      "execution_count": 5,
      "outputs": [
        {
          "output_type": "stream",
          "text": [
            "(1140, 62, 47)\n",
            "(1140, 2914)\n",
            "(1140,)\n"
          ],
          "name": "stdout"
        }
      ]
    },
    {
      "cell_type": "code",
      "metadata": {
        "id": "I_XJ7C71OtoK",
        "colab_type": "code",
        "outputId": "45c58714-3ff4-4f4a-b208-12309cde7508",
        "colab": {
          "base_uri": "https://localhost:8080/",
          "height": 35
        }
      },
      "source": [
        "print(H*W)"
      ],
      "execution_count": 6,
      "outputs": [
        {
          "output_type": "stream",
          "text": [
            "2914\n"
          ],
          "name": "stdout"
        }
      ]
    },
    {
      "cell_type": "code",
      "metadata": {
        "id": "ekR2xwrfOZRM",
        "colab_type": "code",
        "colab": {}
      },
      "source": [
        "from sklearn.model_selection import train_test_split\n",
        "X_train, X_test, y_train, y_test = train_test_split(X, y, test_size=0.1)"
      ],
      "execution_count": 0,
      "outputs": []
    },
    {
      "cell_type": "code",
      "metadata": {
        "id": "3fohxN_0OL67",
        "colab_type": "code",
        "colab": {}
      },
      "source": [
        "from sklearn.decomposition import NMF\n",
        "n_components = 80\n",
        "decomposer = NMF(n_components=n_components).fit(X_train)\n",
        "\n",
        "X_train_d = decomposer.transform(X_train)\n",
        "X_test_d = decomposer.transform(X_test)"
      ],
      "execution_count": 0,
      "outputs": []
    },
    {
      "cell_type": "code",
      "metadata": {
        "id": "Dw1hKsanOURT",
        "colab_type": "code",
        "outputId": "d6613f4c-c130-4802-b99c-9ff0018e09a6",
        "colab": {
          "base_uri": "https://localhost:8080/",
          "height": 1000
        }
      },
      "source": [
        "from sklearn.neural_network import MLPClassifier\n",
        "model = MLPClassifier (hidden_layer_sizes=(1024,), batch_size=256, verbose=True, early_stopping=True)\n",
        "model.fit(X_train_d, y_train)"
      ],
      "execution_count": 9,
      "outputs": [
        {
          "output_type": "stream",
          "text": [
            "Iteration 1, loss = 1.73781870\n",
            "Validation score: 0.514563\n",
            "Iteration 2, loss = 1.23258887\n",
            "Validation score: 0.456311\n",
            "Iteration 3, loss = 0.97588081\n",
            "Validation score: 0.621359\n",
            "Iteration 4, loss = 0.80204172\n",
            "Validation score: 0.679612\n",
            "Iteration 5, loss = 0.67780647\n",
            "Validation score: 0.728155\n",
            "Iteration 6, loss = 0.59484667\n",
            "Validation score: 0.786408\n",
            "Iteration 7, loss = 0.52195806\n",
            "Validation score: 0.796117\n",
            "Iteration 8, loss = 0.46004815\n",
            "Validation score: 0.786408\n",
            "Iteration 9, loss = 0.41735629\n",
            "Validation score: 0.805825\n",
            "Iteration 10, loss = 0.36687281\n",
            "Validation score: 0.825243\n",
            "Iteration 11, loss = 0.33829688\n",
            "Validation score: 0.815534\n",
            "Iteration 12, loss = 0.30805483\n",
            "Validation score: 0.844660\n",
            "Iteration 13, loss = 0.27854814\n",
            "Validation score: 0.825243\n",
            "Iteration 14, loss = 0.25653747\n",
            "Validation score: 0.834951\n",
            "Iteration 15, loss = 0.23914598\n",
            "Validation score: 0.834951\n",
            "Iteration 16, loss = 0.21711703\n",
            "Validation score: 0.873786\n",
            "Iteration 17, loss = 0.19839034\n",
            "Validation score: 0.854369\n",
            "Iteration 18, loss = 0.18383297\n",
            "Validation score: 0.854369\n",
            "Iteration 19, loss = 0.17516360\n",
            "Validation score: 0.854369\n",
            "Iteration 20, loss = 0.15864805\n",
            "Validation score: 0.854369\n",
            "Iteration 21, loss = 0.14528425\n",
            "Validation score: 0.864078\n",
            "Iteration 22, loss = 0.13654244\n",
            "Validation score: 0.854369\n",
            "Iteration 23, loss = 0.12342187\n",
            "Validation score: 0.854369\n",
            "Iteration 24, loss = 0.11467854\n",
            "Validation score: 0.883495\n",
            "Iteration 25, loss = 0.10898668\n",
            "Validation score: 0.854369\n",
            "Iteration 26, loss = 0.09872262\n",
            "Validation score: 0.864078\n",
            "Iteration 27, loss = 0.09139495\n",
            "Validation score: 0.864078\n",
            "Iteration 28, loss = 0.08593713\n",
            "Validation score: 0.873786\n",
            "Iteration 29, loss = 0.07899158\n",
            "Validation score: 0.854369\n",
            "Iteration 30, loss = 0.07521925\n",
            "Validation score: 0.844660\n",
            "Iteration 31, loss = 0.06852725\n",
            "Validation score: 0.873786\n",
            "Iteration 32, loss = 0.06490971\n",
            "Validation score: 0.864078\n",
            "Iteration 33, loss = 0.06086599\n",
            "Validation score: 0.864078\n",
            "Iteration 34, loss = 0.05662780\n",
            "Validation score: 0.864078\n",
            "Iteration 35, loss = 0.05367403\n",
            "Validation score: 0.854369\n",
            "Validation score did not improve more than tol=0.000100 for 10 consecutive epochs. Stopping.\n"
          ],
          "name": "stdout"
        },
        {
          "output_type": "execute_result",
          "data": {
            "text/plain": [
              "MLPClassifier(activation='relu', alpha=0.0001, batch_size=256, beta_1=0.9,\n",
              "              beta_2=0.999, early_stopping=True, epsilon=1e-08,\n",
              "              hidden_layer_sizes=(1024,), learning_rate='constant',\n",
              "              learning_rate_init=0.001, max_fun=15000, max_iter=200,\n",
              "              momentum=0.9, n_iter_no_change=10, nesterovs_momentum=True,\n",
              "              power_t=0.5, random_state=None, shuffle=True, solver='adam',\n",
              "              tol=0.0001, validation_fraction=0.1, verbose=True,\n",
              "              warm_start=False)"
            ]
          },
          "metadata": {
            "tags": []
          },
          "execution_count": 9
        }
      ]
    },
    {
      "cell_type": "code",
      "metadata": {
        "id": "5VGk76GvPHaS",
        "colab_type": "code",
        "colab": {}
      },
      "source": [
        "y_pred = model.predict(X_test_d)"
      ],
      "execution_count": 0,
      "outputs": []
    },
    {
      "cell_type": "code",
      "metadata": {
        "id": "o8uBVnDdPPFS",
        "colab_type": "code",
        "outputId": "a03f5f63-46d9-445b-c93d-1a77c65f1168",
        "colab": {
          "base_uri": "https://localhost:8080/",
          "height": 225
        }
      },
      "source": [
        "from sklearn.metrics import classification_report\n",
        "print(classification_report(y_test, y_pred, target_names=target_names))"
      ],
      "execution_count": 11,
      "outputs": [
        {
          "output_type": "stream",
          "text": [
            "                   precision    recall  f1-score   support\n",
            "\n",
            "     Colin Powell       1.00      0.93      0.96        27\n",
            "  Donald Rumsfeld       0.80      0.67      0.73         6\n",
            "    George W Bush       0.88      0.96      0.92        54\n",
            "Gerhard Schroeder       0.83      0.59      0.69        17\n",
            "       Tony Blair       0.62      0.80      0.70        10\n",
            "\n",
            "         accuracy                           0.87       114\n",
            "        macro avg       0.83      0.79      0.80       114\n",
            "     weighted avg       0.87      0.87      0.87       114\n",
            "\n"
          ],
          "name": "stdout"
        }
      ]
    },
    {
      "cell_type": "code",
      "metadata": {
        "id": "9qBRSJI5Proa",
        "colab_type": "code",
        "outputId": "abae37ed-a8a3-4293-f206-d09c57e0d3d6",
        "colab": {
          "base_uri": "https://localhost:8080/",
          "height": 281
        }
      },
      "source": [
        "idx = np.random.randint(0,len(y_pred))\n",
        "plt.figure()\n",
        "plt.imshow(X_test[idx].reshape((H,W)), cmap = 'gray')\n",
        "plt.title(\"Real = \" + str(target_names[y_test[idx]]) + \" Predicted = \" + str(target_names[y_pred[idx]]))\n",
        "plt.show()"
      ],
      "execution_count": 12,
      "outputs": [
        {
          "output_type": "display_data",
          "data": {
            "image/png": "[encoded data removed]",
            "text/plain": [
              "<Figure size 432x288 with 1 Axes>"
            ]
          },
          "metadata": {
            "tags": [],
            "needs_background": "light"
          }
        }
      ]
    },
    {
      "cell_type": "code",
      "metadata": {
        "id": "fg1kIVqyBO_t",
        "colab_type": "code",
        "colab": {
          "base_uri": "https://localhost:8080/",
          "height": 268
        },
        "outputId": "ca4bfb0f-ab36-424d-e0b2-d3c48b721fd0"
      },
      "source": [
        "idx = 1\n",
        "plt.figure()\n",
        "plt.imshow(decomposer.components_[idx].reshape((H,W)), cmap = 'gray')\n",
        "plt.show()"
      ],
      "execution_count": 13,
      "outputs": [
        {
          "output_type": "display_data",
          "data": {
            "image/png": "[encoded data removed]",
            "text/plain": [
              "<Figure size 432x288 with 1 Axes>"
            ]
          },
          "metadata": {
            "tags": [],
            "needs_background": "light"
          }
        }
      ]
    },
    {
      "cell_type": "code",
      "metadata": {
        "id": "_VrRG-RHBPQm",
        "colab_type": "code",
        "colab": {
          "base_uri": "https://localhost:8080/",
          "height": 268
        },
        "outputId": "3d15231a-e9aa-4a6b-a09c-a880f94e662a"
      },
      "source": [
        "idx = 79\n",
        "plt.figure()\n",
        "plt.imshow(decomposer.components_[idx].reshape((H,W)), cmap = 'gray')\n",
        "plt.show()"
      ],
      "execution_count": 14,
      "outputs": [
        {
          "output_type": "display_data",
          "data": {
            "image/png": "[encoded data removed]",
            "text/plain": [
              "<Figure size 432x288 with 1 Axes>"
            ]
          },
          "metadata": {
            "tags": [],
            "needs_background": "light"
          }
        }
      ]
    }
  ]
}