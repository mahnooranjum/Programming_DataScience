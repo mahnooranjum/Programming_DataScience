{
  "nbformat": 4,
  "nbformat_minor": 0,
  "metadata": {
    "colab": {
      "name": "Demo112_ICA_LFWPeople.ipynb",
      "provenance": [],
      "collapsed_sections": []
    },
    "kernelspec": {
      "name": "python3",
      "display_name": "Python 3"
    }
  },
  "cells": [
    {
      "cell_type": "markdown",
      "metadata": {
        "id": "P9bJCDjdlgG6",
        "colab_type": "text"
      },
      "source": [
        "# **Tame Your Python**\n",
        "\n"
      ]
    },
    {
      "cell_type": "code",
      "metadata": {
        "id": "aQwc0re5mFld",
        "colab_type": "code",
        "outputId": "0d3dc5a6-f546-4fea-91b3-210293c219ff",
        "colab": {
          "base_uri": "https://localhost:8080/",
          "height": 35
        }
      },
      "source": [
        "import numpy as np\n",
        "import pandas as pd\n",
        "import matplotlib.pyplot as plt\n",
        "import tensorflow as tf\n",
        "print(tf.__version__)"
      ],
      "execution_count": 1,
      "outputs": [
        {
          "output_type": "stream",
          "text": [
            "2.2.0\n"
          ],
          "name": "stdout"
        }
      ]
    },
    {
      "cell_type": "code",
      "metadata": {
        "id": "6CkmP_T7NuLU",
        "colab_type": "code",
        "colab": {}
      },
      "source": [
        "import matplotlib.pyplot as plt\n",
        "from sklearn.datasets import fetch_lfw_people"
      ],
      "execution_count": 0,
      "outputs": []
    },
    {
      "cell_type": "code",
      "metadata": {
        "id": "HktWQUiENwPD",
        "colab_type": "code",
        "outputId": "1f8bd0db-e175-48a8-eb55-17f6e1fc7329",
        "colab": {
          "base_uri": "https://localhost:8080/",
          "height": 87
        }
      },
      "source": [
        "# Load data\n",
        "dataset = fetch_lfw_people(min_faces_per_person=100)\n",
        " \n",
        "N, H, W = dataset.images.shape\n",
        "X = dataset.data\n",
        "y = dataset.target\n",
        "target_names = dataset.target_names"
      ],
      "execution_count": 3,
      "outputs": [
        {
          "output_type": "stream",
          "text": [
            "Downloading LFW metadata: https://ndownloader.figshare.com/files/5976012\n",
            "Downloading LFW metadata: https://ndownloader.figshare.com/files/5976009\n",
            "Downloading LFW metadata: https://ndownloader.figshare.com/files/5976006\n",
            "Downloading LFW data (~200MB): https://ndownloader.figshare.com/files/5976015\n"
          ],
          "name": "stderr"
        }
      ]
    },
    {
      "cell_type": "code",
      "metadata": {
        "id": "XzPUK9XOQKDj",
        "colab_type": "code",
        "outputId": "ece2aba7-bd0a-4ae8-a7e5-cbc96d36dd72",
        "colab": {
          "base_uri": "https://localhost:8080/",
          "height": 52
        }
      },
      "source": [
        "print(target_names)"
      ],
      "execution_count": 4,
      "outputs": [
        {
          "output_type": "stream",
          "text": [
            "['Colin Powell' 'Donald Rumsfeld' 'George W Bush' 'Gerhard Schroeder'\n",
            " 'Tony Blair']\n"
          ],
          "name": "stdout"
        }
      ]
    },
    {
      "cell_type": "code",
      "metadata": {
        "id": "kbDSjkI5Oemq",
        "colab_type": "code",
        "outputId": "6fea4c8c-d5fc-4058-f189-32b36291abbd",
        "colab": {
          "base_uri": "https://localhost:8080/",
          "height": 69
        }
      },
      "source": [
        "print(dataset.images.shape)\n",
        "print(dataset.data.shape)\n",
        "print(dataset.target.shape)"
      ],
      "execution_count": 5,
      "outputs": [
        {
          "output_type": "stream",
          "text": [
            "(1140, 62, 47)\n",
            "(1140, 2914)\n",
            "(1140,)\n"
          ],
          "name": "stdout"
        }
      ]
    },
    {
      "cell_type": "code",
      "metadata": {
        "id": "I_XJ7C71OtoK",
        "colab_type": "code",
        "outputId": "744f8309-2c5e-4310-d7f2-fc4134585a64",
        "colab": {
          "base_uri": "https://localhost:8080/",
          "height": 35
        }
      },
      "source": [
        "print(H*W)"
      ],
      "execution_count": 6,
      "outputs": [
        {
          "output_type": "stream",
          "text": [
            "2914\n"
          ],
          "name": "stdout"
        }
      ]
    },
    {
      "cell_type": "code",
      "metadata": {
        "id": "ekR2xwrfOZRM",
        "colab_type": "code",
        "colab": {}
      },
      "source": [
        "from sklearn.model_selection import train_test_split\n",
        "X_train, X_test, y_train, y_test = train_test_split(X, y, test_size=0.1)"
      ],
      "execution_count": 0,
      "outputs": []
    },
    {
      "cell_type": "code",
      "metadata": {
        "id": "3fohxN_0OL67",
        "colab_type": "code",
        "colab": {}
      },
      "source": [
        "from sklearn.decomposition import FastICA\n",
        "n_components = 80\n",
        "decomposer = FastICA(n_components=n_components).fit(X_train)\n",
        "\n",
        "X_train_d = decomposer.transform(X_train)\n",
        "X_test_d = decomposer.transform(X_test)"
      ],
      "execution_count": 0,
      "outputs": []
    },
    {
      "cell_type": "code",
      "metadata": {
        "id": "Dw1hKsanOURT",
        "colab_type": "code",
        "outputId": "d474d133-3517-46e6-f857-c777b6fd9153",
        "colab": {
          "base_uri": "https://localhost:8080/",
          "height": 589
        }
      },
      "source": [
        "from sklearn.neural_network import MLPClassifier\n",
        "model = MLPClassifier (hidden_layer_sizes=(1024,), batch_size=256, verbose=True, early_stopping=True)\n",
        "model.fit(X_train_d, y_train)"
      ],
      "execution_count": 9,
      "outputs": [
        {
          "output_type": "stream",
          "text": [
            "Iteration 1, loss = 1.59016228\n",
            "Validation score: 0.543689\n",
            "Iteration 2, loss = 1.52320088\n",
            "Validation score: 0.543689\n",
            "Iteration 3, loss = 1.46695180\n",
            "Validation score: 0.543689\n",
            "Iteration 4, loss = 1.41801593\n",
            "Validation score: 0.543689\n",
            "Iteration 5, loss = 1.38281800\n",
            "Validation score: 0.543689\n",
            "Iteration 6, loss = 1.35545385\n",
            "Validation score: 0.543689\n",
            "Iteration 7, loss = 1.33404398\n",
            "Validation score: 0.543689\n",
            "Iteration 8, loss = 1.31807261\n",
            "Validation score: 0.543689\n",
            "Iteration 9, loss = 1.29989683\n",
            "Validation score: 0.543689\n",
            "Iteration 10, loss = 1.27840488\n",
            "Validation score: 0.543689\n",
            "Iteration 11, loss = 1.25356474\n",
            "Validation score: 0.543689\n",
            "Iteration 12, loss = 1.22711068\n",
            "Validation score: 0.543689\n",
            "Validation score did not improve more than tol=0.000100 for 10 consecutive epochs. Stopping.\n"
          ],
          "name": "stdout"
        },
        {
          "output_type": "execute_result",
          "data": {
            "text/plain": [
              "MLPClassifier(activation='relu', alpha=0.0001, batch_size=256, beta_1=0.9,\n",
              "              beta_2=0.999, early_stopping=True, epsilon=1e-08,\n",
              "              hidden_layer_sizes=(1024,), learning_rate='constant',\n",
              "              learning_rate_init=0.001, max_fun=15000, max_iter=200,\n",
              "              momentum=0.9, n_iter_no_change=10, nesterovs_momentum=True,\n",
              "              power_t=0.5, random_state=None, shuffle=True, solver='adam',\n",
              "              tol=0.0001, validation_fraction=0.1, verbose=True,\n",
              "              warm_start=False)"
            ]
          },
          "metadata": {
            "tags": []
          },
          "execution_count": 9
        }
      ]
    },
    {
      "cell_type": "code",
      "metadata": {
        "id": "5VGk76GvPHaS",
        "colab_type": "code",
        "colab": {}
      },
      "source": [
        "y_pred = model.predict(X_test_d)"
      ],
      "execution_count": 0,
      "outputs": []
    },
    {
      "cell_type": "code",
      "metadata": {
        "id": "o8uBVnDdPPFS",
        "colab_type": "code",
        "outputId": "f82f72c6-e094-4ae9-85bd-804c22a28983",
        "colab": {
          "base_uri": "https://localhost:8080/",
          "height": 280
        }
      },
      "source": [
        "from sklearn.metrics import classification_report\n",
        "print(classification_report(y_test, y_pred, target_names=target_names))"
      ],
      "execution_count": 11,
      "outputs": [
        {
          "output_type": "stream",
          "text": [
            "                   precision    recall  f1-score   support\n",
            "\n",
            "     Colin Powell       0.00      0.00      0.00        28\n",
            "  Donald Rumsfeld       0.00      0.00      0.00        12\n",
            "    George W Bush       0.43      1.00      0.60        49\n",
            "Gerhard Schroeder       0.00      0.00      0.00         8\n",
            "       Tony Blair       0.00      0.00      0.00        17\n",
            "\n",
            "         accuracy                           0.43       114\n",
            "        macro avg       0.09      0.20      0.12       114\n",
            "     weighted avg       0.18      0.43      0.26       114\n",
            "\n"
          ],
          "name": "stdout"
        },
        {
          "output_type": "stream",
          "text": [
            "/usr/local/lib/python3.6/dist-packages/sklearn/metrics/_classification.py:1272: UndefinedMetricWarning: Precision and F-score are ill-defined and being set to 0.0 in labels with no predicted samples. Use `zero_division` parameter to control this behavior.\n",
            "  _warn_prf(average, modifier, msg_start, len(result))\n"
          ],
          "name": "stderr"
        }
      ]
    },
    {
      "cell_type": "code",
      "metadata": {
        "id": "9qBRSJI5Proa",
        "colab_type": "code",
        "outputId": "d6c4bd23-8b48-4669-ca57-dd9bc4d9a8eb",
        "colab": {
          "base_uri": "https://localhost:8080/",
          "height": 281
        }
      },
      "source": [
        "idx = np.random.randint(0,len(y_pred))\n",
        "plt.figure()\n",
        "plt.imshow(X_test[idx].reshape((H,W)), cmap = 'gray')\n",
        "plt.title(\"Real = \" + str(target_names[y_test[idx]]) + \" Predicted = \" + str(target_names[y_pred[idx]]))\n",
        "plt.show()"
      ],
      "execution_count": 12,
      "outputs": [
        {
          "output_type": "display_data",
          "data": {
            "image/png": "[encoded data removed]",
            "text/plain": [
              "<Figure size 432x288 with 1 Axes>"
            ]
          },
          "metadata": {
            "tags": [],
            "needs_background": "light"
          }
        }
      ]
    }
  ]
}