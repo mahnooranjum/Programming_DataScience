{
  "nbformat": 4,
  "nbformat_minor": 0,
  "metadata": {
    "colab": {
      "name": "Demo33_AdaboostClassificationSpamDetection.ipynb",
      "provenance": [],
      "collapsed_sections": []
    },
    "kernelspec": {
      "name": "python3",
      "display_name": "Python 3"
    }
  },
  "cells": [
    {
      "cell_type": "markdown",
      "metadata": {
        "id": "P9bJCDjdlgG6",
        "colab_type": "text"
      },
      "source": [
        "# **Tame Your Python**\n",
        "\n",
        "Let's see how we can classify emails based on their contents\n",
        "\n",
        "`Leggo`\n"
      ]
    },
    {
      "cell_type": "code",
      "metadata": {
        "id": "r-fv0YBhcY0e",
        "colab_type": "code",
        "colab": {}
      },
      "source": [
        "# Dataset by : https://www.kaggle.com/venky73/spam-mails-dataset"
      ],
      "execution_count": 0,
      "outputs": []
    },
    {
      "cell_type": "code",
      "metadata": {
        "id": "aQwc0re5mFld",
        "colab_type": "code",
        "outputId": "07c282da-2442-472b-acca-a085583e618d",
        "colab": {
          "base_uri": "https://localhost:8080/",
          "height": 71
        }
      },
      "source": [
        "import numpy as np\n",
        "import matplotlib.pyplot as plt\n",
        "import pandas as pd\n",
        "import seaborn as sns\n",
        "sns.set_style('whitegrid')"
      ],
      "execution_count": 1,
      "outputs": [
        {
          "output_type": "stream",
          "text": [
            "/usr/local/lib/python3.6/dist-packages/statsmodels/tools/_testing.py:19: FutureWarning: pandas.util.testing is deprecated. Use the functions in the public API at pandas.testing instead.\n",
            "  import pandas.util.testing as tm\n"
          ],
          "name": "stderr"
        }
      ]
    },
    {
      "cell_type": "code",
      "metadata": {
        "id": "_ScQ2uBjrLap",
        "colab_type": "code",
        "colab": {}
      },
      "source": [
        "def evaluate(y_test,y_pred):\n",
        "  # Making the Confusion Matrix\n",
        "  from sklearn.metrics import confusion_matrix\n",
        "  con_mat = confusion_matrix(y_test, y_pred)\n",
        "  print(\"===================================================\")\n",
        "  print(con_mat)\n",
        "  from sklearn.metrics import classification_report\n",
        "  print(\"===================================================\")\n",
        "  print(classification_report(y_test, y_pred))\n",
        "  print(\"===================================================\")\n",
        "\n",
        "  # Get accuracy\n",
        "  from sklearn.metrics import accuracy_score, precision_score, recall_score, f1_score\n",
        "  print('Accuracy score: ', format(accuracy_score(y_test, y_pred)))\n",
        "  print('Precision score: ', format(precision_score(y_test, y_pred)))\n",
        "  print('Recall score: ', format(recall_score(y_test, y_pred)))\n",
        "  print('F1 score: ', format(f1_score(y_test, y_pred)))"
      ],
      "execution_count": 0,
      "outputs": []
    },
    {
      "cell_type": "markdown",
      "metadata": {
        "id": "keG44qpdQiVA",
        "colab_type": "text"
      },
      "source": [
        "## Get the dataset"
      ]
    },
    {
      "cell_type": "code",
      "metadata": {
        "id": "qyw8HvOuBEZm",
        "colab_type": "code",
        "outputId": "a9c15f8f-55da-4bc3-d32f-d8bc2517304d",
        "colab": {
          "base_uri": "https://localhost:8080/",
          "height": 203
        }
      },
      "source": [
        "import pandas as pd\n",
        "data = pd.read_csv('sample_data/spam_ham_dataset.csv')\n",
        "data.head()"
      ],
      "execution_count": 3,
      "outputs": [
        {
          "output_type": "execute_result",
          "data": {
            "text/html": [
              "<div>\n",
              "<style scoped>\n",
              "    .dataframe tbody tr th:only-of-type {\n",
              "        vertical-align: middle;\n",
              "    }\n",
              "\n",
              "    .dataframe tbody tr th {\n",
              "        vertical-align: top;\n",
              "    }\n",
              "\n",
              "    .dataframe thead th {\n",
              "        text-align: right;\n",
              "    }\n",
              "</style>\n",
              "<table border=\"1\" class=\"dataframe\">\n",
              "  <thead>\n",
              "    <tr style=\"text-align: right;\">\n",
              "      <th></th>\n",
              "      <th>Unnamed: 0</th>\n",
              "      <th>label</th>\n",
              "      <th>text</th>\n",
              "      <th>label_num</th>\n",
              "    </tr>\n",
              "  </thead>\n",
              "  <tbody>\n",
              "    <tr>\n",
              "      <th>0</th>\n",
              "      <td>605</td>\n",
              "      <td>ham</td>\n",
              "      <td>Subject: enron methanol ; meter # : 988291\\r\\n...</td>\n",
              "      <td>0</td>\n",
              "    </tr>\n",
              "    <tr>\n",
              "      <th>1</th>\n",
              "      <td>2349</td>\n",
              "      <td>ham</td>\n",
              "      <td>Subject: hpl nom for january 9 , 2001\\r\\n( see...</td>\n",
              "      <td>0</td>\n",
              "    </tr>\n",
              "    <tr>\n",
              "      <th>2</th>\n",
              "      <td>3624</td>\n",
              "      <td>ham</td>\n",
              "      <td>Subject: neon retreat\\r\\nho ho ho , we ' re ar...</td>\n",
              "      <td>0</td>\n",
              "    </tr>\n",
              "    <tr>\n",
              "      <th>3</th>\n",
              "      <td>4685</td>\n",
              "      <td>spam</td>\n",
              "      <td>Subject: photoshop , windows , office . cheap ...</td>\n",
              "      <td>1</td>\n",
              "    </tr>\n",
              "    <tr>\n",
              "      <th>4</th>\n",
              "      <td>2030</td>\n",
              "      <td>ham</td>\n",
              "      <td>Subject: re : indian springs\\r\\nthis deal is t...</td>\n",
              "      <td>0</td>\n",
              "    </tr>\n",
              "  </tbody>\n",
              "</table>\n",
              "</div>"
            ],
            "text/plain": [
              "   Unnamed: 0  ... label_num\n",
              "0         605  ...         0\n",
              "1        2349  ...         0\n",
              "2        3624  ...         0\n",
              "3        4685  ...         1\n",
              "4        2030  ...         0\n",
              "\n",
              "[5 rows x 4 columns]"
            ]
          },
          "metadata": {
            "tags": []
          },
          "execution_count": 3
        }
      ]
    },
    {
      "cell_type": "code",
      "metadata": {
        "id": "aaDOe9jtdgT8",
        "colab_type": "code",
        "colab": {}
      },
      "source": [
        "y = data.label_num.values"
      ],
      "execution_count": 0,
      "outputs": []
    },
    {
      "cell_type": "code",
      "metadata": {
        "id": "8J7LYQyydnfy",
        "colab_type": "code",
        "colab": {}
      },
      "source": [
        "X = data.text"
      ],
      "execution_count": 0,
      "outputs": []
    },
    {
      "cell_type": "code",
      "metadata": {
        "id": "FSg4yOgLevE8",
        "colab_type": "code",
        "outputId": "806f1f0e-c75d-45b6-8466-bc96fa20fbf6",
        "colab": {
          "base_uri": "https://localhost:8080/",
          "height": 279
        }
      },
      "source": [
        "sns.countplot(data = data, x = 'label');"
      ],
      "execution_count": 6,
      "outputs": [
        {
          "output_type": "display_data",
          "data": {
            "image/png": "[encoded data removed]",
            "text/plain": [
              "<Figure size 432x288 with 1 Axes>"
            ]
          },
          "metadata": {
            "tags": [],
            "needs_background": "light"
          }
        }
      ]
    },
    {
      "cell_type": "code",
      "metadata": {
        "id": "QzCSFsOQeUud",
        "colab_type": "code",
        "outputId": "daffe305-cb1d-4360-97a3-f53ed5c535b5",
        "colab": {
          "base_uri": "https://localhost:8080/",
          "height": 103
        }
      },
      "source": [
        "import nltk\n",
        "from nltk.corpus import stopwords \n",
        "from nltk.tokenize import word_tokenize\n",
        "nltk.download('punkt')\n",
        "nltk.download('stopwords')"
      ],
      "execution_count": 7,
      "outputs": [
        {
          "output_type": "stream",
          "text": [
            "[nltk_data] Downloading package punkt to /root/nltk_data...\n",
            "[nltk_data]   Unzipping tokenizers/punkt.zip.\n",
            "[nltk_data] Downloading package stopwords to /root/nltk_data...\n",
            "[nltk_data]   Unzipping corpora/stopwords.zip.\n"
          ],
          "name": "stdout"
        },
        {
          "output_type": "execute_result",
          "data": {
            "text/plain": [
              "True"
            ]
          },
          "metadata": {
            "tags": []
          },
          "execution_count": 7
        }
      ]
    },
    {
      "cell_type": "code",
      "metadata": {
        "id": "t_9rzfCGe3Cq",
        "colab_type": "code",
        "colab": {}
      },
      "source": [
        "# STEP 1 :  REMOVE STOP WORDS\n",
        "stop_words = set(stopwords.words('english')) \n",
        "X = X.apply(lambda email: ' '.join([ word for word in word_tokenize(email)  if not word in stop_words]))"
      ],
      "execution_count": 0,
      "outputs": []
    },
    {
      "cell_type": "code",
      "metadata": {
        "id": "zBQFlet-hLOj",
        "colab_type": "code",
        "colab": {}
      },
      "source": [
        "# STEP 2 :  REMOVE SUBJECT\n",
        "X = X.apply(lambda email: ' '.join([ word for word in word_tokenize(email)  if not word in [\"Subject\"]]))"
      ],
      "execution_count": 0,
      "outputs": []
    },
    {
      "cell_type": "code",
      "metadata": {
        "id": "2aodgRMvhnsm",
        "colab_type": "code",
        "colab": {}
      },
      "source": [
        "# STEP 2 :  REMOVE NUMBERS\n",
        "X = X.apply(lambda email: ' '.join([ word for word in word_tokenize(email)  if not word.isdigit()]))"
      ],
      "execution_count": 0,
      "outputs": []
    },
    {
      "cell_type": "code",
      "metadata": {
        "id": "bG_oXYlYjj1p",
        "colab_type": "code",
        "colab": {}
      },
      "source": [
        "# punctuations = list('!\"#$%&\\'()*+,-./:;<=>?@[\\\\]^_`{|}~')\n",
        "# punctuations"
      ],
      "execution_count": 0,
      "outputs": []
    },
    {
      "cell_type": "code",
      "metadata": {
        "id": "SCHFcZ0wiRVr",
        "colab_type": "code",
        "colab": {}
      },
      "source": [
        "# STEP 3 : REMOVE PUNCTUATIONS\n",
        "# X = X.apply(lambda email: ' '.join([ word for word in word_tokenize(email) if not word in punctuations]))"
      ],
      "execution_count": 0,
      "outputs": []
    },
    {
      "cell_type": "code",
      "metadata": {
        "id": "8BXz3dEKgdeE",
        "colab_type": "code",
        "outputId": "1db81070-f7d7-48a2-a634-e58b8e579791",
        "colab": {
          "base_uri": "https://localhost:8080/",
          "height": 223
        }
      },
      "source": [
        "X"
      ],
      "execution_count": 13,
      "outputs": [
        {
          "output_type": "execute_result",
          "data": {
            "text/plain": [
              "0       : enron methanol ; meter # : follow note gave ...\n",
              "1       : hpl nom january , ( see attached file : hpln...\n",
              "2       : neon retreat ho ho ho , ' around wonderful t...\n",
              "3       : photoshop , windows , office . cheap . main ...\n",
              "4       : : indian springs deal book teco pvr revenue ...\n",
              "                              ...                        \n",
              "5166    : put ft transport volumes decreased . contrac...\n",
              "5167    : / / following noms hpl ' take extra mmcf / w...\n",
              "5168    : calpine daily gas nomination > > julie , men...\n",
              "5169    : industrial worksheets august activity attach...\n",
              "5170    : important online banking alert dear valued c...\n",
              "Name: text, Length: 5171, dtype: object"
            ]
          },
          "metadata": {
            "tags": []
          },
          "execution_count": 13
        }
      ]
    },
    {
      "cell_type": "code",
      "metadata": {
        "id": "P42JcM6Ekm1M",
        "colab_type": "code",
        "colab": {}
      },
      "source": [
        "from sklearn.feature_extraction.text import CountVectorizer\n",
        "count_vector = CountVectorizer()\n",
        "X_bow = count_vector.fit_transform(X.astype(str))\n",
        "#count_vector.get_feature_names()"
      ],
      "execution_count": 0,
      "outputs": []
    },
    {
      "cell_type": "code",
      "metadata": {
        "id": "QCww7rHTnJbw",
        "colab_type": "code",
        "colab": {}
      },
      "source": [
        "X_bow  = X_bow.toarray()"
      ],
      "execution_count": 0,
      "outputs": []
    },
    {
      "cell_type": "code",
      "metadata": {
        "id": "UtyQH-fRnOjm",
        "colab_type": "code",
        "outputId": "bd4b8b6a-3e2a-4b29-97e9-250bcc1deb26",
        "colab": {
          "base_uri": "https://localhost:8080/",
          "height": 137
        }
      },
      "source": [
        "X_bow"
      ],
      "execution_count": 16,
      "outputs": [
        {
          "output_type": "execute_result",
          "data": {
            "text/plain": [
              "array([[0, 0, 0, ..., 0, 0, 0],\n",
              "       [0, 0, 0, ..., 0, 0, 0],\n",
              "       [0, 0, 0, ..., 0, 0, 0],\n",
              "       ...,\n",
              "       [0, 0, 0, ..., 0, 0, 0],\n",
              "       [0, 0, 0, ..., 0, 0, 0],\n",
              "       [0, 0, 0, ..., 0, 0, 0]])"
            ]
          },
          "metadata": {
            "tags": []
          },
          "execution_count": 16
        }
      ]
    },
    {
      "cell_type": "code",
      "metadata": {
        "id": "2X9688rGk-RY",
        "colab_type": "code",
        "colab": {}
      },
      "source": [
        "X_bow = pd.DataFrame(X_bow, columns = count_vector.get_feature_names())"
      ],
      "execution_count": 0,
      "outputs": []
    },
    {
      "cell_type": "code",
      "metadata": {
        "id": "jlsS_oO3nTmN",
        "colab_type": "code",
        "outputId": "acaf7ca8-2249-446b-edf5-bc95aa6bd21d",
        "colab": {
          "base_uri": "https://localhost:8080/",
          "height": 34
        }
      },
      "source": [
        "X_bow['hey'].count()"
      ],
      "execution_count": 18,
      "outputs": [
        {
          "output_type": "execute_result",
          "data": {
            "text/plain": [
              "5171"
            ]
          },
          "metadata": {
            "tags": []
          },
          "execution_count": 18
        }
      ]
    },
    {
      "cell_type": "code",
      "metadata": {
        "id": "oUJyshkNW2YQ",
        "colab_type": "code",
        "colab": {}
      },
      "source": [
        "# TRAIN TEST SPLIT\n",
        "from sklearn.model_selection import train_test_split\n",
        "X_train, X_test, y_train, y_test = train_test_split(X_bow, y, test_size = 0.2)"
      ],
      "execution_count": 0,
      "outputs": []
    },
    {
      "cell_type": "code",
      "metadata": {
        "id": "I3ToEcO1ndTo",
        "colab_type": "code",
        "outputId": "73ae9316-98c8-4e80-fd75-5886d31126ee",
        "colab": {
          "base_uri": "https://localhost:8080/",
          "height": 86
        }
      },
      "source": [
        "print(X_train.shape)\n",
        "print(y_train.shape)\n",
        "print(X_test.shape)\n",
        "print(y_test.shape)\n",
        "\n",
        "X_train = X_train.values\n",
        "X_test = X_test.values"
      ],
      "execution_count": 20,
      "outputs": [
        {
          "output_type": "stream",
          "text": [
            "(4136, 45595)\n",
            "(4136,)\n",
            "(1035, 45595)\n",
            "(1035,)\n"
          ],
          "name": "stdout"
        }
      ]
    },
    {
      "cell_type": "code",
      "metadata": {
        "id": "G-H_ZGr5e1wk",
        "colab_type": "code",
        "colab": {}
      },
      "source": [
        "from sklearn.ensemble import AdaBoostClassifier\n",
        "from sklearn.tree import DecisionTreeClassifier\n",
        "classifier = AdaBoostClassifier(base_estimator = DecisionTreeClassifier(max_depth = 10), n_estimators = 50)\n",
        "classifier.fit(X_train,y_train)\n",
        "y_pred = classifier.predict(X_test)\n",
        "y_pred = np.round(y_pred).flatten()\n"
      ],
      "execution_count": 0,
      "outputs": []
    },
    {
      "cell_type": "code",
      "metadata": {
        "id": "VDRncPlf-u40",
        "colab_type": "code",
        "colab": {}
      },
      "source": [
        ""
      ],
      "execution_count": 0,
      "outputs": []
    },
    {
      "cell_type": "code",
      "metadata": {
        "id": "WItmtYVeqUrn",
        "colab_type": "code",
        "outputId": "0c7842eb-aee8-41e4-b8fd-0525cbb0d90d",
        "colab": {
          "base_uri": "https://localhost:8080/",
          "height": 34
        }
      },
      "source": [
        "# Let's see how many spam emails we have \n",
        "print(str(y_train.sum()) + \" out of \" + str(len(y_train)) + \" were spam\")"
      ],
      "execution_count": 23,
      "outputs": [
        {
          "output_type": "stream",
          "text": [
            "1178 out of 4136 were spam\n"
          ],
          "name": "stdout"
        }
      ]
    },
    {
      "cell_type": "code",
      "metadata": {
        "id": "PnwCz4PErTX2",
        "colab_type": "code",
        "outputId": "fe2312ee-86f0-4ec9-c2cd-eed760b52d2f",
        "colab": {
          "base_uri": "https://localhost:8080/",
          "height": 326
        }
      },
      "source": [
        "evaluate(y_test,y_pred)"
      ],
      "execution_count": 24,
      "outputs": [
        {
          "output_type": "stream",
          "text": [
            "===================================================\n",
            "[[687  27]\n",
            " [ 33 288]]\n",
            "===================================================\n",
            "              precision    recall  f1-score   support\n",
            "\n",
            "           0       0.95      0.96      0.96       714\n",
            "           1       0.91      0.90      0.91       321\n",
            "\n",
            "    accuracy                           0.94      1035\n",
            "   macro avg       0.93      0.93      0.93      1035\n",
            "weighted avg       0.94      0.94      0.94      1035\n",
            "\n",
            "===================================================\n",
            "Accuracy score:  0.9420289855072463\n",
            "Precision score:  0.9142857142857143\n",
            "Recall score:  0.897196261682243\n",
            "F1 score:  0.9056603773584906\n"
          ],
          "name": "stdout"
        }
      ]
    },
    {
      "cell_type": "code",
      "metadata": {
        "id": "lGjrk6kb-xtk",
        "colab_type": "code",
        "colab": {
          "base_uri": "https://localhost:8080/",
          "height": 326
        },
        "outputId": "dd1e167f-8161-4d1c-a653-49ec824f2260"
      },
      "source": [
        "from sklearn.ensemble import AdaBoostClassifier\n",
        "from sklearn.tree import DecisionTreeClassifier\n",
        "classifier = AdaBoostClassifier()\n",
        "classifier.fit(X_train,y_train)\n",
        "y_pred = classifier.predict(X_test)\n",
        "y_pred = np.round(y_pred).flatten()\n",
        "evaluate(y_test,y_pred)"
      ],
      "execution_count": 25,
      "outputs": [
        {
          "output_type": "stream",
          "text": [
            "===================================================\n",
            "[[683  31]\n",
            " [ 15 306]]\n",
            "===================================================\n",
            "              precision    recall  f1-score   support\n",
            "\n",
            "           0       0.98      0.96      0.97       714\n",
            "           1       0.91      0.95      0.93       321\n",
            "\n",
            "    accuracy                           0.96      1035\n",
            "   macro avg       0.94      0.95      0.95      1035\n",
            "weighted avg       0.96      0.96      0.96      1035\n",
            "\n",
            "===================================================\n",
            "Accuracy score:  0.9555555555555556\n",
            "Precision score:  0.9080118694362018\n",
            "Recall score:  0.9532710280373832\n",
            "F1 score:  0.9300911854103344\n"
          ],
          "name": "stdout"
        }
      ]
    }
  ]
}