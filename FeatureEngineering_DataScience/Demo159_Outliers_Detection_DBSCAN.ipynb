{
  "nbformat": 4,
  "nbformat_minor": 0,
  "metadata": {
    "kernelspec": {
      "display_name": "Python 3",
      "language": "python",
      "name": "python3"
    },
    "language_info": {
      "codemirror_mode": {
        "name": "ipython",
        "version": 3
      },
      "file_extension": ".py",
      "mimetype": "text/x-python",
      "name": "python",
      "nbconvert_exporter": "python",
      "pygments_lexer": "ipython3",
      "version": "3.6.1"
    },
    "toc": {
      "nav_menu": {},
      "number_sections": true,
      "sideBar": true,
      "skip_h1_title": false,
      "toc_cell": false,
      "toc_position": {},
      "toc_section_display": "block",
      "toc_window_display": true
    },
    "colab": {
      "name": "Demo159_Outliers_Detection_DBSCAN.ipynb",
      "provenance": [],
      "collapsed_sections": []
    }
  },
  "cells": [
    {
      "cell_type": "markdown",
      "metadata": {
        "id": "vgXbvCBnYDzt",
        "colab_type": "text"
      },
      "source": [
        "## Outliers\n",
        "\n",
        "An outlier is an observation that lies outside the overall pattern of a distribution __[Moore and McCabe, 1999]__.\n",
        "\n",
        "- Outliers can either be treated special completely ignored \n",
        "\n",
        "- E.g., Fraudulant transactions are outliers, but since we want to avoid them, they must be paid special attention \n",
        "\n",
        "- If we think that the outliers are errors, we should remove them \n",
        "\n",
        "\n",
        "## Which of the ML models care about Outliers?\n",
        "\n",
        "Affected models: \n",
        "\n",
        "- AdaBoost \n",
        "- Linear models\n",
        "- Linear regression\n",
        "- Neural Networks (if the number is high)\n",
        "- Logistic regression \n",
        "- KMeans\n",
        "- Heirarchical Clustering \n",
        "- PCA\n",
        "\n",
        "Unaffected models:\n",
        "\n",
        "- Decision trees\n",
        "- Naive bayes\n",
        "- SVMs\n",
        "- Random forest \n",
        "- Gradient boosted trees \n",
        "- K-Nearest Neighbors\n",
        "\n",
        "\n",
        "### Identification\n",
        "\n",
        "- Extreme Value Analysis\n",
        "  - IQR = 75th quantile - 25th quantile\n",
        "  - Upper boundary = 75th quantile + (IQR * 1.5)\n",
        "  - Lower boundary = 25th quantile - (IQR * 1.5)\n",
        "  - Upper Extreme boundary = 75th quantile + (IQR * 3)\n",
        "  - Lower Extreme boundary = 25th quantile - (IQR * 3)\n"
      ]
    },
    {
      "cell_type": "code",
      "metadata": {
        "id": "42hbGwCeDd8-",
        "colab_type": "code",
        "outputId": "bc138bc4-4117-44e3-9fa1-4adb524ae3df",
        "colab": {
          "base_uri": "https://localhost:8080/",
          "height": 72
        }
      },
      "source": [
        "import pandas as pd\n",
        "import matplotlib.pyplot as plt\n",
        "import seaborn as sns\n",
        "import numpy as np"
      ],
      "execution_count": 1,
      "outputs": [
        {
          "output_type": "stream",
          "text": [
            "/usr/local/lib/python3.6/dist-packages/statsmodels/tools/_testing.py:19: FutureWarning: pandas.util.testing is deprecated. Use the functions in the public API at pandas.testing instead.\n",
            "  import pandas.util.testing as tm\n"
          ],
          "name": "stderr"
        }
      ]
    },
    {
      "cell_type": "code",
      "metadata": {
        "id": "Ds9gl_oFEATI",
        "colab_type": "code",
        "outputId": "1ef3ce6f-5bbf-48d6-89df-0de0aa0d44b8",
        "colab": {
          "base_uri": "https://localhost:8080/",
          "height": 125
        }
      },
      "source": [
        "from google.colab import drive\n",
        "drive.mount('/content/gdrive')\n",
        "data = pd.read_csv(\"gdrive/My Drive/Colab Notebooks/FeatureEngineering/train_date.csv\")\n"
      ],
      "execution_count": 2,
      "outputs": [
        {
          "output_type": "stream",
          "text": [
            "Go to this URL in a browser: https://accounts.google.com/o/oauth2/auth?client_id=947318989803-6bn6qk8qdgf4n4g3pfee6491hc0brc4i.apps.googleusercontent.com&redirect_uri=urn%3aietf%3awg%3aoauth%3a2.0%3aoob&response_type=code&scope=email%20https%3a%2f%2fwww.googleapis.com%2fauth%2fdocs.test%20https%3a%2f%2fwww.googleapis.com%2fauth%2fdrive%20https%3a%2f%2fwww.googleapis.com%2fauth%2fdrive.photos.readonly%20https%3a%2f%2fwww.googleapis.com%2fauth%2fpeopleapi.readonly\n",
            "\n",
            "Enter your authorization code:\n",
            "··········\n",
            "Mounted at /content/gdrive\n"
          ],
          "name": "stdout"
        }
      ]
    },
    {
      "cell_type": "code",
      "metadata": {
        "id": "FIDvE3p-s872",
        "colab_type": "code",
        "outputId": "894419ef-ef89-48a6-b50d-ae8ef9fb544e",
        "colab": {
          "base_uri": "https://localhost:8080/",
          "height": 459
        }
      },
      "source": [
        "data.head()"
      ],
      "execution_count": 3,
      "outputs": [
        {
          "output_type": "execute_result",
          "data": {
            "text/html": [
              "<div>\n",
              "<style scoped>\n",
              "    .dataframe tbody tr th:only-of-type {\n",
              "        vertical-align: middle;\n",
              "    }\n",
              "\n",
              "    .dataframe tbody tr th {\n",
              "        vertical-align: top;\n",
              "    }\n",
              "\n",
              "    .dataframe thead th {\n",
              "        text-align: right;\n",
              "    }\n",
              "</style>\n",
              "<table border=\"1\" class=\"dataframe\">\n",
              "  <thead>\n",
              "    <tr style=\"text-align: right;\">\n",
              "      <th></th>\n",
              "      <th>Date</th>\n",
              "      <th>PassengerId</th>\n",
              "      <th>Survived</th>\n",
              "      <th>Pclass</th>\n",
              "      <th>Name</th>\n",
              "      <th>Sex</th>\n",
              "      <th>Age</th>\n",
              "      <th>SibSp</th>\n",
              "      <th>Parch</th>\n",
              "      <th>Ticket</th>\n",
              "      <th>Fare</th>\n",
              "      <th>Cabin</th>\n",
              "      <th>Embarked</th>\n",
              "    </tr>\n",
              "  </thead>\n",
              "  <tbody>\n",
              "    <tr>\n",
              "      <th>0</th>\n",
              "      <td>12/6/2019</td>\n",
              "      <td>1</td>\n",
              "      <td>0</td>\n",
              "      <td>3</td>\n",
              "      <td>Braund, Mr. Owen Harris</td>\n",
              "      <td>male</td>\n",
              "      <td>22.0</td>\n",
              "      <td>1</td>\n",
              "      <td>0</td>\n",
              "      <td>A/5 21171</td>\n",
              "      <td>7.2500</td>\n",
              "      <td>NaN</td>\n",
              "      <td>S</td>\n",
              "    </tr>\n",
              "    <tr>\n",
              "      <th>1</th>\n",
              "      <td>12/7/2019</td>\n",
              "      <td>2</td>\n",
              "      <td>1</td>\n",
              "      <td>1</td>\n",
              "      <td>Cumings, Mrs. John Bradley (Florence Briggs Th...</td>\n",
              "      <td>female</td>\n",
              "      <td>38.0</td>\n",
              "      <td>1</td>\n",
              "      <td>0</td>\n",
              "      <td>PC 17599</td>\n",
              "      <td>71.2833</td>\n",
              "      <td>C85</td>\n",
              "      <td>C</td>\n",
              "    </tr>\n",
              "    <tr>\n",
              "      <th>2</th>\n",
              "      <td>12/8/2019</td>\n",
              "      <td>3</td>\n",
              "      <td>1</td>\n",
              "      <td>3</td>\n",
              "      <td>Heikkinen, Miss. Laina</td>\n",
              "      <td>female</td>\n",
              "      <td>26.0</td>\n",
              "      <td>0</td>\n",
              "      <td>0</td>\n",
              "      <td>STON/O2. 3101282</td>\n",
              "      <td>7.9250</td>\n",
              "      <td>NaN</td>\n",
              "      <td>S</td>\n",
              "    </tr>\n",
              "    <tr>\n",
              "      <th>3</th>\n",
              "      <td>12/9/2019</td>\n",
              "      <td>4</td>\n",
              "      <td>1</td>\n",
              "      <td>1</td>\n",
              "      <td>Futrelle, Mrs. Jacques Heath (Lily May Peel)</td>\n",
              "      <td>female</td>\n",
              "      <td>35.0</td>\n",
              "      <td>1</td>\n",
              "      <td>0</td>\n",
              "      <td>113803</td>\n",
              "      <td>53.1000</td>\n",
              "      <td>C123</td>\n",
              "      <td>S</td>\n",
              "    </tr>\n",
              "    <tr>\n",
              "      <th>4</th>\n",
              "      <td>12/10/2019</td>\n",
              "      <td>5</td>\n",
              "      <td>0</td>\n",
              "      <td>3</td>\n",
              "      <td>Allen, Mr. William Henry</td>\n",
              "      <td>male</td>\n",
              "      <td>35.0</td>\n",
              "      <td>0</td>\n",
              "      <td>0</td>\n",
              "      <td>373450</td>\n",
              "      <td>8.0500</td>\n",
              "      <td>NaN</td>\n",
              "      <td>S</td>\n",
              "    </tr>\n",
              "  </tbody>\n",
              "</table>\n",
              "</div>"
            ],
            "text/plain": [
              "         Date  PassengerId  Survived  ...     Fare Cabin Embarked\n",
              "0   12/6/2019            1         0  ...   7.2500   NaN        S\n",
              "1   12/7/2019            2         1  ...  71.2833   C85        C\n",
              "2   12/8/2019            3         1  ...   7.9250   NaN        S\n",
              "3   12/9/2019            4         1  ...  53.1000  C123        S\n",
              "4  12/10/2019            5         0  ...   8.0500   NaN        S\n",
              "\n",
              "[5 rows x 13 columns]"
            ]
          },
          "metadata": {
            "tags": []
          },
          "execution_count": 3
        }
      ]
    },
    {
      "cell_type": "code",
      "metadata": {
        "id": "liUrG1RoYD0J",
        "colab_type": "code",
        "outputId": "0deda07c-8449-42b2-e3c8-aa4e2faeb53c",
        "colab": {
          "base_uri": "https://localhost:8080/",
          "height": 369
        }
      },
      "source": [
        "# Outliers according to the quantiles + 1.5 IQR \n",
        "sns.catplot(x=\"Survived\", y=\"Fare\", kind=\"box\", data=data)\n",
        "sns.despine(left=False, right=False, top=False)"
      ],
      "execution_count": 4,
      "outputs": [
        {
          "output_type": "display_data",
          "data": {
            "image/png": "[encoded data removed]",
            "text/plain": [
              "<Figure size 360x360 with 1 Axes>"
            ]
          },
          "metadata": {
            "tags": [],
            "needs_background": "light"
          }
        }
      ]
    },
    {
      "cell_type": "code",
      "metadata": {
        "id": "tuPMVeeMYD0P",
        "colab_type": "code",
        "outputId": "4957a8b1-cac2-4bc8-c88e-e13a56b72f55",
        "colab": {
          "base_uri": "https://localhost:8080/",
          "height": 175
        }
      },
      "source": [
        "data['Fare'].describe()"
      ],
      "execution_count": 5,
      "outputs": [
        {
          "output_type": "execute_result",
          "data": {
            "text/plain": [
              "count    891.000000\n",
              "mean      32.204208\n",
              "std       49.693429\n",
              "min        0.000000\n",
              "25%        7.910400\n",
              "50%       14.454200\n",
              "75%       31.000000\n",
              "max      512.329200\n",
              "Name: Fare, dtype: float64"
            ]
          },
          "metadata": {
            "tags": []
          },
          "execution_count": 5
        }
      ]
    },
    {
      "cell_type": "code",
      "metadata": {
        "id": "Xsmlqi-mYD0l",
        "colab_type": "code",
        "outputId": "bc707488-7557-4712-a4f6-52978b31f1cd",
        "colab": {
          "base_uri": "https://localhost:8080/",
          "height": 87
        }
      },
      "source": [
        "# Get outliers\n",
        "IQR = data['Fare'].quantile(0.75) - data['Fare'].quantile(0.25)\n",
        "ub = data['Fare'].quantile(0.75) + (IQR * 3)\n",
        "lb = data['Fare'].quantile(0.25) - (IQR * 3)\n",
        "data[(data['Fare']>ub) | (data['Fare']<lb)].groupby('Survived')['Fare'].count()"
      ],
      "execution_count": 6,
      "outputs": [
        {
          "output_type": "execute_result",
          "data": {
            "text/plain": [
              "Survived\n",
              "0    14\n",
              "1    39\n",
              "Name: Fare, dtype: int64"
            ]
          },
          "metadata": {
            "tags": []
          },
          "execution_count": 6
        }
      ]
    },
    {
      "cell_type": "code",
      "metadata": {
        "id": "hb9soWOMYD0x",
        "colab_type": "code",
        "outputId": "66c836fc-5b47-4215-bac0-27e5ce7c8cab",
        "colab": {
          "base_uri": "https://localhost:8080/",
          "height": 312
        }
      },
      "source": [
        "# First let's plot the histogram to get an idea of the distribution\n",
        "fig = data.Age.hist(bins=50, color='green')\n",
        "fig.set_title('Distribution')\n",
        "fig.set_xlabel('X')\n",
        "fig.set_ylabel('#')"
      ],
      "execution_count": 7,
      "outputs": [
        {
          "output_type": "execute_result",
          "data": {
            "text/plain": [
              "Text(0, 0.5, '#')"
            ]
          },
          "metadata": {
            "tags": []
          },
          "execution_count": 7
        },
        {
          "output_type": "display_data",
          "data": {
            "image/png": "[encoded data removed]",
            "text/plain": [
              "<Figure size 432x288 with 1 Axes>"
            ]
          },
          "metadata": {
            "tags": [],
            "needs_background": "light"
          }
        }
      ]
    },
    {
      "cell_type": "code",
      "metadata": {
        "id": "tKCDmb61voRC",
        "colab_type": "code",
        "outputId": "28cff32a-b531-4363-da39-251d3c5774e4",
        "colab": {
          "base_uri": "https://localhost:8080/",
          "height": 87
        }
      },
      "source": [
        "# Get outliers\n",
        "IQR = data['Age'].quantile(0.75) - data['Age'].quantile(0.25)\n",
        "ub = data['Age'].mean() + data['Age'].std()\n",
        "lb = data['Age'].mean() - data['Age'].std()\n",
        "data[(data['Age']>ub) | (data['Age']<lb)].groupby('Survived')['Age'].count()"
      ],
      "execution_count": 8,
      "outputs": [
        {
          "output_type": "execute_result",
          "data": {
            "text/plain": [
              "Survived\n",
              "0    106\n",
              "1     92\n",
              "Name: Age, dtype: int64"
            ]
          },
          "metadata": {
            "tags": []
          },
          "execution_count": 8
        }
      ]
    },
    {
      "cell_type": "code",
      "metadata": {
        "id": "Sd1QAUsvYD1J",
        "colab_type": "code",
        "colab": {}
      },
      "source": [
        "from sklearn.metrics import roc_auc_score\n",
        "from sklearn.model_selection import train_test_split\n",
        "from sklearn.metrics import accuracy_score"
      ],
      "execution_count": 0,
      "outputs": []
    },
    {
      "cell_type": "code",
      "metadata": {
        "id": "7d9Ze6uwYD1M",
        "colab_type": "code",
        "colab": {}
      },
      "source": [
        "data = data.drop(['Date'], axis=1)"
      ],
      "execution_count": 0,
      "outputs": []
    },
    {
      "cell_type": "code",
      "metadata": {
        "id": "6613mx4Z6B6C",
        "colab_type": "code",
        "outputId": "5c833d5c-76e0-4489-ca49-d7c86d5142cc",
        "colab": {
          "base_uri": "https://localhost:8080/",
          "height": 70
        }
      },
      "source": [
        "data.columns"
      ],
      "execution_count": 11,
      "outputs": [
        {
          "output_type": "execute_result",
          "data": {
            "text/plain": [
              "Index(['PassengerId', 'Survived', 'Pclass', 'Name', 'Sex', 'Age', 'SibSp',\n",
              "       'Parch', 'Ticket', 'Fare', 'Cabin', 'Embarked'],\n",
              "      dtype='object')"
            ]
          },
          "metadata": {
            "tags": []
          },
          "execution_count": 11
        }
      ]
    },
    {
      "cell_type": "code",
      "metadata": {
        "id": "vVDsyp3yYD1O",
        "colab_type": "code",
        "outputId": "894dbf52-9ada-43e8-ec1b-1685cdd744c8",
        "colab": {
          "base_uri": "https://localhost:8080/",
          "height": 70
        }
      },
      "source": [
        "data[['Fare','Age']].isnull().mean()"
      ],
      "execution_count": 12,
      "outputs": [
        {
          "output_type": "execute_result",
          "data": {
            "text/plain": [
              "Fare    0.000000\n",
              "Age     0.198653\n",
              "dtype: float64"
            ]
          },
          "metadata": {
            "tags": []
          },
          "execution_count": 12
        }
      ]
    },
    {
      "cell_type": "code",
      "metadata": {
        "id": "TuUwgyv-YD1R",
        "colab_type": "code",
        "outputId": "24daf2b8-9b5a-4afd-d04b-8dce8dcd634b",
        "colab": {
          "base_uri": "https://localhost:8080/",
          "height": 34
        }
      },
      "source": [
        "X_train, X_test, y_train, y_test = train_test_split(data[['Age', 'Fare']].fillna(0),\n",
        "                                                    data['Survived'],\n",
        "                                                    test_size=0.2)\n",
        "X_train.shape, X_test.shape"
      ],
      "execution_count": 13,
      "outputs": [
        {
          "output_type": "execute_result",
          "data": {
            "text/plain": [
              "((712, 2), (179, 2))"
            ]
          },
          "metadata": {
            "tags": []
          },
          "execution_count": 13
        }
      ]
    },
    {
      "cell_type": "code",
      "metadata": {
        "id": "VN_SePVTYD1T",
        "colab_type": "code",
        "colab": {}
      },
      "source": [
        "# We will cap the values of outliers \n",
        "data_processed = data.copy()\n",
        "\n",
        "_temp = np.ceil(data['Age'].mean() + data['Age'].std())\n",
        "data_processed.loc[data_processed.Age >= _temp, 'Age'] = _temp\n",
        "\n",
        "IQR = data['Fare'].quantile(0.75) - data['Fare'].quantile(0.25)\n",
        "_temp = np.ceil(data['Fare'].quantile(0.75) + (IQR * 3))\n",
        "data_processed.loc[data_processed.Fare > _temp, 'Fare'] = _temp\n",
        "\n",
        "X_train_processed, X_test_processed, y_train_processed, y_test_processed = train_test_split(\n",
        "    data_processed[['Age', 'Fare']].fillna(0),\n",
        "    data_processed['Survived'],\n",
        "    test_size=0.2)"
      ],
      "execution_count": 0,
      "outputs": []
    },
    {
      "cell_type": "code",
      "metadata": {
        "id": "kDCwav-bw1Ni",
        "colab_type": "code",
        "outputId": "eb4818a8-7607-46eb-cb3c-586637c3c8bb",
        "colab": {
          "base_uri": "https://localhost:8080/",
          "height": 228
        }
      },
      "source": [
        "from sklearn.cluster import DBSCAN\n",
        "\n",
        "df_outliers = data.copy()\n",
        "df_outliers = df_outliers.fillna(0)\n",
        "\n",
        "column_name = 'Fare'\n",
        "obj = DBSCAN()\n",
        "_temp = obj.fit_predict(df_outliers[[column_name]])\n",
        "print(np.unique(_temp, return_counts=True))\n",
        "central = df_outliers[_temp==1][column_name].mean()\n",
        "max_val = df_outliers[_temp==1][column_name].max()\n",
        "min_val = df_outliers[_temp==1][column_name].min()\n",
        "df_outliers.loc[_temp==-1,[column_name]] = df_outliers.loc[_temp==-1,[column_name]].apply(lambda x: [max_val if y > central else y for y in x])\n",
        "df_outliers.loc[_temp==-1,[column_name]] = df_outliers.loc[_temp==-1,[column_name]].apply(lambda x: [min_val if y < central else y for y in x])\n",
        "print(data.shape)\n",
        "print(df_outliers.shape)\n",
        "\n",
        "column_name = 'Age'\n",
        "obj = DBSCAN()\n",
        "_temp = obj.fit_predict(df_outliers[[column_name]])\n",
        "print(np.unique(_temp, return_counts=True))\n",
        "central = df_outliers[_temp==1][column_name].mean()\n",
        "max_val = df_outliers[_temp==1][column_name].max()\n",
        "min_val = df_outliers[_temp==1][column_name].min()\n",
        "df_outliers.loc[_temp==-1,[column_name]] = df_outliers.loc[_temp==-1,[column_name]].apply(lambda x: [max_val if y > central else y for y in x])\n",
        "df_outliers.loc[_temp==-1,[column_name]] = df_outliers.loc[_temp==-1,[column_name]].apply(lambda x: [min_val if y < central else y for y in x])\n",
        "print(data.shape)\n",
        "print(df_outliers.shape)\n",
        "\n",
        "X_train_outliers, X_test_outliers, y_train_outliers, y_test_outliers = train_test_split(\n",
        "    df_outliers[['Age', 'Fare']],\n",
        "    df_outliers['Survived'],\n",
        "    test_size=0.2)"
      ],
      "execution_count": 15,
      "outputs": [
        {
          "output_type": "stream",
          "text": [
            "(array([-1,  0,  1,  2,  3,  4,  5,  6,  7,  8,  9, 10, 11, 12, 13, 14, 15,\n",
            "       16, 17, 18, 19, 20, 21, 22, 23, 24]), array([105, 347,   5,  10,  32, 130,  32,  67,   9,   6,  11,  15,  15,\n",
            "         7,  11,   5,   5,  11,  13,  10,   9,  15,   5,   5,   5,   6]))\n",
            "(891, 12)\n",
            "(891, 12)\n",
            "(array([-1,  0,  1,  2,  3,  4,  5,  6,  7,  8,  9, 10, 11, 12, 13, 14, 15,\n",
            "       16, 17, 18, 19, 20, 21, 22, 23, 24, 25, 26, 27, 28, 29, 30, 31, 32,\n",
            "       33, 34, 35, 36]), array([ 49,  27,  11,  18,  34, 191,   8,  10,  18,  12,  10,   5,  40,\n",
            "        14,  44,  47,  25,  21,  13,  26,   6,   6,  17,  13,  35,  17,\n",
            "        70,  29,   9,   5,   8,   7,   7,   9,  10,   6,   5,   9]))\n",
            "(891, 12)\n",
            "(891, 12)\n"
          ],
          "name": "stdout"
        }
      ]
    },
    {
      "cell_type": "code",
      "metadata": {
        "id": "SUjEsyuX8FDq",
        "colab_type": "code",
        "outputId": "4af56809-cfa0-4a05-daab-91cf891474d6",
        "colab": {
          "base_uri": "https://localhost:8080/",
          "height": 122
        }
      },
      "source": [
        "print(X_train.shape)\n",
        "print(X_train_processed.shape)\n",
        "print(X_train_outliers.shape)\n",
        "print(X_test.shape)\n",
        "print(X_test_processed.shape)\n",
        "print(X_test_outliers.shape)"
      ],
      "execution_count": 16,
      "outputs": [
        {
          "output_type": "stream",
          "text": [
            "(712, 2)\n",
            "(712, 2)\n",
            "(712, 2)\n",
            "(179, 2)\n",
            "(179, 2)\n",
            "(179, 2)\n"
          ],
          "name": "stdout"
        }
      ]
    },
    {
      "cell_type": "code",
      "metadata": {
        "id": "tsRG3K5l8t_J",
        "colab_type": "code",
        "outputId": "4849ace4-d8b6-4f73-d390-a72ced0292b7",
        "colab": {
          "base_uri": "https://localhost:8080/",
          "height": 70
        }
      },
      "source": [
        "from sklearn.linear_model import LogisticRegression\n",
        "classifier = LogisticRegression()\n",
        "classifier.fit(X_train,y_train)\n",
        "y_pred = classifier.predict(X_test)\n",
        "y_pred = np.round(y_pred).flatten()\n",
        "print(accuracy_score(y_test, y_pred))\n",
        "\n",
        "classifier.fit(X_train_processed,y_train_processed)\n",
        "y_pred_processed = classifier.predict(X_test_processed)\n",
        "y_pred_processed = np.round(y_pred_processed).flatten()\n",
        "print(accuracy_score(y_test_processed, y_pred_processed))\n",
        "\n",
        "classifier.fit(X_train_outliers,y_train_outliers)\n",
        "y_pred_outliers = classifier.predict(X_test_outliers)\n",
        "y_pred_outliers = np.round(y_pred_outliers).flatten()\n",
        "print(accuracy_score(y_test_outliers, y_pred_outliers))"
      ],
      "execution_count": 17,
      "outputs": [
        {
          "output_type": "stream",
          "text": [
            "0.6871508379888268\n",
            "0.6927374301675978\n",
            "0.7206703910614525\n"
          ],
          "name": "stdout"
        }
      ]
    },
    {
      "cell_type": "code",
      "metadata": {
        "id": "2HgLWOz-9Uda",
        "colab_type": "code",
        "outputId": "7376a329-e93e-4b49-d229-25727fdfc9e3",
        "colab": {
          "base_uri": "https://localhost:8080/",
          "height": 70
        }
      },
      "source": [
        "from sklearn.linear_model import RidgeClassifierCV\n",
        "classifier = RidgeClassifierCV()\n",
        "classifier.fit(X_train,y_train)\n",
        "y_pred = classifier.predict(X_test)\n",
        "y_pred = np.round(y_pred).flatten()\n",
        "print(accuracy_score(y_test, y_pred))\n",
        "\n",
        "classifier.fit(X_train_processed,y_train_processed)\n",
        "y_pred_processed = classifier.predict(X_test_processed)\n",
        "y_pred_processed = np.round(y_pred_processed).flatten()\n",
        "print(accuracy_score(y_test_processed, y_pred_processed))\n",
        "\n",
        "classifier.fit(X_train_outliers,y_train_outliers)\n",
        "y_pred_outliers = classifier.predict(X_test_outliers)\n",
        "y_pred_outliers = np.round(y_pred_outliers).flatten()\n",
        "print(accuracy_score(y_test_outliers, y_pred_outliers))"
      ],
      "execution_count": 18,
      "outputs": [
        {
          "output_type": "stream",
          "text": [
            "0.6871508379888268\n",
            "0.6927374301675978\n",
            "0.7150837988826816\n"
          ],
          "name": "stdout"
        }
      ]
    },
    {
      "cell_type": "code",
      "metadata": {
        "id": "gS9bIfAB9eKW",
        "colab_type": "code",
        "outputId": "2a58df23-bd1c-4e20-cd9b-021322d068db",
        "colab": {
          "base_uri": "https://localhost:8080/",
          "height": 70
        }
      },
      "source": [
        "from sklearn.linear_model import RidgeClassifierCV\n",
        "classifier = RidgeClassifierCV()\n",
        "classifier.fit(X_train,y_train)\n",
        "y_pred = classifier.predict(X_test)\n",
        "y_pred = np.round(y_pred).flatten()\n",
        "print(accuracy_score(y_test, y_pred))\n",
        "\n",
        "classifier.fit(X_train_processed,y_train_processed)\n",
        "y_pred_processed = classifier.predict(X_test_processed)\n",
        "y_pred_processed = np.round(y_pred_processed).flatten()\n",
        "print(accuracy_score(y_test_processed, y_pred_processed))\n",
        "\n",
        "classifier.fit(X_train_outliers,y_train_outliers)\n",
        "y_pred_outliers = classifier.predict(X_test_outliers)\n",
        "y_pred_outliers = np.round(y_pred_outliers).flatten()\n",
        "print(accuracy_score(y_test_outliers, y_pred_outliers))"
      ],
      "execution_count": 19,
      "outputs": [
        {
          "output_type": "stream",
          "text": [
            "0.6871508379888268\n",
            "0.6927374301675978\n",
            "0.7150837988826816\n"
          ],
          "name": "stdout"
        }
      ]
    },
    {
      "cell_type": "code",
      "metadata": {
        "id": "bZLwAZRI9vl3",
        "colab_type": "code",
        "outputId": "e967cc70-a51d-4cba-86cb-05dc69320ac1",
        "colab": {
          "base_uri": "https://localhost:8080/",
          "height": 70
        }
      },
      "source": [
        "from sklearn.svm import SVC\n",
        "classifier = SVC()\n",
        "classifier.fit(X_train,y_train)\n",
        "y_pred = classifier.predict(X_test)\n",
        "y_pred = np.round(y_pred).flatten()\n",
        "print(accuracy_score(y_test, y_pred))\n",
        "\n",
        "classifier.fit(X_train_processed,y_train_processed)\n",
        "y_pred_processed = classifier.predict(X_test_processed)\n",
        "y_pred_processed = np.round(y_pred_processed).flatten()\n",
        "print(accuracy_score(y_test_processed, y_pred_processed))\n",
        "\n",
        "classifier.fit(X_train_outliers,y_train_outliers)\n",
        "y_pred_outliers = classifier.predict(X_test_outliers)\n",
        "y_pred_outliers = np.round(y_pred_outliers).flatten()\n",
        "print(accuracy_score(y_test_outliers, y_pred_outliers))"
      ],
      "execution_count": 20,
      "outputs": [
        {
          "output_type": "stream",
          "text": [
            "0.6927374301675978\n",
            "0.6927374301675978\n",
            "0.7039106145251397\n"
          ],
          "name": "stdout"
        }
      ]
    },
    {
      "cell_type": "code",
      "metadata": {
        "id": "RO5oc4UJ9ykm",
        "colab_type": "code",
        "outputId": "bb5d0503-8e5c-407b-ade8-48a70c602209",
        "colab": {
          "base_uri": "https://localhost:8080/",
          "height": 70
        }
      },
      "source": [
        "from sklearn.neural_network import MLPClassifier\n",
        "classifier = MLPClassifier()\n",
        "classifier.fit(X_train,y_train)\n",
        "y_pred = classifier.predict(X_test)\n",
        "y_pred = np.round(y_pred).flatten()\n",
        "print(accuracy_score(y_test, y_pred))\n",
        "\n",
        "classifier.fit(X_train_processed,y_train_processed)\n",
        "y_pred_processed = classifier.predict(X_test_processed)\n",
        "y_pred_processed = np.round(y_pred_processed).flatten()\n",
        "print(accuracy_score(y_test_processed, y_pred_processed))\n",
        "\n",
        "classifier.fit(X_train_outliers,y_train_outliers)\n",
        "y_pred_outliers = classifier.predict(X_test_outliers)\n",
        "y_pred_outliers = np.round(y_pred_outliers).flatten()\n",
        "print(accuracy_score(y_test_outliers, y_pred_outliers))"
      ],
      "execution_count": 21,
      "outputs": [
        {
          "output_type": "stream",
          "text": [
            "0.6927374301675978\n",
            "0.6815642458100558\n",
            "0.6927374301675978\n"
          ],
          "name": "stdout"
        }
      ]
    },
    {
      "cell_type": "code",
      "metadata": {
        "id": "RFKVucj790aA",
        "colab_type": "code",
        "outputId": "d99c4920-25b2-4566-e234-96df6c43b3e9",
        "colab": {
          "base_uri": "https://localhost:8080/",
          "height": 195
        }
      },
      "source": [
        "from sklearn.svm import LinearSVC\n",
        "classifier = LinearSVC()\n",
        "classifier.fit(X_train,y_train)\n",
        "y_pred = classifier.predict(X_test)\n",
        "y_pred = np.round(y_pred).flatten()\n",
        "print(accuracy_score(y_test, y_pred))\n",
        "\n",
        "classifier.fit(X_train_processed,y_train_processed)\n",
        "y_pred_processed = classifier.predict(X_test_processed)\n",
        "y_pred_processed = np.round(y_pred_processed).flatten()\n",
        "print(accuracy_score(y_test_processed, y_pred_processed))\n",
        "\n",
        "classifier.fit(X_train_outliers,y_train_outliers)\n",
        "y_pred_outliers = classifier.predict(X_test_outliers)\n",
        "y_pred_outliers = np.round(y_pred_outliers).flatten()\n",
        "print(accuracy_score(y_test_outliers, y_pred_outliers))"
      ],
      "execution_count": 22,
      "outputs": [
        {
          "output_type": "stream",
          "text": [
            "0.6759776536312849\n",
            "0.441340782122905\n",
            "0.4860335195530726\n"
          ],
          "name": "stdout"
        },
        {
          "output_type": "stream",
          "text": [
            "/usr/local/lib/python3.6/dist-packages/sklearn/svm/_base.py:947: ConvergenceWarning: Liblinear failed to converge, increase the number of iterations.\n",
            "  \"the number of iterations.\", ConvergenceWarning)\n",
            "/usr/local/lib/python3.6/dist-packages/sklearn/svm/_base.py:947: ConvergenceWarning: Liblinear failed to converge, increase the number of iterations.\n",
            "  \"the number of iterations.\", ConvergenceWarning)\n",
            "/usr/local/lib/python3.6/dist-packages/sklearn/svm/_base.py:947: ConvergenceWarning: Liblinear failed to converge, increase the number of iterations.\n",
            "  \"the number of iterations.\", ConvergenceWarning)\n"
          ],
          "name": "stderr"
        }
      ]
    },
    {
      "cell_type": "code",
      "metadata": {
        "id": "wgb5-ZI19274",
        "colab_type": "code",
        "outputId": "5ace7654-b64e-41f5-a351-7b077a7548f8",
        "colab": {
          "base_uri": "https://localhost:8080/",
          "height": 70
        }
      },
      "source": [
        "from sklearn.ensemble import RandomForestClassifier\n",
        "classifier = RandomForestClassifier()\n",
        "classifier.fit(X_train,y_train)\n",
        "y_pred = classifier.predict(X_test)\n",
        "y_pred = np.round(y_pred).flatten()\n",
        "print(accuracy_score(y_test, y_pred))\n",
        "\n",
        "classifier.fit(X_train_processed,y_train_processed)\n",
        "y_pred_processed = classifier.predict(X_test_processed)\n",
        "y_pred_processed = np.round(y_pred_processed).flatten()\n",
        "print(accuracy_score(y_test_processed, y_pred_processed))\n",
        "\n",
        "classifier.fit(X_train_outliers,y_train_outliers)\n",
        "y_pred_outliers = classifier.predict(X_test_outliers)\n",
        "y_pred_outliers = np.round(y_pred_outliers).flatten()\n",
        "print(accuracy_score(y_test_outliers, y_pred_outliers))"
      ],
      "execution_count": 23,
      "outputs": [
        {
          "output_type": "stream",
          "text": [
            "0.6368715083798883\n",
            "0.6368715083798883\n",
            "0.7206703910614525\n"
          ],
          "name": "stdout"
        }
      ]
    },
    {
      "cell_type": "code",
      "metadata": {
        "id": "hrF5V_7_94hA",
        "colab_type": "code",
        "outputId": "01f432c0-c2c8-4af4-b443-3576cec9d9cd",
        "colab": {
          "base_uri": "https://localhost:8080/",
          "height": 70
        }
      },
      "source": [
        "from sklearn.tree import DecisionTreeClassifier\n",
        "classifier = DecisionTreeClassifier()\n",
        "classifier.fit(X_train,y_train)\n",
        "y_pred = classifier.predict(X_test)\n",
        "y_pred = np.round(y_pred).flatten()\n",
        "print(accuracy_score(y_test, y_pred))\n",
        "\n",
        "classifier.fit(X_train_processed,y_train_processed)\n",
        "y_pred_processed = classifier.predict(X_test_processed)\n",
        "y_pred_processed = np.round(y_pred_processed).flatten()\n",
        "print(accuracy_score(y_test_processed, y_pred_processed))\n",
        "\n",
        "classifier.fit(X_train_outliers,y_train_outliers)\n",
        "y_pred_outliers = classifier.predict(X_test_outliers)\n",
        "y_pred_outliers = np.round(y_pred_outliers).flatten()\n",
        "print(accuracy_score(y_test_outliers, y_pred_outliers))"
      ],
      "execution_count": 24,
      "outputs": [
        {
          "output_type": "stream",
          "text": [
            "0.6312849162011173\n",
            "0.5921787709497207\n",
            "0.7039106145251397\n"
          ],
          "name": "stdout"
        }
      ]
    },
    {
      "cell_type": "code",
      "metadata": {
        "id": "0M4ySoHj97e5",
        "colab_type": "code",
        "outputId": "03728b57-d949-4685-e63e-086febce3010",
        "colab": {
          "base_uri": "https://localhost:8080/",
          "height": 70
        }
      },
      "source": [
        "from sklearn.ensemble import GradientBoostingClassifier\n",
        "classifier = GradientBoostingClassifier()\n",
        "classifier.fit(X_train,y_train)\n",
        "y_pred = classifier.predict(X_test)\n",
        "y_pred = np.round(y_pred).flatten()\n",
        "print(accuracy_score(y_test, y_pred))\n",
        "\n",
        "classifier.fit(X_train_processed,y_train_processed)\n",
        "y_pred_processed = classifier.predict(X_test_processed)\n",
        "y_pred_processed = np.round(y_pred_processed).flatten()\n",
        "print(accuracy_score(y_test_processed, y_pred_processed))\n",
        "\n",
        "classifier.fit(X_train_outliers,y_train_outliers)\n",
        "y_pred_outliers = classifier.predict(X_test_outliers)\n",
        "y_pred_outliers = np.round(y_pred_outliers).flatten()\n",
        "print(accuracy_score(y_test_outliers, y_pred_outliers))"
      ],
      "execution_count": 25,
      "outputs": [
        {
          "output_type": "stream",
          "text": [
            "0.6927374301675978\n",
            "0.7430167597765364\n",
            "0.7597765363128491\n"
          ],
          "name": "stdout"
        }
      ]
    },
    {
      "cell_type": "code",
      "metadata": {
        "id": "UpVGb0-p991g",
        "colab_type": "code",
        "outputId": "ba8c7587-4528-402c-c1f9-6b86074d2f12",
        "colab": {
          "base_uri": "https://localhost:8080/",
          "height": 70
        }
      },
      "source": [
        "from sklearn.linear_model import SGDClassifier\n",
        "classifier = SGDClassifier()\n",
        "classifier.fit(X_train,y_train)\n",
        "y_pred = classifier.predict(X_test)\n",
        "y_pred = np.round(y_pred).flatten()\n",
        "print(accuracy_score(y_test, y_pred))\n",
        "\n",
        "classifier.fit(X_train_processed,y_train_processed)\n",
        "y_pred_processed = classifier.predict(X_test_processed)\n",
        "y_pred_processed = np.round(y_pred_processed).flatten()\n",
        "print(accuracy_score(y_test_processed, y_pred_processed))\n",
        "\n",
        "classifier.fit(X_train_outliers,y_train_outliers)\n",
        "y_pred_outliers = classifier.predict(X_test_outliers)\n",
        "y_pred_outliers = np.round(y_pred_outliers).flatten()\n",
        "print(accuracy_score(y_test_outliers, y_pred_outliers))"
      ],
      "execution_count": 26,
      "outputs": [
        {
          "output_type": "stream",
          "text": [
            "0.39664804469273746\n",
            "0.6312849162011173\n",
            "0.4692737430167598\n"
          ],
          "name": "stdout"
        }
      ]
    },
    {
      "cell_type": "code",
      "metadata": {
        "id": "nrl2BNRA9_mm",
        "colab_type": "code",
        "outputId": "a688356a-413e-4b2d-c43c-aad719f5781a",
        "colab": {
          "base_uri": "https://localhost:8080/",
          "height": 70
        }
      },
      "source": [
        "from sklearn.linear_model import Perceptron\n",
        "classifier = Perceptron()\n",
        "classifier.fit(X_train,y_train)\n",
        "y_pred = classifier.predict(X_test)\n",
        "y_pred = np.round(y_pred).flatten()\n",
        "print(accuracy_score(y_test, y_pred))\n",
        "\n",
        "classifier.fit(X_train_processed,y_train_processed)\n",
        "y_pred_processed = classifier.predict(X_test_processed)\n",
        "y_pred_processed = np.round(y_pred_processed).flatten()\n",
        "print(accuracy_score(y_test_processed, y_pred_processed))\n",
        "\n",
        "classifier.fit(X_train_outliers,y_train_outliers)\n",
        "y_pred_outliers = classifier.predict(X_test_outliers)\n",
        "y_pred_outliers = np.round(y_pred_outliers).flatten()\n",
        "print(accuracy_score(y_test_outliers, y_pred_outliers))"
      ],
      "execution_count": 27,
      "outputs": [
        {
          "output_type": "stream",
          "text": [
            "0.6536312849162011\n",
            "0.5363128491620112\n",
            "0.4748603351955307\n"
          ],
          "name": "stdout"
        }
      ]
    },
    {
      "cell_type": "code",
      "metadata": {
        "id": "L6SQhWSk-Btx",
        "colab_type": "code",
        "outputId": "a8732b29-097a-4156-91e6-98265cf2faad",
        "colab": {
          "base_uri": "https://localhost:8080/",
          "height": 70
        }
      },
      "source": [
        "from sklearn.naive_bayes import GaussianNB\n",
        "classifier = GaussianNB()\n",
        "classifier.fit(X_train,y_train)\n",
        "y_pred = classifier.predict(X_test)\n",
        "y_pred = np.round(y_pred).flatten()\n",
        "print(accuracy_score(y_test, y_pred))\n",
        "\n",
        "classifier.fit(X_train_processed,y_train_processed)\n",
        "y_pred_processed = classifier.predict(X_test_processed)\n",
        "y_pred_processed = np.round(y_pred_processed).flatten()\n",
        "print(accuracy_score(y_test_processed, y_pred_processed))\n",
        "\n",
        "classifier.fit(X_train_outliers,y_train_outliers)\n",
        "y_pred_outliers = classifier.predict(X_test_outliers)\n",
        "y_pred_outliers = np.round(y_pred_outliers).flatten()\n",
        "print(accuracy_score(y_test_outliers, y_pred_outliers))"
      ],
      "execution_count": 28,
      "outputs": [
        {
          "output_type": "stream",
          "text": [
            "0.6927374301675978\n",
            "0.7039106145251397\n",
            "0.7150837988826816\n"
          ],
          "name": "stdout"
        }
      ]
    },
    {
      "cell_type": "code",
      "metadata": {
        "id": "Ty-k4q1L-Ew-",
        "colab_type": "code",
        "outputId": "38c91276-db81-4e01-8f12-25d0826d7fc5",
        "colab": {
          "base_uri": "https://localhost:8080/",
          "height": 70
        }
      },
      "source": [
        "from sklearn.neighbors import KNeighborsClassifier\n",
        "classifier = KNeighborsClassifier()\n",
        "classifier.fit(X_train,y_train)\n",
        "y_pred = classifier.predict(X_test)\n",
        "y_pred = np.round(y_pred).flatten()\n",
        "print(accuracy_score(y_test, y_pred))\n",
        "\n",
        "classifier.fit(X_train_processed,y_train_processed)\n",
        "y_pred_processed = classifier.predict(X_test_processed)\n",
        "y_pred_processed = np.round(y_pred_processed).flatten()\n",
        "print(accuracy_score(y_test_processed, y_pred_processed))\n",
        "\n",
        "classifier.fit(X_train_outliers,y_train_outliers)\n",
        "y_pred_outliers = classifier.predict(X_test_outliers)\n",
        "y_pred_outliers = np.round(y_pred_outliers).flatten()\n",
        "print(accuracy_score(y_test_outliers, y_pred_outliers))"
      ],
      "execution_count": 29,
      "outputs": [
        {
          "output_type": "stream",
          "text": [
            "0.6368715083798883\n",
            "0.6201117318435754\n",
            "0.664804469273743\n"
          ],
          "name": "stdout"
        }
      ]
    },
    {
      "cell_type": "code",
      "metadata": {
        "id": "D_-cjmP7NIpN",
        "colab_type": "code",
        "colab": {}
      },
      "source": [
        ""
      ],
      "execution_count": 0,
      "outputs": []
    }
  ]
}