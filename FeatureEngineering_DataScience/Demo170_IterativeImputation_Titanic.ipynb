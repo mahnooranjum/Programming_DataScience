{
  "nbformat": 4,
  "nbformat_minor": 0,
  "metadata": {
    "kernelspec": {
      "display_name": "Python 3",
      "language": "python",
      "name": "python3"
    },
    "language_info": {
      "codemirror_mode": {
        "name": "ipython",
        "version": 3
      },
      "file_extension": ".py",
      "mimetype": "text/x-python",
      "name": "python",
      "nbconvert_exporter": "python",
      "pygments_lexer": "ipython3",
      "version": "3.6.1"
    },
    "toc": {
      "nav_menu": {},
      "number_sections": true,
      "sideBar": true,
      "skip_h1_title": false,
      "toc_cell": false,
      "toc_position": {
        "height": "556px",
        "left": "0px",
        "right": "1156.4px",
        "top": "107px",
        "width": "278px"
      },
      "toc_section_display": "block",
      "toc_window_display": false
    },
    "colab": {
      "name": "Demo170_IterativeImputation_Titanic.ipynb",
      "provenance": [],
      "collapsed_sections": []
    }
  },
  "cells": [
    {
      "cell_type": "markdown",
      "metadata": {
        "id": "HqZjp_F-E9eC",
        "colab_type": "text"
      },
      "source": [
        "## Imputation\n",
        "\n",
        "- Replacing missing data with statistical estimates of the missing values is called imputation \n",
        "\n",
        "- Imputation completes a dataset and removes missing values \n",
        "\n",
        "- Replace by mean if the variable has a Normal distribution \n",
        "\n",
        "- Replace by median if the variable has a Skewed distribution \n",
        "\n",
        "- Iterative imputation computes the missing value using all the other values in the dataset\n",
        "\n",
        "\n",
        "### When to use it?\n",
        "\n",
        "- When data are missing completely at random (MCAR) \n",
        "\n",
        "### Pros\n",
        "\n",
        "- Easy\n",
        "- Completes the dataset and does not loose much information\n",
        "\n",
        "### Cons\n",
        "\n",
        "- Distortion of variance \n",
        "- Change of covariance wrt other variables \n",
        "\n",
        "\n",
        "### Key Takeaway\n",
        "\n",
        "- We usually create a new variable for the missing data to capture the relations where data is not MCAR \n",
        "\n",
        "- So imputation handles the MCAR ascpect, whereas the new variable captures all the other statistical relations \n"
      ]
    },
    {
      "cell_type": "code",
      "metadata": {
        "id": "-vMX4aOYQjaN",
        "colab_type": "code",
        "colab": {
          "base_uri": "https://localhost:8080/",
          "height": 72
        },
        "outputId": "ec3487b3-0f6b-4522-8fed-ac567d5b0500"
      },
      "source": [
        "import pandas as pd\n",
        "import matplotlib.pyplot as plt\n",
        "import seaborn as sns\n",
        "import numpy as np"
      ],
      "execution_count": 1,
      "outputs": [
        {
          "output_type": "stream",
          "text": [
            "/usr/local/lib/python3.6/dist-packages/statsmodels/tools/_testing.py:19: FutureWarning: pandas.util.testing is deprecated. Use the functions in the public API at pandas.testing instead.\n",
            "  import pandas.util.testing as tm\n"
          ],
          "name": "stderr"
        }
      ]
    },
    {
      "cell_type": "code",
      "metadata": {
        "id": "Ds9gl_oFEATI",
        "colab_type": "code",
        "colab": {
          "base_uri": "https://localhost:8080/",
          "height": 35
        },
        "outputId": "beaec081-5443-4a72-b079-f404ca97a254"
      },
      "source": [
        "from google.colab import drive\n",
        "drive.mount('/content/gdrive')\n",
        "data = pd.read_csv(\"gdrive/My Drive/Colab Notebooks/FeatureEngineering/train.csv\")\n"
      ],
      "execution_count": 2,
      "outputs": [
        {
          "output_type": "stream",
          "text": [
            "Drive already mounted at /content/gdrive; to attempt to forcibly remount, call drive.mount(\"/content/gdrive\", force_remount=True).\n"
          ],
          "name": "stdout"
        }
      ]
    },
    {
      "cell_type": "markdown",
      "metadata": {
        "id": "07sOx5ehE9eJ",
        "colab_type": "text"
      },
      "source": [
        "## Titanic"
      ]
    },
    {
      "cell_type": "code",
      "metadata": {
        "id": "OQY6ztbsE9eK",
        "colab_type": "code",
        "colab": {
          "base_uri": "https://localhost:8080/",
          "height": 202
        },
        "outputId": "77336a57-09cf-4f4a-ad0e-cc91af3f644a"
      },
      "source": [
        "data = data[['Age', 'Fare','Survived']]\n",
        "data.head()"
      ],
      "execution_count": 3,
      "outputs": [
        {
          "output_type": "execute_result",
          "data": {
            "text/html": [
              "<div>\n",
              "<style scoped>\n",
              "    .dataframe tbody tr th:only-of-type {\n",
              "        vertical-align: middle;\n",
              "    }\n",
              "\n",
              "    .dataframe tbody tr th {\n",
              "        vertical-align: top;\n",
              "    }\n",
              "\n",
              "    .dataframe thead th {\n",
              "        text-align: right;\n",
              "    }\n",
              "</style>\n",
              "<table border=\"1\" class=\"dataframe\">\n",
              "  <thead>\n",
              "    <tr style=\"text-align: right;\">\n",
              "      <th></th>\n",
              "      <th>Age</th>\n",
              "      <th>Fare</th>\n",
              "      <th>Survived</th>\n",
              "    </tr>\n",
              "  </thead>\n",
              "  <tbody>\n",
              "    <tr>\n",
              "      <th>0</th>\n",
              "      <td>22.0</td>\n",
              "      <td>7.2500</td>\n",
              "      <td>0</td>\n",
              "    </tr>\n",
              "    <tr>\n",
              "      <th>1</th>\n",
              "      <td>38.0</td>\n",
              "      <td>71.2833</td>\n",
              "      <td>1</td>\n",
              "    </tr>\n",
              "    <tr>\n",
              "      <th>2</th>\n",
              "      <td>26.0</td>\n",
              "      <td>7.9250</td>\n",
              "      <td>1</td>\n",
              "    </tr>\n",
              "    <tr>\n",
              "      <th>3</th>\n",
              "      <td>35.0</td>\n",
              "      <td>53.1000</td>\n",
              "      <td>1</td>\n",
              "    </tr>\n",
              "    <tr>\n",
              "      <th>4</th>\n",
              "      <td>35.0</td>\n",
              "      <td>8.0500</td>\n",
              "      <td>0</td>\n",
              "    </tr>\n",
              "  </tbody>\n",
              "</table>\n",
              "</div>"
            ],
            "text/plain": [
              "    Age     Fare  Survived\n",
              "0  22.0   7.2500         0\n",
              "1  38.0  71.2833         1\n",
              "2  26.0   7.9250         1\n",
              "3  35.0  53.1000         1\n",
              "4  35.0   8.0500         0"
            ]
          },
          "metadata": {
            "tags": []
          },
          "execution_count": 3
        }
      ]
    },
    {
      "cell_type": "code",
      "metadata": {
        "id": "fv-7VBtDE9eO",
        "colab_type": "code",
        "colab": {
          "base_uri": "https://localhost:8080/",
          "height": 87
        },
        "outputId": "5400741b-72a4-4424-9b12-19c81d65c66b"
      },
      "source": [
        "data.isnull().mean()"
      ],
      "execution_count": 4,
      "outputs": [
        {
          "output_type": "execute_result",
          "data": {
            "text/plain": [
              "Age         0.198653\n",
              "Fare        0.000000\n",
              "Survived    0.000000\n",
              "dtype: float64"
            ]
          },
          "metadata": {
            "tags": []
          },
          "execution_count": 4
        }
      ]
    },
    {
      "cell_type": "code",
      "metadata": {
        "id": "iiSci5I4E9eR",
        "colab_type": "code",
        "colab": {
          "base_uri": "https://localhost:8080/",
          "height": 35
        },
        "outputId": "11cb11ba-683b-4806-ba2e-467a0e2c249b"
      },
      "source": [
        "from sklearn.model_selection import train_test_split\n",
        "X_train, X_test, y_train, y_test = train_test_split(data[['Age', 'Fare']], data['Survived'], test_size=0.2)\n",
        "X_train.shape, X_test.shape"
      ],
      "execution_count": 5,
      "outputs": [
        {
          "output_type": "execute_result",
          "data": {
            "text/plain": [
              "((712, 2), (179, 2))"
            ]
          },
          "metadata": {
            "tags": []
          },
          "execution_count": 5
        }
      ]
    },
    {
      "cell_type": "code",
      "metadata": {
        "id": "A2exy_RSE9eU",
        "colab_type": "code",
        "colab": {}
      },
      "source": [
        "def impute(df, variable, value, text):\n",
        "    df[variable+\"_\"+text] = df[variable].fillna(value)"
      ],
      "execution_count": 6,
      "outputs": []
    },
    {
      "cell_type": "code",
      "metadata": {
        "id": "mgJSQBBT-iPM",
        "colab_type": "code",
        "colab": {
          "base_uri": "https://localhost:8080/",
          "height": 297
        },
        "outputId": "301b4bfa-bbfe-4d7e-dad1-679593254cd6"
      },
      "source": [
        "sns.distplot(X_train['Age'])"
      ],
      "execution_count": 7,
      "outputs": [
        {
          "output_type": "execute_result",
          "data": {
            "text/plain": [
              "<matplotlib.axes._subplots.AxesSubplot at 0x7f2c71cdd358>"
            ]
          },
          "metadata": {
            "tags": []
          },
          "execution_count": 7
        },
        {
          "output_type": "display_data",
          "data": {
            "image/png": "[encoded data removed]",
            "text/plain": [
              "<Figure size 432x288 with 1 Axes>"
            ]
          },
          "metadata": {
            "tags": [],
            "needs_background": "light"
          }
        }
      ]
    },
    {
      "cell_type": "code",
      "metadata": {
        "id": "j08xpbjYE9eX",
        "colab_type": "code",
        "colab": {}
      },
      "source": [
        "from sklearn.experimental import enable_iterative_imputer\n",
        "from sklearn.impute import IterativeImputer\n",
        "obj = IterativeImputer(missing_values = np.nan)\n",
        "X_train_0 = obj.fit_transform(X_train)\n",
        "X_test_0 = obj.transform(X_test)"
      ],
      "execution_count": 8,
      "outputs": []
    },
    {
      "cell_type": "code",
      "metadata": {
        "id": "3CJpebxW_tky",
        "colab_type": "code",
        "colab": {
          "base_uri": "https://localhost:8080/",
          "height": 623
        },
        "outputId": "58faa057-6a33-4955-ea6c-701d0b3f5476"
      },
      "source": [
        "fig, ax = plt.subplots(1,2, figsize=(10,10))\n",
        "sns.distplot(X_train['Age'], ax = ax[0], color='blue')\n",
        "sns.distplot(X_train_0[:,0], ax = ax[1], color='red')"
      ],
      "execution_count": 9,
      "outputs": [
        {
          "output_type": "execute_result",
          "data": {
            "text/plain": [
              "<matplotlib.axes._subplots.AxesSubplot at 0x7f2c6ef67eb8>"
            ]
          },
          "metadata": {
            "tags": []
          },
          "execution_count": 9
        },
        {
          "output_type": "display_data",
          "data": {
            "image/png": "[encoded data removed]",
            "text/plain": [
              "<Figure size 720x720 with 2 Axes>"
            ]
          },
          "metadata": {
            "tags": [],
            "needs_background": "light"
          }
        }
      ]
    },
    {
      "cell_type": "code",
      "metadata": {
        "colab_type": "code",
        "id": "-gYAFiVTBVs_",
        "colab": {}
      },
      "source": [
        "from sklearn.impute import SimpleImputer\n",
        "obj = SimpleImputer(missing_values = np.nan, strategy= 'mean')\n",
        "X_train_mean = obj.fit_transform(X_train)\n",
        "X_test_mean = obj.transform(X_test)"
      ],
      "execution_count": 10,
      "outputs": []
    },
    {
      "cell_type": "code",
      "metadata": {
        "colab_type": "code",
        "id": "IkHw3hgMBVtC",
        "colab": {
          "base_uri": "https://localhost:8080/",
          "height": 623
        },
        "outputId": "5436867d-92e3-4b20-a6d3-181da3cf340c"
      },
      "source": [
        "fig, ax = plt.subplots(1,2, figsize=(10,10))\n",
        "sns.distplot(X_train['Age'], ax = ax[0], color='blue')\n",
        "sns.distplot(X_train_mean[:,0], ax = ax[1], color='red')"
      ],
      "execution_count": 11,
      "outputs": [
        {
          "output_type": "execute_result",
          "data": {
            "text/plain": [
              "<matplotlib.axes._subplots.AxesSubplot at 0x7f2c6eeb3518>"
            ]
          },
          "metadata": {
            "tags": []
          },
          "execution_count": 11
        },
        {
          "output_type": "display_data",
          "data": {
            "image/png": "[encoded data removed]",
            "text/plain": [
              "<Figure size 720x720 with 2 Axes>"
            ]
          },
          "metadata": {
            "tags": [],
            "needs_background": "light"
          }
        }
      ]
    },
    {
      "cell_type": "code",
      "metadata": {
        "colab_type": "code",
        "id": "GHgTIAa7BdiA",
        "colab": {}
      },
      "source": [
        "from sklearn.impute import SimpleImputer\n",
        "obj = SimpleImputer(missing_values = np.nan, strategy= 'median')\n",
        "X_train_median = obj.fit_transform(X_train)\n",
        "X_test_median = obj.transform(X_test)"
      ],
      "execution_count": 12,
      "outputs": []
    },
    {
      "cell_type": "code",
      "metadata": {
        "colab_type": "code",
        "id": "EtYvirMIBdiF",
        "colab": {
          "base_uri": "https://localhost:8080/",
          "height": 627
        },
        "outputId": "b6a4fe9e-0b3d-4a6e-bae8-0670934e841e"
      },
      "source": [
        "fig, ax = plt.subplots(1,2, figsize=(10,10))\n",
        "sns.distplot(X_train['Age'], ax = ax[0], color='blue')\n",
        "sns.distplot(X_train_median[:,0], ax = ax[1], color='red')"
      ],
      "execution_count": 13,
      "outputs": [
        {
          "output_type": "execute_result",
          "data": {
            "text/plain": [
              "<matplotlib.axes._subplots.AxesSubplot at 0x7f2c6ecf8438>"
            ]
          },
          "metadata": {
            "tags": []
          },
          "execution_count": 13
        },
        {
          "output_type": "display_data",
          "data": {
            "image/png": "[encoded data removed]",
            "text/plain": [
              "<Figure size 720x720 with 2 Axes>"
            ]
          },
          "metadata": {
            "tags": [],
            "needs_background": "light"
          }
        }
      ]
    },
    {
      "cell_type": "code",
      "metadata": {
        "colab_type": "code",
        "id": "0kp8ZIH8BoVK",
        "colab": {}
      },
      "source": [
        "from sklearn.impute import SimpleImputer\n",
        "obj = SimpleImputer(missing_values = np.nan, strategy= 'most_frequent')\n",
        "X_train_mode = obj.fit_transform(X_train)\n",
        "X_test_mode = obj.transform(X_test)"
      ],
      "execution_count": 14,
      "outputs": []
    },
    {
      "cell_type": "code",
      "metadata": {
        "colab_type": "code",
        "id": "bLL2F8XABoVM",
        "colab": {
          "base_uri": "https://localhost:8080/",
          "height": 627
        },
        "outputId": "dd1b5a0f-baef-4c98-f71c-1aa8588bea0a"
      },
      "source": [
        "fig, ax = plt.subplots(1,2, figsize=(10,10))\n",
        "sns.distplot(X_train['Age'], ax = ax[0], color='blue')\n",
        "sns.distplot(X_train_mode[:,0], ax = ax[1], color='red')"
      ],
      "execution_count": 15,
      "outputs": [
        {
          "output_type": "execute_result",
          "data": {
            "text/plain": [
              "<matplotlib.axes._subplots.AxesSubplot at 0x7f2c6ec34048>"
            ]
          },
          "metadata": {
            "tags": []
          },
          "execution_count": 15
        },
        {
          "output_type": "display_data",
          "data": {
            "image/png": "[encoded data removed]",
            "text/plain": [
              "<Figure size 720x720 with 2 Axes>"
            ]
          },
          "metadata": {
            "tags": [],
            "needs_background": "light"
          }
        }
      ]
    },
    {
      "cell_type": "code",
      "metadata": {
        "id": "Bk4UxINwE9ef",
        "colab_type": "code",
        "colab": {
          "base_uri": "https://localhost:8080/",
          "height": 104
        },
        "outputId": "65633011-d4e4-49e3-c7bb-05dcfa515457"
      },
      "source": [
        "print('Std original: ', X_train['Age'].std())\n",
        "print('Std 0: ', X_train_0[:,0].std())\n",
        "print('Std mean: ', X_train_mean[:,0].std())\n",
        "print('Std median: ', X_train_median[:,0].std())\n",
        "print('Std mode: ', X_train_mode[:,0].std())"
      ],
      "execution_count": 16,
      "outputs": [
        {
          "output_type": "stream",
          "text": [
            "Std original:  14.650258294164944\n",
            "Std 0:  13.168336171695746\n",
            "Std mean:  13.165556075712583\n",
            "Std median:  13.17963578414424\n",
            "Std mode:  13.345056037724706\n"
          ],
          "name": "stdout"
        }
      ]
    },
    {
      "cell_type": "markdown",
      "metadata": {
        "id": "-nrFF8GkE9em",
        "colab_type": "text"
      },
      "source": [
        "### Model performance "
      ]
    },
    {
      "cell_type": "code",
      "metadata": {
        "id": "tJ-qLsRuCmlV",
        "colab_type": "code",
        "colab": {}
      },
      "source": [
        "from sklearn.metrics import accuracy_score"
      ],
      "execution_count": 17,
      "outputs": []
    },
    {
      "cell_type": "code",
      "metadata": {
        "id": "tsRG3K5l8t_J",
        "colab_type": "code",
        "colab": {
          "base_uri": "https://localhost:8080/",
          "height": 87
        },
        "outputId": "4959c6b0-52a9-4877-9e41-540e7e1c95e6"
      },
      "source": [
        "from sklearn.linear_model import LogisticRegression\n",
        "classifier = LogisticRegression()\n",
        "classifier.fit(X_train_0,y_train)\n",
        "y_pred = classifier.predict(X_test_0)\n",
        "y_pred = np.round(y_pred).flatten()\n",
        "print(accuracy_score(y_test, y_pred))\n",
        "\n",
        "classifier.fit(X_train_mean,y_train)\n",
        "y_pred = classifier.predict(X_test_mean)\n",
        "y_pred = np.round(y_pred).flatten()\n",
        "print(accuracy_score(y_test, y_pred))\n",
        "\n",
        "classifier.fit(X_train_median,y_train)\n",
        "y_pred = classifier.predict(X_test_median)\n",
        "y_pred = np.round(y_pred).flatten()\n",
        "print(accuracy_score(y_test, y_pred))\n",
        "\n",
        "classifier.fit(X_train_mode,y_train)\n",
        "y_pred = classifier.predict(X_test_mode)\n",
        "y_pred = np.round(y_pred).flatten()\n",
        "print(accuracy_score(y_test, y_pred))"
      ],
      "execution_count": 18,
      "outputs": [
        {
          "output_type": "stream",
          "text": [
            "0.6536312849162011\n",
            "0.6536312849162011\n",
            "0.6536312849162011\n",
            "0.6424581005586593\n"
          ],
          "name": "stdout"
        }
      ]
    },
    {
      "cell_type": "code",
      "metadata": {
        "id": "2HgLWOz-9Uda",
        "colab_type": "code",
        "colab": {
          "base_uri": "https://localhost:8080/",
          "height": 87
        },
        "outputId": "aab0bfd2-43b6-4e37-af38-90c71c13d741"
      },
      "source": [
        "from sklearn.linear_model import RidgeClassifierCV\n",
        "classifier = RidgeClassifierCV()\n",
        "classifier.fit(X_train_0,y_train)\n",
        "y_pred = classifier.predict(X_test_0)\n",
        "y_pred = np.round(y_pred).flatten()\n",
        "print(accuracy_score(y_test, y_pred))\n",
        "\n",
        "classifier.fit(X_train_mean,y_train)\n",
        "y_pred = classifier.predict(X_test_mean)\n",
        "y_pred = np.round(y_pred).flatten()\n",
        "print(accuracy_score(y_test, y_pred))\n",
        "\n",
        "classifier.fit(X_train_median,y_train)\n",
        "y_pred = classifier.predict(X_test_median)\n",
        "y_pred = np.round(y_pred).flatten()\n",
        "print(accuracy_score(y_test, y_pred))\n",
        "\n",
        "classifier.fit(X_train_mode,y_train)\n",
        "y_pred = classifier.predict(X_test_mode)\n",
        "y_pred = np.round(y_pred).flatten()\n",
        "print(accuracy_score(y_test, y_pred))"
      ],
      "execution_count": 19,
      "outputs": [
        {
          "output_type": "stream",
          "text": [
            "0.6312849162011173\n",
            "0.6312849162011173\n",
            "0.6312849162011173\n",
            "0.6312849162011173\n"
          ],
          "name": "stdout"
        }
      ]
    },
    {
      "cell_type": "code",
      "metadata": {
        "id": "gS9bIfAB9eKW",
        "colab_type": "code",
        "colab": {
          "base_uri": "https://localhost:8080/",
          "height": 87
        },
        "outputId": "b7d80dc8-5968-4772-de90-69b221fa4162"
      },
      "source": [
        "from sklearn.linear_model import RidgeClassifierCV\n",
        "classifier = RidgeClassifierCV()\n",
        "classifier.fit(X_train_0,y_train)\n",
        "y_pred = classifier.predict(X_test_0)\n",
        "y_pred = np.round(y_pred).flatten()\n",
        "print(accuracy_score(y_test, y_pred))\n",
        "\n",
        "classifier.fit(X_train_mean,y_train)\n",
        "y_pred = classifier.predict(X_test_mean)\n",
        "y_pred = np.round(y_pred).flatten()\n",
        "print(accuracy_score(y_test, y_pred))\n",
        "\n",
        "classifier.fit(X_train_median,y_train)\n",
        "y_pred = classifier.predict(X_test_median)\n",
        "y_pred = np.round(y_pred).flatten()\n",
        "print(accuracy_score(y_test, y_pred))\n",
        "\n",
        "classifier.fit(X_train_mode,y_train)\n",
        "y_pred = classifier.predict(X_test_mode)\n",
        "y_pred = np.round(y_pred).flatten()\n",
        "print(accuracy_score(y_test, y_pred))"
      ],
      "execution_count": 20,
      "outputs": [
        {
          "output_type": "stream",
          "text": [
            "0.6312849162011173\n",
            "0.6312849162011173\n",
            "0.6312849162011173\n",
            "0.6312849162011173\n"
          ],
          "name": "stdout"
        }
      ]
    },
    {
      "cell_type": "code",
      "metadata": {
        "id": "bZLwAZRI9vl3",
        "colab_type": "code",
        "colab": {
          "base_uri": "https://localhost:8080/",
          "height": 87
        },
        "outputId": "d19c2a9e-6bc7-480c-d9aa-a271ebade7e5"
      },
      "source": [
        "from sklearn.svm import SVC\n",
        "classifier = SVC()\n",
        "classifier.fit(X_train_0,y_train)\n",
        "y_pred = classifier.predict(X_test_0)\n",
        "y_pred = np.round(y_pred).flatten()\n",
        "print(accuracy_score(y_test, y_pred))\n",
        "\n",
        "classifier.fit(X_train_mean,y_train)\n",
        "y_pred = classifier.predict(X_test_mean)\n",
        "y_pred = np.round(y_pred).flatten()\n",
        "print(accuracy_score(y_test, y_pred))\n",
        "\n",
        "classifier.fit(X_train_median,y_train)\n",
        "y_pred = classifier.predict(X_test_median)\n",
        "y_pred = np.round(y_pred).flatten()\n",
        "print(accuracy_score(y_test, y_pred))\n",
        "\n",
        "classifier.fit(X_train_mode,y_train)\n",
        "y_pred = classifier.predict(X_test_mode)\n",
        "y_pred = np.round(y_pred).flatten()\n",
        "print(accuracy_score(y_test, y_pred))"
      ],
      "execution_count": 21,
      "outputs": [
        {
          "output_type": "stream",
          "text": [
            "0.6480446927374302\n",
            "0.6480446927374302\n",
            "0.6536312849162011\n",
            "0.6536312849162011\n"
          ],
          "name": "stdout"
        }
      ]
    },
    {
      "cell_type": "code",
      "metadata": {
        "id": "RO5oc4UJ9ykm",
        "colab_type": "code",
        "colab": {
          "base_uri": "https://localhost:8080/",
          "height": 87
        },
        "outputId": "99342a4c-b361-49b9-d998-43ff406edd47"
      },
      "source": [
        "from sklearn.neural_network import MLPClassifier\n",
        "classifier = MLPClassifier()\n",
        "classifier.fit(X_train_0,y_train)\n",
        "y_pred = classifier.predict(X_test_0)\n",
        "y_pred = np.round(y_pred).flatten()\n",
        "print(accuracy_score(y_test, y_pred))\n",
        "\n",
        "classifier.fit(X_train_mean,y_train)\n",
        "y_pred = classifier.predict(X_test_mean)\n",
        "y_pred = np.round(y_pred).flatten()\n",
        "print(accuracy_score(y_test, y_pred))\n",
        "\n",
        "classifier.fit(X_train_median,y_train)\n",
        "y_pred = classifier.predict(X_test_median)\n",
        "y_pred = np.round(y_pred).flatten()\n",
        "print(accuracy_score(y_test, y_pred))\n",
        "\n",
        "classifier.fit(X_train_mode,y_train)\n",
        "y_pred = classifier.predict(X_test_mode)\n",
        "y_pred = np.round(y_pred).flatten()\n",
        "print(accuracy_score(y_test, y_pred))"
      ],
      "execution_count": 22,
      "outputs": [
        {
          "output_type": "stream",
          "text": [
            "0.6871508379888268\n",
            "0.7150837988826816\n",
            "0.6815642458100558\n",
            "0.6536312849162011\n"
          ],
          "name": "stdout"
        }
      ]
    },
    {
      "cell_type": "code",
      "metadata": {
        "id": "RFKVucj790aA",
        "colab_type": "code",
        "colab": {
          "base_uri": "https://localhost:8080/",
          "height": 225
        },
        "outputId": "5b6877ac-31a1-4081-ea40-76da920abf8e"
      },
      "source": [
        "from sklearn.svm import LinearSVC\n",
        "classifier = LinearSVC()\n",
        "classifier.fit(X_train_0,y_train)\n",
        "y_pred = classifier.predict(X_test_0)\n",
        "y_pred = np.round(y_pred).flatten()\n",
        "print(accuracy_score(y_test, y_pred))\n",
        "\n",
        "classifier.fit(X_train_mean,y_train)\n",
        "y_pred = classifier.predict(X_test_mean)\n",
        "y_pred = np.round(y_pred).flatten()\n",
        "print(accuracy_score(y_test, y_pred))\n",
        "\n",
        "classifier.fit(X_train_median,y_train)\n",
        "y_pred = classifier.predict(X_test_median)\n",
        "y_pred = np.round(y_pred).flatten()\n",
        "print(accuracy_score(y_test, y_pred))\n",
        "\n",
        "classifier.fit(X_train_mode,y_train)\n",
        "y_pred = classifier.predict(X_test_mode)\n",
        "y_pred = np.round(y_pred).flatten()\n",
        "print(accuracy_score(y_test, y_pred))"
      ],
      "execution_count": 23,
      "outputs": [
        {
          "output_type": "stream",
          "text": [
            "0.3575418994413408\n",
            "0.6927374301675978\n",
            "0.39106145251396646\n",
            "0.6089385474860335\n"
          ],
          "name": "stdout"
        },
        {
          "output_type": "stream",
          "text": [
            "/usr/local/lib/python3.6/dist-packages/sklearn/svm/_base.py:977: ConvergenceWarning: Liblinear failed to converge, increase the number of iterations.\n",
            "  \"the number of iterations.\", ConvergenceWarning)\n",
            "/usr/local/lib/python3.6/dist-packages/sklearn/svm/_base.py:977: ConvergenceWarning: Liblinear failed to converge, increase the number of iterations.\n",
            "  \"the number of iterations.\", ConvergenceWarning)\n",
            "/usr/local/lib/python3.6/dist-packages/sklearn/svm/_base.py:977: ConvergenceWarning: Liblinear failed to converge, increase the number of iterations.\n",
            "  \"the number of iterations.\", ConvergenceWarning)\n",
            "/usr/local/lib/python3.6/dist-packages/sklearn/svm/_base.py:977: ConvergenceWarning: Liblinear failed to converge, increase the number of iterations.\n",
            "  \"the number of iterations.\", ConvergenceWarning)\n"
          ],
          "name": "stderr"
        }
      ]
    },
    {
      "cell_type": "code",
      "metadata": {
        "id": "wgb5-ZI19274",
        "colab_type": "code",
        "colab": {
          "base_uri": "https://localhost:8080/",
          "height": 87
        },
        "outputId": "6779b302-5ae5-4ed8-c613-2d50801db3af"
      },
      "source": [
        "from sklearn.ensemble import RandomForestClassifier\n",
        "classifier = RandomForestClassifier()\n",
        "classifier.fit(X_train_0,y_train)\n",
        "y_pred = classifier.predict(X_test_0)\n",
        "y_pred = np.round(y_pred).flatten()\n",
        "print(accuracy_score(y_test, y_pred))\n",
        "\n",
        "classifier.fit(X_train_mean,y_train)\n",
        "y_pred = classifier.predict(X_test_mean)\n",
        "y_pred = np.round(y_pred).flatten()\n",
        "print(accuracy_score(y_test, y_pred))\n",
        "\n",
        "classifier.fit(X_train_median,y_train)\n",
        "y_pred = classifier.predict(X_test_median)\n",
        "y_pred = np.round(y_pred).flatten()\n",
        "print(accuracy_score(y_test, y_pred))\n",
        "\n",
        "classifier.fit(X_train_mode,y_train)\n",
        "y_pred = classifier.predict(X_test_mode)\n",
        "y_pred = np.round(y_pred).flatten()\n",
        "print(accuracy_score(y_test, y_pred))"
      ],
      "execution_count": 24,
      "outputs": [
        {
          "output_type": "stream",
          "text": [
            "0.6927374301675978\n",
            "0.664804469273743\n",
            "0.6871508379888268\n",
            "0.6927374301675978\n"
          ],
          "name": "stdout"
        }
      ]
    },
    {
      "cell_type": "code",
      "metadata": {
        "id": "hrF5V_7_94hA",
        "colab_type": "code",
        "colab": {
          "base_uri": "https://localhost:8080/",
          "height": 87
        },
        "outputId": "688b1966-c574-4d00-cfec-a0ad6f5f3915"
      },
      "source": [
        "from sklearn.tree import DecisionTreeClassifier\n",
        "classifier = DecisionTreeClassifier()\n",
        "classifier.fit(X_train_0,y_train)\n",
        "y_pred = classifier.predict(X_test_0)\n",
        "y_pred = np.round(y_pred).flatten()\n",
        "print(accuracy_score(y_test, y_pred))\n",
        "\n",
        "classifier.fit(X_train_mean,y_train)\n",
        "y_pred = classifier.predict(X_test_mean)\n",
        "y_pred = np.round(y_pred).flatten()\n",
        "print(accuracy_score(y_test, y_pred))\n",
        "\n",
        "classifier.fit(X_train_median,y_train)\n",
        "y_pred = classifier.predict(X_test_median)\n",
        "y_pred = np.round(y_pred).flatten()\n",
        "print(accuracy_score(y_test, y_pred))\n",
        "\n",
        "classifier.fit(X_train_mode,y_train)\n",
        "y_pred = classifier.predict(X_test_mode)\n",
        "y_pred = np.round(y_pred).flatten()\n",
        "print(accuracy_score(y_test, y_pred))"
      ],
      "execution_count": 25,
      "outputs": [
        {
          "output_type": "stream",
          "text": [
            "0.6033519553072626\n",
            "0.6368715083798883\n",
            "0.6424581005586593\n",
            "0.664804469273743\n"
          ],
          "name": "stdout"
        }
      ]
    },
    {
      "cell_type": "code",
      "metadata": {
        "id": "0M4ySoHj97e5",
        "colab_type": "code",
        "colab": {
          "base_uri": "https://localhost:8080/",
          "height": 87
        },
        "outputId": "8cab3d4e-1ce6-4180-b166-4bd4540844f6"
      },
      "source": [
        "from sklearn.ensemble import GradientBoostingClassifier\n",
        "classifier = GradientBoostingClassifier()\n",
        "classifier.fit(X_train_0,y_train)\n",
        "y_pred = classifier.predict(X_test_0)\n",
        "y_pred = np.round(y_pred).flatten()\n",
        "print(accuracy_score(y_test, y_pred))\n",
        "\n",
        "classifier.fit(X_train_mean,y_train)\n",
        "y_pred = classifier.predict(X_test_mean)\n",
        "y_pred = np.round(y_pred).flatten()\n",
        "print(accuracy_score(y_test, y_pred))\n",
        "\n",
        "classifier.fit(X_train_median,y_train)\n",
        "y_pred = classifier.predict(X_test_median)\n",
        "y_pred = np.round(y_pred).flatten()\n",
        "print(accuracy_score(y_test, y_pred))\n",
        "\n",
        "classifier.fit(X_train_mode,y_train)\n",
        "y_pred = classifier.predict(X_test_mode)\n",
        "y_pred = np.round(y_pred).flatten()\n",
        "print(accuracy_score(y_test, y_pred))"
      ],
      "execution_count": 26,
      "outputs": [
        {
          "output_type": "stream",
          "text": [
            "0.6927374301675978\n",
            "0.6815642458100558\n",
            "0.6927374301675978\n",
            "0.6815642458100558\n"
          ],
          "name": "stdout"
        }
      ]
    },
    {
      "cell_type": "code",
      "metadata": {
        "id": "UpVGb0-p991g",
        "colab_type": "code",
        "colab": {
          "base_uri": "https://localhost:8080/",
          "height": 87
        },
        "outputId": "c22ac63d-c3fc-47bb-c671-363f486180bf"
      },
      "source": [
        "from sklearn.linear_model import SGDClassifier\n",
        "classifier = SGDClassifier()\n",
        "classifier.fit(X_train_0,y_train)\n",
        "y_pred = classifier.predict(X_test_0)\n",
        "y_pred = np.round(y_pred).flatten()\n",
        "print(accuracy_score(y_test, y_pred))\n",
        "\n",
        "classifier.fit(X_train_mean,y_train)\n",
        "y_pred = classifier.predict(X_test_mean)\n",
        "y_pred = np.round(y_pred).flatten()\n",
        "print(accuracy_score(y_test, y_pred))\n",
        "\n",
        "classifier.fit(X_train_median,y_train)\n",
        "y_pred = classifier.predict(X_test_median)\n",
        "y_pred = np.round(y_pred).flatten()\n",
        "print(accuracy_score(y_test, y_pred))\n",
        "\n",
        "classifier.fit(X_train_mode,y_train)\n",
        "y_pred = classifier.predict(X_test_mode)\n",
        "y_pred = np.round(y_pred).flatten()\n",
        "print(accuracy_score(y_test, y_pred))"
      ],
      "execution_count": 27,
      "outputs": [
        {
          "output_type": "stream",
          "text": [
            "0.6424581005586593\n",
            "0.6089385474860335\n",
            "0.6983240223463687\n",
            "0.35195530726256985\n"
          ],
          "name": "stdout"
        }
      ]
    },
    {
      "cell_type": "code",
      "metadata": {
        "id": "nrl2BNRA9_mm",
        "colab_type": "code",
        "colab": {
          "base_uri": "https://localhost:8080/",
          "height": 87
        },
        "outputId": "e8582c2c-72ff-4076-ac26-b309828697ba"
      },
      "source": [
        "from sklearn.linear_model import Perceptron\n",
        "classifier = Perceptron()\n",
        "classifier.fit(X_train_0,y_train)\n",
        "y_pred = classifier.predict(X_test_0)\n",
        "y_pred = np.round(y_pred).flatten()\n",
        "print(accuracy_score(y_test, y_pred))\n",
        "\n",
        "classifier.fit(X_train_mean,y_train)\n",
        "y_pred = classifier.predict(X_test_mean)\n",
        "y_pred = np.round(y_pred).flatten()\n",
        "print(accuracy_score(y_test, y_pred))\n",
        "\n",
        "classifier.fit(X_train_median,y_train)\n",
        "y_pred = classifier.predict(X_test_median)\n",
        "y_pred = np.round(y_pred).flatten()\n",
        "print(accuracy_score(y_test, y_pred))\n",
        "\n",
        "classifier.fit(X_train_mode,y_train)\n",
        "y_pred = classifier.predict(X_test_mode)\n",
        "y_pred = np.round(y_pred).flatten()\n",
        "print(accuracy_score(y_test, y_pred))"
      ],
      "execution_count": 28,
      "outputs": [
        {
          "output_type": "stream",
          "text": [
            "0.6089385474860335\n",
            "0.6089385474860335\n",
            "0.7318435754189944\n",
            "0.6089385474860335\n"
          ],
          "name": "stdout"
        }
      ]
    },
    {
      "cell_type": "code",
      "metadata": {
        "id": "L6SQhWSk-Btx",
        "colab_type": "code",
        "colab": {
          "base_uri": "https://localhost:8080/",
          "height": 87
        },
        "outputId": "b023e65c-e1bc-4264-aeca-ca0a8e2696cd"
      },
      "source": [
        "from sklearn.naive_bayes import GaussianNB\n",
        "classifier = GaussianNB()\n",
        "classifier.fit(X_train_0,y_train)\n",
        "y_pred = classifier.predict(X_test_0)\n",
        "y_pred = np.round(y_pred).flatten()\n",
        "print(accuracy_score(y_test, y_pred))\n",
        "\n",
        "classifier.fit(X_train_mean,y_train)\n",
        "y_pred = classifier.predict(X_test_mean)\n",
        "y_pred = np.round(y_pred).flatten()\n",
        "print(accuracy_score(y_test, y_pred))\n",
        "\n",
        "classifier.fit(X_train_median,y_train)\n",
        "y_pred = classifier.predict(X_test_median)\n",
        "y_pred = np.round(y_pred).flatten()\n",
        "print(accuracy_score(y_test, y_pred))\n",
        "\n",
        "classifier.fit(X_train_mode,y_train)\n",
        "y_pred = classifier.predict(X_test_mode)\n",
        "y_pred = np.round(y_pred).flatten()\n",
        "print(accuracy_score(y_test, y_pred))"
      ],
      "execution_count": 29,
      "outputs": [
        {
          "output_type": "stream",
          "text": [
            "0.6424581005586593\n",
            "0.6424581005586593\n",
            "0.6424581005586593\n",
            "0.6424581005586593\n"
          ],
          "name": "stdout"
        }
      ]
    },
    {
      "cell_type": "code",
      "metadata": {
        "id": "Ty-k4q1L-Ew-",
        "colab_type": "code",
        "colab": {
          "base_uri": "https://localhost:8080/",
          "height": 87
        },
        "outputId": "8c5f9fd4-9d0e-4851-e445-4fe71569ac92"
      },
      "source": [
        "from sklearn.neighbors import KNeighborsClassifier\n",
        "classifier = KNeighborsClassifier()\n",
        "classifier.fit(X_train_0,y_train)\n",
        "y_pred = classifier.predict(X_test_0)\n",
        "y_pred = np.round(y_pred).flatten()\n",
        "print(accuracy_score(y_test, y_pred))\n",
        "\n",
        "classifier.fit(X_train_mean,y_train)\n",
        "y_pred = classifier.predict(X_test_mean)\n",
        "y_pred = np.round(y_pred).flatten()\n",
        "print(accuracy_score(y_test, y_pred))\n",
        "\n",
        "classifier.fit(X_train_median,y_train)\n",
        "y_pred = classifier.predict(X_test_median)\n",
        "y_pred = np.round(y_pred).flatten()\n",
        "print(accuracy_score(y_test, y_pred))\n",
        "\n",
        "classifier.fit(X_train_mode,y_train)\n",
        "y_pred = classifier.predict(X_test_mode)\n",
        "y_pred = np.round(y_pred).flatten()\n",
        "print(accuracy_score(y_test, y_pred))"
      ],
      "execution_count": 30,
      "outputs": [
        {
          "output_type": "stream",
          "text": [
            "0.6815642458100558\n",
            "0.6815642458100558\n",
            "0.664804469273743\n",
            "0.6871508379888268\n"
          ],
          "name": "stdout"
        }
      ]
    },
    {
      "cell_type": "code",
      "metadata": {
        "id": "0jrrU4ewJ0bU",
        "colab_type": "code",
        "colab": {}
      },
      "source": [
        ""
      ],
      "execution_count": 30,
      "outputs": []
    }
  ]
}