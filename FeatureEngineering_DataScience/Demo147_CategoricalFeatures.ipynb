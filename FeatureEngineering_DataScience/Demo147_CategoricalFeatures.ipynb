{
  "nbformat": 4,
  "nbformat_minor": 0,
  "metadata": {
    "kernelspec": {
      "display_name": "Python 3",
      "language": "python",
      "name": "python3"
    },
    "language_info": {
      "codemirror_mode": {
        "name": "ipython",
        "version": 3
      },
      "file_extension": ".py",
      "mimetype": "text/x-python",
      "name": "python",
      "nbconvert_exporter": "python",
      "pygments_lexer": "ipython3",
      "version": "3.6.1"
    },
    "toc": {
      "nav_menu": {},
      "number_sections": true,
      "sideBar": true,
      "skip_h1_title": false,
      "toc_cell": false,
      "toc_position": {},
      "toc_section_display": "block",
      "toc_window_display": true
    },
    "colab": {
      "name": "Demo147_CategoricalFeatures.ipynb",
      "provenance": [],
      "collapsed_sections": []
    }
  },
  "cells": [
    {
      "cell_type": "code",
      "metadata": {
        "id": "YFsM05fQXnS7",
        "colab_type": "code",
        "colab": {}
      },
      "source": [
        "import numpy as np\n",
        "import pandas as pd\n",
        "import matplotlib.pyplot as plt"
      ],
      "execution_count": 0,
      "outputs": []
    },
    {
      "cell_type": "code",
      "metadata": {
        "id": "f7GrvFJTXnS_",
        "colab_type": "code",
        "colab": {}
      },
      "source": [
        "from google.colab import drive\n",
        "drive.mount('/content/gdrive')\n",
        "data = pd.read_csv(\"gdrive/My Drive/Colab Notebooks/FeatureEngineering/train.csv\")\n",
        "data.head()"
      ],
      "execution_count": 0,
      "outputs": []
    },
    {
      "cell_type": "code",
      "metadata": {
        "id": "Ev9YxEiWYFsE",
        "colab_type": "code",
        "colab": {}
      },
      "source": [
        "discrete = []\n",
        "for i in range(len(data.columns)):\n",
        "  percentage = 100*len(data.iloc[:,i].dropna().unique())/len(data.iloc[:,i].dropna())\n",
        "  if percentage < 30:\n",
        "    discrete.append(i)\n",
        "    print(\"{:4} has {:5} unique values with {:4.2f}%\".format(i, len(data.iloc[:,i].dropna().unique()), percentage))"
      ],
      "execution_count": 0,
      "outputs": []
    },
    {
      "cell_type": "code",
      "metadata": {
        "id": "Rol0Uv4XXnTE",
        "colab_type": "code",
        "colab": {}
      },
      "source": [
        "data.iloc[:,discrete[0]].unique()"
      ],
      "execution_count": 0,
      "outputs": []
    },
    {
      "cell_type": "code",
      "metadata": {
        "id": "E4S2RU2PYOpo",
        "colab_type": "code",
        "colab": {}
      },
      "source": [
        "data.iloc[:,discrete[1]].unique()"
      ],
      "execution_count": 0,
      "outputs": []
    },
    {
      "cell_type": "code",
      "metadata": {
        "id": "daAgxO9IXnTK",
        "colab_type": "code",
        "colab": {}
      },
      "source": [
        "for i in discrete:\n",
        "  plt.figure()\n",
        "  data.iloc[:,i].value_counts().plot.bar(color='blue')\n",
        "  plt.xticks([])\n",
        "  plt.xlabel(i)\n",
        "  plt.show()"
      ],
      "execution_count": 0,
      "outputs": []
    },
    {
      "cell_type": "code",
      "metadata": {
        "id": "tzE_BwF9XnTP",
        "colab_type": "code",
        "colab": {}
      },
      "source": [
        "data.iloc[:,discrete[0]].value_counts()"
      ],
      "execution_count": 0,
      "outputs": []
    },
    {
      "cell_type": "code",
      "metadata": {
        "id": "rGvKjVpJZRCN",
        "colab_type": "code",
        "colab": {}
      },
      "source": [
        "data.iloc[:,discrete[1]].value_counts()"
      ],
      "execution_count": 0,
      "outputs": []
    }
  ]
}