{
  "nbformat": 4,
  "nbformat_minor": 0,
  "metadata": {
    "kernelspec": {
      "display_name": "Python 3",
      "language": "python",
      "name": "python3"
    },
    "language_info": {
      "codemirror_mode": {
        "name": "ipython",
        "version": 3
      },
      "file_extension": ".py",
      "mimetype": "text/x-python",
      "name": "python",
      "nbconvert_exporter": "python",
      "pygments_lexer": "ipython3",
      "version": "3.7.3"
    },
    "toc": {
      "nav_menu": {},
      "number_sections": true,
      "sideBar": true,
      "skip_h1_title": false,
      "toc_cell": false,
      "toc_position": {},
      "toc_section_display": "block",
      "toc_window_display": true
    },
    "colab": {
      "name": "Demo146_NumericalFeatures.ipynb",
      "provenance": [],
      "collapsed_sections": []
    }
  },
  "cells": [
    {
      "cell_type": "code",
      "metadata": {
        "id": "cbyRbX735ivF",
        "colab_type": "code",
        "colab": {}
      },
      "source": [
        "import pandas as pd\n",
        "import numpy as np\n",
        "from PIL import Image\n",
        "import matplotlib.pyplot as plt"
      ],
      "execution_count": 0,
      "outputs": []
    },
    {
      "cell_type": "code",
      "metadata": {
        "id": "LIf1GY4NlfUr",
        "colab_type": "code",
        "colab": {}
      },
      "source": [
        "from google.colab import drive\n",
        "drive.mount('/content/gdrive')"
      ],
      "execution_count": 0,
      "outputs": []
    },
    {
      "cell_type": "code",
      "metadata": {
        "id": "bDsQJAzL5ivI",
        "colab_type": "code",
        "colab": {}
      },
      "source": [
        "data = pd.read_csv(\"gdrive/My Drive/Colab Notebooks/FeatureEngineering/train.csv\")\n",
        "\n",
        "data.head()"
      ],
      "execution_count": 0,
      "outputs": []
    },
    {
      "cell_type": "markdown",
      "metadata": {
        "id": "MgnGIJ3n5ivL",
        "colab_type": "text"
      },
      "source": [
        "### Continuous Variables"
      ]
    },
    {
      "cell_type": "code",
      "metadata": {
        "id": "dJ7Al2TgqXcI",
        "colab_type": "code",
        "colab": {}
      },
      "source": [
        "data.columns"
      ],
      "execution_count": 0,
      "outputs": []
    },
    {
      "cell_type": "code",
      "metadata": {
        "id": "5mzTJ2oor6W3",
        "colab_type": "code",
        "colab": {}
      },
      "source": [
        "print(\"Total entries: {}\".format(len(data)))"
      ],
      "execution_count": 0,
      "outputs": []
    },
    {
      "cell_type": "code",
      "metadata": {
        "id": "br4yOZJ-CFyX",
        "colab_type": "code",
        "colab": {}
      },
      "source": [
        "data.values.shape"
      ],
      "execution_count": 0,
      "outputs": []
    },
    {
      "cell_type": "code",
      "metadata": {
        "id": "QIFFtYTq5ivM",
        "colab_type": "code",
        "colab": {}
      },
      "source": [
        "for i in range(len(data.columns)):\n",
        "  percentage = 100*len(data.iloc[:,i].unique())/len(data.iloc[:,i])\n",
        "  uniques = len(data.iloc[:,i].unique())\n",
        "  print(\"{:4} has {:5} unique values with {:4.2f}%\".format(i, uniques, percentage))"
      ],
      "execution_count": 0,
      "outputs": []
    },
    {
      "cell_type": "code",
      "metadata": {
        "id": "_IdZpzT9sEh6",
        "colab_type": "code",
        "colab": {}
      },
      "source": [
        "for i in range(len(data.columns)):\n",
        "  print(\"{:4} has {:5} unique values with {:4.2f}%\".format(i, len(data.iloc[:,i].dropna().unique()), 100*len(data.iloc[:,i].dropna().unique())/len(data.iloc[:,i].dropna())))"
      ],
      "execution_count": 0,
      "outputs": []
    },
    {
      "cell_type": "code",
      "metadata": {
        "id": "K7CwAOQSuPDE",
        "colab_type": "code",
        "colab": {}
      },
      "source": [
        "for i in range(len(data.columns)):\n",
        "  print(\"{:4} has {:5} NaN values with {:4.2f}%\".format(i, data.iloc[:,i].isna().sum(), 100*data.iloc[:,i].isna().sum()/len(data)))"
      ],
      "execution_count": 0,
      "outputs": []
    },
    {
      "cell_type": "code",
      "metadata": {
        "id": "7BFM8y3exWbL",
        "colab_type": "code",
        "colab": {}
      },
      "source": [
        "i = 68\n",
        "df = pd.concat([data.iloc[:,i], data.y], axis=1).dropna()\n",
        "print(len(df))\n",
        "df.head()"
      ],
      "execution_count": 0,
      "outputs": []
    },
    {
      "cell_type": "code",
      "metadata": {
        "id": "7ABXLe9IvvVu",
        "colab_type": "code",
        "colab": {}
      },
      "source": [
        "#!mkdir scatterPlots\n",
        "row, col = 40, 2\n",
        "fig, ax = plt.subplots(row, col, figsize=(20,160))\n",
        "j = -1\n",
        "for i in range(len(data.columns)):\n",
        "  if i%row==0:\n",
        "    j+=1\n",
        "  df = pd.concat([data.iloc[:,i], data.y], axis=1).dropna()\n",
        "  ax[i%row][j].scatter(df.iloc[:,0], df.iloc[:,1],color = 'blue')\n",
        "  ax[i%row][j].set_xticks([])\n",
        "  ax[i%row][j].set_yticks([])\n",
        "  ax[i%row][j].set_xlabel(data.columns[i])\n",
        "  ax[i%row][j].set_ylabel('y')\n",
        "  \n",
        "plt.savefig('ScatterPlotMatrix')\n",
        "plt.show()\n"
      ],
      "execution_count": 0,
      "outputs": []
    },
    {
      "cell_type": "code",
      "metadata": {
        "id": "Edg0IYyz6aHk",
        "colab_type": "code",
        "colab": {}
      },
      "source": [
        "!mkdir histPlots\n",
        "for i in range(len(data.columns)):\n",
        "  plt.figure()\n",
        "  df = pd.concat([data.iloc[:,i], data.y], axis=1).dropna()\n",
        "  plt.hist(df.iloc[:,0],color = 'blue')\n",
        "  plt.xlabel(i)\n",
        "  plt.ylabel('value')\n",
        "  plt.xticks([])\n",
        "  plt.yticks([])\n",
        "  plt.grid(True)\n",
        "  plt.savefig('histPlots/column_' + str(i) + '.png')\n",
        "  plt.show()"
      ],
      "execution_count": 0,
      "outputs": []
    },
    {
      "cell_type": "code",
      "metadata": {
        "id": "KPRMXFrD6pyg",
        "colab_type": "code",
        "colab": {}
      },
      "source": [
        "!zip -r histPlots.zip histPlots\n",
        "from google.colab import files\n",
        "files.download(\"/content/histPlots.zip\")"
      ],
      "execution_count": 0,
      "outputs": []
    },
    {
      "cell_type": "code",
      "metadata": {
        "id": "6zDK7gpW8p0L",
        "colab_type": "code",
        "colab": {}
      },
      "source": [
        "!mkdir histPlots50\n",
        "for i in range(len(data.columns)):\n",
        "  plt.figure()\n",
        "  df = pd.concat([data.iloc[:,i], data.y], axis=1).dropna()\n",
        "  plt.hist(df.iloc[:,0],color = 'blue', bins=50)\n",
        "  plt.xlabel(i)\n",
        "  plt.ylabel('value')\n",
        "  plt.xticks([])\n",
        "  plt.yticks([])\n",
        "  plt.grid(True)\n",
        "  plt.savefig('histPlots50/column_' + str(i) + '.png')\n",
        "  #plt.show()\n",
        "!zip -r histPlots50.zip histPlots50\n",
        "from google.colab import files\n",
        "files.download(\"/content/histPlots50.zip\")"
      ],
      "execution_count": 0,
      "outputs": []
    },
    {
      "cell_type": "markdown",
      "metadata": {
        "id": "D5kD_2Uk5ivZ",
        "colab_type": "text"
      },
      "source": [
        "### Discrete Variables"
      ]
    },
    {
      "cell_type": "code",
      "metadata": {
        "id": "Ikcs9AfQ-Klj",
        "colab_type": "code",
        "colab": {}
      },
      "source": [
        "discrete = []\n",
        "for i in range(len(data.columns)):\n",
        "  percentage = 100*len(data.iloc[:,i].dropna().unique())/len(data.iloc[:,i].dropna())\n",
        "  if percentage < 30:\n",
        "    discrete.append(i)\n",
        "    print(\"{:4} has {:5} unique values with {:4.2f}%\".format(i, len(data.iloc[:,i].dropna().unique()), percentage))"
      ],
      "execution_count": 0,
      "outputs": []
    },
    {
      "cell_type": "code",
      "metadata": {
        "id": "2n6DUje65ivc",
        "colab_type": "code",
        "colab": {}
      },
      "source": [
        "#!mkdir histPlotsDiscrete\n",
        "for i in discrete:\n",
        "  plt.figure()\n",
        "  df = pd.concat([data.iloc[:,i], data.y], axis=1).dropna()\n",
        "  plt.hist(df.iloc[:,0],color = 'blue', bins=100)\n",
        "  plt.xlabel(i)\n",
        "  plt.ylabel('value')\n",
        "  plt.xticks([])\n",
        "  plt.yticks([])\n",
        "  plt.grid(True)\n",
        "  #plt.savefig('histPlots50/column_' + str(i) + '.png')\n",
        "  plt.show()\n",
        "# !zip -r histPlots50.zip histPlots50\n",
        "# from google.colab import files\n",
        "# files.download(\"/content/histPlots50.zip\")"
      ],
      "execution_count": 0,
      "outputs": []
    },
    {
      "cell_type": "code",
      "metadata": {
        "id": "6IRrTK5L5ivj",
        "colab_type": "code",
        "colab": {}
      },
      "source": [
        "data.iloc[:,1].unique()"
      ],
      "execution_count": 0,
      "outputs": []
    },
    {
      "cell_type": "code",
      "metadata": {
        "id": "zV4iVDPVOmga",
        "colab_type": "code",
        "colab": {}
      },
      "source": [
        "X = data.iloc[:,2:len(data.columns)-1].values\n",
        "y = data.iloc[:,-1].values"
      ],
      "execution_count": 0,
      "outputs": []
    },
    {
      "cell_type": "code",
      "metadata": {
        "id": "Z2i0RQZIUxtS",
        "colab_type": "code",
        "colab": {}
      },
      "source": [
        "from sklearn.model_selection import train_test_split\n",
        "X_train, X_val, y_train, y_val = train_test_split(X,y, test_size = 0.2)"
      ],
      "execution_count": 0,
      "outputs": []
    },
    {
      "cell_type": "code",
      "metadata": {
        "id": "B1I9n2CSUaI5",
        "colab_type": "code",
        "colab": {}
      },
      "source": [
        "data_test = pd.read_csv(\"gdrive/My Drive/Colab Notebooks/FeatureEngineering/test.csv\")\n",
        "X_test = data_test.iloc[:,2:len(data.columns)-1].values"
      ],
      "execution_count": 0,
      "outputs": []
    },
    {
      "cell_type": "code",
      "metadata": {
        "id": "idyqv-CfPV7M",
        "colab_type": "code",
        "colab": {}
      },
      "source": [
        "print(data.values.shape)\n",
        "print(X.shape)\n",
        "print(y.shape)"
      ],
      "execution_count": 0,
      "outputs": []
    },
    {
      "cell_type": "code",
      "metadata": {
        "id": "0wDXH09TQDJI",
        "colab_type": "code",
        "colab": {}
      },
      "source": [
        "print(X_train.shape)\n",
        "print(y_train.shape)\n",
        "print(X_val.shape)\n",
        "print(y_val.shape)\n",
        "print(X_test.shape)"
      ],
      "execution_count": 0,
      "outputs": []
    },
    {
      "cell_type": "code",
      "metadata": {
        "id": "HFZbyPFnQM2_",
        "colab_type": "code",
        "colab": {}
      },
      "source": [
        "from sklearn.preprocessing import StandardScaler\n",
        "obj = StandardScaler()\n",
        "X_train = obj.fit_transform(X_train)\n",
        "X_test = obj.transform(X_test)\n",
        "X_val = obj.transform(X_val)"
      ],
      "execution_count": 0,
      "outputs": []
    },
    {
      "cell_type": "code",
      "metadata": {
        "id": "FA3SEUHtQoW4",
        "colab_type": "code",
        "colab": {}
      },
      "source": [
        "from sklearn.impute import SimpleImputer\n",
        "obj = SimpleImputer(missing_values=np.nan, strategy='most_frequent')\n",
        "X_train = obj.fit_transform(X_train)\n",
        "X_test = obj.transform(X_test)\n",
        "X_val = obj.transform(X_val)"
      ],
      "execution_count": 0,
      "outputs": []
    },
    {
      "cell_type": "code",
      "metadata": {
        "id": "6cW5sI9DPL6p",
        "colab_type": "code",
        "colab": {}
      },
      "source": [
        "from sklearn.svm import SVR\n",
        "model = SVR(kernel='poly')\n",
        "model.fit(X_train, y_train)\n",
        "y_pred = model.predict(X_val)"
      ],
      "execution_count": 0,
      "outputs": []
    },
    {
      "cell_type": "code",
      "metadata": {
        "id": "kdgNfX1RQgbN",
        "colab_type": "code",
        "colab": {}
      },
      "source": [
        "from sklearn.metrics import mean_squared_error\n",
        "mse = mean_squared_error(y_val, y_pred)"
      ],
      "execution_count": 0,
      "outputs": []
    },
    {
      "cell_type": "code",
      "metadata": {
        "id": "gPKcLIl1RTJO",
        "colab_type": "code",
        "colab": {}
      },
      "source": [
        "print(mse)"
      ],
      "execution_count": 0,
      "outputs": []
    }
  ]
}