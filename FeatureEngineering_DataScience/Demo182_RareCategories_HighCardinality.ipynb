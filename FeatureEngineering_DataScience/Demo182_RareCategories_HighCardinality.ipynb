{
  "nbformat": 4,
  "nbformat_minor": 0,
  "metadata": {
    "kernelspec": {
      "display_name": "Python 3",
      "language": "python",
      "name": "python3"
    },
    "language_info": {
      "codemirror_mode": {
        "name": "ipython",
        "version": 3
      },
      "file_extension": ".py",
      "mimetype": "text/x-python",
      "name": "python",
      "nbconvert_exporter": "python",
      "pygments_lexer": "ipython3",
      "version": "3.6.1"
    },
    "toc": {
      "nav_menu": {},
      "number_sections": true,
      "sideBar": true,
      "skip_h1_title": false,
      "toc_cell": false,
      "toc_position": {},
      "toc_section_display": "block",
      "toc_window_display": true
    },
    "colab": {
      "name": "Demo182_RareCategories_HighCardinality.ipynb",
      "provenance": [],
      "collapsed_sections": []
    }
  },
  "cells": [
    {
      "cell_type": "markdown",
      "metadata": {
        "id": "WoAJAn5SAkY0",
        "colab_type": "text"
      },
      "source": [
        "## Rare Labels \n",
        "\n",
        "- Values present for a small percentage \n",
        "\n",
        "- Usually present less than 5% \n",
        "\n",
        "- Concept of cardinality \n",
        "\n",
        "## Rare label consequences \n",
        "\n",
        "- May add information in low cardinality \n",
        "\n",
        "- May add noise is high cardinality \n",
        "\n",
        "\n",
        "### Engineering Rare Labels \n",
        "\n",
        "- Replacing by most frequent label\n",
        "- Grouping all rare labels together \n",
        "\n",
        "Categorical variables can have:\n",
        "\n",
        "- One predominant category\n",
        "- A small number of categories\n",
        "- High cardinality\n",
        "\n"
      ]
    },
    {
      "cell_type": "code",
      "metadata": {
        "id": "42hbGwCeDd8-",
        "colab_type": "code",
        "colab": {}
      },
      "source": [
        "import pandas as pd\n",
        "import matplotlib.pyplot as plt\n",
        "import seaborn as sns\n",
        "import numpy as np"
      ],
      "execution_count": 275,
      "outputs": []
    },
    {
      "cell_type": "code",
      "metadata": {
        "id": "Ds9gl_oFEATI",
        "colab_type": "code",
        "colab": {
          "base_uri": "https://localhost:8080/",
          "height": 35
        },
        "outputId": "cbdae249-8874-4539-980d-c69497d265e8"
      },
      "source": [
        "from google.colab import drive\n",
        "drive.mount('/content/gdrive')\n",
        "data = pd.read_csv(\"gdrive/My Drive/Colab Notebooks/FeatureEngineering/train.csv\")"
      ],
      "execution_count": 276,
      "outputs": [
        {
          "output_type": "stream",
          "text": [
            "Drive already mounted at /content/gdrive; to attempt to forcibly remount, call drive.mount(\"/content/gdrive\", force_remount=True).\n"
          ],
          "name": "stdout"
        }
      ]
    },
    {
      "cell_type": "code",
      "metadata": {
        "id": "3Jyw7xjcAkY6",
        "colab_type": "code",
        "colab": {
          "base_uri": "https://localhost:8080/",
          "height": 202
        },
        "outputId": "788f96ec-4386-47ec-e1bb-b7b8b49392f4"
      },
      "source": [
        "data.head()"
      ],
      "execution_count": 277,
      "outputs": [
        {
          "output_type": "execute_result",
          "data": {
            "text/html": [
              "<div>\n",
              "<style scoped>\n",
              "    .dataframe tbody tr th:only-of-type {\n",
              "        vertical-align: middle;\n",
              "    }\n",
              "\n",
              "    .dataframe tbody tr th {\n",
              "        vertical-align: top;\n",
              "    }\n",
              "\n",
              "    .dataframe thead th {\n",
              "        text-align: right;\n",
              "    }\n",
              "</style>\n",
              "<table border=\"1\" class=\"dataframe\">\n",
              "  <thead>\n",
              "    <tr style=\"text-align: right;\">\n",
              "      <th></th>\n",
              "      <th>PassengerId</th>\n",
              "      <th>Survived</th>\n",
              "      <th>Pclass</th>\n",
              "      <th>Name</th>\n",
              "      <th>Sex</th>\n",
              "      <th>Age</th>\n",
              "      <th>SibSp</th>\n",
              "      <th>Parch</th>\n",
              "      <th>Ticket</th>\n",
              "      <th>Fare</th>\n",
              "      <th>Cabin</th>\n",
              "      <th>Embarked</th>\n",
              "    </tr>\n",
              "  </thead>\n",
              "  <tbody>\n",
              "    <tr>\n",
              "      <th>0</th>\n",
              "      <td>1</td>\n",
              "      <td>0</td>\n",
              "      <td>3</td>\n",
              "      <td>Braund, Mr. Owen Harris</td>\n",
              "      <td>male</td>\n",
              "      <td>22.0</td>\n",
              "      <td>1</td>\n",
              "      <td>0</td>\n",
              "      <td>A/5 21171</td>\n",
              "      <td>7.2500</td>\n",
              "      <td>NaN</td>\n",
              "      <td>S</td>\n",
              "    </tr>\n",
              "    <tr>\n",
              "      <th>1</th>\n",
              "      <td>2</td>\n",
              "      <td>1</td>\n",
              "      <td>1</td>\n",
              "      <td>Cumings, Mrs. John Bradley (Florence Briggs Th...</td>\n",
              "      <td>female</td>\n",
              "      <td>38.0</td>\n",
              "      <td>1</td>\n",
              "      <td>0</td>\n",
              "      <td>PC 17599</td>\n",
              "      <td>71.2833</td>\n",
              "      <td>C85</td>\n",
              "      <td>C</td>\n",
              "    </tr>\n",
              "    <tr>\n",
              "      <th>2</th>\n",
              "      <td>3</td>\n",
              "      <td>1</td>\n",
              "      <td>3</td>\n",
              "      <td>Heikkinen, Miss. Laina</td>\n",
              "      <td>female</td>\n",
              "      <td>26.0</td>\n",
              "      <td>0</td>\n",
              "      <td>0</td>\n",
              "      <td>STON/O2. 3101282</td>\n",
              "      <td>7.9250</td>\n",
              "      <td>NaN</td>\n",
              "      <td>S</td>\n",
              "    </tr>\n",
              "    <tr>\n",
              "      <th>3</th>\n",
              "      <td>4</td>\n",
              "      <td>1</td>\n",
              "      <td>1</td>\n",
              "      <td>Futrelle, Mrs. Jacques Heath (Lily May Peel)</td>\n",
              "      <td>female</td>\n",
              "      <td>35.0</td>\n",
              "      <td>1</td>\n",
              "      <td>0</td>\n",
              "      <td>113803</td>\n",
              "      <td>53.1000</td>\n",
              "      <td>C123</td>\n",
              "      <td>S</td>\n",
              "    </tr>\n",
              "    <tr>\n",
              "      <th>4</th>\n",
              "      <td>5</td>\n",
              "      <td>0</td>\n",
              "      <td>3</td>\n",
              "      <td>Allen, Mr. William Henry</td>\n",
              "      <td>male</td>\n",
              "      <td>35.0</td>\n",
              "      <td>0</td>\n",
              "      <td>0</td>\n",
              "      <td>373450</td>\n",
              "      <td>8.0500</td>\n",
              "      <td>NaN</td>\n",
              "      <td>S</td>\n",
              "    </tr>\n",
              "  </tbody>\n",
              "</table>\n",
              "</div>"
            ],
            "text/plain": [
              "   PassengerId  Survived  Pclass  ...     Fare Cabin  Embarked\n",
              "0            1         0       3  ...   7.2500   NaN         S\n",
              "1            2         1       1  ...  71.2833   C85         C\n",
              "2            3         1       3  ...   7.9250   NaN         S\n",
              "3            4         1       1  ...  53.1000  C123         S\n",
              "4            5         0       3  ...   8.0500   NaN         S\n",
              "\n",
              "[5 rows x 12 columns]"
            ]
          },
          "metadata": {
            "tags": []
          },
          "execution_count": 277
        }
      ]
    },
    {
      "cell_type": "code",
      "metadata": {
        "id": "9mQS3wfemry3",
        "colab_type": "code",
        "colab": {
          "base_uri": "https://localhost:8080/",
          "height": 69
        },
        "outputId": "7f93db04-2d1e-4254-9b87-f3d7776ac0d7"
      },
      "source": [
        "data.columns"
      ],
      "execution_count": 278,
      "outputs": [
        {
          "output_type": "execute_result",
          "data": {
            "text/plain": [
              "Index(['PassengerId', 'Survived', 'Pclass', 'Name', 'Sex', 'Age', 'SibSp',\n",
              "       'Parch', 'Ticket', 'Fare', 'Cabin', 'Embarked'],\n",
              "      dtype='object')"
            ]
          },
          "metadata": {
            "tags": []
          },
          "execution_count": 278
        }
      ]
    },
    {
      "cell_type": "code",
      "metadata": {
        "id": "rXUJz-4K8hfH",
        "colab_type": "code",
        "colab": {}
      },
      "source": [
        "data = data[['Survived', 'Pclass', 'Sex', 'Age', 'SibSp',\n",
        "       'Parch', 'Ticket', 'Fare', 'Cabin', 'Embarked']]"
      ],
      "execution_count": 279,
      "outputs": []
    },
    {
      "cell_type": "code",
      "metadata": {
        "id": "3td36aFVAkZT",
        "colab_type": "code",
        "colab": {
          "base_uri": "https://localhost:8080/",
          "height": 87
        },
        "outputId": "c22e84e5-903a-44ef-c616-9241f14fa7ec"
      },
      "source": [
        "# get number of categories in variables \n",
        "categoricals = []\n",
        "for col in data.columns:\n",
        "    if data[col].dtypes =='O':\n",
        "      print('{} categories : {} '.format(col, len(data[col].unique())))\n",
        "      categoricals.append(col)"
      ],
      "execution_count": 280,
      "outputs": [
        {
          "output_type": "stream",
          "text": [
            "Sex categories : 2 \n",
            "Ticket categories : 681 \n",
            "Cabin categories : 148 \n",
            "Embarked categories : 4 \n"
          ],
          "name": "stdout"
        }
      ]
    },
    {
      "cell_type": "code",
      "metadata": {
        "id": "8EdOnRtkp503",
        "colab_type": "code",
        "colab": {
          "base_uri": "https://localhost:8080/",
          "height": 52
        },
        "outputId": "ed3afcd8-8cbe-45c0-afcc-6b8268167a6e"
      },
      "source": [
        "# Get variables with more than n categories \n",
        "n = 8\n",
        "cats = []\n",
        "for col in data.columns:\n",
        "    if data[col].dtypes =='O': \n",
        "        if len(data[col].unique())>n: \n",
        "            print('{} categories : {} '.format(col, len(data[col].unique())))\n",
        "            cats.append(col)"
      ],
      "execution_count": 281,
      "outputs": [
        {
          "output_type": "stream",
          "text": [
            "Ticket categories : 681 \n",
            "Cabin categories : 148 \n"
          ],
          "name": "stdout"
        }
      ]
    },
    {
      "cell_type": "code",
      "metadata": {
        "id": "6mL3xO1WqmQh",
        "colab_type": "code",
        "colab": {
          "base_uri": "https://localhost:8080/",
          "height": 503
        },
        "outputId": "c793273e-b93b-4071-ff44-0fbe43bc082f"
      },
      "source": [
        "for col in cats:\n",
        "    if data[col].dtypes =='O': # if the variable is categorical\n",
        "      print(100*data.groupby(col)[col].count()/np.float(len(data)))\n",
        "      print()"
      ],
      "execution_count": 282,
      "outputs": [
        {
          "output_type": "stream",
          "text": [
            "Ticket\n",
            "110152         0.336700\n",
            "110413         0.336700\n",
            "110465         0.224467\n",
            "110564         0.112233\n",
            "110813         0.112233\n",
            "                 ...   \n",
            "W./C. 6608     0.448934\n",
            "W./C. 6609     0.112233\n",
            "W.E.P. 5734    0.112233\n",
            "W/C 14208      0.112233\n",
            "WE/P 5735      0.224467\n",
            "Name: Ticket, Length: 681, dtype: float64\n",
            "\n",
            "Cabin\n",
            "A10    0.112233\n",
            "A14    0.112233\n",
            "A16    0.112233\n",
            "A19    0.112233\n",
            "A20    0.112233\n",
            "         ...   \n",
            "F33    0.336700\n",
            "F38    0.112233\n",
            "F4     0.224467\n",
            "G6     0.448934\n",
            "T      0.112233\n",
            "Name: Cabin, Length: 147, dtype: float64\n",
            "\n"
          ],
          "name": "stdout"
        }
      ]
    },
    {
      "cell_type": "code",
      "metadata": {
        "id": "nmQVTJM8AkY9",
        "colab_type": "code",
        "colab": {
          "base_uri": "https://localhost:8080/",
          "height": 35
        },
        "outputId": "48deeab2-f07b-49c3-ee7e-c73853d522b0"
      },
      "source": [
        "from sklearn.model_selection import train_test_split\n",
        "\n",
        "X_train, X_test, y_train, y_test = train_test_split(data[cats], data['Survived'],\n",
        "                                                    test_size=0.2)\n",
        "X_train.shape, X_test.shape"
      ],
      "execution_count": 283,
      "outputs": [
        {
          "output_type": "execute_result",
          "data": {
            "text/plain": [
              "((712, 2), (179, 2))"
            ]
          },
          "metadata": {
            "tags": []
          },
          "execution_count": 283
        }
      ]
    },
    {
      "cell_type": "code",
      "metadata": {
        "id": "uyjA7GUWAkZE",
        "colab_type": "code",
        "colab": {}
      },
      "source": [
        "def label_encoder(X_train, X_test, columns, na_flag = False):\n",
        "  import random\n",
        "  for col in columns:\n",
        "      mapper = {k:i for i, k in enumerate(X_train[col].unique(), 0)}\n",
        "      if na_flag:\n",
        "        mapper[np.nan] = np.nan\n",
        "      X_train.loc[:, col] = X_train.loc[:, col].map(mapper)\n",
        "      X_test.loc[:, col] = X_test.loc[:, col].map(mapper)\n",
        "      X_test[col] = X_test[col].fillna(random.choice(list(mapper.values())))"
      ],
      "execution_count": 284,
      "outputs": []
    },
    {
      "cell_type": "code",
      "metadata": {
        "id": "GwhzY2lyxBlQ",
        "colab_type": "code",
        "colab": {}
      },
      "source": [
        "label_encoder(X_train, X_test, cats)"
      ],
      "execution_count": 285,
      "outputs": []
    },
    {
      "cell_type": "code",
      "metadata": {
        "id": "b4s6p7We4Iwt",
        "colab_type": "code",
        "colab": {
          "base_uri": "https://localhost:8080/",
          "height": 69
        },
        "outputId": "c82d7e75-a2fe-45ac-8252-5713993c8e3c"
      },
      "source": [
        "X_train.isnull().sum()"
      ],
      "execution_count": 286,
      "outputs": [
        {
          "output_type": "execute_result",
          "data": {
            "text/plain": [
              "Ticket    0\n",
              "Cabin     0\n",
              "dtype: int64"
            ]
          },
          "metadata": {
            "tags": []
          },
          "execution_count": 286
        }
      ]
    },
    {
      "cell_type": "code",
      "metadata": {
        "id": "1tEW_WpG4LWz",
        "colab_type": "code",
        "colab": {
          "base_uri": "https://localhost:8080/",
          "height": 69
        },
        "outputId": "3c8a8b28-e114-4fce-eebc-0829f61caefe"
      },
      "source": [
        "X_test.isnull().sum()"
      ],
      "execution_count": 287,
      "outputs": [
        {
          "output_type": "execute_result",
          "data": {
            "text/plain": [
              "Ticket    0\n",
              "Cabin     0\n",
              "dtype: int64"
            ]
          },
          "metadata": {
            "tags": []
          },
          "execution_count": 287
        }
      ]
    },
    {
      "cell_type": "code",
      "metadata": {
        "id": "1VD9uGRxw7hs",
        "colab_type": "code",
        "colab": {
          "base_uri": "https://localhost:8080/",
          "height": 553
        },
        "outputId": "df05afe4-537d-45e7-c7a4-57b394db1714"
      },
      "source": [
        "sns.set()\n",
        "for i in cats:\n",
        "  plt.figure()\n",
        "  sns.distplot(X_train[i], kde=False)"
      ],
      "execution_count": 288,
      "outputs": [
        {
          "output_type": "display_data",
          "data": {
            "image/png": "[encoded data removed]",
            "text/plain": [
              "<Figure size 432x288 with 1 Axes>"
            ]
          },
          "metadata": {
            "tags": []
          }
        },
        {
          "output_type": "display_data",
          "data": {
            "image/png": "[encoded data removed]",
            "text/plain": [
              "<Figure size 432x288 with 1 Axes>"
            ]
          },
          "metadata": {
            "tags": []
          }
        }
      ]
    },
    {
      "cell_type": "code",
      "metadata": {
        "id": "8BuvhTmNxWzx",
        "colab_type": "code",
        "colab": {}
      },
      "source": [
        "def new_label_imputation(Xtrain, Xtest, threshold, cats):\n",
        "  X_train, X_test = Xtrain.copy(), Xtest.copy()\n",
        "  for col in cats:\n",
        "      rows = len(X_train)\n",
        "      temp_df = pd.Series(100*X_train[col].value_counts() / rows)\n",
        "      nonrares = temp_df[temp_df>=threshold].index # non-rare labels\n",
        "              \n",
        "      X_train[col] = np.where(Xtrain[col].isin(nonrares), Xtrain[col], 'rare')\n",
        "      X_test[col] = np.where(Xtest[col].isin(nonrares), Xtest[col], 'rare')\n",
        "  return X_train, X_test\n"
      ],
      "execution_count": 289,
      "outputs": []
    },
    {
      "cell_type": "code",
      "metadata": {
        "id": "cQ0nEWrAzbxZ",
        "colab_type": "code",
        "colab": {}
      },
      "source": [
        "X_train_rare, X_test_rare = new_label_imputation(X_train, X_test, 1, cats)"
      ],
      "execution_count": 290,
      "outputs": []
    },
    {
      "cell_type": "code",
      "metadata": {
        "id": "XKkiQGztzKLK",
        "colab_type": "code",
        "colab": {}
      },
      "source": [
        "label_encoder(X_train_rare, X_test_rare, cats)"
      ],
      "execution_count": 291,
      "outputs": []
    },
    {
      "cell_type": "code",
      "metadata": {
        "id": "2oyAs30YzCMJ",
        "colab_type": "code",
        "colab": {
          "base_uri": "https://localhost:8080/",
          "height": 661
        },
        "outputId": "9c4647e2-9a55-4ed3-f173-5c96709a6df9"
      },
      "source": [
        "sns.set()\n",
        "for i in cats:\n",
        "  fig, ax = plt.subplots(1,2, figsize=(10,5))\n",
        "  sns.distplot(X_train[i], kde=False, ax=ax[0])\n",
        "  sns.distplot(X_train_rare[i], kde=False, ax=ax[1])"
      ],
      "execution_count": 292,
      "outputs": [
        {
          "output_type": "display_data",
          "data": {
            "image/png": "[encoded data removed]",
            "text/plain": [
              "<Figure size 720x360 with 2 Axes>"
            ]
          },
          "metadata": {
            "tags": []
          }
        },
        {
          "output_type": "display_data",
          "data": {
            "image/png": "[encoded data removed]",
            "text/plain": [
              "<Figure size 720x360 with 2 Axes>"
            ]
          },
          "metadata": {
            "tags": []
          }
        }
      ]
    },
    {
      "cell_type": "code",
      "metadata": {
        "id": "SMphyIVtyW-q",
        "colab_type": "code",
        "colab": {}
      },
      "source": [
        "def frequent_imputation(Xtrain, Xtest, threshold, cats):\n",
        "  X_train, X_test = Xtrain.copy(), Xtest.copy()\n",
        "  for col in cats:\n",
        "      rows = len(X_train)\n",
        "      temp_df = pd.Series(100*X_train[col].value_counts() / rows)\n",
        "      nonrares = temp_df[temp_df>=threshold].index # non-rare labels\n",
        "      \n",
        "      frequent_cat = X_train.groupby(col)[col].count().sort_values().tail(1).index.values[0]\n",
        "        \n",
        "      X_train[col] = np.where(Xtrain[col].isin(nonrares), Xtrain[col], frequent_cat)\n",
        "      X_test[col] = np.where(Xtest[col].isin(nonrares), Xtest[col], frequent_cat)\n",
        "\n",
        "  return X_train, X_test"
      ],
      "execution_count": 293,
      "outputs": []
    },
    {
      "cell_type": "code",
      "metadata": {
        "id": "uHHwSQUl1xxq",
        "colab_type": "code",
        "colab": {}
      },
      "source": [
        "X_train_freq, X_test_freq = frequent_imputation(X_train, X_test, 1, cats)"
      ],
      "execution_count": 294,
      "outputs": []
    },
    {
      "cell_type": "code",
      "metadata": {
        "id": "sL_u2ks318Pj",
        "colab_type": "code",
        "colab": {
          "base_uri": "https://localhost:8080/",
          "height": 661
        },
        "outputId": "c5f41c62-2c1d-4528-b6a1-4fee56081b19"
      },
      "source": [
        "sns.set()\n",
        "for i in cats:\n",
        "  fig, ax = plt.subplots(1,2, figsize=(10,5))\n",
        "  sns.distplot(X_train[i], kde=False, ax=ax[0])\n",
        "  sns.distplot(X_train_freq[i], kde=False, ax=ax[1])"
      ],
      "execution_count": 295,
      "outputs": [
        {
          "output_type": "display_data",
          "data": {
            "image/png": "[encoded data removed]",
            "text/plain": [
              "<Figure size 720x360 with 2 Axes>"
            ]
          },
          "metadata": {
            "tags": []
          }
        },
        {
          "output_type": "display_data",
          "data": {
            "image/png": "[encoded data removed]",
            "text/plain": [
              "<Figure size 720x360 with 2 Axes>"
            ]
          },
          "metadata": {
            "tags": []
          }
        }
      ]
    },
    {
      "cell_type": "code",
      "metadata": {
        "id": "LoMzlnkhAkZR",
        "colab_type": "code",
        "colab": {}
      },
      "source": [
        "def classifier(X_train, y_train, X_test, y_test, cols, model):\n",
        "  from sklearn.metrics import accuracy_score\n",
        "  model.fit(X_train[cols],y_train)\n",
        "  y_pred = model.predict(X_test[cols])\n",
        "  y_pred = np.round(y_pred).flatten()\n",
        "  print(accuracy_score(y_test, y_pred))"
      ],
      "execution_count": 296,
      "outputs": []
    },
    {
      "cell_type": "code",
      "metadata": {
        "colab_type": "code",
        "id": "Q6fHdmXlrcRo",
        "colab": {
          "base_uri": "https://localhost:8080/",
          "height": 52
        },
        "outputId": "a7476465-7a87-426b-8c42-f676158f405d"
      },
      "source": [
        "from sklearn.linear_model import LogisticRegression\n",
        "model = LogisticRegression()\n",
        "classifier(X_train_rare, y_train, X_test_rare, y_test, cats, model)\n",
        "classifier(X_train_freq, y_train, X_test_freq, y_test, cats, model)"
      ],
      "execution_count": 297,
      "outputs": [
        {
          "output_type": "stream",
          "text": [
            "0.4134078212290503\n",
            "0.5865921787709497\n"
          ],
          "name": "stdout"
        }
      ]
    },
    {
      "cell_type": "code",
      "metadata": {
        "colab_type": "code",
        "id": "rf2qSlwzrcRs",
        "colab": {
          "base_uri": "https://localhost:8080/",
          "height": 52
        },
        "outputId": "a8fb83cf-4772-43e0-eb42-e0c04a667933"
      },
      "source": [
        "from sklearn.linear_model import RidgeClassifier\n",
        "model = RidgeClassifier()\n",
        "classifier(X_train_rare, y_train, X_test_rare, y_test, cats, model)\n",
        "classifier(X_train_freq, y_train, X_test_freq, y_test, cats, model)"
      ],
      "execution_count": 298,
      "outputs": [
        {
          "output_type": "stream",
          "text": [
            "0.4134078212290503\n",
            "0.5865921787709497\n"
          ],
          "name": "stdout"
        }
      ]
    },
    {
      "cell_type": "code",
      "metadata": {
        "id": "TOUp5GwN9kNV",
        "colab_type": "code",
        "colab": {
          "base_uri": "https://localhost:8080/",
          "height": 52
        },
        "outputId": "e24fa2e6-6a13-41f8-a1b9-420d7807c3e2"
      },
      "source": [
        "from sklearn.linear_model import RidgeClassifierCV\n",
        "model = RidgeClassifierCV()\n",
        "classifier(X_train_rare, y_train, X_test_rare, y_test, cats, model)\n",
        "classifier(X_train_freq, y_train, X_test_freq, y_test, cats, model)"
      ],
      "execution_count": 299,
      "outputs": [
        {
          "output_type": "stream",
          "text": [
            "0.4134078212290503\n",
            "0.5865921787709497\n"
          ],
          "name": "stdout"
        }
      ]
    },
    {
      "cell_type": "code",
      "metadata": {
        "colab_type": "code",
        "id": "2XSmYB49rcRy",
        "colab": {
          "base_uri": "https://localhost:8080/",
          "height": 52
        },
        "outputId": "ba45bc29-6703-4fc5-98e4-bcfaff908251"
      },
      "source": [
        "from sklearn.svm import SVC\n",
        "model = SVC()\n",
        "classifier(X_train_rare, y_train, X_test_rare, y_test, cats, model)\n",
        "classifier(X_train_freq, y_train, X_test_freq, y_test, cats, model)"
      ],
      "execution_count": 300,
      "outputs": [
        {
          "output_type": "stream",
          "text": [
            "0.4134078212290503\n",
            "0.5865921787709497\n"
          ],
          "name": "stdout"
        }
      ]
    },
    {
      "cell_type": "code",
      "metadata": {
        "colab_type": "code",
        "id": "nDWv80igrcR2",
        "colab": {
          "base_uri": "https://localhost:8080/",
          "height": 52
        },
        "outputId": "01f9d901-678b-4a6a-ff15-bb36c07082ea"
      },
      "source": [
        "from sklearn.neural_network import MLPClassifier\n",
        "model = MLPClassifier()\n",
        "classifier(X_train, y_train, X_test, y_test, cats, model)\n",
        "classifier(X_train_freq, y_train, X_test_freq, y_test, cats, model)"
      ],
      "execution_count": 301,
      "outputs": [
        {
          "output_type": "stream",
          "text": [
            "0.6480446927374302\n",
            "0.5865921787709497\n"
          ],
          "name": "stdout"
        }
      ]
    },
    {
      "cell_type": "code",
      "metadata": {
        "colab_type": "code",
        "id": "ZtS9HIE8rcR5",
        "colab": {
          "base_uri": "https://localhost:8080/",
          "height": 121
        },
        "outputId": "cd236ed8-b1e4-4800-9235-17617d3bb72f"
      },
      "source": [
        "from sklearn.svm import LinearSVC\n",
        "model = LinearSVC()\n",
        "classifier(X_train, y_train, X_test, y_test, cats, model)\n",
        "classifier(X_train_freq, y_train, X_test_freq, y_test, cats, model)"
      ],
      "execution_count": 302,
      "outputs": [
        {
          "output_type": "stream",
          "text": [
            "0.4245810055865922\n",
            "0.4134078212290503\n"
          ],
          "name": "stdout"
        },
        {
          "output_type": "stream",
          "text": [
            "/usr/local/lib/python3.6/dist-packages/sklearn/svm/_base.py:947: ConvergenceWarning: Liblinear failed to converge, increase the number of iterations.\n",
            "  \"the number of iterations.\", ConvergenceWarning)\n",
            "/usr/local/lib/python3.6/dist-packages/sklearn/svm/_base.py:947: ConvergenceWarning: Liblinear failed to converge, increase the number of iterations.\n",
            "  \"the number of iterations.\", ConvergenceWarning)\n"
          ],
          "name": "stderr"
        }
      ]
    },
    {
      "cell_type": "code",
      "metadata": {
        "colab_type": "code",
        "id": "nNYoHOujrcR7",
        "colab": {
          "base_uri": "https://localhost:8080/",
          "height": 52
        },
        "outputId": "5b6cda39-f568-4181-80e2-383f3fb43274"
      },
      "source": [
        "from sklearn.ensemble import RandomForestClassifier\n",
        "model = RandomForestClassifier()\n",
        "classifier(X_train, y_train, X_test, y_test, cats, model)\n",
        "classifier(X_train_freq, y_train, X_test_freq, y_test, cats, model)"
      ],
      "execution_count": 303,
      "outputs": [
        {
          "output_type": "stream",
          "text": [
            "0.6871508379888268\n",
            "0.5865921787709497\n"
          ],
          "name": "stdout"
        }
      ]
    },
    {
      "cell_type": "code",
      "metadata": {
        "colab_type": "code",
        "id": "9Uc-0cjMrcR9",
        "colab": {
          "base_uri": "https://localhost:8080/",
          "height": 52
        },
        "outputId": "31389d0f-70a4-47e9-fcd1-400d12995e32"
      },
      "source": [
        "from sklearn.tree import DecisionTreeClassifier\n",
        "model = DecisionTreeClassifier()\n",
        "classifier(X_train, y_train, X_test, y_test, cats, model)\n",
        "classifier(X_train_freq, y_train, X_test_freq, y_test, cats, model)"
      ],
      "execution_count": 304,
      "outputs": [
        {
          "output_type": "stream",
          "text": [
            "0.6871508379888268\n",
            "0.5865921787709497\n"
          ],
          "name": "stdout"
        }
      ]
    },
    {
      "cell_type": "code",
      "metadata": {
        "colab_type": "code",
        "id": "_u07tym7rcR_",
        "colab": {
          "base_uri": "https://localhost:8080/",
          "height": 52
        },
        "outputId": "8b69df09-e167-4c11-ac6e-264ee1850847"
      },
      "source": [
        "from sklearn.linear_model import SGDClassifier\n",
        "model = SGDClassifier()\n",
        "classifier(X_train, y_train, X_test, y_test, cats, model)\n",
        "classifier(X_train_freq, y_train, X_test_freq, y_test, cats, model)"
      ],
      "execution_count": 305,
      "outputs": [
        {
          "output_type": "stream",
          "text": [
            "0.5865921787709497\n",
            "0.5865921787709497\n"
          ],
          "name": "stdout"
        }
      ]
    },
    {
      "cell_type": "code",
      "metadata": {
        "id": "t46nkuDR954o",
        "colab_type": "code",
        "colab": {}
      },
      "source": [
        ""
      ],
      "execution_count": 305,
      "outputs": []
    }
  ]
}