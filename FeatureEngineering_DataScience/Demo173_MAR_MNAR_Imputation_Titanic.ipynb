{
  "nbformat": 4,
  "nbformat_minor": 0,
  "metadata": {
    "kernelspec": {
      "display_name": "Python 3",
      "language": "python",
      "name": "python3"
    },
    "language_info": {
      "codemirror_mode": {
        "name": "ipython",
        "version": 3
      },
      "file_extension": ".py",
      "mimetype": "text/x-python",
      "name": "python",
      "nbconvert_exporter": "python",
      "pygments_lexer": "ipython3",
      "version": "3.6.1"
    },
    "toc": {
      "nav_menu": {},
      "number_sections": true,
      "sideBar": true,
      "skip_h1_title": false,
      "toc_cell": false,
      "toc_position": {
        "height": "556px",
        "left": "0px",
        "right": "1156.4px",
        "top": "107px",
        "width": "278px"
      },
      "toc_section_display": "block",
      "toc_window_display": false
    },
    "colab": {
      "name": "Demo173_MAR_MNAR_Imputation_Titanic.ipynb",
      "provenance": [],
      "collapsed_sections": []
    }
  },
  "cells": [
    {
      "cell_type": "markdown",
      "metadata": {
        "id": "HqZjp_F-E9eC",
        "colab_type": "text"
      },
      "source": [
        "## End of the distribution imputation\n",
        "\n",
        "- If the data isn't missing at random and we do not want to expand the feature space what do we do? \n",
        "\n",
        "- We impute by values that are at the far end of the distribution of the variable\n",
        "\n",
        "### Pros\n",
        "\n",
        "- Easy\n",
        "- Captures MAR MNAR relations\n",
        "\n",
        "### Cons\n",
        "\n",
        "- Distorts distribution \n",
        "- If #ofNA is large, we would mask the real outliers \n",
        "\n",
        "\n"
      ]
    },
    {
      "cell_type": "code",
      "metadata": {
        "id": "-vMX4aOYQjaN",
        "colab_type": "code",
        "colab": {}
      },
      "source": [
        "import pandas as pd\n",
        "import matplotlib.pyplot as plt\n",
        "import seaborn as sns\n",
        "import numpy as np"
      ],
      "execution_count": 143,
      "outputs": []
    },
    {
      "cell_type": "code",
      "metadata": {
        "id": "Ds9gl_oFEATI",
        "colab_type": "code",
        "colab": {
          "base_uri": "https://localhost:8080/",
          "height": 35
        },
        "outputId": "8384b048-3b58-435e-fe74-66ebae3fc6d2"
      },
      "source": [
        "from google.colab import drive\n",
        "drive.mount('/content/gdrive')\n",
        "data = pd.read_csv(\"gdrive/My Drive/Colab Notebooks/FeatureEngineering/train.csv\")\n"
      ],
      "execution_count": 144,
      "outputs": [
        {
          "output_type": "stream",
          "text": [
            "Drive already mounted at /content/gdrive; to attempt to forcibly remount, call drive.mount(\"/content/gdrive\", force_remount=True).\n"
          ],
          "name": "stdout"
        }
      ]
    },
    {
      "cell_type": "markdown",
      "metadata": {
        "id": "07sOx5ehE9eJ",
        "colab_type": "text"
      },
      "source": [
        "## Titanic"
      ]
    },
    {
      "cell_type": "code",
      "metadata": {
        "id": "OQY6ztbsE9eK",
        "colab_type": "code",
        "colab": {
          "base_uri": "https://localhost:8080/",
          "height": 202
        },
        "outputId": "80d7bfd4-88f3-48e6-df9b-d3a78fe892d3"
      },
      "source": [
        "data = data[['Age', 'Fare','Survived']]\n",
        "data.head()"
      ],
      "execution_count": 146,
      "outputs": [
        {
          "output_type": "execute_result",
          "data": {
            "text/html": [
              "<div>\n",
              "<style scoped>\n",
              "    .dataframe tbody tr th:only-of-type {\n",
              "        vertical-align: middle;\n",
              "    }\n",
              "\n",
              "    .dataframe tbody tr th {\n",
              "        vertical-align: top;\n",
              "    }\n",
              "\n",
              "    .dataframe thead th {\n",
              "        text-align: right;\n",
              "    }\n",
              "</style>\n",
              "<table border=\"1\" class=\"dataframe\">\n",
              "  <thead>\n",
              "    <tr style=\"text-align: right;\">\n",
              "      <th></th>\n",
              "      <th>Age</th>\n",
              "      <th>Fare</th>\n",
              "      <th>Survived</th>\n",
              "    </tr>\n",
              "  </thead>\n",
              "  <tbody>\n",
              "    <tr>\n",
              "      <th>0</th>\n",
              "      <td>22.0</td>\n",
              "      <td>7.2500</td>\n",
              "      <td>0</td>\n",
              "    </tr>\n",
              "    <tr>\n",
              "      <th>1</th>\n",
              "      <td>38.0</td>\n",
              "      <td>71.2833</td>\n",
              "      <td>1</td>\n",
              "    </tr>\n",
              "    <tr>\n",
              "      <th>2</th>\n",
              "      <td>26.0</td>\n",
              "      <td>7.9250</td>\n",
              "      <td>1</td>\n",
              "    </tr>\n",
              "    <tr>\n",
              "      <th>3</th>\n",
              "      <td>35.0</td>\n",
              "      <td>53.1000</td>\n",
              "      <td>1</td>\n",
              "    </tr>\n",
              "    <tr>\n",
              "      <th>4</th>\n",
              "      <td>35.0</td>\n",
              "      <td>8.0500</td>\n",
              "      <td>0</td>\n",
              "    </tr>\n",
              "  </tbody>\n",
              "</table>\n",
              "</div>"
            ],
            "text/plain": [
              "    Age     Fare  Survived\n",
              "0  22.0   7.2500         0\n",
              "1  38.0  71.2833         1\n",
              "2  26.0   7.9250         1\n",
              "3  35.0  53.1000         1\n",
              "4  35.0   8.0500         0"
            ]
          },
          "metadata": {
            "tags": []
          },
          "execution_count": 146
        }
      ]
    },
    {
      "cell_type": "code",
      "metadata": {
        "id": "fv-7VBtDE9eO",
        "colab_type": "code",
        "colab": {
          "base_uri": "https://localhost:8080/",
          "height": 87
        },
        "outputId": "3cd80b06-28ed-4795-c8cd-fc8a167e6059"
      },
      "source": [
        "data.isnull().mean()"
      ],
      "execution_count": 147,
      "outputs": [
        {
          "output_type": "execute_result",
          "data": {
            "text/plain": [
              "Age         0.198653\n",
              "Fare        0.000000\n",
              "Survived    0.000000\n",
              "dtype: float64"
            ]
          },
          "metadata": {
            "tags": []
          },
          "execution_count": 147
        }
      ]
    },
    {
      "cell_type": "code",
      "metadata": {
        "id": "iiSci5I4E9eR",
        "colab_type": "code",
        "colab": {
          "base_uri": "https://localhost:8080/",
          "height": 35
        },
        "outputId": "a1a86cda-5a0d-40d5-a0d5-2314929dd1d9"
      },
      "source": [
        "from sklearn.model_selection import train_test_split\n",
        "X_train, X_test, y_train, y_test = train_test_split(data[['Age', 'Fare']], data['Survived'], test_size=0.2)\n",
        "X_train.shape, X_test.shape"
      ],
      "execution_count": 148,
      "outputs": [
        {
          "output_type": "execute_result",
          "data": {
            "text/plain": [
              "((712, 2), (179, 2))"
            ]
          },
          "metadata": {
            "tags": []
          },
          "execution_count": 148
        }
      ]
    },
    {
      "cell_type": "code",
      "metadata": {
        "id": "mJmlMFCsYnCd",
        "colab_type": "code",
        "colab": {
          "base_uri": "https://localhost:8080/",
          "height": 35
        },
        "outputId": "37e44ab7-7063-4920-b0e9-c060a6628a76"
      },
      "source": [
        "X_train.shape, X_test.shape"
      ],
      "execution_count": 149,
      "outputs": [
        {
          "output_type": "execute_result",
          "data": {
            "text/plain": [
              "((712, 2), (179, 2))"
            ]
          },
          "metadata": {
            "tags": []
          },
          "execution_count": 149
        }
      ]
    },
    {
      "cell_type": "code",
      "metadata": {
        "id": "d-1wb3M5YpB7",
        "colab_type": "code",
        "colab": {
          "base_uri": "https://localhost:8080/",
          "height": 35
        },
        "outputId": "f3101ec4-75a4-49cd-8809-521b0a7bb0eb"
      },
      "source": [
        "X_train.columns"
      ],
      "execution_count": 150,
      "outputs": [
        {
          "output_type": "execute_result",
          "data": {
            "text/plain": [
              "Index(['Age', 'Fare'], dtype='object')"
            ]
          },
          "metadata": {
            "tags": []
          },
          "execution_count": 150
        }
      ]
    },
    {
      "cell_type": "code",
      "metadata": {
        "id": "mgJSQBBT-iPM",
        "colab_type": "code",
        "colab": {
          "base_uri": "https://localhost:8080/",
          "height": 297
        },
        "outputId": "fdecc574-10c6-4784-b58d-96dfda692d0b"
      },
      "source": [
        "sns.distplot(X_train['Age'])"
      ],
      "execution_count": 151,
      "outputs": [
        {
          "output_type": "execute_result",
          "data": {
            "text/plain": [
              "<matplotlib.axes._subplots.AxesSubplot at 0x7f2c69eca588>"
            ]
          },
          "metadata": {
            "tags": []
          },
          "execution_count": 151
        },
        {
          "output_type": "display_data",
          "data": {
            "image/png": "[encoded data removed]",
            "text/plain": [
              "<Figure size 432x288 with 1 Axes>"
            ]
          },
          "metadata": {
            "tags": [],
            "needs_background": "light"
          }
        }
      ]
    },
    {
      "cell_type": "code",
      "metadata": {
        "id": "j08xpbjYE9eX",
        "colab_type": "code",
        "colab": {}
      },
      "source": [
        "def impute(df, column, dft):\n",
        "    df_temp = df.copy()\n",
        "    df_temp[column] = df_temp[column].fillna(dft[column].mean()+3*dft[column].std())\n",
        "    return df_temp.values\n",
        "  "
      ],
      "execution_count": 157,
      "outputs": []
    },
    {
      "cell_type": "code",
      "metadata": {
        "id": "LyCMUThakjIZ",
        "colab_type": "code",
        "colab": {}
      },
      "source": [
        "X_train_0 = impute(X_train, 'Age', X_train)\n",
        "X_test_0 = impute(X_test, 'Age', X_train)"
      ],
      "execution_count": 158,
      "outputs": []
    },
    {
      "cell_type": "code",
      "metadata": {
        "id": "3CJpebxW_tky",
        "colab_type": "code",
        "colab": {
          "base_uri": "https://localhost:8080/",
          "height": 405
        },
        "outputId": "c22a367f-9f83-4ca7-ff3f-7e3ffd43023e"
      },
      "source": [
        "fig, ax = plt.subplots(1,2, figsize=(15,6))\n",
        "sns.distplot(X_train['Age'], ax = ax[0], color='blue')\n",
        "sns.distplot(X_train_0[:,0], ax = ax[1], color='red')"
      ],
      "execution_count": 162,
      "outputs": [
        {
          "output_type": "execute_result",
          "data": {
            "text/plain": [
              "<matplotlib.axes._subplots.AxesSubplot at 0x7f2c69da6ef0>"
            ]
          },
          "metadata": {
            "tags": []
          },
          "execution_count": 162
        },
        {
          "output_type": "display_data",
          "data": {
            "image/png": "[encoded data removed]",
            "text/plain": [
              "<Figure size 1080x432 with 2 Axes>"
            ]
          },
          "metadata": {
            "tags": [],
            "needs_background": "light"
          }
        }
      ]
    },
    {
      "cell_type": "code",
      "metadata": {
        "colab_type": "code",
        "id": "-gYAFiVTBVs_",
        "colab": {}
      },
      "source": [
        "from sklearn.impute import SimpleImputer\n",
        "obj = SimpleImputer(missing_values = np.nan, strategy= 'mean')\n",
        "X_train_mean = obj.fit_transform(X_train)\n",
        "X_test_mean = obj.transform(X_test)"
      ],
      "execution_count": 163,
      "outputs": []
    },
    {
      "cell_type": "code",
      "metadata": {
        "colab_type": "code",
        "id": "IkHw3hgMBVtC",
        "colab": {
          "base_uri": "https://localhost:8080/",
          "height": 623
        },
        "outputId": "1f2949dc-1e16-4e9e-c599-534d85da823d"
      },
      "source": [
        "fig, ax = plt.subplots(1,2, figsize=(10,10))\n",
        "sns.distplot(X_train['Age'], ax = ax[0], color='blue')\n",
        "sns.distplot(X_train_mean[:,0], ax = ax[1], color='red')"
      ],
      "execution_count": 164,
      "outputs": [
        {
          "output_type": "execute_result",
          "data": {
            "text/plain": [
              "<matplotlib.axes._subplots.AxesSubplot at 0x7f2c69b3ea90>"
            ]
          },
          "metadata": {
            "tags": []
          },
          "execution_count": 164
        },
        {
          "output_type": "display_data",
          "data": {
            "image/png": "[encoded data removed]",
            "text/plain": [
              "<Figure size 720x720 with 2 Axes>"
            ]
          },
          "metadata": {
            "tags": [],
            "needs_background": "light"
          }
        }
      ]
    },
    {
      "cell_type": "code",
      "metadata": {
        "colab_type": "code",
        "id": "GHgTIAa7BdiA",
        "colab": {}
      },
      "source": [
        "from sklearn.impute import SimpleImputer\n",
        "obj = SimpleImputer(missing_values = np.nan, strategy= 'median')\n",
        "X_train_median = obj.fit_transform(X_train)\n",
        "X_test_median = obj.transform(X_test)"
      ],
      "execution_count": 165,
      "outputs": []
    },
    {
      "cell_type": "code",
      "metadata": {
        "colab_type": "code",
        "id": "EtYvirMIBdiF",
        "colab": {
          "base_uri": "https://localhost:8080/",
          "height": 623
        },
        "outputId": "dea200c6-a543-4cd3-97ed-4c64cb18d085"
      },
      "source": [
        "fig, ax = plt.subplots(1,2, figsize=(10,10))\n",
        "sns.distplot(X_train['Age'], ax = ax[0], color='blue')\n",
        "sns.distplot(X_train_median[:,0], ax = ax[1], color='red')"
      ],
      "execution_count": 166,
      "outputs": [
        {
          "output_type": "execute_result",
          "data": {
            "text/plain": [
              "<matplotlib.axes._subplots.AxesSubplot at 0x7f2c699f3668>"
            ]
          },
          "metadata": {
            "tags": []
          },
          "execution_count": 166
        },
        {
          "output_type": "display_data",
          "data": {
            "image/png": "[encoded data removed]",
            "text/plain": [
              "<Figure size 720x720 with 2 Axes>"
            ]
          },
          "metadata": {
            "tags": [],
            "needs_background": "light"
          }
        }
      ]
    },
    {
      "cell_type": "code",
      "metadata": {
        "colab_type": "code",
        "id": "0kp8ZIH8BoVK",
        "colab": {}
      },
      "source": [
        "from sklearn.impute import SimpleImputer\n",
        "obj = SimpleImputer(missing_values = np.nan, strategy= 'most_frequent')\n",
        "X_train_mode = obj.fit_transform(X_train)\n",
        "X_test_mode = obj.transform(X_test)"
      ],
      "execution_count": 167,
      "outputs": []
    },
    {
      "cell_type": "code",
      "metadata": {
        "colab_type": "code",
        "id": "bLL2F8XABoVM",
        "colab": {
          "base_uri": "https://localhost:8080/",
          "height": 623
        },
        "outputId": "68c2cc1e-b459-4dd5-ce8a-ef92cc016e37"
      },
      "source": [
        "fig, ax = plt.subplots(1,2, figsize=(10,10))\n",
        "sns.distplot(X_train['Age'], ax = ax[0], color='blue')\n",
        "sns.distplot(X_train_mode[:,0], ax = ax[1], color='red')"
      ],
      "execution_count": 168,
      "outputs": [
        {
          "output_type": "execute_result",
          "data": {
            "text/plain": [
              "<matplotlib.axes._subplots.AxesSubplot at 0x7f2c698ab2b0>"
            ]
          },
          "metadata": {
            "tags": []
          },
          "execution_count": 168
        },
        {
          "output_type": "display_data",
          "data": {
            "image/png": "[encoded data removed]",
            "text/plain": [
              "<Figure size 720x720 with 2 Axes>"
            ]
          },
          "metadata": {
            "tags": [],
            "needs_background": "light"
          }
        }
      ]
    },
    {
      "cell_type": "code",
      "metadata": {
        "id": "Bk4UxINwE9ef",
        "colab_type": "code",
        "colab": {
          "base_uri": "https://localhost:8080/",
          "height": 104
        },
        "outputId": "a2dcd672-5b1c-4269-fa14-7c9026714ac3"
      },
      "source": [
        "print('Std original: ', X_train['Age'].std())\n",
        "print('Std 0: ', X_train_0[:,0].std())\n",
        "print('Std mean: ', X_train_mean[:,0].std())\n",
        "print('Std median: ', X_train_median[:,0].std())\n",
        "print('Std mode: ', X_train_mode[:,0].std())"
      ],
      "execution_count": 169,
      "outputs": [
        {
          "output_type": "stream",
          "text": [
            "Std original:  14.53783432285693\n",
            "Std 0:  21.858119115779775\n",
            "Std mean:  12.950422650544212\n",
            "Std median:  12.962487310771373\n",
            "Std mode:  13.74197270886978\n"
          ],
          "name": "stdout"
        }
      ]
    },
    {
      "cell_type": "markdown",
      "metadata": {
        "id": "-nrFF8GkE9em",
        "colab_type": "text"
      },
      "source": [
        "### Model performance "
      ]
    },
    {
      "cell_type": "code",
      "metadata": {
        "id": "tJ-qLsRuCmlV",
        "colab_type": "code",
        "colab": {}
      },
      "source": [
        "from sklearn.metrics import accuracy_score"
      ],
      "execution_count": 170,
      "outputs": []
    },
    {
      "cell_type": "code",
      "metadata": {
        "id": "tsRG3K5l8t_J",
        "colab_type": "code",
        "colab": {
          "base_uri": "https://localhost:8080/",
          "height": 87
        },
        "outputId": "be619277-6c57-4396-eefb-ada705276d8f"
      },
      "source": [
        "from sklearn.linear_model import LogisticRegression\n",
        "classifier = LogisticRegression()\n",
        "classifier.fit(X_train_0,y_train)\n",
        "y_pred = classifier.predict(X_test_0)\n",
        "y_pred = np.round(y_pred).flatten()\n",
        "print(accuracy_score(y_test, y_pred))\n",
        "\n",
        "classifier.fit(X_train_mean,y_train)\n",
        "y_pred = classifier.predict(X_test_mean)\n",
        "y_pred = np.round(y_pred).flatten()\n",
        "print(accuracy_score(y_test, y_pred))\n",
        "\n",
        "classifier.fit(X_train_median,y_train)\n",
        "y_pred = classifier.predict(X_test_median)\n",
        "y_pred = np.round(y_pred).flatten()\n",
        "print(accuracy_score(y_test, y_pred))\n",
        "\n",
        "classifier.fit(X_train_mode,y_train)\n",
        "y_pred = classifier.predict(X_test_mode)\n",
        "y_pred = np.round(y_pred).flatten()\n",
        "print(accuracy_score(y_test, y_pred))"
      ],
      "execution_count": 171,
      "outputs": [
        {
          "output_type": "stream",
          "text": [
            "0.6983240223463687\n",
            "0.6927374301675978\n",
            "0.6871508379888268\n",
            "0.6815642458100558\n"
          ],
          "name": "stdout"
        }
      ]
    },
    {
      "cell_type": "code",
      "metadata": {
        "id": "2HgLWOz-9Uda",
        "colab_type": "code",
        "colab": {
          "base_uri": "https://localhost:8080/",
          "height": 87
        },
        "outputId": "fa77ddd7-5067-428b-dd71-13ad357dc3c4"
      },
      "source": [
        "from sklearn.linear_model import RidgeClassifierCV\n",
        "classifier = RidgeClassifierCV()\n",
        "classifier.fit(X_train_0,y_train)\n",
        "y_pred = classifier.predict(X_test_0)\n",
        "y_pred = np.round(y_pred).flatten()\n",
        "print(accuracy_score(y_test, y_pred))\n",
        "\n",
        "classifier.fit(X_train_mean,y_train)\n",
        "y_pred = classifier.predict(X_test_mean)\n",
        "y_pred = np.round(y_pred).flatten()\n",
        "print(accuracy_score(y_test, y_pred))\n",
        "\n",
        "classifier.fit(X_train_median,y_train)\n",
        "y_pred = classifier.predict(X_test_median)\n",
        "y_pred = np.round(y_pred).flatten()\n",
        "print(accuracy_score(y_test, y_pred))\n",
        "\n",
        "classifier.fit(X_train_mode,y_train)\n",
        "y_pred = classifier.predict(X_test_mode)\n",
        "y_pred = np.round(y_pred).flatten()\n",
        "print(accuracy_score(y_test, y_pred))"
      ],
      "execution_count": 172,
      "outputs": [
        {
          "output_type": "stream",
          "text": [
            "0.6759776536312849\n",
            "0.6703910614525139\n",
            "0.6703910614525139\n",
            "0.6703910614525139\n"
          ],
          "name": "stdout"
        }
      ]
    },
    {
      "cell_type": "code",
      "metadata": {
        "id": "gS9bIfAB9eKW",
        "colab_type": "code",
        "colab": {
          "base_uri": "https://localhost:8080/",
          "height": 87
        },
        "outputId": "77571fea-539a-45e9-e831-79c87509d0ef"
      },
      "source": [
        "from sklearn.linear_model import RidgeClassifierCV\n",
        "classifier = RidgeClassifierCV()\n",
        "classifier.fit(X_train_0,y_train)\n",
        "y_pred = classifier.predict(X_test_0)\n",
        "y_pred = np.round(y_pred).flatten()\n",
        "print(accuracy_score(y_test, y_pred))\n",
        "\n",
        "classifier.fit(X_train_mean,y_train)\n",
        "y_pred = classifier.predict(X_test_mean)\n",
        "y_pred = np.round(y_pred).flatten()\n",
        "print(accuracy_score(y_test, y_pred))\n",
        "\n",
        "classifier.fit(X_train_median,y_train)\n",
        "y_pred = classifier.predict(X_test_median)\n",
        "y_pred = np.round(y_pred).flatten()\n",
        "print(accuracy_score(y_test, y_pred))\n",
        "\n",
        "classifier.fit(X_train_mode,y_train)\n",
        "y_pred = classifier.predict(X_test_mode)\n",
        "y_pred = np.round(y_pred).flatten()\n",
        "print(accuracy_score(y_test, y_pred))"
      ],
      "execution_count": 173,
      "outputs": [
        {
          "output_type": "stream",
          "text": [
            "0.6759776536312849\n",
            "0.6703910614525139\n",
            "0.6703910614525139\n",
            "0.6703910614525139\n"
          ],
          "name": "stdout"
        }
      ]
    },
    {
      "cell_type": "code",
      "metadata": {
        "id": "bZLwAZRI9vl3",
        "colab_type": "code",
        "colab": {
          "base_uri": "https://localhost:8080/",
          "height": 87
        },
        "outputId": "158d963c-d975-44b3-a8fa-5e1686a3e063"
      },
      "source": [
        "from sklearn.svm import SVC\n",
        "classifier = SVC()\n",
        "classifier.fit(X_train_0,y_train)\n",
        "y_pred = classifier.predict(X_test_0)\n",
        "y_pred = np.round(y_pred).flatten()\n",
        "print(accuracy_score(y_test, y_pred))\n",
        "\n",
        "classifier.fit(X_train_mean,y_train)\n",
        "y_pred = classifier.predict(X_test_mean)\n",
        "y_pred = np.round(y_pred).flatten()\n",
        "print(accuracy_score(y_test, y_pred))\n",
        "\n",
        "classifier.fit(X_train_median,y_train)\n",
        "y_pred = classifier.predict(X_test_median)\n",
        "y_pred = np.round(y_pred).flatten()\n",
        "print(accuracy_score(y_test, y_pred))\n",
        "\n",
        "classifier.fit(X_train_mode,y_train)\n",
        "y_pred = classifier.predict(X_test_mode)\n",
        "y_pred = np.round(y_pred).flatten()\n",
        "print(accuracy_score(y_test, y_pred))"
      ],
      "execution_count": 174,
      "outputs": [
        {
          "output_type": "stream",
          "text": [
            "0.7206703910614525\n",
            "0.6759776536312849\n",
            "0.6759776536312849\n",
            "0.6815642458100558\n"
          ],
          "name": "stdout"
        }
      ]
    },
    {
      "cell_type": "code",
      "metadata": {
        "id": "RO5oc4UJ9ykm",
        "colab_type": "code",
        "colab": {
          "base_uri": "https://localhost:8080/",
          "height": 87
        },
        "outputId": "44b94e51-cb66-4f7a-9a56-240e815b545e"
      },
      "source": [
        "from sklearn.neural_network import MLPClassifier\n",
        "classifier = MLPClassifier()\n",
        "classifier.fit(X_train_0,y_train)\n",
        "y_pred = classifier.predict(X_test_0)\n",
        "y_pred = np.round(y_pred).flatten()\n",
        "print(accuracy_score(y_test, y_pred))\n",
        "\n",
        "classifier.fit(X_train_mean,y_train)\n",
        "y_pred = classifier.predict(X_test_mean)\n",
        "y_pred = np.round(y_pred).flatten()\n",
        "print(accuracy_score(y_test, y_pred))\n",
        "\n",
        "classifier.fit(X_train_median,y_train)\n",
        "y_pred = classifier.predict(X_test_median)\n",
        "y_pred = np.round(y_pred).flatten()\n",
        "print(accuracy_score(y_test, y_pred))\n",
        "\n",
        "classifier.fit(X_train_mode,y_train)\n",
        "y_pred = classifier.predict(X_test_mode)\n",
        "y_pred = np.round(y_pred).flatten()\n",
        "print(accuracy_score(y_test, y_pred))"
      ],
      "execution_count": 175,
      "outputs": [
        {
          "output_type": "stream",
          "text": [
            "0.7206703910614525\n",
            "0.7206703910614525\n",
            "0.7039106145251397\n",
            "0.6871508379888268\n"
          ],
          "name": "stdout"
        }
      ]
    },
    {
      "cell_type": "code",
      "metadata": {
        "id": "RFKVucj790aA",
        "colab_type": "code",
        "colab": {
          "base_uri": "https://localhost:8080/",
          "height": 225
        },
        "outputId": "5c801412-0ae0-47cb-c2ab-c5f42008e4b3"
      },
      "source": [
        "from sklearn.svm import LinearSVC\n",
        "classifier = LinearSVC()\n",
        "classifier.fit(X_train_0,y_train)\n",
        "y_pred = classifier.predict(X_test_0)\n",
        "y_pred = np.round(y_pred).flatten()\n",
        "print(accuracy_score(y_test, y_pred))\n",
        "\n",
        "classifier.fit(X_train_mean,y_train)\n",
        "y_pred = classifier.predict(X_test_mean)\n",
        "y_pred = np.round(y_pred).flatten()\n",
        "print(accuracy_score(y_test, y_pred))\n",
        "\n",
        "classifier.fit(X_train_median,y_train)\n",
        "y_pred = classifier.predict(X_test_median)\n",
        "y_pred = np.round(y_pred).flatten()\n",
        "print(accuracy_score(y_test, y_pred))\n",
        "\n",
        "classifier.fit(X_train_mode,y_train)\n",
        "y_pred = classifier.predict(X_test_mode)\n",
        "y_pred = np.round(y_pred).flatten()\n",
        "print(accuracy_score(y_test, y_pred))"
      ],
      "execution_count": 176,
      "outputs": [
        {
          "output_type": "stream",
          "text": [
            "0.36312849162011174\n",
            "0.6480446927374302\n",
            "0.7150837988826816\n",
            "0.659217877094972\n"
          ],
          "name": "stdout"
        },
        {
          "output_type": "stream",
          "text": [
            "/usr/local/lib/python3.6/dist-packages/sklearn/svm/_base.py:977: ConvergenceWarning: Liblinear failed to converge, increase the number of iterations.\n",
            "  \"the number of iterations.\", ConvergenceWarning)\n",
            "/usr/local/lib/python3.6/dist-packages/sklearn/svm/_base.py:977: ConvergenceWarning: Liblinear failed to converge, increase the number of iterations.\n",
            "  \"the number of iterations.\", ConvergenceWarning)\n",
            "/usr/local/lib/python3.6/dist-packages/sklearn/svm/_base.py:977: ConvergenceWarning: Liblinear failed to converge, increase the number of iterations.\n",
            "  \"the number of iterations.\", ConvergenceWarning)\n",
            "/usr/local/lib/python3.6/dist-packages/sklearn/svm/_base.py:977: ConvergenceWarning: Liblinear failed to converge, increase the number of iterations.\n",
            "  \"the number of iterations.\", ConvergenceWarning)\n"
          ],
          "name": "stderr"
        }
      ]
    },
    {
      "cell_type": "code",
      "metadata": {
        "id": "wgb5-ZI19274",
        "colab_type": "code",
        "colab": {
          "base_uri": "https://localhost:8080/",
          "height": 87
        },
        "outputId": "1f94e07a-c374-4eb6-ef79-fece213ec391"
      },
      "source": [
        "from sklearn.ensemble import RandomForestClassifier\n",
        "classifier = RandomForestClassifier()\n",
        "classifier.fit(X_train_0,y_train)\n",
        "y_pred = classifier.predict(X_test_0)\n",
        "y_pred = np.round(y_pred).flatten()\n",
        "print(accuracy_score(y_test, y_pred))\n",
        "\n",
        "classifier.fit(X_train_mean,y_train)\n",
        "y_pred = classifier.predict(X_test_mean)\n",
        "y_pred = np.round(y_pred).flatten()\n",
        "print(accuracy_score(y_test, y_pred))\n",
        "\n",
        "classifier.fit(X_train_median,y_train)\n",
        "y_pred = classifier.predict(X_test_median)\n",
        "y_pred = np.round(y_pred).flatten()\n",
        "print(accuracy_score(y_test, y_pred))\n",
        "\n",
        "classifier.fit(X_train_mode,y_train)\n",
        "y_pred = classifier.predict(X_test_mode)\n",
        "y_pred = np.round(y_pred).flatten()\n",
        "print(accuracy_score(y_test, y_pred))"
      ],
      "execution_count": 177,
      "outputs": [
        {
          "output_type": "stream",
          "text": [
            "0.6983240223463687\n",
            "0.7094972067039106\n",
            "0.6927374301675978\n",
            "0.6927374301675978\n"
          ],
          "name": "stdout"
        }
      ]
    },
    {
      "cell_type": "code",
      "metadata": {
        "id": "hrF5V_7_94hA",
        "colab_type": "code",
        "colab": {
          "base_uri": "https://localhost:8080/",
          "height": 87
        },
        "outputId": "7b49e435-9bc6-46be-981d-14ee0e9a5244"
      },
      "source": [
        "from sklearn.tree import DecisionTreeClassifier\n",
        "classifier = DecisionTreeClassifier()\n",
        "classifier.fit(X_train_0,y_train)\n",
        "y_pred = classifier.predict(X_test_0)\n",
        "y_pred = np.round(y_pred).flatten()\n",
        "print(accuracy_score(y_test, y_pred))\n",
        "\n",
        "classifier.fit(X_train_mean,y_train)\n",
        "y_pred = classifier.predict(X_test_mean)\n",
        "y_pred = np.round(y_pred).flatten()\n",
        "print(accuracy_score(y_test, y_pred))\n",
        "\n",
        "classifier.fit(X_train_median,y_train)\n",
        "y_pred = classifier.predict(X_test_median)\n",
        "y_pred = np.round(y_pred).flatten()\n",
        "print(accuracy_score(y_test, y_pred))\n",
        "\n",
        "classifier.fit(X_train_mode,y_train)\n",
        "y_pred = classifier.predict(X_test_mode)\n",
        "y_pred = np.round(y_pred).flatten()\n",
        "print(accuracy_score(y_test, y_pred))"
      ],
      "execution_count": 178,
      "outputs": [
        {
          "output_type": "stream",
          "text": [
            "0.659217877094972\n",
            "0.6480446927374302\n",
            "0.6033519553072626\n",
            "0.6368715083798883\n"
          ],
          "name": "stdout"
        }
      ]
    },
    {
      "cell_type": "code",
      "metadata": {
        "id": "0M4ySoHj97e5",
        "colab_type": "code",
        "colab": {
          "base_uri": "https://localhost:8080/",
          "height": 87
        },
        "outputId": "b953f3bc-57a8-466f-dfca-ebf7434b7946"
      },
      "source": [
        "from sklearn.ensemble import GradientBoostingClassifier\n",
        "classifier = GradientBoostingClassifier()\n",
        "classifier.fit(X_train_0,y_train)\n",
        "y_pred = classifier.predict(X_test_0)\n",
        "y_pred = np.round(y_pred).flatten()\n",
        "print(accuracy_score(y_test, y_pred))\n",
        "\n",
        "classifier.fit(X_train_mean,y_train)\n",
        "y_pred = classifier.predict(X_test_mean)\n",
        "y_pred = np.round(y_pred).flatten()\n",
        "print(accuracy_score(y_test, y_pred))\n",
        "\n",
        "classifier.fit(X_train_median,y_train)\n",
        "y_pred = classifier.predict(X_test_median)\n",
        "y_pred = np.round(y_pred).flatten()\n",
        "print(accuracy_score(y_test, y_pred))\n",
        "\n",
        "classifier.fit(X_train_mode,y_train)\n",
        "y_pred = classifier.predict(X_test_mode)\n",
        "y_pred = np.round(y_pred).flatten()\n",
        "print(accuracy_score(y_test, y_pred))"
      ],
      "execution_count": 179,
      "outputs": [
        {
          "output_type": "stream",
          "text": [
            "0.6983240223463687\n",
            "0.7206703910614525\n",
            "0.7150837988826816\n",
            "0.7094972067039106\n"
          ],
          "name": "stdout"
        }
      ]
    },
    {
      "cell_type": "code",
      "metadata": {
        "id": "UpVGb0-p991g",
        "colab_type": "code",
        "colab": {
          "base_uri": "https://localhost:8080/",
          "height": 87
        },
        "outputId": "2419b015-6a9f-420a-da45-b60b94ba2612"
      },
      "source": [
        "from sklearn.linear_model import SGDClassifier\n",
        "classifier = SGDClassifier()\n",
        "classifier.fit(X_train_0,y_train)\n",
        "y_pred = classifier.predict(X_test_0)\n",
        "y_pred = np.round(y_pred).flatten()\n",
        "print(accuracy_score(y_test, y_pred))\n",
        "\n",
        "classifier.fit(X_train_mean,y_train)\n",
        "y_pred = classifier.predict(X_test_mean)\n",
        "y_pred = np.round(y_pred).flatten()\n",
        "print(accuracy_score(y_test, y_pred))\n",
        "\n",
        "classifier.fit(X_train_median,y_train)\n",
        "y_pred = classifier.predict(X_test_median)\n",
        "y_pred = np.round(y_pred).flatten()\n",
        "print(accuracy_score(y_test, y_pred))\n",
        "\n",
        "classifier.fit(X_train_mode,y_train)\n",
        "y_pred = classifier.predict(X_test_mode)\n",
        "y_pred = np.round(y_pred).flatten()\n",
        "print(accuracy_score(y_test, y_pred))"
      ],
      "execution_count": 180,
      "outputs": [
        {
          "output_type": "stream",
          "text": [
            "0.35195530726256985\n",
            "0.6480446927374302\n",
            "0.7206703910614525\n",
            "0.5865921787709497\n"
          ],
          "name": "stdout"
        }
      ]
    },
    {
      "cell_type": "code",
      "metadata": {
        "id": "nrl2BNRA9_mm",
        "colab_type": "code",
        "colab": {
          "base_uri": "https://localhost:8080/",
          "height": 87
        },
        "outputId": "a8a25726-ef0c-459d-a655-fdd68316e7da"
      },
      "source": [
        "from sklearn.linear_model import Perceptron\n",
        "classifier = Perceptron()\n",
        "classifier.fit(X_train_0,y_train)\n",
        "y_pred = classifier.predict(X_test_0)\n",
        "y_pred = np.round(y_pred).flatten()\n",
        "print(accuracy_score(y_test, y_pred))\n",
        "\n",
        "classifier.fit(X_train_mean,y_train)\n",
        "y_pred = classifier.predict(X_test_mean)\n",
        "y_pred = np.round(y_pred).flatten()\n",
        "print(accuracy_score(y_test, y_pred))\n",
        "\n",
        "classifier.fit(X_train_median,y_train)\n",
        "y_pred = classifier.predict(X_test_median)\n",
        "y_pred = np.round(y_pred).flatten()\n",
        "print(accuracy_score(y_test, y_pred))\n",
        "\n",
        "classifier.fit(X_train_mode,y_train)\n",
        "y_pred = classifier.predict(X_test_mode)\n",
        "y_pred = np.round(y_pred).flatten()\n",
        "print(accuracy_score(y_test, y_pred))"
      ],
      "execution_count": 181,
      "outputs": [
        {
          "output_type": "stream",
          "text": [
            "0.7262569832402235\n",
            "0.7039106145251397\n",
            "0.6480446927374302\n",
            "0.6089385474860335\n"
          ],
          "name": "stdout"
        }
      ]
    },
    {
      "cell_type": "code",
      "metadata": {
        "id": "L6SQhWSk-Btx",
        "colab_type": "code",
        "colab": {
          "base_uri": "https://localhost:8080/",
          "height": 87
        },
        "outputId": "acfe17b5-d31d-42fe-f032-a2bffd3ec293"
      },
      "source": [
        "from sklearn.naive_bayes import GaussianNB\n",
        "classifier = GaussianNB()\n",
        "classifier.fit(X_train_0,y_train)\n",
        "y_pred = classifier.predict(X_test_0)\n",
        "y_pred = np.round(y_pred).flatten()\n",
        "print(accuracy_score(y_test, y_pred))\n",
        "\n",
        "classifier.fit(X_train_mean,y_train)\n",
        "y_pred = classifier.predict(X_test_mean)\n",
        "y_pred = np.round(y_pred).flatten()\n",
        "print(accuracy_score(y_test, y_pred))\n",
        "\n",
        "classifier.fit(X_train_median,y_train)\n",
        "y_pred = classifier.predict(X_test_median)\n",
        "y_pred = np.round(y_pred).flatten()\n",
        "print(accuracy_score(y_test, y_pred))\n",
        "\n",
        "classifier.fit(X_train_mode,y_train)\n",
        "y_pred = classifier.predict(X_test_mode)\n",
        "y_pred = np.round(y_pred).flatten()\n",
        "print(accuracy_score(y_test, y_pred))"
      ],
      "execution_count": 182,
      "outputs": [
        {
          "output_type": "stream",
          "text": [
            "0.664804469273743\n",
            "0.659217877094972\n",
            "0.659217877094972\n",
            "0.664804469273743\n"
          ],
          "name": "stdout"
        }
      ]
    },
    {
      "cell_type": "code",
      "metadata": {
        "id": "Ty-k4q1L-Ew-",
        "colab_type": "code",
        "colab": {
          "base_uri": "https://localhost:8080/",
          "height": 87
        },
        "outputId": "b68c65e7-a076-4273-d64a-5187df3af373"
      },
      "source": [
        "from sklearn.neighbors import KNeighborsClassifier\n",
        "classifier = KNeighborsClassifier()\n",
        "classifier.fit(X_train_0,y_train)\n",
        "y_pred = classifier.predict(X_test_0)\n",
        "y_pred = np.round(y_pred).flatten()\n",
        "print(accuracy_score(y_test, y_pred))\n",
        "\n",
        "classifier.fit(X_train_mean,y_train)\n",
        "y_pred = classifier.predict(X_test_mean)\n",
        "y_pred = np.round(y_pred).flatten()\n",
        "print(accuracy_score(y_test, y_pred))\n",
        "\n",
        "classifier.fit(X_train_median,y_train)\n",
        "y_pred = classifier.predict(X_test_median)\n",
        "y_pred = np.round(y_pred).flatten()\n",
        "print(accuracy_score(y_test, y_pred))\n",
        "\n",
        "classifier.fit(X_train_mode,y_train)\n",
        "y_pred = classifier.predict(X_test_mode)\n",
        "y_pred = np.round(y_pred).flatten()\n",
        "print(accuracy_score(y_test, y_pred))"
      ],
      "execution_count": 183,
      "outputs": [
        {
          "output_type": "stream",
          "text": [
            "0.6759776536312849\n",
            "0.7206703910614525\n",
            "0.7039106145251397\n",
            "0.6871508379888268\n"
          ],
          "name": "stdout"
        }
      ]
    },
    {
      "cell_type": "code",
      "metadata": {
        "id": "0jrrU4ewJ0bU",
        "colab_type": "code",
        "colab": {}
      },
      "source": [
        ""
      ],
      "execution_count": 183,
      "outputs": []
    }
  ]
}