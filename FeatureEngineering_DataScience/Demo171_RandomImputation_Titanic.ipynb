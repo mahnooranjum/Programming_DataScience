{
  "nbformat": 4,
  "nbformat_minor": 0,
  "metadata": {
    "kernelspec": {
      "display_name": "Python 3",
      "language": "python",
      "name": "python3"
    },
    "language_info": {
      "codemirror_mode": {
        "name": "ipython",
        "version": 3
      },
      "file_extension": ".py",
      "mimetype": "text/x-python",
      "name": "python",
      "nbconvert_exporter": "python",
      "pygments_lexer": "ipython3",
      "version": "3.6.1"
    },
    "toc": {
      "nav_menu": {},
      "number_sections": true,
      "sideBar": true,
      "skip_h1_title": false,
      "toc_cell": false,
      "toc_position": {
        "height": "556px",
        "left": "0px",
        "right": "1156.4px",
        "top": "107px",
        "width": "278px"
      },
      "toc_section_display": "block",
      "toc_window_display": false
    },
    "colab": {
      "name": "Demo171_RandomImputation_Titanic.ipynb",
      "provenance": [],
      "collapsed_sections": []
    }
  },
  "cells": [
    {
      "cell_type": "markdown",
      "metadata": {
        "id": "HqZjp_F-E9eC",
        "colab_type": "text"
      },
      "source": [
        "## Imputation\n",
        "\n",
        "- Replacing missing data with statistical estimates of the missing values is called imputation \n",
        "\n",
        "- Imputation completes a dataset and removes missing values \n",
        "\n",
        "- Replace by mean if the variable has a Normal distribution \n",
        "\n",
        "- Replace by median if the variable has a Skewed distribution \n",
        "\n",
        "- Iterative imputation computes the missing value using all the other values in the dataset\n",
        "\n",
        "- **Random sampling takes a random value from available observations and uses that value to fill the NA**\n",
        "\n",
        "\n",
        "\n",
        "### When to use it?\n",
        "\n",
        "- When data are missing completely at random (MCAR) \n",
        "\n",
        "### Pros\n",
        "\n",
        "- Easy\n",
        "- Completes the dataset and does not loose much information\n",
        "- Preserves variable variance \n",
        "\n",
        "### Cons\n",
        "\n",
        "- Change of covariance wrt other variables \n",
        "- Random in nature \n",
        "\n",
        "\n",
        "### Key Takeaway\n",
        "\n",
        "- We usually create a new variable for the missing data to capture the relations where data is not MCAR \n",
        "\n",
        "- So imputation handles the MCAR ascpect, whereas the new variable captures all the other statistical relations \n"
      ]
    },
    {
      "cell_type": "code",
      "metadata": {
        "id": "-vMX4aOYQjaN",
        "colab_type": "code",
        "colab": {}
      },
      "source": [
        "import pandas as pd\n",
        "import matplotlib.pyplot as plt\n",
        "import seaborn as sns\n",
        "import numpy as np"
      ],
      "execution_count": 31,
      "outputs": []
    },
    {
      "cell_type": "code",
      "metadata": {
        "id": "Ds9gl_oFEATI",
        "colab_type": "code",
        "colab": {
          "base_uri": "https://localhost:8080/",
          "height": 35
        },
        "outputId": "5d81c2f8-507d-4f04-a52d-058245f802a6"
      },
      "source": [
        "from google.colab import drive\n",
        "drive.mount('/content/gdrive')\n",
        "data = pd.read_csv(\"gdrive/My Drive/Colab Notebooks/FeatureEngineering/train.csv\")\n"
      ],
      "execution_count": 32,
      "outputs": [
        {
          "output_type": "stream",
          "text": [
            "Drive already mounted at /content/gdrive; to attempt to forcibly remount, call drive.mount(\"/content/gdrive\", force_remount=True).\n"
          ],
          "name": "stdout"
        }
      ]
    },
    {
      "cell_type": "markdown",
      "metadata": {
        "id": "07sOx5ehE9eJ",
        "colab_type": "text"
      },
      "source": [
        "## Titanic"
      ]
    },
    {
      "cell_type": "code",
      "metadata": {
        "id": "OQY6ztbsE9eK",
        "colab_type": "code",
        "colab": {
          "base_uri": "https://localhost:8080/",
          "height": 202
        },
        "outputId": "2163c0d1-6c13-4628-c156-5bc55f1b9b51"
      },
      "source": [
        "data = data[['Age', 'Fare','Survived']]\n",
        "data.head()"
      ],
      "execution_count": 33,
      "outputs": [
        {
          "output_type": "execute_result",
          "data": {
            "text/html": [
              "<div>\n",
              "<style scoped>\n",
              "    .dataframe tbody tr th:only-of-type {\n",
              "        vertical-align: middle;\n",
              "    }\n",
              "\n",
              "    .dataframe tbody tr th {\n",
              "        vertical-align: top;\n",
              "    }\n",
              "\n",
              "    .dataframe thead th {\n",
              "        text-align: right;\n",
              "    }\n",
              "</style>\n",
              "<table border=\"1\" class=\"dataframe\">\n",
              "  <thead>\n",
              "    <tr style=\"text-align: right;\">\n",
              "      <th></th>\n",
              "      <th>Age</th>\n",
              "      <th>Fare</th>\n",
              "      <th>Survived</th>\n",
              "    </tr>\n",
              "  </thead>\n",
              "  <tbody>\n",
              "    <tr>\n",
              "      <th>0</th>\n",
              "      <td>22.0</td>\n",
              "      <td>7.2500</td>\n",
              "      <td>0</td>\n",
              "    </tr>\n",
              "    <tr>\n",
              "      <th>1</th>\n",
              "      <td>38.0</td>\n",
              "      <td>71.2833</td>\n",
              "      <td>1</td>\n",
              "    </tr>\n",
              "    <tr>\n",
              "      <th>2</th>\n",
              "      <td>26.0</td>\n",
              "      <td>7.9250</td>\n",
              "      <td>1</td>\n",
              "    </tr>\n",
              "    <tr>\n",
              "      <th>3</th>\n",
              "      <td>35.0</td>\n",
              "      <td>53.1000</td>\n",
              "      <td>1</td>\n",
              "    </tr>\n",
              "    <tr>\n",
              "      <th>4</th>\n",
              "      <td>35.0</td>\n",
              "      <td>8.0500</td>\n",
              "      <td>0</td>\n",
              "    </tr>\n",
              "  </tbody>\n",
              "</table>\n",
              "</div>"
            ],
            "text/plain": [
              "    Age     Fare  Survived\n",
              "0  22.0   7.2500         0\n",
              "1  38.0  71.2833         1\n",
              "2  26.0   7.9250         1\n",
              "3  35.0  53.1000         1\n",
              "4  35.0   8.0500         0"
            ]
          },
          "metadata": {
            "tags": []
          },
          "execution_count": 33
        }
      ]
    },
    {
      "cell_type": "code",
      "metadata": {
        "id": "fv-7VBtDE9eO",
        "colab_type": "code",
        "colab": {
          "base_uri": "https://localhost:8080/",
          "height": 87
        },
        "outputId": "ee70148c-d0f7-41fd-bd80-2aec172bfed5"
      },
      "source": [
        "data.isnull().mean()"
      ],
      "execution_count": 34,
      "outputs": [
        {
          "output_type": "execute_result",
          "data": {
            "text/plain": [
              "Age         0.198653\n",
              "Fare        0.000000\n",
              "Survived    0.000000\n",
              "dtype: float64"
            ]
          },
          "metadata": {
            "tags": []
          },
          "execution_count": 34
        }
      ]
    },
    {
      "cell_type": "code",
      "metadata": {
        "id": "iiSci5I4E9eR",
        "colab_type": "code",
        "colab": {
          "base_uri": "https://localhost:8080/",
          "height": 35
        },
        "outputId": "4b8256a2-5194-4bb8-ba4f-9c7377ebd02b"
      },
      "source": [
        "from sklearn.model_selection import train_test_split\n",
        "X_train, X_test, y_train, y_test = train_test_split(data[['Age', 'Fare']], data['Survived'], test_size=0.2)\n",
        "X_train.shape, X_test.shape"
      ],
      "execution_count": 35,
      "outputs": [
        {
          "output_type": "execute_result",
          "data": {
            "text/plain": [
              "((712, 2), (179, 2))"
            ]
          },
          "metadata": {
            "tags": []
          },
          "execution_count": 35
        }
      ]
    },
    {
      "cell_type": "code",
      "metadata": {
        "id": "A2exy_RSE9eU",
        "colab_type": "code",
        "colab": {}
      },
      "source": [
        "def impute(df, column, dft):\n",
        "    df_temp = df.copy()\n",
        "    df_temp[column] = df_temp[column].apply(lambda x: np.random.choice(dft[column].dropna().values) if np.isnan(x) else x)\n",
        "    return df_temp\n",
        "  "
      ],
      "execution_count": 72,
      "outputs": []
    },
    {
      "cell_type": "code",
      "metadata": {
        "id": "mgJSQBBT-iPM",
        "colab_type": "code",
        "colab": {
          "base_uri": "https://localhost:8080/",
          "height": 297
        },
        "outputId": "4057f81d-2173-4cd0-8fcd-5f4a933f1638"
      },
      "source": [
        "sns.distplot(X_train['Age'])"
      ],
      "execution_count": 64,
      "outputs": [
        {
          "output_type": "execute_result",
          "data": {
            "text/plain": [
              "<matplotlib.axes._subplots.AxesSubplot at 0x7f2c6a982cc0>"
            ]
          },
          "metadata": {
            "tags": []
          },
          "execution_count": 64
        },
        {
          "output_type": "display_data",
          "data": {
            "image/png": "[encoded data removed]",
            "text/plain": [
              "<Figure size 432x288 with 1 Axes>"
            ]
          },
          "metadata": {
            "tags": [],
            "needs_background": "light"
          }
        }
      ]
    },
    {
      "cell_type": "code",
      "metadata": {
        "id": "j08xpbjYE9eX",
        "colab_type": "code",
        "colab": {}
      },
      "source": [
        "X_train_0 = impute(X_train, 'Age', X_train)\n",
        "X_test_0 = impute(X_test, 'Age', X_train)"
      ],
      "execution_count": 73,
      "outputs": []
    },
    {
      "cell_type": "code",
      "metadata": {
        "id": "zgfwS5B3P7iK",
        "colab_type": "code",
        "colab": {
          "base_uri": "https://localhost:8080/",
          "height": 35
        },
        "outputId": "0e16d0c5-f5a8-446b-9994-74a706f1ab1f"
      },
      "source": [
        "X_train_0.shape"
      ],
      "execution_count": 74,
      "outputs": [
        {
          "output_type": "execute_result",
          "data": {
            "text/plain": [
              "(712, 2)"
            ]
          },
          "metadata": {
            "tags": []
          },
          "execution_count": 74
        }
      ]
    },
    {
      "cell_type": "code",
      "metadata": {
        "id": "--zyY6_yQKP7",
        "colab_type": "code",
        "colab": {
          "base_uri": "https://localhost:8080/",
          "height": 35
        },
        "outputId": "0c55bb6f-b83e-495c-91f1-9ddafa303c3f"
      },
      "source": [
        "type(X_train_0)"
      ],
      "execution_count": 75,
      "outputs": [
        {
          "output_type": "execute_result",
          "data": {
            "text/plain": [
              "pandas.core.frame.DataFrame"
            ]
          },
          "metadata": {
            "tags": []
          },
          "execution_count": 75
        }
      ]
    },
    {
      "cell_type": "code",
      "metadata": {
        "id": "HCAZebsIQMjx",
        "colab_type": "code",
        "colab": {}
      },
      "source": [
        "X_train_0 = X_train_0.values"
      ],
      "execution_count": 76,
      "outputs": []
    },
    {
      "cell_type": "code",
      "metadata": {
        "id": "8wrVQRnbQQTw",
        "colab_type": "code",
        "colab": {
          "base_uri": "https://localhost:8080/",
          "height": 35
        },
        "outputId": "33047430-3d3a-4724-e991-94ffecb3b8e0"
      },
      "source": [
        "type(X_train_0)"
      ],
      "execution_count": 77,
      "outputs": [
        {
          "output_type": "execute_result",
          "data": {
            "text/plain": [
              "numpy.ndarray"
            ]
          },
          "metadata": {
            "tags": []
          },
          "execution_count": 77
        }
      ]
    },
    {
      "cell_type": "code",
      "metadata": {
        "id": "J_yQoBsSQTvr",
        "colab_type": "code",
        "colab": {}
      },
      "source": [
        "X_test_0 = X_test_0.values"
      ],
      "execution_count": 78,
      "outputs": []
    },
    {
      "cell_type": "code",
      "metadata": {
        "id": "3CJpebxW_tky",
        "colab_type": "code",
        "colab": {
          "base_uri": "https://localhost:8080/",
          "height": 623
        },
        "outputId": "a1fb95a3-9421-46ba-ff8b-4843157d82b4"
      },
      "source": [
        "fig, ax = plt.subplots(1,2, figsize=(10,10))\n",
        "sns.distplot(X_train['Age'], ax = ax[0], color='blue')\n",
        "sns.distplot(X_train_0[:,0], ax = ax[1], color='red')"
      ],
      "execution_count": 79,
      "outputs": [
        {
          "output_type": "execute_result",
          "data": {
            "text/plain": [
              "<matplotlib.axes._subplots.AxesSubplot at 0x7f2c6ad73a58>"
            ]
          },
          "metadata": {
            "tags": []
          },
          "execution_count": 79
        },
        {
          "output_type": "display_data",
          "data": {
            "image/png": "[encoded data removed]",
            "text/plain": [
              "<Figure size 720x720 with 2 Axes>"
            ]
          },
          "metadata": {
            "tags": [],
            "needs_background": "light"
          }
        }
      ]
    },
    {
      "cell_type": "code",
      "metadata": {
        "colab_type": "code",
        "id": "-gYAFiVTBVs_",
        "colab": {}
      },
      "source": [
        "from sklearn.impute import SimpleImputer\n",
        "obj = SimpleImputer(missing_values = np.nan, strategy= 'mean')\n",
        "X_train_mean = obj.fit_transform(X_train)\n",
        "X_test_mean = obj.transform(X_test)"
      ],
      "execution_count": 80,
      "outputs": []
    },
    {
      "cell_type": "code",
      "metadata": {
        "colab_type": "code",
        "id": "IkHw3hgMBVtC",
        "colab": {
          "base_uri": "https://localhost:8080/",
          "height": 623
        },
        "outputId": "749430b5-4b99-4d6c-9a0a-e2a54d7d2e23"
      },
      "source": [
        "fig, ax = plt.subplots(1,2, figsize=(10,10))\n",
        "sns.distplot(X_train['Age'], ax = ax[0], color='blue')\n",
        "sns.distplot(X_train_mean[:,0], ax = ax[1], color='red')"
      ],
      "execution_count": 81,
      "outputs": [
        {
          "output_type": "execute_result",
          "data": {
            "text/plain": [
              "<matplotlib.axes._subplots.AxesSubplot at 0x7f2c6adfa198>"
            ]
          },
          "metadata": {
            "tags": []
          },
          "execution_count": 81
        },
        {
          "output_type": "display_data",
          "data": {
            "image/png": "[encoded data removed]",
            "text/plain": [
              "<Figure size 720x720 with 2 Axes>"
            ]
          },
          "metadata": {
            "tags": [],
            "needs_background": "light"
          }
        }
      ]
    },
    {
      "cell_type": "code",
      "metadata": {
        "colab_type": "code",
        "id": "GHgTIAa7BdiA",
        "colab": {}
      },
      "source": [
        "from sklearn.impute import SimpleImputer\n",
        "obj = SimpleImputer(missing_values = np.nan, strategy= 'median')\n",
        "X_train_median = obj.fit_transform(X_train)\n",
        "X_test_median = obj.transform(X_test)"
      ],
      "execution_count": 82,
      "outputs": []
    },
    {
      "cell_type": "code",
      "metadata": {
        "colab_type": "code",
        "id": "EtYvirMIBdiF",
        "colab": {
          "base_uri": "https://localhost:8080/",
          "height": 623
        },
        "outputId": "eb693d3f-548b-4532-cf85-bdef0c28e3b5"
      },
      "source": [
        "fig, ax = plt.subplots(1,2, figsize=(10,10))\n",
        "sns.distplot(X_train['Age'], ax = ax[0], color='blue')\n",
        "sns.distplot(X_train_median[:,0], ax = ax[1], color='red')"
      ],
      "execution_count": 83,
      "outputs": [
        {
          "output_type": "execute_result",
          "data": {
            "text/plain": [
              "<matplotlib.axes._subplots.AxesSubplot at 0x7f2c6ac15828>"
            ]
          },
          "metadata": {
            "tags": []
          },
          "execution_count": 83
        },
        {
          "output_type": "display_data",
          "data": {
            "image/png": "[encoded data removed]",
            "text/plain": [
              "<Figure size 720x720 with 2 Axes>"
            ]
          },
          "metadata": {
            "tags": [],
            "needs_background": "light"
          }
        }
      ]
    },
    {
      "cell_type": "code",
      "metadata": {
        "colab_type": "code",
        "id": "0kp8ZIH8BoVK",
        "colab": {}
      },
      "source": [
        "from sklearn.impute import SimpleImputer\n",
        "obj = SimpleImputer(missing_values = np.nan, strategy= 'most_frequent')\n",
        "X_train_mode = obj.fit_transform(X_train)\n",
        "X_test_mode = obj.transform(X_test)"
      ],
      "execution_count": 84,
      "outputs": []
    },
    {
      "cell_type": "code",
      "metadata": {
        "colab_type": "code",
        "id": "bLL2F8XABoVM",
        "colab": {
          "base_uri": "https://localhost:8080/",
          "height": 623
        },
        "outputId": "246eb28e-5314-43c4-ba79-966669a5a083"
      },
      "source": [
        "fig, ax = plt.subplots(1,2, figsize=(10,10))\n",
        "sns.distplot(X_train['Age'], ax = ax[0], color='blue')\n",
        "sns.distplot(X_train_mode[:,0], ax = ax[1], color='red')"
      ],
      "execution_count": 85,
      "outputs": [
        {
          "output_type": "execute_result",
          "data": {
            "text/plain": [
              "<matplotlib.axes._subplots.AxesSubplot at 0x7f2c6a794da0>"
            ]
          },
          "metadata": {
            "tags": []
          },
          "execution_count": 85
        },
        {
          "output_type": "display_data",
          "data": {
            "image/png": "[encoded data removed]",
            "text/plain": [
              "<Figure size 720x720 with 2 Axes>"
            ]
          },
          "metadata": {
            "tags": [],
            "needs_background": "light"
          }
        }
      ]
    },
    {
      "cell_type": "code",
      "metadata": {
        "id": "Bk4UxINwE9ef",
        "colab_type": "code",
        "colab": {
          "base_uri": "https://localhost:8080/",
          "height": 104
        },
        "outputId": "03fbddf8-2f7b-440b-8092-63c237d59399"
      },
      "source": [
        "print('Std original: ', X_train['Age'].std())\n",
        "print('Std 0: ', X_train_0[:,0].std())\n",
        "print('Std mean: ', X_train_mean[:,0].std())\n",
        "print('Std median: ', X_train_median[:,0].std())\n",
        "print('Std mode: ', X_train_mode[:,0].std())"
      ],
      "execution_count": 86,
      "outputs": [
        {
          "output_type": "stream",
          "text": [
            "Std original:  14.535715091667424\n",
            "Std 0:  14.296084680722506\n",
            "Std mean:  13.039883642860541\n",
            "Std median:  13.043494997697024\n",
            "Std mode:  13.238289567000614\n"
          ],
          "name": "stdout"
        }
      ]
    },
    {
      "cell_type": "markdown",
      "metadata": {
        "id": "-nrFF8GkE9em",
        "colab_type": "text"
      },
      "source": [
        "### Model performance "
      ]
    },
    {
      "cell_type": "code",
      "metadata": {
        "id": "tJ-qLsRuCmlV",
        "colab_type": "code",
        "colab": {}
      },
      "source": [
        "from sklearn.metrics import accuracy_score"
      ],
      "execution_count": 87,
      "outputs": []
    },
    {
      "cell_type": "code",
      "metadata": {
        "id": "tsRG3K5l8t_J",
        "colab_type": "code",
        "colab": {
          "base_uri": "https://localhost:8080/",
          "height": 87
        },
        "outputId": "e0ef4f79-86a7-4470-8372-840e8a6d789f"
      },
      "source": [
        "from sklearn.linear_model import LogisticRegression\n",
        "classifier = LogisticRegression()\n",
        "classifier.fit(X_train_0,y_train)\n",
        "y_pred = classifier.predict(X_test_0)\n",
        "y_pred = np.round(y_pred).flatten()\n",
        "print(accuracy_score(y_test, y_pred))\n",
        "\n",
        "classifier.fit(X_train_mean,y_train)\n",
        "y_pred = classifier.predict(X_test_mean)\n",
        "y_pred = np.round(y_pred).flatten()\n",
        "print(accuracy_score(y_test, y_pred))\n",
        "\n",
        "classifier.fit(X_train_median,y_train)\n",
        "y_pred = classifier.predict(X_test_median)\n",
        "y_pred = np.round(y_pred).flatten()\n",
        "print(accuracy_score(y_test, y_pred))\n",
        "\n",
        "classifier.fit(X_train_mode,y_train)\n",
        "y_pred = classifier.predict(X_test_mode)\n",
        "y_pred = np.round(y_pred).flatten()\n",
        "print(accuracy_score(y_test, y_pred))"
      ],
      "execution_count": 88,
      "outputs": [
        {
          "output_type": "stream",
          "text": [
            "0.6983240223463687\n",
            "0.6759776536312849\n",
            "0.6759776536312849\n",
            "0.6815642458100558\n"
          ],
          "name": "stdout"
        }
      ]
    },
    {
      "cell_type": "code",
      "metadata": {
        "id": "2HgLWOz-9Uda",
        "colab_type": "code",
        "colab": {
          "base_uri": "https://localhost:8080/",
          "height": 87
        },
        "outputId": "70e761fb-4628-460e-f665-6c67d04c9569"
      },
      "source": [
        "from sklearn.linear_model import RidgeClassifierCV\n",
        "classifier = RidgeClassifierCV()\n",
        "classifier.fit(X_train_0,y_train)\n",
        "y_pred = classifier.predict(X_test_0)\n",
        "y_pred = np.round(y_pred).flatten()\n",
        "print(accuracy_score(y_test, y_pred))\n",
        "\n",
        "classifier.fit(X_train_mean,y_train)\n",
        "y_pred = classifier.predict(X_test_mean)\n",
        "y_pred = np.round(y_pred).flatten()\n",
        "print(accuracy_score(y_test, y_pred))\n",
        "\n",
        "classifier.fit(X_train_median,y_train)\n",
        "y_pred = classifier.predict(X_test_median)\n",
        "y_pred = np.round(y_pred).flatten()\n",
        "print(accuracy_score(y_test, y_pred))\n",
        "\n",
        "classifier.fit(X_train_mode,y_train)\n",
        "y_pred = classifier.predict(X_test_mode)\n",
        "y_pred = np.round(y_pred).flatten()\n",
        "print(accuracy_score(y_test, y_pred))"
      ],
      "execution_count": 89,
      "outputs": [
        {
          "output_type": "stream",
          "text": [
            "0.664804469273743\n",
            "0.659217877094972\n",
            "0.659217877094972\n",
            "0.659217877094972\n"
          ],
          "name": "stdout"
        }
      ]
    },
    {
      "cell_type": "code",
      "metadata": {
        "id": "gS9bIfAB9eKW",
        "colab_type": "code",
        "colab": {
          "base_uri": "https://localhost:8080/",
          "height": 87
        },
        "outputId": "11e66067-1247-46de-ca2d-52566a26e39a"
      },
      "source": [
        "from sklearn.linear_model import RidgeClassifierCV\n",
        "classifier = RidgeClassifierCV()\n",
        "classifier.fit(X_train_0,y_train)\n",
        "y_pred = classifier.predict(X_test_0)\n",
        "y_pred = np.round(y_pred).flatten()\n",
        "print(accuracy_score(y_test, y_pred))\n",
        "\n",
        "classifier.fit(X_train_mean,y_train)\n",
        "y_pred = classifier.predict(X_test_mean)\n",
        "y_pred = np.round(y_pred).flatten()\n",
        "print(accuracy_score(y_test, y_pred))\n",
        "\n",
        "classifier.fit(X_train_median,y_train)\n",
        "y_pred = classifier.predict(X_test_median)\n",
        "y_pred = np.round(y_pred).flatten()\n",
        "print(accuracy_score(y_test, y_pred))\n",
        "\n",
        "classifier.fit(X_train_mode,y_train)\n",
        "y_pred = classifier.predict(X_test_mode)\n",
        "y_pred = np.round(y_pred).flatten()\n",
        "print(accuracy_score(y_test, y_pred))"
      ],
      "execution_count": 90,
      "outputs": [
        {
          "output_type": "stream",
          "text": [
            "0.664804469273743\n",
            "0.659217877094972\n",
            "0.659217877094972\n",
            "0.659217877094972\n"
          ],
          "name": "stdout"
        }
      ]
    },
    {
      "cell_type": "code",
      "metadata": {
        "id": "bZLwAZRI9vl3",
        "colab_type": "code",
        "colab": {
          "base_uri": "https://localhost:8080/",
          "height": 87
        },
        "outputId": "7e1b8dbd-73fe-4816-9af0-58c59a92ff4c"
      },
      "source": [
        "from sklearn.svm import SVC\n",
        "classifier = SVC()\n",
        "classifier.fit(X_train_0,y_train)\n",
        "y_pred = classifier.predict(X_test_0)\n",
        "y_pred = np.round(y_pred).flatten()\n",
        "print(accuracy_score(y_test, y_pred))\n",
        "\n",
        "classifier.fit(X_train_mean,y_train)\n",
        "y_pred = classifier.predict(X_test_mean)\n",
        "y_pred = np.round(y_pred).flatten()\n",
        "print(accuracy_score(y_test, y_pred))\n",
        "\n",
        "classifier.fit(X_train_median,y_train)\n",
        "y_pred = classifier.predict(X_test_median)\n",
        "y_pred = np.round(y_pred).flatten()\n",
        "print(accuracy_score(y_test, y_pred))\n",
        "\n",
        "classifier.fit(X_train_mode,y_train)\n",
        "y_pred = classifier.predict(X_test_mode)\n",
        "y_pred = np.round(y_pred).flatten()\n",
        "print(accuracy_score(y_test, y_pred))"
      ],
      "execution_count": 91,
      "outputs": [
        {
          "output_type": "stream",
          "text": [
            "0.6815642458100558\n",
            "0.6983240223463687\n",
            "0.6983240223463687\n",
            "0.6927374301675978\n"
          ],
          "name": "stdout"
        }
      ]
    },
    {
      "cell_type": "code",
      "metadata": {
        "id": "RO5oc4UJ9ykm",
        "colab_type": "code",
        "colab": {
          "base_uri": "https://localhost:8080/",
          "height": 87
        },
        "outputId": "c8e90c7f-8413-4ffe-977b-67f43a45b109"
      },
      "source": [
        "from sklearn.neural_network import MLPClassifier\n",
        "classifier = MLPClassifier()\n",
        "classifier.fit(X_train_0,y_train)\n",
        "y_pred = classifier.predict(X_test_0)\n",
        "y_pred = np.round(y_pred).flatten()\n",
        "print(accuracy_score(y_test, y_pred))\n",
        "\n",
        "classifier.fit(X_train_mean,y_train)\n",
        "y_pred = classifier.predict(X_test_mean)\n",
        "y_pred = np.round(y_pred).flatten()\n",
        "print(accuracy_score(y_test, y_pred))\n",
        "\n",
        "classifier.fit(X_train_median,y_train)\n",
        "y_pred = classifier.predict(X_test_median)\n",
        "y_pred = np.round(y_pred).flatten()\n",
        "print(accuracy_score(y_test, y_pred))\n",
        "\n",
        "classifier.fit(X_train_mode,y_train)\n",
        "y_pred = classifier.predict(X_test_mode)\n",
        "y_pred = np.round(y_pred).flatten()\n",
        "print(accuracy_score(y_test, y_pred))"
      ],
      "execution_count": 92,
      "outputs": [
        {
          "output_type": "stream",
          "text": [
            "0.664804469273743\n",
            "0.7150837988826816\n",
            "0.6815642458100558\n",
            "0.6815642458100558\n"
          ],
          "name": "stdout"
        }
      ]
    },
    {
      "cell_type": "code",
      "metadata": {
        "id": "RFKVucj790aA",
        "colab_type": "code",
        "colab": {
          "base_uri": "https://localhost:8080/",
          "height": 225
        },
        "outputId": "5c3fddb7-3c73-4684-ae8c-2930eb21f473"
      },
      "source": [
        "from sklearn.svm import LinearSVC\n",
        "classifier = LinearSVC()\n",
        "classifier.fit(X_train_0,y_train)\n",
        "y_pred = classifier.predict(X_test_0)\n",
        "y_pred = np.round(y_pred).flatten()\n",
        "print(accuracy_score(y_test, y_pred))\n",
        "\n",
        "classifier.fit(X_train_mean,y_train)\n",
        "y_pred = classifier.predict(X_test_mean)\n",
        "y_pred = np.round(y_pred).flatten()\n",
        "print(accuracy_score(y_test, y_pred))\n",
        "\n",
        "classifier.fit(X_train_median,y_train)\n",
        "y_pred = classifier.predict(X_test_median)\n",
        "y_pred = np.round(y_pred).flatten()\n",
        "print(accuracy_score(y_test, y_pred))\n",
        "\n",
        "classifier.fit(X_train_mode,y_train)\n",
        "y_pred = classifier.predict(X_test_mode)\n",
        "y_pred = np.round(y_pred).flatten()\n",
        "print(accuracy_score(y_test, y_pred))"
      ],
      "execution_count": 93,
      "outputs": [
        {
          "output_type": "stream",
          "text": [
            "0.6983240223463687\n",
            "0.7039106145251397\n",
            "0.6089385474860335\n",
            "0.6089385474860335\n"
          ],
          "name": "stdout"
        },
        {
          "output_type": "stream",
          "text": [
            "/usr/local/lib/python3.6/dist-packages/sklearn/svm/_base.py:977: ConvergenceWarning: Liblinear failed to converge, increase the number of iterations.\n",
            "  \"the number of iterations.\", ConvergenceWarning)\n",
            "/usr/local/lib/python3.6/dist-packages/sklearn/svm/_base.py:977: ConvergenceWarning: Liblinear failed to converge, increase the number of iterations.\n",
            "  \"the number of iterations.\", ConvergenceWarning)\n",
            "/usr/local/lib/python3.6/dist-packages/sklearn/svm/_base.py:977: ConvergenceWarning: Liblinear failed to converge, increase the number of iterations.\n",
            "  \"the number of iterations.\", ConvergenceWarning)\n",
            "/usr/local/lib/python3.6/dist-packages/sklearn/svm/_base.py:977: ConvergenceWarning: Liblinear failed to converge, increase the number of iterations.\n",
            "  \"the number of iterations.\", ConvergenceWarning)\n"
          ],
          "name": "stderr"
        }
      ]
    },
    {
      "cell_type": "code",
      "metadata": {
        "id": "wgb5-ZI19274",
        "colab_type": "code",
        "colab": {
          "base_uri": "https://localhost:8080/",
          "height": 87
        },
        "outputId": "b119bc7b-7c72-4b26-a0b3-17939b558e78"
      },
      "source": [
        "from sklearn.ensemble import RandomForestClassifier\n",
        "classifier = RandomForestClassifier()\n",
        "classifier.fit(X_train_0,y_train)\n",
        "y_pred = classifier.predict(X_test_0)\n",
        "y_pred = np.round(y_pred).flatten()\n",
        "print(accuracy_score(y_test, y_pred))\n",
        "\n",
        "classifier.fit(X_train_mean,y_train)\n",
        "y_pred = classifier.predict(X_test_mean)\n",
        "y_pred = np.round(y_pred).flatten()\n",
        "print(accuracy_score(y_test, y_pred))\n",
        "\n",
        "classifier.fit(X_train_median,y_train)\n",
        "y_pred = classifier.predict(X_test_median)\n",
        "y_pred = np.round(y_pred).flatten()\n",
        "print(accuracy_score(y_test, y_pred))\n",
        "\n",
        "classifier.fit(X_train_mode,y_train)\n",
        "y_pred = classifier.predict(X_test_mode)\n",
        "y_pred = np.round(y_pred).flatten()\n",
        "print(accuracy_score(y_test, y_pred))"
      ],
      "execution_count": 94,
      "outputs": [
        {
          "output_type": "stream",
          "text": [
            "0.7318435754189944\n",
            "0.7262569832402235\n",
            "0.7039106145251397\n",
            "0.6927374301675978\n"
          ],
          "name": "stdout"
        }
      ]
    },
    {
      "cell_type": "code",
      "metadata": {
        "id": "hrF5V_7_94hA",
        "colab_type": "code",
        "colab": {
          "base_uri": "https://localhost:8080/",
          "height": 87
        },
        "outputId": "77931ace-683f-4158-8b2d-df85b01f6d6a"
      },
      "source": [
        "from sklearn.tree import DecisionTreeClassifier\n",
        "classifier = DecisionTreeClassifier()\n",
        "classifier.fit(X_train_0,y_train)\n",
        "y_pred = classifier.predict(X_test_0)\n",
        "y_pred = np.round(y_pred).flatten()\n",
        "print(accuracy_score(y_test, y_pred))\n",
        "\n",
        "classifier.fit(X_train_mean,y_train)\n",
        "y_pred = classifier.predict(X_test_mean)\n",
        "y_pred = np.round(y_pred).flatten()\n",
        "print(accuracy_score(y_test, y_pred))\n",
        "\n",
        "classifier.fit(X_train_median,y_train)\n",
        "y_pred = classifier.predict(X_test_median)\n",
        "y_pred = np.round(y_pred).flatten()\n",
        "print(accuracy_score(y_test, y_pred))\n",
        "\n",
        "classifier.fit(X_train_mode,y_train)\n",
        "y_pred = classifier.predict(X_test_mode)\n",
        "y_pred = np.round(y_pred).flatten()\n",
        "print(accuracy_score(y_test, y_pred))"
      ],
      "execution_count": 95,
      "outputs": [
        {
          "output_type": "stream",
          "text": [
            "0.659217877094972\n",
            "0.659217877094972\n",
            "0.6480446927374302\n",
            "0.6759776536312849\n"
          ],
          "name": "stdout"
        }
      ]
    },
    {
      "cell_type": "code",
      "metadata": {
        "id": "0M4ySoHj97e5",
        "colab_type": "code",
        "colab": {
          "base_uri": "https://localhost:8080/",
          "height": 87
        },
        "outputId": "3b282cc6-a001-4a37-bfdf-a181a34b77a9"
      },
      "source": [
        "from sklearn.ensemble import GradientBoostingClassifier\n",
        "classifier = GradientBoostingClassifier()\n",
        "classifier.fit(X_train_0,y_train)\n",
        "y_pred = classifier.predict(X_test_0)\n",
        "y_pred = np.round(y_pred).flatten()\n",
        "print(accuracy_score(y_test, y_pred))\n",
        "\n",
        "classifier.fit(X_train_mean,y_train)\n",
        "y_pred = classifier.predict(X_test_mean)\n",
        "y_pred = np.round(y_pred).flatten()\n",
        "print(accuracy_score(y_test, y_pred))\n",
        "\n",
        "classifier.fit(X_train_median,y_train)\n",
        "y_pred = classifier.predict(X_test_median)\n",
        "y_pred = np.round(y_pred).flatten()\n",
        "print(accuracy_score(y_test, y_pred))\n",
        "\n",
        "classifier.fit(X_train_mode,y_train)\n",
        "y_pred = classifier.predict(X_test_mode)\n",
        "y_pred = np.round(y_pred).flatten()\n",
        "print(accuracy_score(y_test, y_pred))"
      ],
      "execution_count": 96,
      "outputs": [
        {
          "output_type": "stream",
          "text": [
            "0.7374301675977654\n",
            "0.7486033519553073\n",
            "0.7486033519553073\n",
            "0.7430167597765364\n"
          ],
          "name": "stdout"
        }
      ]
    },
    {
      "cell_type": "code",
      "metadata": {
        "id": "UpVGb0-p991g",
        "colab_type": "code",
        "colab": {
          "base_uri": "https://localhost:8080/",
          "height": 87
        },
        "outputId": "7a6bdd88-8171-4631-b859-7632fca2284e"
      },
      "source": [
        "from sklearn.linear_model import SGDClassifier\n",
        "classifier = SGDClassifier()\n",
        "classifier.fit(X_train_0,y_train)\n",
        "y_pred = classifier.predict(X_test_0)\n",
        "y_pred = np.round(y_pred).flatten()\n",
        "print(accuracy_score(y_test, y_pred))\n",
        "\n",
        "classifier.fit(X_train_mean,y_train)\n",
        "y_pred = classifier.predict(X_test_mean)\n",
        "y_pred = np.round(y_pred).flatten()\n",
        "print(accuracy_score(y_test, y_pred))\n",
        "\n",
        "classifier.fit(X_train_median,y_train)\n",
        "y_pred = classifier.predict(X_test_median)\n",
        "y_pred = np.round(y_pred).flatten()\n",
        "print(accuracy_score(y_test, y_pred))\n",
        "\n",
        "classifier.fit(X_train_mode,y_train)\n",
        "y_pred = classifier.predict(X_test_mode)\n",
        "y_pred = np.round(y_pred).flatten()\n",
        "print(accuracy_score(y_test, y_pred))"
      ],
      "execution_count": 97,
      "outputs": [
        {
          "output_type": "stream",
          "text": [
            "0.664804469273743\n",
            "0.5586592178770949\n",
            "0.6536312849162011\n",
            "0.6480446927374302\n"
          ],
          "name": "stdout"
        }
      ]
    },
    {
      "cell_type": "code",
      "metadata": {
        "id": "nrl2BNRA9_mm",
        "colab_type": "code",
        "colab": {
          "base_uri": "https://localhost:8080/",
          "height": 87
        },
        "outputId": "267f79b1-fa34-4616-e261-0a01e8518925"
      },
      "source": [
        "from sklearn.linear_model import Perceptron\n",
        "classifier = Perceptron()\n",
        "classifier.fit(X_train_0,y_train)\n",
        "y_pred = classifier.predict(X_test_0)\n",
        "y_pred = np.round(y_pred).flatten()\n",
        "print(accuracy_score(y_test, y_pred))\n",
        "\n",
        "classifier.fit(X_train_mean,y_train)\n",
        "y_pred = classifier.predict(X_test_mean)\n",
        "y_pred = np.round(y_pred).flatten()\n",
        "print(accuracy_score(y_test, y_pred))\n",
        "\n",
        "classifier.fit(X_train_median,y_train)\n",
        "y_pred = classifier.predict(X_test_median)\n",
        "y_pred = np.round(y_pred).flatten()\n",
        "print(accuracy_score(y_test, y_pred))\n",
        "\n",
        "classifier.fit(X_train_mode,y_train)\n",
        "y_pred = classifier.predict(X_test_mode)\n",
        "y_pred = np.round(y_pred).flatten()\n",
        "print(accuracy_score(y_test, y_pred))"
      ],
      "execution_count": 98,
      "outputs": [
        {
          "output_type": "stream",
          "text": [
            "0.6871508379888268\n",
            "0.6871508379888268\n",
            "0.6983240223463687\n",
            "0.7094972067039106\n"
          ],
          "name": "stdout"
        }
      ]
    },
    {
      "cell_type": "code",
      "metadata": {
        "id": "L6SQhWSk-Btx",
        "colab_type": "code",
        "colab": {
          "base_uri": "https://localhost:8080/",
          "height": 87
        },
        "outputId": "5fcaa3de-125b-4ddd-9bcf-ccccbb2451f5"
      },
      "source": [
        "from sklearn.naive_bayes import GaussianNB\n",
        "classifier = GaussianNB()\n",
        "classifier.fit(X_train_0,y_train)\n",
        "y_pred = classifier.predict(X_test_0)\n",
        "y_pred = np.round(y_pred).flatten()\n",
        "print(accuracy_score(y_test, y_pred))\n",
        "\n",
        "classifier.fit(X_train_mean,y_train)\n",
        "y_pred = classifier.predict(X_test_mean)\n",
        "y_pred = np.round(y_pred).flatten()\n",
        "print(accuracy_score(y_test, y_pred))\n",
        "\n",
        "classifier.fit(X_train_median,y_train)\n",
        "y_pred = classifier.predict(X_test_median)\n",
        "y_pred = np.round(y_pred).flatten()\n",
        "print(accuracy_score(y_test, y_pred))\n",
        "\n",
        "classifier.fit(X_train_mode,y_train)\n",
        "y_pred = classifier.predict(X_test_mode)\n",
        "y_pred = np.round(y_pred).flatten()\n",
        "print(accuracy_score(y_test, y_pred))"
      ],
      "execution_count": 99,
      "outputs": [
        {
          "output_type": "stream",
          "text": [
            "0.6815642458100558\n",
            "0.6815642458100558\n",
            "0.6815642458100558\n",
            "0.6815642458100558\n"
          ],
          "name": "stdout"
        }
      ]
    },
    {
      "cell_type": "code",
      "metadata": {
        "id": "Ty-k4q1L-Ew-",
        "colab_type": "code",
        "colab": {
          "base_uri": "https://localhost:8080/",
          "height": 87
        },
        "outputId": "20d2f8e2-5759-460f-a763-7ba5930593b4"
      },
      "source": [
        "from sklearn.neighbors import KNeighborsClassifier\n",
        "classifier = KNeighborsClassifier()\n",
        "classifier.fit(X_train_0,y_train)\n",
        "y_pred = classifier.predict(X_test_0)\n",
        "y_pred = np.round(y_pred).flatten()\n",
        "print(accuracy_score(y_test, y_pred))\n",
        "\n",
        "classifier.fit(X_train_mean,y_train)\n",
        "y_pred = classifier.predict(X_test_mean)\n",
        "y_pred = np.round(y_pred).flatten()\n",
        "print(accuracy_score(y_test, y_pred))\n",
        "\n",
        "classifier.fit(X_train_median,y_train)\n",
        "y_pred = classifier.predict(X_test_median)\n",
        "y_pred = np.round(y_pred).flatten()\n",
        "print(accuracy_score(y_test, y_pred))\n",
        "\n",
        "classifier.fit(X_train_mode,y_train)\n",
        "y_pred = classifier.predict(X_test_mode)\n",
        "y_pred = np.round(y_pred).flatten()\n",
        "print(accuracy_score(y_test, y_pred))"
      ],
      "execution_count": 100,
      "outputs": [
        {
          "output_type": "stream",
          "text": [
            "0.6703910614525139\n",
            "0.7094972067039106\n",
            "0.7150837988826816\n",
            "0.7094972067039106\n"
          ],
          "name": "stdout"
        }
      ]
    },
    {
      "cell_type": "code",
      "metadata": {
        "id": "0jrrU4ewJ0bU",
        "colab_type": "code",
        "colab": {}
      },
      "source": [
        ""
      ],
      "execution_count": 100,
      "outputs": []
    }
  ]
}