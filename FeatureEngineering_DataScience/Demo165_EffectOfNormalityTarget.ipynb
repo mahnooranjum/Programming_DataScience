{
  "nbformat": 4,
  "nbformat_minor": 0,
  "metadata": {
    "kernelspec": {
      "display_name": "Python 3",
      "language": "python",
      "name": "python3"
    },
    "language_info": {
      "codemirror_mode": {
        "name": "ipython",
        "version": 3
      },
      "file_extension": ".py",
      "mimetype": "text/x-python",
      "name": "python",
      "nbconvert_exporter": "python",
      "pygments_lexer": "ipython3",
      "version": "3.6.1"
    },
    "toc": {
      "nav_menu": {},
      "number_sections": true,
      "sideBar": true,
      "skip_h1_title": false,
      "toc_cell": false,
      "toc_position": {},
      "toc_section_display": "block",
      "toc_window_display": true
    },
    "colab": {
      "name": "Demo165_EffectOfNormalityTarget.ipynb",
      "provenance": [],
      "collapsed_sections": []
    }
  },
  "cells": [
    {
      "cell_type": "markdown",
      "metadata": {
        "id": "asnGJxxjTi_F",
        "colab_type": "text"
      },
      "source": [
        "## Variable distributions and their effects on Models\n",
        "\n",
        "Reference \n",
        "[https://www.statisticssolutions.com/homoscedasticity/]\n",
        "\n",
        "### Linear Regression Assumptions\n",
        "\n",
        "- Linear relationship with the outcome Y\n",
        "- Homoscedasticity\n",
        "- Normality\n",
        "- No Multicollinearity \n",
        "\n",
        "## Linear Assumption\n",
        "\n",
        "- The X variable is linearly related to the dataset \n",
        "- Pearson correlation coefficient can determine the linearity magnitude  between variables \n",
        "\n",
        "## Normality Assumption\n",
        "\n",
        "- The variable X follows a normal or gaussian distribution\n",
        "\n",
        "## Homoscedasticity Assumption\n",
        "\n",
        "- Homogeneity of variance\n",
        "\n",
        "- Homoscedasticity describes a situation in which the error term (that is, the “noise” or random disturbance in the relationship between the independent variables and the dependent variable) is the same across all values of the independent variables\n",
        "\n",
        "\n",
        "### Unaffected models\n",
        "\n",
        "- Neural Networks\n",
        "- Support Vector Machines\n",
        "- Trees\n",
        "\n"
      ]
    },
    {
      "cell_type": "code",
      "metadata": {
        "id": "0mkEPZ7VTi_G",
        "colab_type": "code",
        "colab": {
          "base_uri": "https://localhost:8080/",
          "height": 72
        },
        "outputId": "ba6bd9b6-5ba8-4f82-8670-fa08450e6175"
      },
      "source": [
        "import matplotlib.pyplot as plt\n",
        "import numpy as np\n",
        "import math\n",
        "import seaborn as sns\n",
        "sns.set()\n",
        "import pandas as pd\n",
        "\n"
      ],
      "execution_count": 1,
      "outputs": [
        {
          "output_type": "stream",
          "text": [
            "/usr/local/lib/python3.6/dist-packages/statsmodels/tools/_testing.py:19: FutureWarning: pandas.util.testing is deprecated. Use the functions in the public API at pandas.testing instead.\n",
            "  import pandas.util.testing as tm\n"
          ],
          "name": "stderr"
        }
      ]
    },
    {
      "cell_type": "code",
      "metadata": {
        "id": "dRKclh5zB462",
        "colab_type": "code",
        "colab": {}
      },
      "source": [
        "from sklearn.datasets import load_boston\n",
        "dataset = load_boston()"
      ],
      "execution_count": 0,
      "outputs": []
    },
    {
      "cell_type": "code",
      "metadata": {
        "id": "9pGEnsRJKxzd",
        "colab_type": "code",
        "outputId": "c0a5c087-9671-456d-845f-24cca7f0ba84",
        "colab": {
          "base_uri": "https://localhost:8080/",
          "height": 35
        }
      },
      "source": [
        "dataset.data.shape"
      ],
      "execution_count": 3,
      "outputs": [
        {
          "output_type": "execute_result",
          "data": {
            "text/plain": [
              "(506, 13)"
            ]
          },
          "metadata": {
            "tags": []
          },
          "execution_count": 3
        }
      ]
    },
    {
      "cell_type": "code",
      "metadata": {
        "id": "Y6nPt4vqK7m-",
        "colab_type": "code",
        "outputId": "49857edf-c09e-4d25-f80e-cc92fbaca9af",
        "colab": {
          "base_uri": "https://localhost:8080/",
          "height": 35
        }
      },
      "source": [
        "dataset.target.shape"
      ],
      "execution_count": 4,
      "outputs": [
        {
          "output_type": "execute_result",
          "data": {
            "text/plain": [
              "(506,)"
            ]
          },
          "metadata": {
            "tags": []
          },
          "execution_count": 4
        }
      ]
    },
    {
      "cell_type": "markdown",
      "metadata": {
        "id": "47RJI-AjLkA9",
        "colab_type": "text"
      },
      "source": [
        "## Quantile transform\n",
        "\n",
        "This method transforms the features to follow a uniform or a normal distribution. Therefore, for a given feature, this transformation tends to spread out the most frequent values. It also reduces the impact of (marginal) outliers: this is therefore a robust preprocessing scheme.\n",
        "\n",
        "Reference: https://scikit-learn.org/"
      ]
    },
    {
      "cell_type": "code",
      "metadata": {
        "id": "agQW_amRLFvG",
        "colab_type": "code",
        "colab": {}
      },
      "source": [
        "from sklearn.preprocessing import QuantileTransformer, quantile_transform\n",
        "X = dataset.data\n",
        "y = dataset.target\n",
        "y_temp = quantile_transform(y.reshape(-1,1),\n",
        "                                n_quantiles=300,\n",
        "                                output_distribution='normal',\n",
        "                                copy=True)\n",
        "\n",
        "y_processed = y\n",
        "\n",
        "X_processed = X"
      ],
      "execution_count": 0,
      "outputs": []
    },
    {
      "cell_type": "code",
      "metadata": {
        "id": "MsXowRtnL5bE",
        "colab_type": "code",
        "outputId": "d05f96d5-06a5-48ef-947f-f80ef8010e19",
        "colab": {
          "base_uri": "https://localhost:8080/",
          "height": 721
        }
      },
      "source": [
        "fig, ax = plt.subplots(1,2, figsize=(12,12))\n",
        "sns.distplot(y, ax=ax[0])\n",
        "sns.distplot(y_temp, ax=ax[1])"
      ],
      "execution_count": 6,
      "outputs": [
        {
          "output_type": "execute_result",
          "data": {
            "text/plain": [
              "<matplotlib.axes._subplots.AxesSubplot at 0x7f4697cd9400>"
            ]
          },
          "metadata": {
            "tags": []
          },
          "execution_count": 6
        },
        {
          "output_type": "display_data",
          "data": {
            "image/png": "[encoded data removed]",
            "text/plain": [
              "<Figure size 864x864 with 2 Axes>"
            ]
          },
          "metadata": {
            "tags": [],
            "needs_background": "light"
          }
        }
      ]
    },
    {
      "cell_type": "code",
      "metadata": {
        "id": "YjpdofVyMgNx",
        "colab_type": "code",
        "outputId": "fee2407c-124f-4252-a4e6-bc5db783ba91",
        "colab": {
          "base_uri": "https://localhost:8080/",
          "height": 35
        }
      },
      "source": [
        "X.shape"
      ],
      "execution_count": 7,
      "outputs": [
        {
          "output_type": "execute_result",
          "data": {
            "text/plain": [
              "(506, 13)"
            ]
          },
          "metadata": {
            "tags": []
          },
          "execution_count": 7
        }
      ]
    },
    {
      "cell_type": "markdown",
      "metadata": {
        "id": "WMpYaosiZu65",
        "colab_type": "text"
      },
      "source": [
        "## Effect on Models"
      ]
    },
    {
      "cell_type": "code",
      "metadata": {
        "id": "xbgf3VFIOV8m",
        "colab_type": "code",
        "outputId": "01a730e5-4ccd-411f-e6ff-2fd067c0d360",
        "colab": {
          "base_uri": "https://localhost:8080/",
          "height": 35
        }
      },
      "source": [
        "sum(np.isnan(X))"
      ],
      "execution_count": 9,
      "outputs": [
        {
          "output_type": "execute_result",
          "data": {
            "text/plain": [
              "array([0, 0, 0, 0, 0, 0, 0, 0, 0, 0, 0, 0, 0])"
            ]
          },
          "metadata": {
            "tags": []
          },
          "execution_count": 9
        }
      ]
    },
    {
      "cell_type": "code",
      "metadata": {
        "id": "WWI5KD0iZunM",
        "colab_type": "code",
        "outputId": "4125e2cd-274a-4f17-b13e-7384b00c497e",
        "colab": {
          "base_uri": "https://localhost:8080/",
          "height": 35
        }
      },
      "source": [
        "from sklearn.model_selection import train_test_split\n",
        "X_train, X_test, y_train, y_test = train_test_split(X,\n",
        "                                                    y,\n",
        "                                                    test_size=0.2)\n",
        "\n",
        "X_train.shape, X_test.shape"
      ],
      "execution_count": 10,
      "outputs": [
        {
          "output_type": "execute_result",
          "data": {
            "text/plain": [
              "((404, 13), (102, 13))"
            ]
          },
          "metadata": {
            "tags": []
          },
          "execution_count": 10
        }
      ]
    },
    {
      "cell_type": "code",
      "metadata": {
        "id": "vTb53zNHOuUF",
        "colab_type": "code",
        "outputId": "81d123c0-c837-4a07-ea04-1122634aa9e7",
        "colab": {
          "base_uri": "https://localhost:8080/",
          "height": 35
        }
      },
      "source": [
        "X_train_processed, X_test_processed, y_train_processed, y_test_processed = train_test_split(X_processed,\n",
        "                                                    y_processed,\n",
        "                                                    test_size=0.2)\n",
        "\n",
        "X_train_processed.shape, X_test_processed.shape"
      ],
      "execution_count": 11,
      "outputs": [
        {
          "output_type": "execute_result",
          "data": {
            "text/plain": [
              "((404, 13), (102, 13))"
            ]
          },
          "metadata": {
            "tags": []
          },
          "execution_count": 11
        }
      ]
    },
    {
      "cell_type": "code",
      "metadata": {
        "id": "RyympUdFZxTJ",
        "colab_type": "code",
        "colab": {}
      },
      "source": [
        "from sklearn.preprocessing import StandardScaler\n",
        "obj = StandardScaler()\n",
        "X_train = obj.fit_transform(X_train)\n",
        "X_test = obj.transform(X_test)"
      ],
      "execution_count": 0,
      "outputs": []
    },
    {
      "cell_type": "code",
      "metadata": {
        "id": "OHbzGXF0Posd",
        "colab_type": "code",
        "colab": {}
      },
      "source": [
        "from sklearn.preprocessing import StandardScaler\n",
        "obj = StandardScaler()\n",
        "X_train_processed = obj.fit_transform(X_train_processed)\n",
        "X_test_processed = obj.transform(X_test_processed)"
      ],
      "execution_count": 0,
      "outputs": []
    },
    {
      "cell_type": "code",
      "metadata": {
        "id": "y9YKmj8EbE0L",
        "colab_type": "code",
        "colab": {}
      },
      "source": [
        "from sklearn.metrics import mean_squared_error\n",
        "from sklearn.compose import TransformedTargetRegressor"
      ],
      "execution_count": 0,
      "outputs": []
    },
    {
      "cell_type": "code",
      "metadata": {
        "id": "tsRG3K5l8t_J",
        "colab_type": "code",
        "outputId": "c0b7eef0-c690-449f-db16-c283e8ee976b",
        "colab": {
          "base_uri": "https://localhost:8080/",
          "height": 52
        }
      },
      "source": [
        "from sklearn.linear_model import LinearRegression\n",
        "model = LinearRegression()\n",
        "model = TransformedTargetRegressor( regressor=model,\n",
        "                                    transformer=QuantileTransformer(n_quantiles=300,\n",
        "                                                                    output_distribution='normal'))\n",
        "model.fit(X_train,y_train)\n",
        "y_pred = model.predict(X_test)\n",
        "y_pred = np.round(y_pred).flatten()\n",
        "print(mean_squared_error(y_test, y_pred))\n",
        "\n",
        "model.fit(X_train_processed,y_train_processed)\n",
        "y_pred_processed = model.predict(X_test_processed)\n",
        "y_pred_processed = np.round(y_pred_processed).flatten()\n",
        "print(mean_squared_error(y_test_processed, y_pred_processed))\n"
      ],
      "execution_count": 15,
      "outputs": [
        {
          "output_type": "stream",
          "text": [
            "34.37186274509803\n",
            "25.614901960784316\n"
          ],
          "name": "stdout"
        }
      ]
    },
    {
      "cell_type": "code",
      "metadata": {
        "id": "2HgLWOz-9Uda",
        "colab_type": "code",
        "outputId": "81104cb5-1bad-4320-e2af-c3f36ae9f42a",
        "colab": {
          "base_uri": "https://localhost:8080/",
          "height": 52
        }
      },
      "source": [
        "from sklearn.linear_model import RidgeCV\n",
        "model = RidgeCV()\n",
        "model = TransformedTargetRegressor( regressor=model,\n",
        "                                    transformer=QuantileTransformer(n_quantiles=300,\n",
        "                                                                    output_distribution='normal'))\n",
        "model.fit(X_train,y_train)\n",
        "y_pred = model.predict(X_test)\n",
        "y_pred = np.round(y_pred).flatten()\n",
        "print(mean_squared_error(y_test, y_pred))\n",
        "\n",
        "model.fit(X_train_processed,y_train_processed)\n",
        "y_pred_processed = model.predict(X_test_processed)\n",
        "y_pred_processed = np.round(y_pred_processed).flatten()\n",
        "print(mean_squared_error(y_test_processed, y_pred_processed))\n",
        "\n"
      ],
      "execution_count": 16,
      "outputs": [
        {
          "output_type": "stream",
          "text": [
            "34.14833333333333\n",
            "24.75803921568628\n"
          ],
          "name": "stdout"
        }
      ]
    },
    {
      "cell_type": "code",
      "metadata": {
        "id": "gS9bIfAB9eKW",
        "colab_type": "code",
        "outputId": "d1a7459c-c196-49a2-c450-75c15fde07cd",
        "colab": {
          "base_uri": "https://localhost:8080/",
          "height": 52
        }
      },
      "source": [
        "from sklearn.linear_model import Ridge\n",
        "model = RidgeCV()\n",
        "model = TransformedTargetRegressor( regressor=model,\n",
        "                                    transformer=QuantileTransformer(n_quantiles=300,\n",
        "                                                                    output_distribution='normal'))\n",
        "model.fit(X_train,y_train)\n",
        "y_pred = model.predict(X_test)\n",
        "y_pred = np.round(y_pred).flatten()\n",
        "print(mean_squared_error(y_test, y_pred))\n",
        "\n",
        "model.fit(X_train_processed,y_train_processed)\n",
        "y_pred_processed = model.predict(X_test_processed)\n",
        "y_pred_processed = np.round(y_pred_processed).flatten()\n",
        "print(mean_squared_error(y_test_processed, y_pred_processed))\n",
        "\n"
      ],
      "execution_count": 17,
      "outputs": [
        {
          "output_type": "stream",
          "text": [
            "34.14833333333333\n",
            "24.75803921568628\n"
          ],
          "name": "stdout"
        }
      ]
    },
    {
      "cell_type": "code",
      "metadata": {
        "id": "bZLwAZRI9vl3",
        "colab_type": "code",
        "outputId": "234121f5-1c14-44b5-de46-c329a5ab7d71",
        "colab": {
          "base_uri": "https://localhost:8080/",
          "height": 52
        }
      },
      "source": [
        "from sklearn.svm import SVR\n",
        "model = SVR()\n",
        "model = TransformedTargetRegressor( regressor=model,\n",
        "                                    transformer=QuantileTransformer(n_quantiles=300,\n",
        "                                                                    output_distribution='normal'))\n",
        "model.fit(X_train,y_train)\n",
        "y_pred = model.predict(X_test)\n",
        "y_pred = np.round(y_pred).flatten()\n",
        "print(mean_squared_error(y_test, y_pred))\n",
        "\n",
        "model.fit(X_train_processed,y_train_processed)\n",
        "y_pred_processed = model.predict(X_test_processed)\n",
        "y_pred_processed = np.round(y_pred_processed).flatten()\n",
        "print(mean_squared_error(y_test_processed, y_pred_processed))\n",
        "\n"
      ],
      "execution_count": 18,
      "outputs": [
        {
          "output_type": "stream",
          "text": [
            "9.881666666666666\n",
            "7.8090196078431395\n"
          ],
          "name": "stdout"
        }
      ]
    },
    {
      "cell_type": "code",
      "metadata": {
        "id": "RO5oc4UJ9ykm",
        "colab_type": "code",
        "outputId": "4c820974-d682-44ff-a046-2ab1c86083a1",
        "colab": {
          "base_uri": "https://localhost:8080/",
          "height": 107
        }
      },
      "source": [
        "from sklearn.neural_network import MLPRegressor\n",
        "model = MLPRegressor()\n",
        "model = TransformedTargetRegressor( regressor=model,\n",
        "                                    transformer=QuantileTransformer(n_quantiles=300,\n",
        "                                                                    output_distribution='normal'))\n",
        "model.fit(X_train,y_train)\n",
        "y_pred = model.predict(X_test)\n",
        "y_pred = np.round(y_pred).flatten()\n",
        "print(mean_squared_error(y_test, y_pred))\n",
        "\n",
        "model.fit(X_train_processed,y_train_processed)\n",
        "y_pred_processed = model.predict(X_test_processed)\n",
        "y_pred_processed = np.round(y_pred_processed).flatten()\n",
        "print(mean_squared_error(y_test_processed, y_pred_processed))"
      ],
      "execution_count": 19,
      "outputs": [
        {
          "output_type": "stream",
          "text": [
            "14.846372549019605\n",
            "24.850196078431374\n"
          ],
          "name": "stdout"
        },
        {
          "output_type": "stream",
          "text": [
            "/usr/local/lib/python3.6/dist-packages/sklearn/neural_network/_multilayer_perceptron.py:571: ConvergenceWarning: Stochastic Optimizer: Maximum iterations (200) reached and the optimization hasn't converged yet.\n",
            "  % self.max_iter, ConvergenceWarning)\n"
          ],
          "name": "stderr"
        }
      ]
    },
    {
      "cell_type": "code",
      "metadata": {
        "id": "RFKVucj790aA",
        "colab_type": "code",
        "outputId": "203112a1-9a1e-4435-f2bb-60175fe7182f",
        "colab": {
          "base_uri": "https://localhost:8080/",
          "height": 121
        }
      },
      "source": [
        "from sklearn.svm import LinearSVR\n",
        "model = LinearSVR()\n",
        "model = TransformedTargetRegressor( regressor=model,\n",
        "                                    transformer=QuantileTransformer(n_quantiles=300,\n",
        "                                                                    output_distribution='normal'))\n",
        "model.fit(X_train,y_train)\n",
        "y_pred = model.predict(X_test)\n",
        "y_pred = np.round(y_pred).flatten()\n",
        "print(mean_squared_error(y_test, y_pred))\n",
        "\n",
        "model.fit(X_train_processed,y_train_processed)\n",
        "y_pred_processed = model.predict(X_test_processed)\n",
        "y_pred_processed = np.round(y_pred_processed).flatten()\n",
        "print(mean_squared_error(y_test_processed, y_pred_processed))"
      ],
      "execution_count": 20,
      "outputs": [
        {
          "output_type": "stream",
          "text": [
            "13.156176470588235\n",
            "14.601176470588234\n"
          ],
          "name": "stdout"
        },
        {
          "output_type": "stream",
          "text": [
            "/usr/local/lib/python3.6/dist-packages/sklearn/svm/_base.py:947: ConvergenceWarning: Liblinear failed to converge, increase the number of iterations.\n",
            "  \"the number of iterations.\", ConvergenceWarning)\n",
            "/usr/local/lib/python3.6/dist-packages/sklearn/svm/_base.py:947: ConvergenceWarning: Liblinear failed to converge, increase the number of iterations.\n",
            "  \"the number of iterations.\", ConvergenceWarning)\n"
          ],
          "name": "stderr"
        }
      ]
    },
    {
      "cell_type": "code",
      "metadata": {
        "id": "wgb5-ZI19274",
        "colab_type": "code",
        "outputId": "c526f498-e2fb-4dfa-cad6-b40354dde1bb",
        "colab": {
          "base_uri": "https://localhost:8080/",
          "height": 52
        }
      },
      "source": [
        "from sklearn.ensemble import RandomForestRegressor\n",
        "model = RandomForestRegressor()\n",
        "model = TransformedTargetRegressor( regressor=model,\n",
        "                                    transformer=QuantileTransformer(n_quantiles=300,\n",
        "                                                                    output_distribution='normal'))\n",
        "model.fit(X_train,y_train)\n",
        "y_pred = model.predict(X_test)\n",
        "y_pred = np.round(y_pred).flatten()\n",
        "print(mean_squared_error(y_test, y_pred))\n",
        "\n",
        "model.fit(X_train_processed,y_train_processed)\n",
        "y_pred_processed = model.predict(X_test_processed)\n",
        "y_pred_processed = np.round(y_pred_processed).flatten()\n",
        "print(mean_squared_error(y_test_processed, y_pred_processed))"
      ],
      "execution_count": 21,
      "outputs": [
        {
          "output_type": "stream",
          "text": [
            "16.979705882352945\n",
            "16.403137254901967\n"
          ],
          "name": "stdout"
        }
      ]
    },
    {
      "cell_type": "code",
      "metadata": {
        "id": "hrF5V_7_94hA",
        "colab_type": "code",
        "outputId": "69520a72-f0be-490b-fba3-b02fee0c5fc4",
        "colab": {
          "base_uri": "https://localhost:8080/",
          "height": 52
        }
      },
      "source": [
        "from sklearn.tree import DecisionTreeRegressor\n",
        "model = DecisionTreeRegressor()\n",
        "model = TransformedTargetRegressor( regressor=model,\n",
        "                                    transformer=QuantileTransformer(n_quantiles=300,\n",
        "                                                                    output_distribution='normal'))\n",
        "model.fit(X_train,y_train)\n",
        "y_pred = model.predict(X_test)\n",
        "y_pred = np.round(y_pred).flatten()\n",
        "print(mean_squared_error(y_test, y_pred))\n",
        "\n",
        "model.fit(X_train_processed,y_train_processed)\n",
        "y_pred_processed = model.predict(X_test_processed)\n",
        "y_pred_processed = np.round(y_pred_processed).flatten()\n",
        "print(mean_squared_error(y_test_processed, y_pred_processed))"
      ],
      "execution_count": 22,
      "outputs": [
        {
          "output_type": "stream",
          "text": [
            "16.150294117647057\n",
            "22.289411764705882\n"
          ],
          "name": "stdout"
        }
      ]
    },
    {
      "cell_type": "code",
      "metadata": {
        "id": "UpVGb0-p991g",
        "colab_type": "code",
        "outputId": "8ea903e2-47b7-4b16-bef4-741423da6b66",
        "colab": {
          "base_uri": "https://localhost:8080/",
          "height": 52
        }
      },
      "source": [
        "from sklearn.linear_model import SGDRegressor\n",
        "model = SGDRegressor()\n",
        "model = TransformedTargetRegressor( regressor=model,\n",
        "                                    transformer=QuantileTransformer(n_quantiles=300,\n",
        "                                                                    output_distribution='normal'))\n",
        "model.fit(X_train,y_train)\n",
        "y_pred = model.predict(X_test)\n",
        "y_pred = np.round(y_pred).flatten()\n",
        "print(mean_squared_error(y_test, y_pred))\n",
        "\n",
        "model.fit(X_train_processed,y_train_processed)\n",
        "y_pred_processed = model.predict(X_test_processed)\n",
        "y_pred_processed = np.round(y_pred_processed).flatten()\n",
        "print(mean_squared_error(y_test_processed, y_pred_processed))\n"
      ],
      "execution_count": 23,
      "outputs": [
        {
          "output_type": "stream",
          "text": [
            "28.87578431372549\n",
            "24.04235294117647\n"
          ],
          "name": "stdout"
        }
      ]
    },
    {
      "cell_type": "code",
      "metadata": {
        "id": "HyY7cGvoSHSO",
        "colab_type": "code",
        "colab": {}
      },
      "source": [
        ""
      ],
      "execution_count": 0,
      "outputs": []
    }
  ]
}