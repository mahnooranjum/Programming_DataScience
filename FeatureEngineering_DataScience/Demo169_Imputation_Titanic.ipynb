{
  "nbformat": 4,
  "nbformat_minor": 0,
  "metadata": {
    "kernelspec": {
      "display_name": "Python 3",
      "language": "python",
      "name": "python3"
    },
    "language_info": {
      "codemirror_mode": {
        "name": "ipython",
        "version": 3
      },
      "file_extension": ".py",
      "mimetype": "text/x-python",
      "name": "python",
      "nbconvert_exporter": "python",
      "pygments_lexer": "ipython3",
      "version": "3.6.1"
    },
    "toc": {
      "nav_menu": {},
      "number_sections": true,
      "sideBar": true,
      "skip_h1_title": false,
      "toc_cell": false,
      "toc_position": {
        "height": "556px",
        "left": "0px",
        "right": "1156.4px",
        "top": "107px",
        "width": "278px"
      },
      "toc_section_display": "block",
      "toc_window_display": false
    },
    "colab": {
      "name": "Demo169_Imputation_Titanic.ipynb",
      "provenance": [],
      "collapsed_sections": []
    }
  },
  "cells": [
    {
      "cell_type": "markdown",
      "metadata": {
        "id": "HqZjp_F-E9eC",
        "colab_type": "text"
      },
      "source": [
        "## Imputation\n",
        "\n",
        "- Replacing missing data with statistical estimates of the missing values is called imputation \n",
        "\n",
        "- Imputation completes a dataset and removes missing values \n",
        "\n",
        "- Replace by mean if the variable has a Normal distribution \n",
        "\n",
        "- Replace by median if the variable has a Skewed distribution \n",
        "\n",
        "\n",
        "### When to use it?\n",
        "\n",
        "- When data are missing completely at random (MCAR) \n",
        "\n",
        "### Pros\n",
        "\n",
        "- Easy\n",
        "- Completes the dataset and does not loose much information\n",
        "\n",
        "### Cons\n",
        "\n",
        "- Distortion of variance \n",
        "- Change of covariance wrt other variables \n",
        "\n",
        "\n",
        "### Key Takeaway\n",
        "\n",
        "- We usually create a new variable for the missing data to capture the relations where data is not MCAR \n",
        "\n",
        "- So imputation handles the MCAR ascpect, whereas the new variable captures all the other statistical relations \n"
      ]
    },
    {
      "cell_type": "code",
      "metadata": {
        "id": "-vMX4aOYQjaN",
        "colab_type": "code",
        "colab": {}
      },
      "source": [
        "import pandas as pd\n",
        "import matplotlib.pyplot as plt\n",
        "import seaborn as sns\n",
        "import numpy as np"
      ],
      "execution_count": 64,
      "outputs": []
    },
    {
      "cell_type": "code",
      "metadata": {
        "id": "Ds9gl_oFEATI",
        "colab_type": "code",
        "colab": {
          "base_uri": "https://localhost:8080/",
          "height": 35
        },
        "outputId": "a9ab1f49-8c44-4ad3-9313-2436fadd7274"
      },
      "source": [
        "from google.colab import drive\n",
        "drive.mount('/content/gdrive')\n",
        "data = pd.read_csv(\"gdrive/My Drive/Colab Notebooks/FeatureEngineering/train.csv\")\n"
      ],
      "execution_count": 65,
      "outputs": [
        {
          "output_type": "stream",
          "text": [
            "Drive already mounted at /content/gdrive; to attempt to forcibly remount, call drive.mount(\"/content/gdrive\", force_remount=True).\n"
          ],
          "name": "stdout"
        }
      ]
    },
    {
      "cell_type": "markdown",
      "metadata": {
        "id": "07sOx5ehE9eJ",
        "colab_type": "text"
      },
      "source": [
        "## Titanic"
      ]
    },
    {
      "cell_type": "code",
      "metadata": {
        "id": "OQY6ztbsE9eK",
        "colab_type": "code",
        "colab": {
          "base_uri": "https://localhost:8080/",
          "height": 202
        },
        "outputId": "f053634f-5f3d-4aa2-c107-f9239b63ce44"
      },
      "source": [
        "data = data[['Age', 'Fare','Survived']]\n",
        "data.head()"
      ],
      "execution_count": 66,
      "outputs": [
        {
          "output_type": "execute_result",
          "data": {
            "text/html": [
              "<div>\n",
              "<style scoped>\n",
              "    .dataframe tbody tr th:only-of-type {\n",
              "        vertical-align: middle;\n",
              "    }\n",
              "\n",
              "    .dataframe tbody tr th {\n",
              "        vertical-align: top;\n",
              "    }\n",
              "\n",
              "    .dataframe thead th {\n",
              "        text-align: right;\n",
              "    }\n",
              "</style>\n",
              "<table border=\"1\" class=\"dataframe\">\n",
              "  <thead>\n",
              "    <tr style=\"text-align: right;\">\n",
              "      <th></th>\n",
              "      <th>Age</th>\n",
              "      <th>Fare</th>\n",
              "      <th>Survived</th>\n",
              "    </tr>\n",
              "  </thead>\n",
              "  <tbody>\n",
              "    <tr>\n",
              "      <th>0</th>\n",
              "      <td>22.0</td>\n",
              "      <td>7.2500</td>\n",
              "      <td>0</td>\n",
              "    </tr>\n",
              "    <tr>\n",
              "      <th>1</th>\n",
              "      <td>38.0</td>\n",
              "      <td>71.2833</td>\n",
              "      <td>1</td>\n",
              "    </tr>\n",
              "    <tr>\n",
              "      <th>2</th>\n",
              "      <td>26.0</td>\n",
              "      <td>7.9250</td>\n",
              "      <td>1</td>\n",
              "    </tr>\n",
              "    <tr>\n",
              "      <th>3</th>\n",
              "      <td>35.0</td>\n",
              "      <td>53.1000</td>\n",
              "      <td>1</td>\n",
              "    </tr>\n",
              "    <tr>\n",
              "      <th>4</th>\n",
              "      <td>35.0</td>\n",
              "      <td>8.0500</td>\n",
              "      <td>0</td>\n",
              "    </tr>\n",
              "  </tbody>\n",
              "</table>\n",
              "</div>"
            ],
            "text/plain": [
              "    Age     Fare  Survived\n",
              "0  22.0   7.2500         0\n",
              "1  38.0  71.2833         1\n",
              "2  26.0   7.9250         1\n",
              "3  35.0  53.1000         1\n",
              "4  35.0   8.0500         0"
            ]
          },
          "metadata": {
            "tags": []
          },
          "execution_count": 66
        }
      ]
    },
    {
      "cell_type": "code",
      "metadata": {
        "id": "fv-7VBtDE9eO",
        "colab_type": "code",
        "colab": {
          "base_uri": "https://localhost:8080/",
          "height": 87
        },
        "outputId": "23b9bf18-a71b-4942-dd50-78970f6e9058"
      },
      "source": [
        "data.isnull().mean()"
      ],
      "execution_count": 67,
      "outputs": [
        {
          "output_type": "execute_result",
          "data": {
            "text/plain": [
              "Age         0.198653\n",
              "Fare        0.000000\n",
              "Survived    0.000000\n",
              "dtype: float64"
            ]
          },
          "metadata": {
            "tags": []
          },
          "execution_count": 67
        }
      ]
    },
    {
      "cell_type": "code",
      "metadata": {
        "id": "iiSci5I4E9eR",
        "colab_type": "code",
        "colab": {
          "base_uri": "https://localhost:8080/",
          "height": 35
        },
        "outputId": "66573781-1680-4036-ca41-07765c877d1c"
      },
      "source": [
        "from sklearn.model_selection import train_test_split\n",
        "X_train, X_test, y_train, y_test = train_test_split(data[['Age', 'Fare']], data['Survived'], test_size=0.2)\n",
        "X_train.shape, X_test.shape"
      ],
      "execution_count": 68,
      "outputs": [
        {
          "output_type": "execute_result",
          "data": {
            "text/plain": [
              "((712, 2), (179, 2))"
            ]
          },
          "metadata": {
            "tags": []
          },
          "execution_count": 68
        }
      ]
    },
    {
      "cell_type": "code",
      "metadata": {
        "id": "A2exy_RSE9eU",
        "colab_type": "code",
        "colab": {}
      },
      "source": [
        "def impute(df, variable, value, text):\n",
        "    df[variable+\"_\"+text] = df[variable].fillna(value)"
      ],
      "execution_count": 69,
      "outputs": []
    },
    {
      "cell_type": "code",
      "metadata": {
        "id": "mgJSQBBT-iPM",
        "colab_type": "code",
        "colab": {
          "base_uri": "https://localhost:8080/",
          "height": 297
        },
        "outputId": "1d909655-6984-4c7f-bf25-0ab3bfa7543d"
      },
      "source": [
        "sns.distplot(X_train['Age'])"
      ],
      "execution_count": 70,
      "outputs": [
        {
          "output_type": "execute_result",
          "data": {
            "text/plain": [
              "<matplotlib.axes._subplots.AxesSubplot at 0x7fb53e65b780>"
            ]
          },
          "metadata": {
            "tags": []
          },
          "execution_count": 70
        },
        {
          "output_type": "display_data",
          "data": {
            "image/png": "[encoded data removed]",
            "text/plain": [
              "<Figure size 432x288 with 1 Axes>"
            ]
          },
          "metadata": {
            "tags": [],
            "needs_background": "light"
          }
        }
      ]
    },
    {
      "cell_type": "code",
      "metadata": {
        "id": "j08xpbjYE9eX",
        "colab_type": "code",
        "colab": {}
      },
      "source": [
        "from sklearn.impute import SimpleImputer\n",
        "obj = SimpleImputer(missing_values = np.nan, strategy= 'constant',  fill_value = 0)\n",
        "X_train_0 = obj.fit_transform(X_train)\n",
        "X_test_0 = obj.transform(X_test)"
      ],
      "execution_count": 71,
      "outputs": []
    },
    {
      "cell_type": "code",
      "metadata": {
        "id": "3CJpebxW_tky",
        "colab_type": "code",
        "colab": {
          "base_uri": "https://localhost:8080/",
          "height": 623
        },
        "outputId": "81894e74-1f0c-482f-8b09-e6892cfd8190"
      },
      "source": [
        "fig, ax = plt.subplots(1,2, figsize=(10,10))\n",
        "sns.distplot(X_train['Age'], ax = ax[0], color='blue')\n",
        "sns.distplot(X_train_0[:,0], ax = ax[1], color='red')"
      ],
      "execution_count": 72,
      "outputs": [
        {
          "output_type": "execute_result",
          "data": {
            "text/plain": [
              "<matplotlib.axes._subplots.AxesSubplot at 0x7fb53f4b5400>"
            ]
          },
          "metadata": {
            "tags": []
          },
          "execution_count": 72
        },
        {
          "output_type": "display_data",
          "data": {
            "image/png": "[encoded data removed]",
            "text/plain": [
              "<Figure size 720x720 with 2 Axes>"
            ]
          },
          "metadata": {
            "tags": [],
            "needs_background": "light"
          }
        }
      ]
    },
    {
      "cell_type": "code",
      "metadata": {
        "colab_type": "code",
        "id": "-gYAFiVTBVs_",
        "colab": {}
      },
      "source": [
        "from sklearn.impute import SimpleImputer\n",
        "obj = SimpleImputer(missing_values = np.nan, strategy= 'mean')\n",
        "X_train_mean = obj.fit_transform(X_train)\n",
        "X_test_mean = obj.transform(X_test)"
      ],
      "execution_count": 73,
      "outputs": []
    },
    {
      "cell_type": "code",
      "metadata": {
        "colab_type": "code",
        "id": "IkHw3hgMBVtC",
        "colab": {
          "base_uri": "https://localhost:8080/",
          "height": 623
        },
        "outputId": "56e06d91-a34f-416d-8aa8-65d8981bebd7"
      },
      "source": [
        "fig, ax = plt.subplots(1,2, figsize=(10,10))\n",
        "sns.distplot(X_train['Age'], ax = ax[0], color='blue')\n",
        "sns.distplot(X_train_mean[:,0], ax = ax[1], color='red')"
      ],
      "execution_count": 74,
      "outputs": [
        {
          "output_type": "execute_result",
          "data": {
            "text/plain": [
              "<matplotlib.axes._subplots.AxesSubplot at 0x7fb53ad30358>"
            ]
          },
          "metadata": {
            "tags": []
          },
          "execution_count": 74
        },
        {
          "output_type": "display_data",
          "data": {
            "image/png": "[encoded data removed]",
            "text/plain": [
              "<Figure size 720x720 with 2 Axes>"
            ]
          },
          "metadata": {
            "tags": [],
            "needs_background": "light"
          }
        }
      ]
    },
    {
      "cell_type": "code",
      "metadata": {
        "colab_type": "code",
        "id": "GHgTIAa7BdiA",
        "colab": {}
      },
      "source": [
        "from sklearn.impute import SimpleImputer\n",
        "obj = SimpleImputer(missing_values = np.nan, strategy= 'median')\n",
        "X_train_median = obj.fit_transform(X_train)\n",
        "X_test_median = obj.transform(X_test)"
      ],
      "execution_count": 75,
      "outputs": []
    },
    {
      "cell_type": "code",
      "metadata": {
        "colab_type": "code",
        "id": "EtYvirMIBdiF",
        "colab": {
          "base_uri": "https://localhost:8080/",
          "height": 623
        },
        "outputId": "f2e0b152-dcb7-47bc-c0db-92877147fb26"
      },
      "source": [
        "fig, ax = plt.subplots(1,2, figsize=(10,10))\n",
        "sns.distplot(X_train['Age'], ax = ax[0], color='blue')\n",
        "sns.distplot(X_train_median[:,0], ax = ax[1], color='red')"
      ],
      "execution_count": 76,
      "outputs": [
        {
          "output_type": "execute_result",
          "data": {
            "text/plain": [
              "<matplotlib.axes._subplots.AxesSubplot at 0x7fb53abd6240>"
            ]
          },
          "metadata": {
            "tags": []
          },
          "execution_count": 76
        },
        {
          "output_type": "display_data",
          "data": {
            "image/png": "[encoded data removed]",
            "text/plain": [
              "<Figure size 720x720 with 2 Axes>"
            ]
          },
          "metadata": {
            "tags": [],
            "needs_background": "light"
          }
        }
      ]
    },
    {
      "cell_type": "code",
      "metadata": {
        "colab_type": "code",
        "id": "0kp8ZIH8BoVK",
        "colab": {}
      },
      "source": [
        "from sklearn.impute import SimpleImputer\n",
        "obj = SimpleImputer(missing_values = np.nan, strategy= 'most_frequent')\n",
        "X_train_mode = obj.fit_transform(X_train)\n",
        "X_test_mode = obj.transform(X_test)"
      ],
      "execution_count": 77,
      "outputs": []
    },
    {
      "cell_type": "code",
      "metadata": {
        "colab_type": "code",
        "id": "bLL2F8XABoVM",
        "colab": {
          "base_uri": "https://localhost:8080/",
          "height": 623
        },
        "outputId": "22e22d97-9a96-4857-a365-01e66aa804f0"
      },
      "source": [
        "fig, ax = plt.subplots(1,2, figsize=(10,10))\n",
        "sns.distplot(X_train['Age'], ax = ax[0], color='blue')\n",
        "sns.distplot(X_train_mode[:,0], ax = ax[1], color='red')"
      ],
      "execution_count": 78,
      "outputs": [
        {
          "output_type": "execute_result",
          "data": {
            "text/plain": [
              "<matplotlib.axes._subplots.AxesSubplot at 0x7fb53aafb0b8>"
            ]
          },
          "metadata": {
            "tags": []
          },
          "execution_count": 78
        },
        {
          "output_type": "display_data",
          "data": {
            "image/png": "[encoded data removed]",
            "text/plain": [
              "<Figure size 720x720 with 2 Axes>"
            ]
          },
          "metadata": {
            "tags": [],
            "needs_background": "light"
          }
        }
      ]
    },
    {
      "cell_type": "code",
      "metadata": {
        "id": "Bk4UxINwE9ef",
        "colab_type": "code",
        "colab": {
          "base_uri": "https://localhost:8080/",
          "height": 104
        },
        "outputId": "42690f85-8dd8-4e6d-e5f0-0a924deec7d6"
      },
      "source": [
        "print('Std original: ', X_train['Age'].std())\n",
        "print('Std 0: ', X_train_0[:,0].std())\n",
        "print('Std mean: ', X_train_mean[:,0].std())\n",
        "print('Std median: ', X_train_median[:,0].std())\n",
        "print('Std mode: ', X_train_mode[:,0].std())"
      ],
      "execution_count": 79,
      "outputs": [
        {
          "output_type": "stream",
          "text": [
            "Std original:  14.360106199255556\n",
            "Std 0:  17.332297646958246\n",
            "Std mean:  12.949617385198815\n",
            "Std median:  12.96537284721429\n",
            "Std mode:  13.13407082017211\n"
          ],
          "name": "stdout"
        }
      ]
    },
    {
      "cell_type": "markdown",
      "metadata": {
        "id": "-nrFF8GkE9em",
        "colab_type": "text"
      },
      "source": [
        "### Model performance "
      ]
    },
    {
      "cell_type": "code",
      "metadata": {
        "id": "tJ-qLsRuCmlV",
        "colab_type": "code",
        "colab": {}
      },
      "source": [
        "from sklearn.metrics import accuracy_score"
      ],
      "execution_count": 80,
      "outputs": []
    },
    {
      "cell_type": "code",
      "metadata": {
        "id": "tsRG3K5l8t_J",
        "colab_type": "code",
        "colab": {
          "base_uri": "https://localhost:8080/",
          "height": 87
        },
        "outputId": "1a80eb63-5e27-4512-802a-a87d3ef82d05"
      },
      "source": [
        "from sklearn.linear_model import LogisticRegression\n",
        "classifier = LogisticRegression()\n",
        "classifier.fit(X_train_0,y_train)\n",
        "y_pred = classifier.predict(X_test_0)\n",
        "y_pred = np.round(y_pred).flatten()\n",
        "print(accuracy_score(y_test, y_pred))\n",
        "\n",
        "classifier.fit(X_train_mean,y_train)\n",
        "y_pred = classifier.predict(X_test_mean)\n",
        "y_pred = np.round(y_pred).flatten()\n",
        "print(accuracy_score(y_test, y_pred))\n",
        "\n",
        "classifier.fit(X_train_median,y_train)\n",
        "y_pred = classifier.predict(X_test_median)\n",
        "y_pred = np.round(y_pred).flatten()\n",
        "print(accuracy_score(y_test, y_pred))\n",
        "\n",
        "classifier.fit(X_train_mode,y_train)\n",
        "y_pred = classifier.predict(X_test_mode)\n",
        "y_pred = np.round(y_pred).flatten()\n",
        "print(accuracy_score(y_test, y_pred))"
      ],
      "execution_count": 81,
      "outputs": [
        {
          "output_type": "stream",
          "text": [
            "0.664804469273743\n",
            "0.6368715083798883\n",
            "0.6368715083798883\n",
            "0.6424581005586593\n"
          ],
          "name": "stdout"
        }
      ]
    },
    {
      "cell_type": "code",
      "metadata": {
        "id": "2HgLWOz-9Uda",
        "colab_type": "code",
        "colab": {
          "base_uri": "https://localhost:8080/",
          "height": 87
        },
        "outputId": "b7306758-ca7a-4e76-ce7d-b2c57a677253"
      },
      "source": [
        "from sklearn.linear_model import RidgeClassifierCV\n",
        "classifier = RidgeClassifierCV()\n",
        "classifier.fit(X_train_0,y_train)\n",
        "y_pred = classifier.predict(X_test_0)\n",
        "y_pred = np.round(y_pred).flatten()\n",
        "print(accuracy_score(y_test, y_pred))\n",
        "\n",
        "classifier.fit(X_train_mean,y_train)\n",
        "y_pred = classifier.predict(X_test_mean)\n",
        "y_pred = np.round(y_pred).flatten()\n",
        "print(accuracy_score(y_test, y_pred))\n",
        "\n",
        "classifier.fit(X_train_median,y_train)\n",
        "y_pred = classifier.predict(X_test_median)\n",
        "y_pred = np.round(y_pred).flatten()\n",
        "print(accuracy_score(y_test, y_pred))\n",
        "\n",
        "classifier.fit(X_train_mode,y_train)\n",
        "y_pred = classifier.predict(X_test_mode)\n",
        "y_pred = np.round(y_pred).flatten()\n",
        "print(accuracy_score(y_test, y_pred))"
      ],
      "execution_count": 82,
      "outputs": [
        {
          "output_type": "stream",
          "text": [
            "0.6536312849162011\n",
            "0.6424581005586593\n",
            "0.6480446927374302\n",
            "0.6424581005586593\n"
          ],
          "name": "stdout"
        }
      ]
    },
    {
      "cell_type": "code",
      "metadata": {
        "id": "gS9bIfAB9eKW",
        "colab_type": "code",
        "colab": {
          "base_uri": "https://localhost:8080/",
          "height": 87
        },
        "outputId": "159c9324-797f-4dc6-fdbe-872bdd7758da"
      },
      "source": [
        "from sklearn.linear_model import RidgeClassifierCV\n",
        "classifier = RidgeClassifierCV()\n",
        "classifier.fit(X_train_0,y_train)\n",
        "y_pred = classifier.predict(X_test_0)\n",
        "y_pred = np.round(y_pred).flatten()\n",
        "print(accuracy_score(y_test, y_pred))\n",
        "\n",
        "classifier.fit(X_train_mean,y_train)\n",
        "y_pred = classifier.predict(X_test_mean)\n",
        "y_pred = np.round(y_pred).flatten()\n",
        "print(accuracy_score(y_test, y_pred))\n",
        "\n",
        "classifier.fit(X_train_median,y_train)\n",
        "y_pred = classifier.predict(X_test_median)\n",
        "y_pred = np.round(y_pred).flatten()\n",
        "print(accuracy_score(y_test, y_pred))\n",
        "\n",
        "classifier.fit(X_train_mode,y_train)\n",
        "y_pred = classifier.predict(X_test_mode)\n",
        "y_pred = np.round(y_pred).flatten()\n",
        "print(accuracy_score(y_test, y_pred))"
      ],
      "execution_count": 83,
      "outputs": [
        {
          "output_type": "stream",
          "text": [
            "0.6536312849162011\n",
            "0.6424581005586593\n",
            "0.6480446927374302\n",
            "0.6424581005586593\n"
          ],
          "name": "stdout"
        }
      ]
    },
    {
      "cell_type": "code",
      "metadata": {
        "id": "bZLwAZRI9vl3",
        "colab_type": "code",
        "colab": {
          "base_uri": "https://localhost:8080/",
          "height": 87
        },
        "outputId": "70ca3dd7-71af-47b7-ab63-964dbad5e9b5"
      },
      "source": [
        "from sklearn.svm import SVC\n",
        "classifier = SVC()\n",
        "classifier.fit(X_train_0,y_train)\n",
        "y_pred = classifier.predict(X_test_0)\n",
        "y_pred = np.round(y_pred).flatten()\n",
        "print(accuracy_score(y_test, y_pred))\n",
        "\n",
        "classifier.fit(X_train_mean,y_train)\n",
        "y_pred = classifier.predict(X_test_mean)\n",
        "y_pred = np.round(y_pred).flatten()\n",
        "print(accuracy_score(y_test, y_pred))\n",
        "\n",
        "classifier.fit(X_train_median,y_train)\n",
        "y_pred = classifier.predict(X_test_median)\n",
        "y_pred = np.round(y_pred).flatten()\n",
        "print(accuracy_score(y_test, y_pred))\n",
        "\n",
        "classifier.fit(X_train_mode,y_train)\n",
        "y_pred = classifier.predict(X_test_mode)\n",
        "y_pred = np.round(y_pred).flatten()\n",
        "print(accuracy_score(y_test, y_pred))"
      ],
      "execution_count": 84,
      "outputs": [
        {
          "output_type": "stream",
          "text": [
            "0.6536312849162011\n",
            "0.6145251396648045\n",
            "0.6201117318435754\n",
            "0.6368715083798883\n"
          ],
          "name": "stdout"
        }
      ]
    },
    {
      "cell_type": "code",
      "metadata": {
        "id": "RO5oc4UJ9ykm",
        "colab_type": "code",
        "colab": {
          "base_uri": "https://localhost:8080/",
          "height": 87
        },
        "outputId": "c84c3eaf-aee4-4f0c-b9f9-9f691d9e13ff"
      },
      "source": [
        "from sklearn.neural_network import MLPClassifier\n",
        "classifier = MLPClassifier()\n",
        "classifier.fit(X_train_0,y_train)\n",
        "y_pred = classifier.predict(X_test_0)\n",
        "y_pred = np.round(y_pred).flatten()\n",
        "print(accuracy_score(y_test, y_pred))\n",
        "\n",
        "classifier.fit(X_train_mean,y_train)\n",
        "y_pred = classifier.predict(X_test_mean)\n",
        "y_pred = np.round(y_pred).flatten()\n",
        "print(accuracy_score(y_test, y_pred))\n",
        "\n",
        "classifier.fit(X_train_median,y_train)\n",
        "y_pred = classifier.predict(X_test_median)\n",
        "y_pred = np.round(y_pred).flatten()\n",
        "print(accuracy_score(y_test, y_pred))\n",
        "\n",
        "classifier.fit(X_train_mode,y_train)\n",
        "y_pred = classifier.predict(X_test_mode)\n",
        "y_pred = np.round(y_pred).flatten()\n",
        "print(accuracy_score(y_test, y_pred))"
      ],
      "execution_count": 85,
      "outputs": [
        {
          "output_type": "stream",
          "text": [
            "0.6201117318435754\n",
            "0.6201117318435754\n",
            "0.6256983240223464\n",
            "0.6312849162011173\n"
          ],
          "name": "stdout"
        }
      ]
    },
    {
      "cell_type": "code",
      "metadata": {
        "id": "RFKVucj790aA",
        "colab_type": "code",
        "colab": {
          "base_uri": "https://localhost:8080/",
          "height": 225
        },
        "outputId": "85039681-4d80-41b2-870a-1da159e63432"
      },
      "source": [
        "from sklearn.svm import LinearSVC\n",
        "classifier = LinearSVC()\n",
        "classifier.fit(X_train_0,y_train)\n",
        "y_pred = classifier.predict(X_test_0)\n",
        "y_pred = np.round(y_pred).flatten()\n",
        "print(accuracy_score(y_test, y_pred))\n",
        "\n",
        "classifier.fit(X_train_mean,y_train)\n",
        "y_pred = classifier.predict(X_test_mean)\n",
        "y_pred = np.round(y_pred).flatten()\n",
        "print(accuracy_score(y_test, y_pred))\n",
        "\n",
        "classifier.fit(X_train_median,y_train)\n",
        "y_pred = classifier.predict(X_test_median)\n",
        "y_pred = np.round(y_pred).flatten()\n",
        "print(accuracy_score(y_test, y_pred))\n",
        "\n",
        "classifier.fit(X_train_mode,y_train)\n",
        "y_pred = classifier.predict(X_test_mode)\n",
        "y_pred = np.round(y_pred).flatten()\n",
        "print(accuracy_score(y_test, y_pred))"
      ],
      "execution_count": 86,
      "outputs": [
        {
          "output_type": "stream",
          "text": [
            "0.6145251396648045\n",
            "0.6368715083798883\n",
            "0.4301675977653631\n",
            "0.41899441340782123\n"
          ],
          "name": "stdout"
        },
        {
          "output_type": "stream",
          "text": [
            "/usr/local/lib/python3.6/dist-packages/sklearn/svm/_base.py:947: ConvergenceWarning: Liblinear failed to converge, increase the number of iterations.\n",
            "  \"the number of iterations.\", ConvergenceWarning)\n",
            "/usr/local/lib/python3.6/dist-packages/sklearn/svm/_base.py:947: ConvergenceWarning: Liblinear failed to converge, increase the number of iterations.\n",
            "  \"the number of iterations.\", ConvergenceWarning)\n",
            "/usr/local/lib/python3.6/dist-packages/sklearn/svm/_base.py:947: ConvergenceWarning: Liblinear failed to converge, increase the number of iterations.\n",
            "  \"the number of iterations.\", ConvergenceWarning)\n",
            "/usr/local/lib/python3.6/dist-packages/sklearn/svm/_base.py:947: ConvergenceWarning: Liblinear failed to converge, increase the number of iterations.\n",
            "  \"the number of iterations.\", ConvergenceWarning)\n"
          ],
          "name": "stderr"
        }
      ]
    },
    {
      "cell_type": "code",
      "metadata": {
        "id": "wgb5-ZI19274",
        "colab_type": "code",
        "colab": {
          "base_uri": "https://localhost:8080/",
          "height": 87
        },
        "outputId": "b86e1a9b-8d89-407b-8058-6c4b21b82899"
      },
      "source": [
        "from sklearn.ensemble import RandomForestClassifier\n",
        "classifier = RandomForestClassifier()\n",
        "classifier.fit(X_train_0,y_train)\n",
        "y_pred = classifier.predict(X_test_0)\n",
        "y_pred = np.round(y_pred).flatten()\n",
        "print(accuracy_score(y_test, y_pred))\n",
        "\n",
        "classifier.fit(X_train_mean,y_train)\n",
        "y_pred = classifier.predict(X_test_mean)\n",
        "y_pred = np.round(y_pred).flatten()\n",
        "print(accuracy_score(y_test, y_pred))\n",
        "\n",
        "classifier.fit(X_train_median,y_train)\n",
        "y_pred = classifier.predict(X_test_median)\n",
        "y_pred = np.round(y_pred).flatten()\n",
        "print(accuracy_score(y_test, y_pred))\n",
        "\n",
        "classifier.fit(X_train_mode,y_train)\n",
        "y_pred = classifier.predict(X_test_mode)\n",
        "y_pred = np.round(y_pred).flatten()\n",
        "print(accuracy_score(y_test, y_pred))"
      ],
      "execution_count": 87,
      "outputs": [
        {
          "output_type": "stream",
          "text": [
            "0.6033519553072626\n",
            "0.6089385474860335\n",
            "0.6424581005586593\n",
            "0.6145251396648045\n"
          ],
          "name": "stdout"
        }
      ]
    },
    {
      "cell_type": "code",
      "metadata": {
        "id": "hrF5V_7_94hA",
        "colab_type": "code",
        "colab": {
          "base_uri": "https://localhost:8080/",
          "height": 87
        },
        "outputId": "d84c0a79-a288-45aa-cbea-4740d4a9c4ae"
      },
      "source": [
        "from sklearn.tree import DecisionTreeClassifier\n",
        "classifier = DecisionTreeClassifier()\n",
        "classifier.fit(X_train_0,y_train)\n",
        "y_pred = classifier.predict(X_test_0)\n",
        "y_pred = np.round(y_pred).flatten()\n",
        "print(accuracy_score(y_test, y_pred))\n",
        "\n",
        "classifier.fit(X_train_mean,y_train)\n",
        "y_pred = classifier.predict(X_test_mean)\n",
        "y_pred = np.round(y_pred).flatten()\n",
        "print(accuracy_score(y_test, y_pred))\n",
        "\n",
        "classifier.fit(X_train_median,y_train)\n",
        "y_pred = classifier.predict(X_test_median)\n",
        "y_pred = np.round(y_pred).flatten()\n",
        "print(accuracy_score(y_test, y_pred))\n",
        "\n",
        "classifier.fit(X_train_mode,y_train)\n",
        "y_pred = classifier.predict(X_test_mode)\n",
        "y_pred = np.round(y_pred).flatten()\n",
        "print(accuracy_score(y_test, y_pred))"
      ],
      "execution_count": 88,
      "outputs": [
        {
          "output_type": "stream",
          "text": [
            "0.5810055865921788\n",
            "0.6089385474860335\n",
            "0.6089385474860335\n",
            "0.5921787709497207\n"
          ],
          "name": "stdout"
        }
      ]
    },
    {
      "cell_type": "code",
      "metadata": {
        "id": "0M4ySoHj97e5",
        "colab_type": "code",
        "colab": {
          "base_uri": "https://localhost:8080/",
          "height": 87
        },
        "outputId": "321fdec7-5e1b-4b15-8dd1-94e212e06861"
      },
      "source": [
        "from sklearn.ensemble import GradientBoostingClassifier\n",
        "classifier = GradientBoostingClassifier()\n",
        "classifier.fit(X_train_0,y_train)\n",
        "y_pred = classifier.predict(X_test_0)\n",
        "y_pred = np.round(y_pred).flatten()\n",
        "print(accuracy_score(y_test, y_pred))\n",
        "\n",
        "classifier.fit(X_train_mean,y_train)\n",
        "y_pred = classifier.predict(X_test_mean)\n",
        "y_pred = np.round(y_pred).flatten()\n",
        "print(accuracy_score(y_test, y_pred))\n",
        "\n",
        "classifier.fit(X_train_median,y_train)\n",
        "y_pred = classifier.predict(X_test_median)\n",
        "y_pred = np.round(y_pred).flatten()\n",
        "print(accuracy_score(y_test, y_pred))\n",
        "\n",
        "classifier.fit(X_train_mode,y_train)\n",
        "y_pred = classifier.predict(X_test_mode)\n",
        "y_pred = np.round(y_pred).flatten()\n",
        "print(accuracy_score(y_test, y_pred))"
      ],
      "execution_count": 89,
      "outputs": [
        {
          "output_type": "stream",
          "text": [
            "0.6480446927374302\n",
            "0.6703910614525139\n",
            "0.6703910614525139\n",
            "0.664804469273743\n"
          ],
          "name": "stdout"
        }
      ]
    },
    {
      "cell_type": "code",
      "metadata": {
        "id": "UpVGb0-p991g",
        "colab_type": "code",
        "colab": {
          "base_uri": "https://localhost:8080/",
          "height": 87
        },
        "outputId": "d011ca56-2ce5-4a87-a969-c8984ec1eccd"
      },
      "source": [
        "from sklearn.linear_model import SGDClassifier\n",
        "classifier = SGDClassifier()\n",
        "classifier.fit(X_train_0,y_train)\n",
        "y_pred = classifier.predict(X_test_0)\n",
        "y_pred = np.round(y_pred).flatten()\n",
        "print(accuracy_score(y_test, y_pred))\n",
        "\n",
        "classifier.fit(X_train_mean,y_train)\n",
        "y_pred = classifier.predict(X_test_mean)\n",
        "y_pred = np.round(y_pred).flatten()\n",
        "print(accuracy_score(y_test, y_pred))\n",
        "\n",
        "classifier.fit(X_train_median,y_train)\n",
        "y_pred = classifier.predict(X_test_median)\n",
        "y_pred = np.round(y_pred).flatten()\n",
        "print(accuracy_score(y_test, y_pred))\n",
        "\n",
        "classifier.fit(X_train_mode,y_train)\n",
        "y_pred = classifier.predict(X_test_mode)\n",
        "y_pred = np.round(y_pred).flatten()\n",
        "print(accuracy_score(y_test, y_pred))"
      ],
      "execution_count": 90,
      "outputs": [
        {
          "output_type": "stream",
          "text": [
            "0.664804469273743\n",
            "0.6424581005586593\n",
            "0.6256983240223464\n",
            "0.6368715083798883\n"
          ],
          "name": "stdout"
        }
      ]
    },
    {
      "cell_type": "code",
      "metadata": {
        "id": "nrl2BNRA9_mm",
        "colab_type": "code",
        "colab": {
          "base_uri": "https://localhost:8080/",
          "height": 87
        },
        "outputId": "20820448-2530-4bf8-bc13-acf53b024efa"
      },
      "source": [
        "from sklearn.linear_model import Perceptron\n",
        "classifier = Perceptron()\n",
        "classifier.fit(X_train_0,y_train)\n",
        "y_pred = classifier.predict(X_test_0)\n",
        "y_pred = np.round(y_pred).flatten()\n",
        "print(accuracy_score(y_test, y_pred))\n",
        "\n",
        "classifier.fit(X_train_mean,y_train)\n",
        "y_pred = classifier.predict(X_test_mean)\n",
        "y_pred = np.round(y_pred).flatten()\n",
        "print(accuracy_score(y_test, y_pred))\n",
        "\n",
        "classifier.fit(X_train_median,y_train)\n",
        "y_pred = classifier.predict(X_test_median)\n",
        "y_pred = np.round(y_pred).flatten()\n",
        "print(accuracy_score(y_test, y_pred))\n",
        "\n",
        "classifier.fit(X_train_mode,y_train)\n",
        "y_pred = classifier.predict(X_test_mode)\n",
        "y_pred = np.round(y_pred).flatten()\n",
        "print(accuracy_score(y_test, y_pred))"
      ],
      "execution_count": 91,
      "outputs": [
        {
          "output_type": "stream",
          "text": [
            "0.4134078212290503\n",
            "0.41899441340782123\n",
            "0.6368715083798883\n",
            "0.6033519553072626\n"
          ],
          "name": "stdout"
        }
      ]
    },
    {
      "cell_type": "code",
      "metadata": {
        "id": "L6SQhWSk-Btx",
        "colab_type": "code",
        "colab": {
          "base_uri": "https://localhost:8080/",
          "height": 87
        },
        "outputId": "f0cd7ac7-fe10-41f7-d029-e8834bca9700"
      },
      "source": [
        "from sklearn.naive_bayes import GaussianNB\n",
        "classifier = GaussianNB()\n",
        "classifier.fit(X_train_0,y_train)\n",
        "y_pred = classifier.predict(X_test_0)\n",
        "y_pred = np.round(y_pred).flatten()\n",
        "print(accuracy_score(y_test, y_pred))\n",
        "\n",
        "classifier.fit(X_train_mean,y_train)\n",
        "y_pred = classifier.predict(X_test_mean)\n",
        "y_pred = np.round(y_pred).flatten()\n",
        "print(accuracy_score(y_test, y_pred))\n",
        "\n",
        "classifier.fit(X_train_median,y_train)\n",
        "y_pred = classifier.predict(X_test_median)\n",
        "y_pred = np.round(y_pred).flatten()\n",
        "print(accuracy_score(y_test, y_pred))\n",
        "\n",
        "classifier.fit(X_train_mode,y_train)\n",
        "y_pred = classifier.predict(X_test_mode)\n",
        "y_pred = np.round(y_pred).flatten()\n",
        "print(accuracy_score(y_test, y_pred))"
      ],
      "execution_count": 92,
      "outputs": [
        {
          "output_type": "stream",
          "text": [
            "0.664804469273743\n",
            "0.659217877094972\n",
            "0.659217877094972\n",
            "0.664804469273743\n"
          ],
          "name": "stdout"
        }
      ]
    },
    {
      "cell_type": "code",
      "metadata": {
        "id": "Ty-k4q1L-Ew-",
        "colab_type": "code",
        "colab": {
          "base_uri": "https://localhost:8080/",
          "height": 87
        },
        "outputId": "50965854-0af9-4cac-d8ea-dd4c37112483"
      },
      "source": [
        "from sklearn.neighbors import KNeighborsClassifier\n",
        "classifier = KNeighborsClassifier()\n",
        "classifier.fit(X_train_0,y_train)\n",
        "y_pred = classifier.predict(X_test_0)\n",
        "y_pred = np.round(y_pred).flatten()\n",
        "print(accuracy_score(y_test, y_pred))\n",
        "\n",
        "classifier.fit(X_train_mean,y_train)\n",
        "y_pred = classifier.predict(X_test_mean)\n",
        "y_pred = np.round(y_pred).flatten()\n",
        "print(accuracy_score(y_test, y_pred))\n",
        "\n",
        "classifier.fit(X_train_median,y_train)\n",
        "y_pred = classifier.predict(X_test_median)\n",
        "y_pred = np.round(y_pred).flatten()\n",
        "print(accuracy_score(y_test, y_pred))\n",
        "\n",
        "classifier.fit(X_train_mode,y_train)\n",
        "y_pred = classifier.predict(X_test_mode)\n",
        "y_pred = np.round(y_pred).flatten()\n",
        "print(accuracy_score(y_test, y_pred))"
      ],
      "execution_count": 93,
      "outputs": [
        {
          "output_type": "stream",
          "text": [
            "0.664804469273743\n",
            "0.7262569832402235\n",
            "0.6983240223463687\n",
            "0.659217877094972\n"
          ],
          "name": "stdout"
        }
      ]
    }
  ]
}