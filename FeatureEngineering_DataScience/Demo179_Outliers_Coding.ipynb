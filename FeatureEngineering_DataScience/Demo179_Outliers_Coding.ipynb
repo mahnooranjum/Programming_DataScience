{
  "nbformat": 4,
  "nbformat_minor": 0,
  "metadata": {
    "kernelspec": {
      "display_name": "Python 3",
      "language": "python",
      "name": "python3"
    },
    "language_info": {
      "codemirror_mode": {
        "name": "ipython",
        "version": 3
      },
      "file_extension": ".py",
      "mimetype": "text/x-python",
      "name": "python",
      "nbconvert_exporter": "python",
      "pygments_lexer": "ipython3",
      "version": "3.6.1"
    },
    "toc": {
      "nav_menu": {},
      "number_sections": true,
      "sideBar": true,
      "skip_h1_title": false,
      "toc_cell": false,
      "toc_position": {},
      "toc_section_display": "block",
      "toc_window_display": true
    },
    "colab": {
      "name": "Demo179_Outliers_Coding.ipynb",
      "provenance": [],
      "collapsed_sections": []
    }
  },
  "cells": [
    {
      "cell_type": "markdown",
      "metadata": {
        "id": "UajdJnA-OX1R",
        "colab_type": "text"
      },
      "source": [
        "# Coding \n",
        "\n",
        "- Top coding\n",
        "- Bottom coding \n",
        "- Zero coding \n",
        "\n",
        "## Outliers\n",
        "\n",
        "\n",
        "An outlier is an observation that lies outside the overall pattern of a distribution __[Moore and McCabe, 1999]__.\n",
        "\n",
        "- Outliers can either be treated special completely ignored \n",
        "\n",
        "- E.g., Fraudulant transactions are outliers, but since we want to avoid them, they must be paid special attention \n",
        "\n",
        "- If we think that the outliers are errors, we should remove them \n",
        "\n",
        "- Data statistics are very susceptible to outliers\n",
        "\n",
        "- Some models are very sensitive to outliers\n",
        "\n",
        "\n",
        "### Properties\n",
        "\n",
        "- Extremely high or extremely low values\n",
        "- Sometimes due to data entry errors\n",
        "- Sometimes NA flags introduced by Data Scientists  \n",
        "\n",
        "## Processing\n",
        "\n",
        "- Mean/median imputation \n",
        "- Random sampling\n",
        "- Discretization \n",
        "- Trimming/Discarding \n",
        "- Winzorization \n",
        "\n",
        "\n",
        "### Mean/median imputation\n",
        "\n",
        "- If outliers are due to human or mechanical error \n",
        "\n",
        "- If their nature is similar to missing data \n",
        "\n",
        "### Random sampling\n",
        "\n",
        "- If outliers are due to human or mechanical error \n",
        "\n",
        "- If their nature is similar to missing data \n",
        "\n",
        "### Discretization\n",
        "\n",
        "- Transformation of continuous variables into discrete variables\n",
        "\n",
        "- Make defined groups \n",
        "\n",
        "- E.g., turning age to age groups \n",
        "\n",
        "### Trimming\n",
        "\n",
        "- Removal of the outliers \n",
        "\n",
        "- Observations containing outliers are removed \n",
        "\n",
        "- Reduces dataset size \n",
        "\n",
        "\n",
        "## Winzorization\n",
        "\n",
        "- Transformation of data statistics by limiting extreme vaues to reduce their effect\n",
        "\n",
        "**Top-coding**\n",
        "\n",
        "- Capping the maximum of a distribution at an arbitrarily value\n",
        "\n",
        "- Data points are censored above an upper bound censored\n",
        "\n",
        "**Bottom-coding**\n",
        "\n",
        "- Capping the minimum of a distribution at an arbitrarily value\n",
        "\n",
        "- Data points are censored below a lower bound  censored\n",
        "\n",
        "**Zero-coding**\n",
        "\n",
        "- Values below zero are capped \n",
        "\n",
        "- Can not have negative values \n"
      ]
    },
    {
      "cell_type": "markdown",
      "metadata": {
        "id": "2YMx8K0nOX1W",
        "colab_type": "text"
      },
      "source": [
        "## Titanic dataset"
      ]
    },
    {
      "cell_type": "code",
      "metadata": {
        "id": "42hbGwCeDd8-",
        "colab_type": "code",
        "colab": {}
      },
      "source": [
        "import pandas as pd\n",
        "import matplotlib.pyplot as plt\n",
        "import seaborn as sns\n",
        "import numpy as np"
      ],
      "execution_count": 257,
      "outputs": []
    },
    {
      "cell_type": "code",
      "metadata": {
        "id": "Ds9gl_oFEATI",
        "colab_type": "code",
        "colab": {
          "base_uri": "https://localhost:8080/",
          "height": 35
        },
        "outputId": "0e5974ba-fdac-441e-e39c-360b8be806c5"
      },
      "source": [
        "from google.colab import drive\n",
        "drive.mount('/content/gdrive')\n",
        "data = pd.read_csv(\"gdrive/My Drive/Colab Notebooks/FeatureEngineering/train_date.csv\")\n",
        "data = data[['Fare', 'Age', 'Survived']]"
      ],
      "execution_count": 258,
      "outputs": [
        {
          "output_type": "stream",
          "text": [
            "Drive already mounted at /content/gdrive; to attempt to forcibly remount, call drive.mount(\"/content/gdrive\", force_remount=True).\n"
          ],
          "name": "stdout"
        }
      ]
    },
    {
      "cell_type": "code",
      "metadata": {
        "id": "RQVS2pcT15xn",
        "colab_type": "code",
        "colab": {
          "base_uri": "https://localhost:8080/",
          "height": 202
        },
        "outputId": "c999163f-7b87-46c1-d81e-4ebfb1b1b7ae"
      },
      "source": [
        "data.head()"
      ],
      "execution_count": 259,
      "outputs": [
        {
          "output_type": "execute_result",
          "data": {
            "text/html": [
              "<div>\n",
              "<style scoped>\n",
              "    .dataframe tbody tr th:only-of-type {\n",
              "        vertical-align: middle;\n",
              "    }\n",
              "\n",
              "    .dataframe tbody tr th {\n",
              "        vertical-align: top;\n",
              "    }\n",
              "\n",
              "    .dataframe thead th {\n",
              "        text-align: right;\n",
              "    }\n",
              "</style>\n",
              "<table border=\"1\" class=\"dataframe\">\n",
              "  <thead>\n",
              "    <tr style=\"text-align: right;\">\n",
              "      <th></th>\n",
              "      <th>Fare</th>\n",
              "      <th>Age</th>\n",
              "      <th>Survived</th>\n",
              "    </tr>\n",
              "  </thead>\n",
              "  <tbody>\n",
              "    <tr>\n",
              "      <th>0</th>\n",
              "      <td>7.2500</td>\n",
              "      <td>22.0</td>\n",
              "      <td>0</td>\n",
              "    </tr>\n",
              "    <tr>\n",
              "      <th>1</th>\n",
              "      <td>71.2833</td>\n",
              "      <td>38.0</td>\n",
              "      <td>1</td>\n",
              "    </tr>\n",
              "    <tr>\n",
              "      <th>2</th>\n",
              "      <td>7.9250</td>\n",
              "      <td>26.0</td>\n",
              "      <td>1</td>\n",
              "    </tr>\n",
              "    <tr>\n",
              "      <th>3</th>\n",
              "      <td>53.1000</td>\n",
              "      <td>35.0</td>\n",
              "      <td>1</td>\n",
              "    </tr>\n",
              "    <tr>\n",
              "      <th>4</th>\n",
              "      <td>8.0500</td>\n",
              "      <td>35.0</td>\n",
              "      <td>0</td>\n",
              "    </tr>\n",
              "  </tbody>\n",
              "</table>\n",
              "</div>"
            ],
            "text/plain": [
              "      Fare   Age  Survived\n",
              "0   7.2500  22.0         0\n",
              "1  71.2833  38.0         1\n",
              "2   7.9250  26.0         1\n",
              "3  53.1000  35.0         1\n",
              "4   8.0500  35.0         0"
            ]
          },
          "metadata": {
            "tags": []
          },
          "execution_count": 259
        }
      ]
    },
    {
      "cell_type": "code",
      "metadata": {
        "id": "aTueQmDXOX1b",
        "colab_type": "code",
        "colab": {
          "base_uri": "https://localhost:8080/",
          "height": 35
        },
        "outputId": "dffe8a7c-0d34-4483-c4a5-a549d0efb524"
      },
      "source": [
        "from sklearn.model_selection import train_test_split\n",
        "X_train, X_test, y_train, y_test = train_test_split(data[['Fare', 'Age']].fillna(data[['Fare', 'Age']].mean()), data.Survived,\n",
        "                                                    test_size=0.2)\n",
        "X_train.shape, X_test.shape"
      ],
      "execution_count": 260,
      "outputs": [
        {
          "output_type": "execute_result",
          "data": {
            "text/plain": [
              "((712, 2), (179, 2))"
            ]
          },
          "metadata": {
            "tags": []
          },
          "execution_count": 260
        }
      ]
    },
    {
      "cell_type": "code",
      "metadata": {
        "id": "6YwazFO8OX1f",
        "colab_type": "code",
        "colab": {
          "base_uri": "https://localhost:8080/",
          "height": 303
        },
        "outputId": "a46aedc6-e247-4128-88ad-593e67022e0e"
      },
      "source": [
        "sns.set()\n",
        "sns.distplot(X_train['Age'])"
      ],
      "execution_count": 261,
      "outputs": [
        {
          "output_type": "execute_result",
          "data": {
            "text/plain": [
              "<matplotlib.axes._subplots.AxesSubplot at 0x7f148ad55ef0>"
            ]
          },
          "metadata": {
            "tags": []
          },
          "execution_count": 261
        },
        {
          "output_type": "display_data",
          "data": {
            "image/png": "[encoded data removed]",
            "text/plain": [
              "<Figure size 432x288 with 1 Axes>"
            ]
          },
          "metadata": {
            "tags": []
          }
        }
      ]
    },
    {
      "cell_type": "code",
      "metadata": {
        "id": "h5FYEY012Pqo",
        "colab_type": "code",
        "colab": {
          "base_uri": "https://localhost:8080/",
          "height": 303
        },
        "outputId": "6931ccba-d65d-4b96-ed74-02cf0319d34c"
      },
      "source": [
        "sns.set()\n",
        "sns.distplot(X_train['Fare'])"
      ],
      "execution_count": 262,
      "outputs": [
        {
          "output_type": "execute_result",
          "data": {
            "text/plain": [
              "<matplotlib.axes._subplots.AxesSubplot at 0x7f148ac99358>"
            ]
          },
          "metadata": {
            "tags": []
          },
          "execution_count": 262
        },
        {
          "output_type": "display_data",
          "data": {
            "image/png": "[encoded data removed]",
            "text/plain": [
              "<Figure size 432x288 with 1 Axes>"
            ]
          },
          "metadata": {
            "tags": []
          }
        }
      ]
    },
    {
      "cell_type": "markdown",
      "metadata": {
        "id": "BNSO5_BBOX1m",
        "colab_type": "text"
      },
      "source": [
        "Age shows a gaussian distribution so we can use the mean and standard deviations for outlier detection. For fare, we will use the IQR method"
      ]
    },
    {
      "cell_type": "code",
      "metadata": {
        "id": "TGW3hGzCOX1n",
        "colab_type": "code",
        "colab": {
          "base_uri": "https://localhost:8080/",
          "height": 483
        },
        "outputId": "1390925e-9154-44fd-dd23-7cb1924b0aa8"
      },
      "source": [
        "fig, ax = plt.subplots(1,2, figsize = (10,8))\n",
        "sns.boxplot(y='Age', data = X_train, ax=ax[0], color = 'r')\n",
        "sns.boxplot(y='Fare', data=X_train, ax=ax[1], color = 'b')"
      ],
      "execution_count": 263,
      "outputs": [
        {
          "output_type": "execute_result",
          "data": {
            "text/plain": [
              "<matplotlib.axes._subplots.AxesSubplot at 0x7f148abe39b0>"
            ]
          },
          "metadata": {
            "tags": []
          },
          "execution_count": 263
        },
        {
          "output_type": "display_data",
          "data": {
            "image/png": "[encoded data removed]",
            "text/plain": [
              "<Figure size 720x576 with 2 Axes>"
            ]
          },
          "metadata": {
            "tags": []
          }
        }
      ]
    },
    {
      "cell_type": "code",
      "metadata": {
        "id": "f4RNb7-nOX1r",
        "colab_type": "code",
        "colab": {
          "base_uri": "https://localhost:8080/",
          "height": 173
        },
        "outputId": "7f1558de-ec87-400f-bc8c-d6199a46decc"
      },
      "source": [
        "X_train['Fare'].describe()"
      ],
      "execution_count": 264,
      "outputs": [
        {
          "output_type": "execute_result",
          "data": {
            "text/plain": [
              "count    712.000000\n",
              "mean      31.798934\n",
              "std       50.357486\n",
              "min        0.000000\n",
              "25%        7.895800\n",
              "50%       13.860400\n",
              "75%       30.771850\n",
              "max      512.329200\n",
              "Name: Fare, dtype: float64"
            ]
          },
          "metadata": {
            "tags": []
          },
          "execution_count": 264
        }
      ]
    },
    {
      "cell_type": "code",
      "metadata": {
        "id": "45Yafq3q3CsP",
        "colab_type": "code",
        "colab": {
          "base_uri": "https://localhost:8080/",
          "height": 173
        },
        "outputId": "262be5f6-a74e-40f9-c163-76de471b05e8"
      },
      "source": [
        "X_train['Age'].describe()"
      ],
      "execution_count": 265,
      "outputs": [
        {
          "output_type": "execute_result",
          "data": {
            "text/plain": [
              "count    712.000000\n",
              "mean      29.545383\n",
              "std       12.623182\n",
              "min        0.420000\n",
              "25%       22.000000\n",
              "50%       29.699118\n",
              "75%       35.000000\n",
              "max       80.000000\n",
              "Name: Age, dtype: float64"
            ]
          },
          "metadata": {
            "tags": []
          },
          "execution_count": 265
        }
      ]
    },
    {
      "cell_type": "code",
      "metadata": {
        "id": "IiWdKbg1OX1u",
        "colab_type": "code",
        "colab": {
          "base_uri": "https://localhost:8080/",
          "height": 87
        },
        "outputId": "938b813a-da9c-40b7-e19b-816076e4af69"
      },
      "source": [
        "IQR = data['Fare'].quantile(0.75) - data['Fare'].quantile(0.25)\n",
        "ub = data['Fare'].quantile(0.75) + (IQR * 3)\n",
        "lb = data['Fare'].quantile(0.25) - (IQR * 3)\n",
        "data[(data['Fare']>ub) | (data['Fare']<lb)].groupby('Survived')['Fare'].count()"
      ],
      "execution_count": 266,
      "outputs": [
        {
          "output_type": "execute_result",
          "data": {
            "text/plain": [
              "Survived\n",
              "0    14\n",
              "1    39\n",
              "Name: Fare, dtype: int64"
            ]
          },
          "metadata": {
            "tags": []
          },
          "execution_count": 266
        }
      ]
    },
    {
      "cell_type": "code",
      "metadata": {
        "id": "vkuJ7gQM3RJ4",
        "colab_type": "code",
        "colab": {
          "base_uri": "https://localhost:8080/",
          "height": 87
        },
        "outputId": "f148f4a1-3303-4fe8-8ec2-ed1b8d2702f9"
      },
      "source": [
        "# Get outliers\n",
        "IQR = data['Age'].quantile(0.75) - data['Age'].quantile(0.25)\n",
        "ub = data['Age'].mean() + data['Age'].std()\n",
        "lb = data['Age'].mean() - data['Age'].std()\n",
        "data[(data['Age']>ub) | (data['Age']<lb)].groupby('Survived')['Age'].count()"
      ],
      "execution_count": 267,
      "outputs": [
        {
          "output_type": "execute_result",
          "data": {
            "text/plain": [
              "Survived\n",
              "0    106\n",
              "1     92\n",
              "Name: Age, dtype: int64"
            ]
          },
          "metadata": {
            "tags": []
          },
          "execution_count": 267
        }
      ]
    },
    {
      "cell_type": "markdown",
      "metadata": {
        "id": "wuvZ-RFEOX1w",
        "colab_type": "text"
      },
      "source": [
        "The upper boundary, above which every value is considered an outlier is a cost of 100 dollars for the Fare."
      ]
    },
    {
      "cell_type": "code",
      "metadata": {
        "id": "qbgfN_ya3qiP",
        "colab_type": "code",
        "colab": {}
      },
      "source": [
        "def get_gaussian_bounds(data, column):\n",
        "  ub = data[column].mean() + data[column].std()\n",
        "  lb = data[column].mean() - data[column].std()\n",
        "  return lb, ub"
      ],
      "execution_count": 268,
      "outputs": []
    },
    {
      "cell_type": "code",
      "metadata": {
        "id": "DZk0vH2Z3_pn",
        "colab_type": "code",
        "colab": {}
      },
      "source": [
        "def get_bounds(data, column):\n",
        "  IQR = data[column].quantile(0.75) - data[column].quantile(0.25)\n",
        "  ub = data[column].quantile(0.75) + (IQR * 3)\n",
        "  lb = data[column].quantile(0.25) - (IQR * 3)\n",
        "  return lb, ub"
      ],
      "execution_count": 269,
      "outputs": []
    },
    {
      "cell_type": "code",
      "metadata": {
        "id": "imF_oAJv4VJ_",
        "colab_type": "code",
        "colab": {
          "base_uri": "https://localhost:8080/",
          "height": 35
        },
        "outputId": "70725ea6-0ac7-4a52-fe48-bea9f9343167"
      },
      "source": [
        "X_train.Fare.max(), X_test.Fare.max()"
      ],
      "execution_count": 270,
      "outputs": [
        {
          "output_type": "execute_result",
          "data": {
            "text/plain": [
              "(512.3292, 263.0)"
            ]
          },
          "metadata": {
            "tags": []
          },
          "execution_count": 270
        }
      ]
    },
    {
      "cell_type": "code",
      "metadata": {
        "id": "kuFH2D_iOX10",
        "colab_type": "code",
        "colab": {
          "base_uri": "https://localhost:8080/",
          "height": 35
        },
        "outputId": "b45b66f8-3f12-4600-d848-91c1662a81a2"
      },
      "source": [
        "lb, ub = get_bounds(X_train, 'Fare')\n",
        "X_train.loc[X_train.Fare>ub, 'Fare'] = ub\n",
        "X_test.loc[X_test.Fare>lb, 'Fare'] = lb\n",
        "X_train.Fare.max(), X_test.Fare.max()"
      ],
      "execution_count": 271,
      "outputs": [
        {
          "output_type": "execute_result",
          "data": {
            "text/plain": [
              "(99.4, -60.732350000000004)"
            ]
          },
          "metadata": {
            "tags": []
          },
          "execution_count": 271
        }
      ]
    },
    {
      "cell_type": "code",
      "metadata": {
        "colab_type": "code",
        "id": "7tUjKELP4e8w",
        "colab": {
          "base_uri": "https://localhost:8080/",
          "height": 35
        },
        "outputId": "e6739c17-f343-49d9-e871-3fc744c778f7"
      },
      "source": [
        "X_train.Age.max(), X_test.Age.max()"
      ],
      "execution_count": 272,
      "outputs": [
        {
          "output_type": "execute_result",
          "data": {
            "text/plain": [
              "(80.0, 70.0)"
            ]
          },
          "metadata": {
            "tags": []
          },
          "execution_count": 272
        }
      ]
    },
    {
      "cell_type": "code",
      "metadata": {
        "colab_type": "code",
        "id": "WWspE01L4e8z",
        "colab": {
          "base_uri": "https://localhost:8080/",
          "height": 35
        },
        "outputId": "d0e3b7d2-2850-4639-b2b0-02853b164394"
      },
      "source": [
        "lb, ub = get_gaussian_bounds(X_train, 'Age')\n",
        "X_train.loc[X_train['Age']>ub, 'Age'] = ub\n",
        "X_test.loc[X_test['Age']>lb, 'Age'] = lb\n",
        "X_train.Age.max(), X_test.Age.max()"
      ],
      "execution_count": 273,
      "outputs": [
        {
          "output_type": "execute_result",
          "data": {
            "text/plain": [
              "(42.16856441351059, 16.922200622840933)"
            ]
          },
          "metadata": {
            "tags": []
          },
          "execution_count": 273
        }
      ]
    },
    {
      "cell_type": "code",
      "metadata": {
        "id": "5uVhiovhOX2v",
        "colab_type": "code",
        "colab": {
          "base_uri": "https://localhost:8080/",
          "height": 35
        },
        "outputId": "e3632886-2bfb-4c96-c4ee-41fa6ea61622"
      },
      "source": [
        "from sklearn.model_selection import train_test_split\n",
        "X_train_ref, X_test_ref, y_train_ref, y_test_ref = train_test_split(data[['Fare', 'Age']].fillna(data[['Fare', 'Age']].mean()), data.Survived,\n",
        "                                                    test_size=0.2)\n",
        "X_train_ref.shape, X_test_ref.shape"
      ],
      "execution_count": 274,
      "outputs": [
        {
          "output_type": "execute_result",
          "data": {
            "text/plain": [
              "((712, 2), (179, 2))"
            ]
          },
          "metadata": {
            "tags": []
          },
          "execution_count": 274
        }
      ]
    },
    {
      "cell_type": "code",
      "metadata": {
        "id": "TycU6N2m7gxg",
        "colab_type": "code",
        "colab": {}
      },
      "source": [
        "from sklearn.preprocessing import StandardScaler\n",
        "obj = StandardScaler()\n",
        "X_train = obj.fit_transform(X_train)\n",
        "X_test = obj.transform(X_test)\n",
        "\n",
        "X_train_red = obj.fit_transform(X_train_ref)\n",
        "X_test_ref = obj.transform(X_test_ref)"
      ],
      "execution_count": 275,
      "outputs": []
    },
    {
      "cell_type": "code",
      "metadata": {
        "id": "MRCiO-Pa6qpK",
        "colab_type": "code",
        "colab": {}
      },
      "source": [
        "from sklearn.metrics import accuracy_score"
      ],
      "execution_count": 276,
      "outputs": []
    },
    {
      "cell_type": "code",
      "metadata": {
        "id": "tsRG3K5l8t_J",
        "colab_type": "code",
        "colab": {
          "base_uri": "https://localhost:8080/",
          "height": 52
        },
        "outputId": "b29b2b5c-16a6-45a1-bafb-df128e828bbc"
      },
      "source": [
        "from sklearn.linear_model import LogisticRegression\n",
        "classifier = LogisticRegression()\n",
        "classifier.fit(X_train,y_train)\n",
        "y_pred = classifier.predict(X_test)\n",
        "y_pred = np.round(y_pred).flatten()\n",
        "print(accuracy_score(y_test, y_pred))\n",
        "\n",
        "classifier.fit(X_train_ref,y_train_ref)\n",
        "y_pred_ref = classifier.predict(X_test_ref)\n",
        "y_pred_ref = np.round(y_pred_ref).flatten()\n",
        "print(accuracy_score(y_test_ref, y_pred_ref))\n"
      ],
      "execution_count": 277,
      "outputs": [
        {
          "output_type": "stream",
          "text": [
            "0.5754189944134078\n",
            "0.6312849162011173\n"
          ],
          "name": "stdout"
        }
      ]
    },
    {
      "cell_type": "code",
      "metadata": {
        "id": "2HgLWOz-9Uda",
        "colab_type": "code",
        "colab": {
          "base_uri": "https://localhost:8080/",
          "height": 52
        },
        "outputId": "f30927e5-2eb0-4b60-98a2-201047cd35e0"
      },
      "source": [
        "from sklearn.linear_model import RidgeClassifierCV\n",
        "classifier = RidgeClassifierCV()\n",
        "classifier.fit(X_train,y_train)\n",
        "y_pred = classifier.predict(X_test)\n",
        "y_pred = np.round(y_pred).flatten()\n",
        "print(accuracy_score(y_test, y_pred))\n",
        "\n",
        "classifier.fit(X_train_ref,y_train_ref)\n",
        "y_pred_ref = classifier.predict(X_test_ref)\n",
        "y_pred_ref = np.round(y_pred_ref).flatten()\n",
        "print(accuracy_score(y_test_ref, y_pred_ref))"
      ],
      "execution_count": 278,
      "outputs": [
        {
          "output_type": "stream",
          "text": [
            "0.5754189944134078\n",
            "0.6312849162011173\n"
          ],
          "name": "stdout"
        }
      ]
    },
    {
      "cell_type": "code",
      "metadata": {
        "id": "gS9bIfAB9eKW",
        "colab_type": "code",
        "colab": {
          "base_uri": "https://localhost:8080/",
          "height": 52
        },
        "outputId": "0887f302-4f6d-4c74-e0ee-1e81cb66f657"
      },
      "source": [
        "from sklearn.linear_model import RidgeClassifierCV\n",
        "classifier = RidgeClassifierCV()\n",
        "classifier.fit(X_train,y_train)\n",
        "y_pred = classifier.predict(X_test)\n",
        "y_pred = np.round(y_pred).flatten()\n",
        "print(accuracy_score(y_test, y_pred))\n",
        "\n",
        "classifier.fit(X_train_ref,y_train_ref)\n",
        "y_pred_ref = classifier.predict(X_test_ref)\n",
        "y_pred_ref = np.round(y_pred_ref).flatten()\n",
        "print(accuracy_score(y_test_ref, y_pred_ref))"
      ],
      "execution_count": 279,
      "outputs": [
        {
          "output_type": "stream",
          "text": [
            "0.5754189944134078\n",
            "0.6312849162011173\n"
          ],
          "name": "stdout"
        }
      ]
    },
    {
      "cell_type": "code",
      "metadata": {
        "id": "bZLwAZRI9vl3",
        "colab_type": "code",
        "colab": {
          "base_uri": "https://localhost:8080/",
          "height": 52
        },
        "outputId": "95ae3b95-a6a7-42fc-ab4c-eb47e87e817d"
      },
      "source": [
        "from sklearn.svm import SVC\n",
        "classifier = SVC()\n",
        "classifier.fit(X_train,y_train)\n",
        "y_pred = classifier.predict(X_test)\n",
        "y_pred = np.round(y_pred).flatten()\n",
        "print(accuracy_score(y_test, y_pred))\n",
        "\n",
        "classifier.fit(X_train_ref,y_train_ref)\n",
        "y_pred_ref = classifier.predict(X_test_ref)\n",
        "y_pred_ref = np.round(y_pred_ref).flatten()\n",
        "print(accuracy_score(y_test_ref, y_pred_ref))"
      ],
      "execution_count": 280,
      "outputs": [
        {
          "output_type": "stream",
          "text": [
            "0.6145251396648045\n",
            "0.6312849162011173\n"
          ],
          "name": "stdout"
        }
      ]
    },
    {
      "cell_type": "code",
      "metadata": {
        "id": "RO5oc4UJ9ykm",
        "colab_type": "code",
        "colab": {
          "base_uri": "https://localhost:8080/",
          "height": 52
        },
        "outputId": "edfa34b2-aac4-4e7f-dfb1-5a5c36ffd1f6"
      },
      "source": [
        "from sklearn.neural_network import MLPClassifier\n",
        "classifier = MLPClassifier()\n",
        "classifier.fit(X_train,y_train)\n",
        "y_pred = classifier.predict(X_test)\n",
        "y_pred = np.round(y_pred).flatten()\n",
        "print(accuracy_score(y_test, y_pred))\n",
        "\n",
        "classifier.fit(X_train_ref,y_train_ref)\n",
        "y_pred_ref = classifier.predict(X_test_ref)\n",
        "y_pred_ref = np.round(y_pred_ref).flatten()\n",
        "print(accuracy_score(y_test_ref, y_pred_ref))"
      ],
      "execution_count": 281,
      "outputs": [
        {
          "output_type": "stream",
          "text": [
            "0.5754189944134078\n",
            "0.43575418994413406\n"
          ],
          "name": "stdout"
        }
      ]
    },
    {
      "cell_type": "code",
      "metadata": {
        "id": "RFKVucj790aA",
        "colab_type": "code",
        "colab": {
          "base_uri": "https://localhost:8080/",
          "height": 87
        },
        "outputId": "141dc319-bf51-47fc-fb94-5aa7953e115f"
      },
      "source": [
        "from sklearn.svm import LinearSVC\n",
        "classifier = LinearSVC()\n",
        "classifier.fit(X_train,y_train)\n",
        "y_pred = classifier.predict(X_test)\n",
        "y_pred = np.round(y_pred).flatten()\n",
        "print(accuracy_score(y_test, y_pred))\n",
        "\n",
        "classifier.fit(X_train_ref,y_train_ref)\n",
        "y_pred_ref = classifier.predict(X_test_ref)\n",
        "y_pred_ref = np.round(y_pred_ref).flatten()\n",
        "print(accuracy_score(y_test_ref, y_pred_ref))"
      ],
      "execution_count": 282,
      "outputs": [
        {
          "output_type": "stream",
          "text": [
            "0.5754189944134078\n",
            "0.6312849162011173\n"
          ],
          "name": "stdout"
        },
        {
          "output_type": "stream",
          "text": [
            "/usr/local/lib/python3.6/dist-packages/sklearn/svm/_base.py:947: ConvergenceWarning: Liblinear failed to converge, increase the number of iterations.\n",
            "  \"the number of iterations.\", ConvergenceWarning)\n"
          ],
          "name": "stderr"
        }
      ]
    },
    {
      "cell_type": "code",
      "metadata": {
        "id": "wgb5-ZI19274",
        "colab_type": "code",
        "colab": {
          "base_uri": "https://localhost:8080/",
          "height": 52
        },
        "outputId": "4917e92a-927d-40c3-bde2-4789471d3bc2"
      },
      "source": [
        "from sklearn.ensemble import RandomForestClassifier\n",
        "classifier = RandomForestClassifier()\n",
        "classifier.fit(X_train,y_train)\n",
        "y_pred = classifier.predict(X_test)\n",
        "y_pred = np.round(y_pred).flatten()\n",
        "print(accuracy_score(y_test, y_pred))\n",
        "\n",
        "classifier.fit(X_train_ref,y_train_ref)\n",
        "y_pred_ref = classifier.predict(X_test_ref)\n",
        "y_pred_ref = np.round(y_pred_ref).flatten()\n",
        "print(accuracy_score(y_test_ref, y_pred_ref))"
      ],
      "execution_count": 283,
      "outputs": [
        {
          "output_type": "stream",
          "text": [
            "0.6089385474860335\n",
            "0.39106145251396646\n"
          ],
          "name": "stdout"
        }
      ]
    },
    {
      "cell_type": "code",
      "metadata": {
        "id": "hrF5V_7_94hA",
        "colab_type": "code",
        "colab": {
          "base_uri": "https://localhost:8080/",
          "height": 52
        },
        "outputId": "163f3be0-0d6e-4859-ec77-62050f1ff83c"
      },
      "source": [
        "from sklearn.tree import DecisionTreeClassifier\n",
        "classifier = DecisionTreeClassifier()\n",
        "classifier.fit(X_train,y_train)\n",
        "y_pred = classifier.predict(X_test)\n",
        "y_pred = np.round(y_pred).flatten()\n",
        "print(accuracy_score(y_test, y_pred))\n",
        "\n",
        "classifier.fit(X_train_ref,y_train_ref)\n",
        "y_pred_ref = classifier.predict(X_test_ref)\n",
        "y_pred_ref = np.round(y_pred_ref).flatten()\n",
        "print(accuracy_score(y_test_ref, y_pred_ref))"
      ],
      "execution_count": 284,
      "outputs": [
        {
          "output_type": "stream",
          "text": [
            "0.6089385474860335\n",
            "0.3687150837988827\n"
          ],
          "name": "stdout"
        }
      ]
    },
    {
      "cell_type": "code",
      "metadata": {
        "id": "0M4ySoHj97e5",
        "colab_type": "code",
        "colab": {
          "base_uri": "https://localhost:8080/",
          "height": 52
        },
        "outputId": "0d0fc7e0-ed9d-4358-a5db-351c2e9ba16e"
      },
      "source": [
        "from sklearn.ensemble import GradientBoostingClassifier\n",
        "classifier = GradientBoostingClassifier()\n",
        "classifier.fit(X_train,y_train)\n",
        "y_pred = classifier.predict(X_test)\n",
        "y_pred = np.round(y_pred).flatten()\n",
        "print(accuracy_score(y_test, y_pred))\n",
        "\n",
        "classifier.fit(X_train_ref,y_train_ref)\n",
        "y_pred_ref = classifier.predict(X_test_ref)\n",
        "y_pred_ref = np.round(y_pred_ref).flatten()\n",
        "print(accuracy_score(y_test_ref, y_pred_ref))"
      ],
      "execution_count": 285,
      "outputs": [
        {
          "output_type": "stream",
          "text": [
            "0.6089385474860335\n",
            "0.39106145251396646\n"
          ],
          "name": "stdout"
        }
      ]
    },
    {
      "cell_type": "code",
      "metadata": {
        "id": "UpVGb0-p991g",
        "colab_type": "code",
        "colab": {
          "base_uri": "https://localhost:8080/",
          "height": 52
        },
        "outputId": "242744d5-0fa6-400d-cd37-b081c6dddbb3"
      },
      "source": [
        "from sklearn.linear_model import SGDClassifier\n",
        "classifier = SGDClassifier()\n",
        "classifier.fit(X_train,y_train)\n",
        "y_pred = classifier.predict(X_test)\n",
        "y_pred = np.round(y_pred).flatten()\n",
        "print(accuracy_score(y_test, y_pred))\n",
        "\n",
        "classifier.fit(X_train_ref,y_train_ref)\n",
        "y_pred_ref = classifier.predict(X_test_ref)\n",
        "y_pred_ref = np.round(y_pred_ref).flatten()\n",
        "print(accuracy_score(y_test_ref, y_pred_ref))"
      ],
      "execution_count": 286,
      "outputs": [
        {
          "output_type": "stream",
          "text": [
            "0.5754189944134078\n",
            "0.6312849162011173\n"
          ],
          "name": "stdout"
        }
      ]
    },
    {
      "cell_type": "code",
      "metadata": {
        "id": "nrl2BNRA9_mm",
        "colab_type": "code",
        "colab": {
          "base_uri": "https://localhost:8080/",
          "height": 52
        },
        "outputId": "b4d402fe-2654-4db5-a92c-2d20c49789d2"
      },
      "source": [
        "from sklearn.linear_model import Perceptron\n",
        "classifier = Perceptron()\n",
        "classifier.fit(X_train,y_train)\n",
        "y_pred = classifier.predict(X_test)\n",
        "y_pred = np.round(y_pred).flatten()\n",
        "print(accuracy_score(y_test, y_pred))\n",
        "\n",
        "classifier.fit(X_train_ref,y_train_ref)\n",
        "y_pred_ref = classifier.predict(X_test_ref)\n",
        "y_pred_ref = np.round(y_pred_ref).flatten()\n",
        "print(accuracy_score(y_test_ref, y_pred_ref))"
      ],
      "execution_count": 287,
      "outputs": [
        {
          "output_type": "stream",
          "text": [
            "0.4245810055865922\n",
            "0.6145251396648045\n"
          ],
          "name": "stdout"
        }
      ]
    },
    {
      "cell_type": "code",
      "metadata": {
        "id": "L6SQhWSk-Btx",
        "colab_type": "code",
        "colab": {
          "base_uri": "https://localhost:8080/",
          "height": 52
        },
        "outputId": "b268a39b-1241-4baa-ed3d-37ad5086cd08"
      },
      "source": [
        "from sklearn.naive_bayes import GaussianNB\n",
        "classifier = GaussianNB()\n",
        "classifier.fit(X_train,y_train)\n",
        "y_pred = classifier.predict(X_test)\n",
        "y_pred = np.round(y_pred).flatten()\n",
        "print(accuracy_score(y_test, y_pred))\n",
        "\n",
        "classifier.fit(X_train_ref,y_train_ref)\n",
        "y_pred_ref = classifier.predict(X_test_ref)\n",
        "y_pred_ref = np.round(y_pred_ref).flatten()\n",
        "print(accuracy_score(y_test_ref, y_pred_ref))"
      ],
      "execution_count": 288,
      "outputs": [
        {
          "output_type": "stream",
          "text": [
            "0.4245810055865922\n",
            "0.6312849162011173\n"
          ],
          "name": "stdout"
        }
      ]
    },
    {
      "cell_type": "code",
      "metadata": {
        "id": "Ty-k4q1L-Ew-",
        "colab_type": "code",
        "colab": {
          "base_uri": "https://localhost:8080/",
          "height": 52
        },
        "outputId": "a5b91b80-9d45-4d11-edfc-ce456635281e"
      },
      "source": [
        "from sklearn.neighbors import KNeighborsClassifier\n",
        "classifier = KNeighborsClassifier()\n",
        "classifier.fit(X_train,y_train)\n",
        "y_pred = classifier.predict(X_test)\n",
        "y_pred = np.round(y_pred).flatten()\n",
        "print(accuracy_score(y_test, y_pred))\n",
        "\n",
        "classifier.fit(X_train_ref,y_train_ref)\n",
        "y_pred_ref = classifier.predict(X_test_ref)\n",
        "y_pred_ref = np.round(y_pred_ref).flatten()\n",
        "print(accuracy_score(y_test_ref, y_pred_ref))"
      ],
      "execution_count": 289,
      "outputs": [
        {
          "output_type": "stream",
          "text": [
            "0.6089385474860335\n",
            "0.3687150837988827\n"
          ],
          "name": "stdout"
        }
      ]
    }
  ]
}