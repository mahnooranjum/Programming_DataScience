{
  "nbformat": 4,
  "nbformat_minor": 0,
  "metadata": {
    "kernelspec": {
      "display_name": "Python 3",
      "language": "python",
      "name": "python3"
    },
    "language_info": {
      "codemirror_mode": {
        "name": "ipython",
        "version": 3
      },
      "file_extension": ".py",
      "mimetype": "text/x-python",
      "name": "python",
      "nbconvert_exporter": "python",
      "pygments_lexer": "ipython3",
      "version": "3.6.1"
    },
    "toc": {
      "nav_menu": {},
      "number_sections": true,
      "sideBar": true,
      "skip_h1_title": false,
      "toc_cell": false,
      "toc_position": {},
      "toc_section_display": "block",
      "toc_window_display": true
    },
    "colab": {
      "name": "Demo152_Outliers_Detection_EVA.ipynb",
      "provenance": [],
      "collapsed_sections": []
    }
  },
  "cells": [
    {
      "cell_type": "markdown",
      "metadata": {
        "id": "vgXbvCBnYDzt",
        "colab_type": "text"
      },
      "source": [
        "## Outliers\n",
        "\n",
        "An outlier is an observation that lies outside the overall pattern of a distribution __[Moore and McCabe, 1999]__.\n",
        "\n",
        "- Outliers can either be treated special completely ignored \n",
        "\n",
        "- E.g., Fraudulant transactions are outliers, but since we want to avoid them, they must be paid special attention \n",
        "\n",
        "- If we think that the outliers are errors, we should remove them \n",
        "\n",
        "\n",
        "## Which of the ML models care about Outliers?\n",
        "\n",
        "Affected models: \n",
        "\n",
        "- AdaBoost \n",
        "- Linear models\n",
        "- Linear regression\n",
        "- Neural Networks (if the number is high)\n",
        "- Logistic regression \n",
        "- KMeans\n",
        "- Heirarchical Clustering \n",
        "- PCA\n",
        "\n",
        "Unaffected models:\n",
        "\n",
        "- Decision trees\n",
        "- Naive bayes\n",
        "- SVMs\n",
        "- Random forest \n",
        "- Gradient boosted trees \n",
        "- K-Nearest Neighbors\n",
        "\n",
        "\n",
        "### Identification\n",
        "\n",
        "- Extreme Value Analysis\n",
        "  - IQR = 75th quantile - 25th quantile\n",
        "  - Upper boundary = 75th quantile + (IQR * 1.5)\n",
        "  - Lower boundary = 25th quantile - (IQR * 1.5)\n",
        "  - Upper Extreme boundary = 75th quantile + (IQR * 3)\n",
        "  - Lower Extreme boundary = 25th quantile - (IQR * 3)\n"
      ]
    },
    {
      "cell_type": "code",
      "metadata": {
        "id": "42hbGwCeDd8-",
        "colab_type": "code",
        "colab": {
          "base_uri": "https://localhost:8080/",
          "height": 72
        },
        "outputId": "9f82122d-3a19-46e5-f661-39b9481eefe6"
      },
      "source": [
        "import pandas as pd\n",
        "import matplotlib.pyplot as plt\n",
        "import seaborn as sns\n",
        "import numpy as np"
      ],
      "execution_count": 1,
      "outputs": [
        {
          "output_type": "stream",
          "text": [
            "/usr/local/lib/python3.6/dist-packages/statsmodels/tools/_testing.py:19: FutureWarning: pandas.util.testing is deprecated. Use the functions in the public API at pandas.testing instead.\n",
            "  import pandas.util.testing as tm\n"
          ],
          "name": "stderr"
        }
      ]
    },
    {
      "cell_type": "code",
      "metadata": {
        "id": "Ds9gl_oFEATI",
        "colab_type": "code",
        "outputId": "b18bdbf7-7d04-4cac-bfa5-ae9a76e6e4ae",
        "colab": {
          "base_uri": "https://localhost:8080/",
          "height": 54
        }
      },
      "source": [
        "from google.colab import drive\n",
        "drive.mount('/content/gdrive')\n",
        "data = pd.read_csv(\"gdrive/My Drive/Colab Notebooks/FeatureEngineering/train_date.csv\")\n"
      ],
      "execution_count": 2,
      "outputs": [
        {
          "output_type": "stream",
          "text": [
            "Drive already mounted at /content/gdrive; to attempt to forcibly remount, call drive.mount(\"/content/gdrive\", force_remount=True).\n"
          ],
          "name": "stdout"
        }
      ]
    },
    {
      "cell_type": "code",
      "metadata": {
        "id": "FIDvE3p-s872",
        "colab_type": "code",
        "colab": {
          "base_uri": "https://localhost:8080/",
          "height": 459
        },
        "outputId": "fc7d3869-c0e3-41bf-f6a7-721f3188f69d"
      },
      "source": [
        "data.head()"
      ],
      "execution_count": 3,
      "outputs": [
        {
          "output_type": "execute_result",
          "data": {
            "text/html": [
              "<div>\n",
              "<style scoped>\n",
              "    .dataframe tbody tr th:only-of-type {\n",
              "        vertical-align: middle;\n",
              "    }\n",
              "\n",
              "    .dataframe tbody tr th {\n",
              "        vertical-align: top;\n",
              "    }\n",
              "\n",
              "    .dataframe thead th {\n",
              "        text-align: right;\n",
              "    }\n",
              "</style>\n",
              "<table border=\"1\" class=\"dataframe\">\n",
              "  <thead>\n",
              "    <tr style=\"text-align: right;\">\n",
              "      <th></th>\n",
              "      <th>Date</th>\n",
              "      <th>PassengerId</th>\n",
              "      <th>Survived</th>\n",
              "      <th>Pclass</th>\n",
              "      <th>Name</th>\n",
              "      <th>Sex</th>\n",
              "      <th>Age</th>\n",
              "      <th>SibSp</th>\n",
              "      <th>Parch</th>\n",
              "      <th>Ticket</th>\n",
              "      <th>Fare</th>\n",
              "      <th>Cabin</th>\n",
              "      <th>Embarked</th>\n",
              "    </tr>\n",
              "  </thead>\n",
              "  <tbody>\n",
              "    <tr>\n",
              "      <th>0</th>\n",
              "      <td>12/6/2019</td>\n",
              "      <td>1</td>\n",
              "      <td>0</td>\n",
              "      <td>3</td>\n",
              "      <td>Braund, Mr. Owen Harris</td>\n",
              "      <td>male</td>\n",
              "      <td>22.0</td>\n",
              "      <td>1</td>\n",
              "      <td>0</td>\n",
              "      <td>A/5 21171</td>\n",
              "      <td>7.2500</td>\n",
              "      <td>NaN</td>\n",
              "      <td>S</td>\n",
              "    </tr>\n",
              "    <tr>\n",
              "      <th>1</th>\n",
              "      <td>12/7/2019</td>\n",
              "      <td>2</td>\n",
              "      <td>1</td>\n",
              "      <td>1</td>\n",
              "      <td>Cumings, Mrs. John Bradley (Florence Briggs Th...</td>\n",
              "      <td>female</td>\n",
              "      <td>38.0</td>\n",
              "      <td>1</td>\n",
              "      <td>0</td>\n",
              "      <td>PC 17599</td>\n",
              "      <td>71.2833</td>\n",
              "      <td>C85</td>\n",
              "      <td>C</td>\n",
              "    </tr>\n",
              "    <tr>\n",
              "      <th>2</th>\n",
              "      <td>12/8/2019</td>\n",
              "      <td>3</td>\n",
              "      <td>1</td>\n",
              "      <td>3</td>\n",
              "      <td>Heikkinen, Miss. Laina</td>\n",
              "      <td>female</td>\n",
              "      <td>26.0</td>\n",
              "      <td>0</td>\n",
              "      <td>0</td>\n",
              "      <td>STON/O2. 3101282</td>\n",
              "      <td>7.9250</td>\n",
              "      <td>NaN</td>\n",
              "      <td>S</td>\n",
              "    </tr>\n",
              "    <tr>\n",
              "      <th>3</th>\n",
              "      <td>12/9/2019</td>\n",
              "      <td>4</td>\n",
              "      <td>1</td>\n",
              "      <td>1</td>\n",
              "      <td>Futrelle, Mrs. Jacques Heath (Lily May Peel)</td>\n",
              "      <td>female</td>\n",
              "      <td>35.0</td>\n",
              "      <td>1</td>\n",
              "      <td>0</td>\n",
              "      <td>113803</td>\n",
              "      <td>53.1000</td>\n",
              "      <td>C123</td>\n",
              "      <td>S</td>\n",
              "    </tr>\n",
              "    <tr>\n",
              "      <th>4</th>\n",
              "      <td>12/10/2019</td>\n",
              "      <td>5</td>\n",
              "      <td>0</td>\n",
              "      <td>3</td>\n",
              "      <td>Allen, Mr. William Henry</td>\n",
              "      <td>male</td>\n",
              "      <td>35.0</td>\n",
              "      <td>0</td>\n",
              "      <td>0</td>\n",
              "      <td>373450</td>\n",
              "      <td>8.0500</td>\n",
              "      <td>NaN</td>\n",
              "      <td>S</td>\n",
              "    </tr>\n",
              "  </tbody>\n",
              "</table>\n",
              "</div>"
            ],
            "text/plain": [
              "         Date  PassengerId  Survived  ...     Fare Cabin Embarked\n",
              "0   12/6/2019            1         0  ...   7.2500   NaN        S\n",
              "1   12/7/2019            2         1  ...  71.2833   C85        C\n",
              "2   12/8/2019            3         1  ...   7.9250   NaN        S\n",
              "3   12/9/2019            4         1  ...  53.1000  C123        S\n",
              "4  12/10/2019            5         0  ...   8.0500   NaN        S\n",
              "\n",
              "[5 rows x 13 columns]"
            ]
          },
          "metadata": {
            "tags": []
          },
          "execution_count": 3
        }
      ]
    },
    {
      "cell_type": "code",
      "metadata": {
        "id": "A-_2NBrjtIPt",
        "colab_type": "code",
        "colab": {
          "base_uri": "https://localhost:8080/",
          "height": 34
        },
        "outputId": "f5ae042b-5f09-4c08-dc3f-437a8c82f277"
      },
      "source": [
        "data['Age'].min()"
      ],
      "execution_count": 4,
      "outputs": [
        {
          "output_type": "execute_result",
          "data": {
            "text/plain": [
              "0.42"
            ]
          },
          "metadata": {
            "tags": []
          },
          "execution_count": 4
        }
      ]
    },
    {
      "cell_type": "code",
      "metadata": {
        "id": "jDIYQeqrtLM1",
        "colab_type": "code",
        "colab": {
          "base_uri": "https://localhost:8080/",
          "height": 34
        },
        "outputId": "9690effc-69c3-4874-d617-5392e032a143"
      },
      "source": [
        "data['Age'].max()"
      ],
      "execution_count": 5,
      "outputs": [
        {
          "output_type": "execute_result",
          "data": {
            "text/plain": [
              "80.0"
            ]
          },
          "metadata": {
            "tags": []
          },
          "execution_count": 5
        }
      ]
    },
    {
      "cell_type": "code",
      "metadata": {
        "id": "px0QuXNiYDz_",
        "colab_type": "code",
        "colab": {
          "base_uri": "https://localhost:8080/",
          "height": 296
        },
        "outputId": "8397caf1-5bbe-4ae5-ef26-26d3be096638"
      },
      "source": [
        "sns.distplot(data['Age'].fillna(100))"
      ],
      "execution_count": 6,
      "outputs": [
        {
          "output_type": "execute_result",
          "data": {
            "text/plain": [
              "<matplotlib.axes._subplots.AxesSubplot at 0x7fd455f402e8>"
            ]
          },
          "metadata": {
            "tags": []
          },
          "execution_count": 6
        },
        {
          "output_type": "display_data",
          "data": {
            "image/png": "[encoded data removed]",
            "text/plain": [
              "<Figure size 432x288 with 1 Axes>"
            ]
          },
          "metadata": {
            "tags": [],
            "needs_background": "light"
          }
        }
      ]
    },
    {
      "cell_type": "code",
      "metadata": {
        "id": "5Znyy3NOYD0E",
        "colab_type": "code",
        "colab": {
          "base_uri": "https://localhost:8080/",
          "height": 312
        },
        "outputId": "e800e4e2-2f86-47a0-ed25-44fd1a291380"
      },
      "source": [
        "fig = data['Fare'].hist(bins=50, color='blue')\n",
        "fig.set_title('Distribution')\n",
        "fig.set_xlabel('X variable')\n",
        "fig.set_ylabel('#')"
      ],
      "execution_count": 7,
      "outputs": [
        {
          "output_type": "execute_result",
          "data": {
            "text/plain": [
              "Text(0, 0.5, '#')"
            ]
          },
          "metadata": {
            "tags": []
          },
          "execution_count": 7
        },
        {
          "output_type": "display_data",
          "data": {
            "image/png": "[encoded data removed]",
            "text/plain": [
              "<Figure size 432x288 with 1 Axes>"
            ]
          },
          "metadata": {
            "tags": [],
            "needs_background": "light"
          }
        }
      ]
    },
    {
      "cell_type": "code",
      "metadata": {
        "id": "liUrG1RoYD0J",
        "colab_type": "code",
        "colab": {
          "base_uri": "https://localhost:8080/",
          "height": 369
        },
        "outputId": "03c418d4-5396-4b52-b06d-1ce5fca501c2"
      },
      "source": [
        "# Outliers according to the quantiles + 1.5 IQR \n",
        "sns.catplot(x=\"Survived\", y=\"Fare\", kind=\"box\", data=data)\n",
        "sns.despine(left=False, right=False, top=False)"
      ],
      "execution_count": 8,
      "outputs": [
        {
          "output_type": "display_data",
          "data": {
            "image/png": "[encoded data removed]",
            "text/plain": [
              "<Figure size 360x360 with 1 Axes>"
            ]
          },
          "metadata": {
            "tags": [],
            "needs_background": "light"
          }
        }
      ]
    },
    {
      "cell_type": "code",
      "metadata": {
        "id": "JK_p88N7xv5P",
        "colab_type": "code",
        "colab": {
          "base_uri": "https://localhost:8080/",
          "height": 369
        },
        "outputId": "fe152cd4-daaa-4c81-db77-db3009087966"
      },
      "source": [
        "sns.set_style(\"whitegrid\")\n",
        "sns.catplot(x=\"Survived\", y=\"Fare\", kind=\"swarm\", data=data)\n",
        "sns.despine(left=False, right=False, top=False)"
      ],
      "execution_count": 9,
      "outputs": [
        {
          "output_type": "display_data",
          "data": {
            "image/png": "[encoded data removed]",
            "text/plain": [
              "<Figure size 360x360 with 1 Axes>"
            ]
          },
          "metadata": {
            "tags": []
          }
        }
      ]
    },
    {
      "cell_type": "code",
      "metadata": {
        "id": "ejPjBYbcx2Zm",
        "colab_type": "code",
        "colab": {
          "base_uri": "https://localhost:8080/",
          "height": 369
        },
        "outputId": "6efd2471-4e8d-42f0-a392-d395afb4c8ed"
      },
      "source": [
        "sns.set_style(\"whitegrid\")\n",
        "sns.catplot(x=\"Survived\", y=\"Fare\",  data=data);\n",
        "sns.despine(left=False, right=False, top=False)"
      ],
      "execution_count": 10,
      "outputs": [
        {
          "output_type": "display_data",
          "data": {
            "image/png": "[encoded data removed]",
            "text/plain": [
              "<Figure size 360x360 with 1 Axes>"
            ]
          },
          "metadata": {
            "tags": []
          }
        }
      ]
    },
    {
      "cell_type": "code",
      "metadata": {
        "id": "nnDUKoyIz2Cx",
        "colab_type": "code",
        "colab": {
          "base_uri": "https://localhost:8080/",
          "height": 369
        },
        "outputId": "023a9aa9-d2cd-46f9-b733-ce136019064e"
      },
      "source": [
        "fig = sns.catplot(x=\"Survived\", y=\"Fare\",\n",
        "            kind=\"point\", data=data)"
      ],
      "execution_count": 11,
      "outputs": [
        {
          "output_type": "display_data",
          "data": {
            "image/png": "[encoded data removed]",
            "text/plain": [
              "<Figure size 360x360 with 1 Axes>"
            ]
          },
          "metadata": {
            "tags": []
          }
        }
      ]
    },
    {
      "cell_type": "code",
      "metadata": {
        "id": "2NNfhB3px8-A",
        "colab_type": "code",
        "colab": {
          "base_uri": "https://localhost:8080/",
          "height": 352
        },
        "outputId": "ee295a4c-c950-4ed9-b39c-ff5111b40d5d"
      },
      "source": [
        "sns.set_context(\"talk\")\n",
        "sns.set_palette(\"bright\")\n",
        "sns.catplot(x=\"Survived\", y=\"Fare\", jitter = False, data=data);"
      ],
      "execution_count": 12,
      "outputs": [
        {
          "output_type": "display_data",
          "data": {
            "image/png": "[encoded data removed]",
            "text/plain": [
              "<Figure size 360x360 with 1 Axes>"
            ]
          },
          "metadata": {
            "tags": []
          }
        }
      ]
    },
    {
      "cell_type": "code",
      "metadata": {
        "id": "tuPMVeeMYD0P",
        "colab_type": "code",
        "colab": {
          "base_uri": "https://localhost:8080/",
          "height": 175
        },
        "outputId": "3b2e68e2-e83e-43eb-fb54-2823292e3a32"
      },
      "source": [
        "data['Fare'].describe()"
      ],
      "execution_count": 13,
      "outputs": [
        {
          "output_type": "execute_result",
          "data": {
            "text/plain": [
              "count    891.000000\n",
              "mean      32.204208\n",
              "std       49.693429\n",
              "min        0.000000\n",
              "25%        7.910400\n",
              "50%       14.454200\n",
              "75%       31.000000\n",
              "max      512.329200\n",
              "Name: Fare, dtype: float64"
            ]
          },
          "metadata": {
            "tags": []
          },
          "execution_count": 13
        }
      ]
    },
    {
      "cell_type": "code",
      "metadata": {
        "id": "Nur2KUsBYD0T",
        "colab_type": "code",
        "colab": {
          "base_uri": "https://localhost:8080/",
          "height": 34
        },
        "outputId": "6a86796c-2075-42aa-b7bb-1139ae6fec6a"
      },
      "source": [
        "# Identify outliers according to IQR\n",
        "IQR = data['Fare'].quantile(0.75) - data['Fare'].quantile(0.25)\n",
        "\n",
        "lower_bnd = data['Fare'].quantile(0.25) - (IQR * 1.5)\n",
        "upper_bnd = data['Fare'].quantile(0.75) + (IQR * 1.5)\n",
        "\n",
        "upper_bnd, lower_bnd, IQR"
      ],
      "execution_count": 14,
      "outputs": [
        {
          "output_type": "execute_result",
          "data": {
            "text/plain": [
              "(65.6344, -26.724, 23.0896)"
            ]
          },
          "metadata": {
            "tags": []
          },
          "execution_count": 14
        }
      ]
    },
    {
      "cell_type": "code",
      "metadata": {
        "id": "c98J9NXwYD0Y",
        "colab_type": "code",
        "colab": {
          "base_uri": "https://localhost:8080/",
          "height": 34
        },
        "outputId": "4911e430-fc2d-46d6-a8a8-3dcca6bbd06f"
      },
      "source": [
        "# Identify outliers according to extreme IQR\n",
        "IQR = data['Fare'].quantile(0.75) - data['Fare'].quantile(0.25)\n",
        "\n",
        "ex_lower_bnd = data['Fare'].quantile(0.25) - (IQR * 3)\n",
        "ex_upper_bnd = data['Fare'].quantile(0.75) + (IQR * 3)\n",
        "\n",
        "ex_upper_bnd, ex_lower_bnd, IQR"
      ],
      "execution_count": 15,
      "outputs": [
        {
          "output_type": "execute_result",
          "data": {
            "text/plain": [
              "(100.2688, -61.358399999999996, 23.0896)"
            ]
          },
          "metadata": {
            "tags": []
          },
          "execution_count": 15
        }
      ]
    },
    {
      "cell_type": "code",
      "metadata": {
        "id": "_Xh51kLAYD0c",
        "colab_type": "code",
        "colab": {
          "base_uri": "https://localhost:8080/",
          "height": 70
        },
        "outputId": "33b58cd0-7641-4046-83b6-418bd95d338a"
      },
      "source": [
        "print('total rows: {}'.format(data.shape[0]))\n",
        "print('rows above IQR boundary: {}'.format(\n",
        "    data[data['Fare'] > upper_bnd].shape[0]))\n",
        "print('rows above extreme IQR boundary: {}'.format(\n",
        "    data[data['Fare'] > ex_upper_bnd].shape[0]))"
      ],
      "execution_count": 16,
      "outputs": [
        {
          "output_type": "stream",
          "text": [
            "total rows: 891\n",
            "rows above IQR boundary: 116\n",
            "rows above extreme IQR boundary: 53\n"
          ],
          "name": "stdout"
        }
      ]
    },
    {
      "cell_type": "code",
      "metadata": {
        "id": "9htVljA8YD0g",
        "colab_type": "code",
        "colab": {
          "base_uri": "https://localhost:8080/",
          "height": 52
        },
        "outputId": "83a2c6d0-cbd3-4121-8ffe-2d52812f2268"
      },
      "source": [
        "print('rows above IQR boundary: {}'.format(\n",
        "    100* data[data['Fare'] > upper_bnd].shape[0]/data.shape[0]))\n",
        "print('rows above extreme IQR boundary: {}'.format(\n",
        "    100* data[data['Fare'] > ex_upper_bnd].shape[0]/data.shape[0]))"
      ],
      "execution_count": 17,
      "outputs": [
        {
          "output_type": "stream",
          "text": [
            "rows above IQR boundary: 13.019079685746352\n",
            "rows above extreme IQR boundary: 5.948372615039282\n"
          ],
          "name": "stdout"
        }
      ]
    },
    {
      "cell_type": "code",
      "metadata": {
        "id": "Xsmlqi-mYD0l",
        "colab_type": "code",
        "colab": {
          "base_uri": "https://localhost:8080/",
          "height": 87
        },
        "outputId": "55a06ab2-b891-4f86-ca3b-948d3b4fe609"
      },
      "source": [
        "# Get outliers\n",
        "outliers = data[data['Fare']>ex_upper_bnd]\n",
        "outliers.groupby('Survived')['Fare'].count()"
      ],
      "execution_count": 18,
      "outputs": [
        {
          "output_type": "execute_result",
          "data": {
            "text/plain": [
              "Survived\n",
              "0    14\n",
              "1    39\n",
              "Name: Fare, dtype: int64"
            ]
          },
          "metadata": {
            "tags": []
          },
          "execution_count": 18
        }
      ]
    },
    {
      "cell_type": "code",
      "metadata": {
        "id": "vFO5sxCH3DMP",
        "colab_type": "code",
        "colab": {
          "base_uri": "https://localhost:8080/",
          "height": 545
        },
        "outputId": "18d20847-a4b1-4b12-cf9a-867df476d90a"
      },
      "source": [
        "outliers = data[data['Fare']>ex_upper_bnd]\n",
        "outliers.groupby('Cabin')['Fare'].count()"
      ],
      "execution_count": 19,
      "outputs": [
        {
          "output_type": "execute_result",
          "data": {
            "text/plain": [
              "Cabin\n",
              "B101               1\n",
              "B3                 1\n",
              "B5                 2\n",
              "B51 B53 B55        1\n",
              "B57 B59 B63 B66    2\n",
              "B58 B60            2\n",
              "B78                1\n",
              "B80                1\n",
              "B96 B98            4\n",
              "C125               2\n",
              "C22 C26            3\n",
              "C23 C25 C27        4\n",
              "C32                1\n",
              "C45                1\n",
              "C62 C64            1\n",
              "C65                2\n",
              "C68                2\n",
              "C7                 1\n",
              "C70                1\n",
              "C82                1\n",
              "C86                1\n",
              "C91                1\n",
              "C95                1\n",
              "C99                1\n",
              "D36                2\n",
              "D48                1\n",
              "E34                1\n",
              "E40                1\n",
              "Name: Fare, dtype: int64"
            ]
          },
          "metadata": {
            "tags": []
          },
          "execution_count": 19
        }
      ]
    },
    {
      "cell_type": "code",
      "metadata": {
        "id": "bULSsm_W3JMA",
        "colab_type": "code",
        "colab": {
          "base_uri": "https://localhost:8080/",
          "height": 404
        },
        "outputId": "c447f0e5-1aec-43d9-e805-9acda7372f3c"
      },
      "source": [
        "outliers = data[data['Fare']>ex_upper_bnd]\n",
        "outliers.groupby('Ticket')['Fare'].count()"
      ],
      "execution_count": 20,
      "outputs": [
        {
          "output_type": "execute_result",
          "data": {
            "text/plain": [
              "Ticket\n",
              "113503      1\n",
              "113760      4\n",
              "113781      4\n",
              "16966       2\n",
              "17421       4\n",
              "19950       4\n",
              "24160       3\n",
              "35273       3\n",
              "36928       2\n",
              "PC 17483    1\n",
              "PC 17558    2\n",
              "PC 17569    2\n",
              "PC 17582    3\n",
              "PC 17608    2\n",
              "PC 17611    2\n",
              "PC 17755    3\n",
              "PC 17757    4\n",
              "PC 17758    2\n",
              "PC 17760    3\n",
              "PC 17761    2\n",
              "Name: Fare, dtype: int64"
            ]
          },
          "metadata": {
            "tags": []
          },
          "execution_count": 20
        }
      ]
    },
    {
      "cell_type": "markdown",
      "metadata": {
        "id": "K7xSRL_j3uRv",
        "colab_type": "text"
      },
      "source": [
        "Age exploration"
      ]
    },
    {
      "cell_type": "code",
      "metadata": {
        "id": "hb9soWOMYD0x",
        "colab_type": "code",
        "colab": {
          "base_uri": "https://localhost:8080/",
          "height": 338
        },
        "outputId": "ac9afb77-9d03-4caf-a6c5-873c63c42ed2"
      },
      "source": [
        "# First let's plot the histogram to get an idea of the distribution\n",
        "fig = data.Age.hist(bins=50, color='green')\n",
        "fig.set_title('Distribution')\n",
        "fig.set_xlabel('X')\n",
        "fig.set_ylabel('#')"
      ],
      "execution_count": 21,
      "outputs": [
        {
          "output_type": "execute_result",
          "data": {
            "text/plain": [
              "Text(0, 0.5, '#')"
            ]
          },
          "metadata": {
            "tags": []
          },
          "execution_count": 21
        },
        {
          "output_type": "display_data",
          "data": {
            "image/png": "[encoded data removed]",
            "text/plain": [
              "<Figure size 432x288 with 1 Axes>"
            ]
          },
          "metadata": {
            "tags": []
          }
        }
      ]
    },
    {
      "cell_type": "code",
      "metadata": {
        "id": "EBI2TomHYD00",
        "colab_type": "code",
        "colab": {
          "base_uri": "https://localhost:8080/",
          "height": 352
        },
        "outputId": "43babe80-71d1-480b-c62a-df374d9f4165"
      },
      "source": [
        "# Outliers according to the quantiles + 1.5 IQR \n",
        "sns.catplot(x=\"Survived\", y=\"Age\", kind=\"box\", data=data)\n",
        "sns.despine(left=False, right=False, top=False)"
      ],
      "execution_count": 22,
      "outputs": [
        {
          "output_type": "display_data",
          "data": {
            "image/png": "[encoded data removed]",
            "text/plain": [
              "<Figure size 360x360 with 1 Axes>"
            ]
          },
          "metadata": {
            "tags": []
          }
        }
      ]
    },
    {
      "cell_type": "code",
      "metadata": {
        "id": "I8NLzuqVYD03",
        "colab_type": "code",
        "colab": {
          "base_uri": "https://localhost:8080/",
          "height": 175
        },
        "outputId": "726377bc-71b5-4777-f468-5669925095b4"
      },
      "source": [
        "data['Age'].describe()"
      ],
      "execution_count": 23,
      "outputs": [
        {
          "output_type": "execute_result",
          "data": {
            "text/plain": [
              "count    714.000000\n",
              "mean      29.699118\n",
              "std       14.526497\n",
              "min        0.420000\n",
              "25%       20.125000\n",
              "50%       28.000000\n",
              "75%       38.000000\n",
              "max       80.000000\n",
              "Name: Age, dtype: float64"
            ]
          },
          "metadata": {
            "tags": []
          },
          "execution_count": 23
        }
      ]
    },
    {
      "cell_type": "code",
      "metadata": {
        "id": "4mBpo6to4RJn",
        "colab_type": "code",
        "colab": {
          "base_uri": "https://localhost:8080/",
          "height": 34
        },
        "outputId": "d9bcb805-a956-4a77-98b8-dc855c78a157"
      },
      "source": [
        "upper_bnd = data['Age'].mean() + 1.5* data['Age'].std()\n",
        "lower_bnd = data['Age'].mean() - 1.5* data['Age'].std()\n",
        "\n",
        "upper_bnd, lower_bnd"
      ],
      "execution_count": 24,
      "outputs": [
        {
          "output_type": "execute_result",
          "data": {
            "text/plain": [
              "(51.48886364555989, 7.909371648557755)"
            ]
          },
          "metadata": {
            "tags": []
          },
          "execution_count": 24
        }
      ]
    },
    {
      "cell_type": "code",
      "metadata": {
        "id": "H8v3Qc61YD06",
        "colab_type": "code",
        "colab": {
          "base_uri": "https://localhost:8080/",
          "height": 34
        },
        "outputId": "59b49eb6-7099-4f35-94da-abbf8add8dbc"
      },
      "source": [
        "ex_upper_bnd = data['Age'].mean() + 3* data['Age'].std()\n",
        "ex_lower_bnd = data['Age'].mean() - 3* data['Age'].std()\n",
        "\n",
        "ex_upper_bnd, ex_lower_bnd"
      ],
      "execution_count": 25,
      "outputs": [
        {
          "output_type": "execute_result",
          "data": {
            "text/plain": [
              "(73.27860964406095, -13.88037434994331)"
            ]
          },
          "metadata": {
            "tags": []
          },
          "execution_count": 25
        }
      ]
    },
    {
      "cell_type": "code",
      "metadata": {
        "id": "ACJ6ejRH4gkR",
        "colab_type": "code",
        "colab": {
          "base_uri": "https://localhost:8080/",
          "height": 70
        },
        "outputId": "8e4b9e43-e0e6-4a32-d6ad-c0d75a4d929b"
      },
      "source": [
        "print('total rows: {}'.format(data.shape[0]))\n",
        "print('rows above IQR boundary: {}'.format(\n",
        "    data[data['Age'] > upper_bnd].shape[0]))\n",
        "print('rows above extreme IQR boundary: {}'.format(\n",
        "    data[data['Age'] > ex_upper_bnd].shape[0]))"
      ],
      "execution_count": 26,
      "outputs": [
        {
          "output_type": "stream",
          "text": [
            "total rows: 891\n",
            "rows above IQR boundary: 57\n",
            "rows above extreme IQR boundary: 2\n"
          ],
          "name": "stdout"
        }
      ]
    },
    {
      "cell_type": "code",
      "metadata": {
        "id": "Epgu7oi04mUO",
        "colab_type": "code",
        "colab": {
          "base_uri": "https://localhost:8080/",
          "height": 70
        },
        "outputId": "a1542e6b-7caa-4100-b687-27cfee529564"
      },
      "source": [
        "print('total rows: {}'.format(data.shape[0]))\n",
        "print('rows below IQR boundary: {}'.format(\n",
        "    data[data['Age'] < lower_bnd].shape[0]))\n",
        "print('rows below extreme IQR boundary: {}'.format(\n",
        "    data[data['Age'] < ex_lower_bnd].shape[0]))"
      ],
      "execution_count": 27,
      "outputs": [
        {
          "output_type": "stream",
          "text": [
            "total rows: 891\n",
            "rows below IQR boundary: 50\n",
            "rows below extreme IQR boundary: 0\n"
          ],
          "name": "stdout"
        }
      ]
    },
    {
      "cell_type": "code",
      "metadata": {
        "id": "HDJLK6zcYD0-",
        "colab_type": "code",
        "colab": {
          "base_uri": "https://localhost:8080/",
          "height": 52
        },
        "outputId": "f8b265b4-7ec3-4e54-f635-d45aafe49f46"
      },
      "source": [
        "print('rows above IQR boundary: {}'.format(\n",
        "    100* data[data['Age'] > upper_bnd].shape[0]/data.shape[0]))\n",
        "print('rows above extreme IQR boundary: {}'.format(\n",
        "    100* data[data['Age'] > ex_upper_bnd].shape[0]/data.shape[0]))"
      ],
      "execution_count": 28,
      "outputs": [
        {
          "output_type": "stream",
          "text": [
            "rows above IQR boundary: 6.397306397306397\n",
            "rows above extreme IQR boundary: 0.2244668911335578\n"
          ],
          "name": "stdout"
        }
      ]
    },
    {
      "cell_type": "code",
      "metadata": {
        "id": "lL9SVbKZ40Tb",
        "colab_type": "code",
        "colab": {
          "base_uri": "https://localhost:8080/",
          "height": 52
        },
        "outputId": "0810c855-b715-41ce-9d7b-167cd2771b02"
      },
      "source": [
        "print('rows lower IQR boundary: {}'.format(\n",
        "    100* data[data['Age'] < lower_bnd].shape[0]/data.shape[0]))\n",
        "print('rows lower extreme IQR boundary: {}'.format(\n",
        "    100* data[data['Age'] < ex_lower_bnd].shape[0]/data.shape[0]))"
      ],
      "execution_count": 29,
      "outputs": [
        {
          "output_type": "stream",
          "text": [
            "rows lower IQR boundary: 5.611672278338945\n",
            "rows lower extreme IQR boundary: 0.0\n"
          ],
          "name": "stdout"
        }
      ]
    },
    {
      "cell_type": "markdown",
      "metadata": {
        "id": "yLPwoiO_YD1J",
        "colab_type": "text"
      },
      "source": [
        "## Get Out, LIARS! "
      ]
    },
    {
      "cell_type": "code",
      "metadata": {
        "id": "Sd1QAUsvYD1J",
        "colab_type": "code",
        "colab": {}
      },
      "source": [
        "from sklearn.metrics import roc_auc_score\n",
        "from sklearn.model_selection import train_test_split\n",
        "from sklearn.metrics import accuracy_score"
      ],
      "execution_count": 0,
      "outputs": []
    },
    {
      "cell_type": "code",
      "metadata": {
        "id": "Q9KlBq7r56Jf",
        "colab_type": "code",
        "colab": {
          "base_uri": "https://localhost:8080/",
          "height": 70
        },
        "outputId": "37fed116-5254-4629-cd10-f92af2e12973"
      },
      "source": [
        "data.columns"
      ],
      "execution_count": 31,
      "outputs": [
        {
          "output_type": "execute_result",
          "data": {
            "text/plain": [
              "Index(['Date', 'PassengerId', 'Survived', 'Pclass', 'Name', 'Sex', 'Age',\n",
              "       'SibSp', 'Parch', 'Ticket', 'Fare', 'Cabin', 'Embarked'],\n",
              "      dtype='object')"
            ]
          },
          "metadata": {
            "tags": []
          },
          "execution_count": 31
        }
      ]
    },
    {
      "cell_type": "code",
      "metadata": {
        "id": "7d9Ze6uwYD1M",
        "colab_type": "code",
        "colab": {}
      },
      "source": [
        "data = data.drop(['Date'], axis=1)"
      ],
      "execution_count": 0,
      "outputs": []
    },
    {
      "cell_type": "code",
      "metadata": {
        "id": "6613mx4Z6B6C",
        "colab_type": "code",
        "colab": {
          "base_uri": "https://localhost:8080/",
          "height": 70
        },
        "outputId": "53e2be2f-d33f-44b2-d082-7510677b8936"
      },
      "source": [
        "data.columns"
      ],
      "execution_count": 33,
      "outputs": [
        {
          "output_type": "execute_result",
          "data": {
            "text/plain": [
              "Index(['PassengerId', 'Survived', 'Pclass', 'Name', 'Sex', 'Age', 'SibSp',\n",
              "       'Parch', 'Ticket', 'Fare', 'Cabin', 'Embarked'],\n",
              "      dtype='object')"
            ]
          },
          "metadata": {
            "tags": []
          },
          "execution_count": 33
        }
      ]
    },
    {
      "cell_type": "code",
      "metadata": {
        "id": "vVDsyp3yYD1O",
        "colab_type": "code",
        "colab": {
          "base_uri": "https://localhost:8080/",
          "height": 70
        },
        "outputId": "4ffef662-196b-47ad-ecc5-0d3109d5ccbe"
      },
      "source": [
        "data[['Fare','Age']].isnull().mean()"
      ],
      "execution_count": 34,
      "outputs": [
        {
          "output_type": "execute_result",
          "data": {
            "text/plain": [
              "Fare    0.000000\n",
              "Age     0.198653\n",
              "dtype: float64"
            ]
          },
          "metadata": {
            "tags": []
          },
          "execution_count": 34
        }
      ]
    },
    {
      "cell_type": "code",
      "metadata": {
        "id": "TuUwgyv-YD1R",
        "colab_type": "code",
        "colab": {
          "base_uri": "https://localhost:8080/",
          "height": 34
        },
        "outputId": "36f84e7a-45ec-494b-ef00-83c1e9a351f7"
      },
      "source": [
        "X_train, X_test, y_train, y_test = train_test_split(data[['Age', 'Fare']].fillna(0),\n",
        "                                                    data['Survived'],\n",
        "                                                    test_size=0.2)\n",
        "X_train.shape, X_test.shape"
      ],
      "execution_count": 35,
      "outputs": [
        {
          "output_type": "execute_result",
          "data": {
            "text/plain": [
              "((712, 2), (179, 2))"
            ]
          },
          "metadata": {
            "tags": []
          },
          "execution_count": 35
        }
      ]
    },
    {
      "cell_type": "code",
      "metadata": {
        "id": "VN_SePVTYD1T",
        "colab_type": "code",
        "colab": {}
      },
      "source": [
        "# We will cap the values of outliers \n",
        "data_processed = data.copy()\n",
        "\n",
        "_temp = np.ceil(data['Age'].mean() + 3* data['Age'].std())\n",
        "data_processed.loc[data_processed.Age >= _temp, 'Age'] = _temp\n",
        "\n",
        "_temp = np.ceil(data['Fare'].quantile(0.75) + (IQR * 3))\n",
        "\n",
        "data_processed.loc[data_processed.Fare > _temp, 'Fare'] = _temp\n",
        "\n",
        "X_train_processed, X_test_processed, y_train_processed, y_test_processed = train_test_split(\n",
        "    data_processed[['Age', 'Fare']].fillna(0),\n",
        "    data_processed['Survived'],\n",
        "    test_size=0.2)"
      ],
      "execution_count": 0,
      "outputs": []
    },
    {
      "cell_type": "code",
      "metadata": {
        "id": "SUjEsyuX8FDq",
        "colab_type": "code",
        "colab": {
          "base_uri": "https://localhost:8080/",
          "height": 87
        },
        "outputId": "adcbada9-82f8-46fd-f3f0-44a4179ef41b"
      },
      "source": [
        "print(X_train.shape)\n",
        "print(X_train_processed.shape)\n",
        "print(X_test.shape)\n",
        "print(X_test_processed.shape)"
      ],
      "execution_count": 37,
      "outputs": [
        {
          "output_type": "stream",
          "text": [
            "(712, 2)\n",
            "(712, 2)\n",
            "(179, 2)\n",
            "(179, 2)\n"
          ],
          "name": "stdout"
        }
      ]
    },
    {
      "cell_type": "code",
      "metadata": {
        "id": "tsRG3K5l8t_J",
        "colab_type": "code",
        "colab": {
          "base_uri": "https://localhost:8080/",
          "height": 52
        },
        "outputId": "aec891f7-ef5c-42e0-ad51-0dc7f579ff57"
      },
      "source": [
        "from sklearn.linear_model import LogisticRegression\n",
        "classifier = LogisticRegression()\n",
        "classifier.fit(X_train,y_train)\n",
        "y_pred = classifier.predict(X_test)\n",
        "y_pred = np.round(y_pred).flatten()\n",
        "print(accuracy_score(y_test, y_pred))\n",
        "\n",
        "classifier.fit(X_train_processed,y_train_processed)\n",
        "y_pred_processed = classifier.predict(X_test_processed)\n",
        "y_pred_processed = np.round(y_pred_processed).flatten()\n",
        "print(accuracy_score(y_test_processed, y_pred_processed))"
      ],
      "execution_count": 38,
      "outputs": [
        {
          "output_type": "stream",
          "text": [
            "0.664804469273743\n",
            "0.6815642458100558\n"
          ],
          "name": "stdout"
        }
      ]
    },
    {
      "cell_type": "code",
      "metadata": {
        "id": "2HgLWOz-9Uda",
        "colab_type": "code",
        "colab": {
          "base_uri": "https://localhost:8080/",
          "height": 52
        },
        "outputId": "66652754-2683-458c-d760-2d6007623147"
      },
      "source": [
        "from sklearn.linear_model import RidgeClassifierCV\n",
        "classifier = RidgeClassifierCV()\n",
        "classifier.fit(X_train,y_train)\n",
        "y_pred = classifier.predict(X_test)\n",
        "y_pred = np.round(y_pred).flatten()\n",
        "print(accuracy_score(y_test, y_pred))\n",
        "\n",
        "classifier.fit(X_train_processed,y_train_processed)\n",
        "y_pred_processed = classifier.predict(X_test_processed)\n",
        "y_pred_processed = np.round(y_pred_processed).flatten()\n",
        "print(accuracy_score(y_test_processed, y_pred_processed))"
      ],
      "execution_count": 39,
      "outputs": [
        {
          "output_type": "stream",
          "text": [
            "0.6703910614525139\n",
            "0.6927374301675978\n"
          ],
          "name": "stdout"
        }
      ]
    },
    {
      "cell_type": "code",
      "metadata": {
        "id": "gS9bIfAB9eKW",
        "colab_type": "code",
        "colab": {
          "base_uri": "https://localhost:8080/",
          "height": 52
        },
        "outputId": "d2e06ab0-1a12-49f3-95b7-a767ab6881a3"
      },
      "source": [
        "from sklearn.linear_model import RidgeClassifierCV\n",
        "classifier = RidgeClassifierCV()\n",
        "classifier.fit(X_train,y_train)\n",
        "y_pred = classifier.predict(X_test)\n",
        "y_pred = np.round(y_pred).flatten()\n",
        "print(accuracy_score(y_test, y_pred))\n",
        "\n",
        "classifier.fit(X_train_processed,y_train_processed)\n",
        "y_pred_processed = classifier.predict(X_test_processed)\n",
        "y_pred_processed = np.round(y_pred_processed).flatten()\n",
        "print(accuracy_score(y_test_processed, y_pred_processed))"
      ],
      "execution_count": 40,
      "outputs": [
        {
          "output_type": "stream",
          "text": [
            "0.6703910614525139\n",
            "0.6927374301675978\n"
          ],
          "name": "stdout"
        }
      ]
    },
    {
      "cell_type": "code",
      "metadata": {
        "id": "bZLwAZRI9vl3",
        "colab_type": "code",
        "colab": {
          "base_uri": "https://localhost:8080/",
          "height": 52
        },
        "outputId": "2629567d-8d11-48b5-dbbe-bb6e2f60c7e9"
      },
      "source": [
        "from sklearn.svm import SVC\n",
        "classifier = SVC()\n",
        "classifier.fit(X_train,y_train)\n",
        "y_pred = classifier.predict(X_test)\n",
        "y_pred = np.round(y_pred).flatten()\n",
        "print(accuracy_score(y_test, y_pred))\n",
        "\n",
        "classifier.fit(X_train_processed,y_train_processed)\n",
        "y_pred_processed = classifier.predict(X_test_processed)\n",
        "y_pred_processed = np.round(y_pred_processed).flatten()\n",
        "print(accuracy_score(y_test_processed, y_pred_processed))"
      ],
      "execution_count": 41,
      "outputs": [
        {
          "output_type": "stream",
          "text": [
            "0.6703910614525139\n",
            "0.6927374301675978\n"
          ],
          "name": "stdout"
        }
      ]
    },
    {
      "cell_type": "code",
      "metadata": {
        "id": "RO5oc4UJ9ykm",
        "colab_type": "code",
        "colab": {
          "base_uri": "https://localhost:8080/",
          "height": 52
        },
        "outputId": "6c215f5e-011b-41ec-fcac-5e517e02cc85"
      },
      "source": [
        "from sklearn.neural_network import MLPClassifier\n",
        "classifier = MLPClassifier()\n",
        "classifier.fit(X_train,y_train)\n",
        "y_pred = classifier.predict(X_test)\n",
        "y_pred = np.round(y_pred).flatten()\n",
        "print(accuracy_score(y_test, y_pred))\n",
        "\n",
        "classifier.fit(X_train_processed,y_train_processed)\n",
        "y_pred_processed = classifier.predict(X_test_processed)\n",
        "y_pred_processed = np.round(y_pred_processed).flatten()\n",
        "print(accuracy_score(y_test_processed, y_pred_processed))"
      ],
      "execution_count": 42,
      "outputs": [
        {
          "output_type": "stream",
          "text": [
            "0.6815642458100558\n",
            "0.6703910614525139\n"
          ],
          "name": "stdout"
        }
      ]
    },
    {
      "cell_type": "code",
      "metadata": {
        "id": "RFKVucj790aA",
        "colab_type": "code",
        "colab": {
          "base_uri": "https://localhost:8080/",
          "height": 142
        },
        "outputId": "ec52c2c8-b66e-46b9-f282-669bf1510548"
      },
      "source": [
        "from sklearn.svm import LinearSVC\n",
        "classifier = LinearSVC()\n",
        "classifier.fit(X_train,y_train)\n",
        "y_pred = classifier.predict(X_test)\n",
        "y_pred = np.round(y_pred).flatten()\n",
        "print(accuracy_score(y_test, y_pred))\n",
        "\n",
        "classifier.fit(X_train_processed,y_train_processed)\n",
        "y_pred_processed = classifier.predict(X_test_processed)\n",
        "y_pred_processed = np.round(y_pred_processed).flatten()\n",
        "print(accuracy_score(y_test_processed, y_pred_processed))"
      ],
      "execution_count": 43,
      "outputs": [
        {
          "output_type": "stream",
          "text": [
            "0.4748603351955307\n",
            "0.6703910614525139\n"
          ],
          "name": "stdout"
        },
        {
          "output_type": "stream",
          "text": [
            "/usr/local/lib/python3.6/dist-packages/sklearn/svm/_base.py:947: ConvergenceWarning: Liblinear failed to converge, increase the number of iterations.\n",
            "  \"the number of iterations.\", ConvergenceWarning)\n",
            "/usr/local/lib/python3.6/dist-packages/sklearn/svm/_base.py:947: ConvergenceWarning: Liblinear failed to converge, increase the number of iterations.\n",
            "  \"the number of iterations.\", ConvergenceWarning)\n"
          ],
          "name": "stderr"
        }
      ]
    },
    {
      "cell_type": "code",
      "metadata": {
        "id": "wgb5-ZI19274",
        "colab_type": "code",
        "colab": {
          "base_uri": "https://localhost:8080/",
          "height": 52
        },
        "outputId": "e1869c10-8ffa-4cd8-9924-e5b47f6904c6"
      },
      "source": [
        "from sklearn.ensemble import RandomForestClassifier\n",
        "classifier = RandomForestClassifier()\n",
        "classifier.fit(X_train,y_train)\n",
        "y_pred = classifier.predict(X_test)\n",
        "y_pred = np.round(y_pred).flatten()\n",
        "print(accuracy_score(y_test, y_pred))\n",
        "\n",
        "classifier.fit(X_train_processed,y_train_processed)\n",
        "y_pred_processed = classifier.predict(X_test_processed)\n",
        "y_pred_processed = np.round(y_pred_processed).flatten()\n",
        "print(accuracy_score(y_test_processed, y_pred_processed))"
      ],
      "execution_count": 44,
      "outputs": [
        {
          "output_type": "stream",
          "text": [
            "0.6703910614525139\n",
            "0.6759776536312849\n"
          ],
          "name": "stdout"
        }
      ]
    },
    {
      "cell_type": "code",
      "metadata": {
        "id": "hrF5V_7_94hA",
        "colab_type": "code",
        "colab": {
          "base_uri": "https://localhost:8080/",
          "height": 52
        },
        "outputId": "2efa87a3-1fd7-4c91-e601-ca2c4283c681"
      },
      "source": [
        "from sklearn.tree import DecisionTreeClassifier\n",
        "classifier = DecisionTreeClassifier()\n",
        "classifier.fit(X_train,y_train)\n",
        "y_pred = classifier.predict(X_test)\n",
        "y_pred = np.round(y_pred).flatten()\n",
        "print(accuracy_score(y_test, y_pred))\n",
        "\n",
        "classifier.fit(X_train_processed,y_train_processed)\n",
        "y_pred_processed = classifier.predict(X_test_processed)\n",
        "y_pred_processed = np.round(y_pred_processed).flatten()\n",
        "print(accuracy_score(y_test_processed, y_pred_processed))"
      ],
      "execution_count": 45,
      "outputs": [
        {
          "output_type": "stream",
          "text": [
            "0.6480446927374302\n",
            "0.6815642458100558\n"
          ],
          "name": "stdout"
        }
      ]
    },
    {
      "cell_type": "code",
      "metadata": {
        "id": "0M4ySoHj97e5",
        "colab_type": "code",
        "colab": {
          "base_uri": "https://localhost:8080/",
          "height": 52
        },
        "outputId": "4c8611e6-99ca-4370-b0c8-8c17c057d330"
      },
      "source": [
        "from sklearn.ensemble import GradientBoostingClassifier\n",
        "classifier = GradientBoostingClassifier()\n",
        "classifier.fit(X_train,y_train)\n",
        "y_pred = classifier.predict(X_test)\n",
        "y_pred = np.round(y_pred).flatten()\n",
        "print(accuracy_score(y_test, y_pred))\n",
        "\n",
        "classifier.fit(X_train_processed,y_train_processed)\n",
        "y_pred_processed = classifier.predict(X_test_processed)\n",
        "y_pred_processed = np.round(y_pred_processed).flatten()\n",
        "print(accuracy_score(y_test_processed, y_pred_processed))"
      ],
      "execution_count": 46,
      "outputs": [
        {
          "output_type": "stream",
          "text": [
            "0.7150837988826816\n",
            "0.7150837988826816\n"
          ],
          "name": "stdout"
        }
      ]
    },
    {
      "cell_type": "code",
      "metadata": {
        "id": "UpVGb0-p991g",
        "colab_type": "code",
        "colab": {
          "base_uri": "https://localhost:8080/",
          "height": 52
        },
        "outputId": "46362440-877d-448c-a615-7bd6855a9b85"
      },
      "source": [
        "from sklearn.linear_model import SGDClassifier\n",
        "classifier = SGDClassifier()\n",
        "classifier.fit(X_train,y_train)\n",
        "y_pred = classifier.predict(X_test)\n",
        "y_pred = np.round(y_pred).flatten()\n",
        "print(accuracy_score(y_test, y_pred))\n",
        "\n",
        "classifier.fit(X_train_processed,y_train_processed)\n",
        "y_pred_processed = classifier.predict(X_test_processed)\n",
        "y_pred_processed = np.round(y_pred_processed).flatten()\n",
        "print(accuracy_score(y_test_processed, y_pred_processed))"
      ],
      "execution_count": 47,
      "outputs": [
        {
          "output_type": "stream",
          "text": [
            "0.6703910614525139\n",
            "0.6983240223463687\n"
          ],
          "name": "stdout"
        }
      ]
    },
    {
      "cell_type": "code",
      "metadata": {
        "id": "nrl2BNRA9_mm",
        "colab_type": "code",
        "colab": {
          "base_uri": "https://localhost:8080/",
          "height": 52
        },
        "outputId": "260b5ff4-7457-4683-b344-c4aba9ff62c3"
      },
      "source": [
        "from sklearn.linear_model import Perceptron\n",
        "classifier = Perceptron()\n",
        "classifier.fit(X_train,y_train)\n",
        "y_pred = classifier.predict(X_test)\n",
        "y_pred = np.round(y_pred).flatten()\n",
        "print(accuracy_score(y_test, y_pred))\n",
        "\n",
        "classifier.fit(X_train_processed,y_train_processed)\n",
        "y_pred_processed = classifier.predict(X_test_processed)\n",
        "y_pred_processed = np.round(y_pred_processed).flatten()\n",
        "print(accuracy_score(y_test_processed, y_pred_processed))"
      ],
      "execution_count": 48,
      "outputs": [
        {
          "output_type": "stream",
          "text": [
            "0.5977653631284916\n",
            "0.6759776536312849\n"
          ],
          "name": "stdout"
        }
      ]
    },
    {
      "cell_type": "code",
      "metadata": {
        "id": "L6SQhWSk-Btx",
        "colab_type": "code",
        "colab": {
          "base_uri": "https://localhost:8080/",
          "height": 52
        },
        "outputId": "eb33090f-0e8b-4f4e-99cd-eb5a03e49810"
      },
      "source": [
        "from sklearn.naive_bayes import GaussianNB\n",
        "classifier = GaussianNB()\n",
        "classifier.fit(X_train,y_train)\n",
        "y_pred = classifier.predict(X_test)\n",
        "y_pred = np.round(y_pred).flatten()\n",
        "print(accuracy_score(y_test, y_pred))\n",
        "\n",
        "classifier.fit(X_train_processed,y_train_processed)\n",
        "y_pred_processed = classifier.predict(X_test_processed)\n",
        "y_pred_processed = np.round(y_pred_processed).flatten()\n",
        "print(accuracy_score(y_test_processed, y_pred_processed))"
      ],
      "execution_count": 49,
      "outputs": [
        {
          "output_type": "stream",
          "text": [
            "0.6703910614525139\n",
            "0.6927374301675978\n"
          ],
          "name": "stdout"
        }
      ]
    },
    {
      "cell_type": "code",
      "metadata": {
        "id": "Ty-k4q1L-Ew-",
        "colab_type": "code",
        "colab": {
          "base_uri": "https://localhost:8080/",
          "height": 52
        },
        "outputId": "0eb81f63-5e4f-4b64-ebcb-30cf6637261f"
      },
      "source": [
        "from sklearn.neighbors import KNeighborsClassifier\n",
        "classifier = KNeighborsClassifier()\n",
        "classifier.fit(X_train,y_train)\n",
        "y_pred = classifier.predict(X_test)\n",
        "y_pred = np.round(y_pred).flatten()\n",
        "print(accuracy_score(y_test, y_pred))\n",
        "\n",
        "classifier.fit(X_train_processed,y_train_processed)\n",
        "y_pred_processed = classifier.predict(X_test_processed)\n",
        "y_pred_processed = np.round(y_pred_processed).flatten()\n",
        "print(accuracy_score(y_test_processed, y_pred_processed))"
      ],
      "execution_count": 50,
      "outputs": [
        {
          "output_type": "stream",
          "text": [
            "0.6815642458100558\n",
            "0.6145251396648045\n"
          ],
          "name": "stdout"
        }
      ]
    }
  ]
}