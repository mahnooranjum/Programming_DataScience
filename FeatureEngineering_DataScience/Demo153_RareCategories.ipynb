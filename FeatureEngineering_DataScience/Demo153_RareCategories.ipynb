{
  "nbformat": 4,
  "nbformat_minor": 0,
  "metadata": {
    "kernelspec": {
      "display_name": "Python 3",
      "language": "python",
      "name": "python3"
    },
    "language_info": {
      "codemirror_mode": {
        "name": "ipython",
        "version": 3
      },
      "file_extension": ".py",
      "mimetype": "text/x-python",
      "name": "python",
      "nbconvert_exporter": "python",
      "pygments_lexer": "ipython3",
      "version": "3.6.1"
    },
    "toc": {
      "nav_menu": {},
      "number_sections": true,
      "sideBar": true,
      "skip_h1_title": false,
      "toc_cell": false,
      "toc_position": {},
      "toc_section_display": "block",
      "toc_window_display": true
    },
    "colab": {
      "name": "Demo153_RareCategories.ipynb",
      "provenance": [],
      "collapsed_sections": []
    }
  },
  "cells": [
    {
      "cell_type": "markdown",
      "metadata": {
        "id": "K6DVELWmN_C9",
        "colab_type": "text"
      },
      "source": [
        "## Rare Categories\n",
        "\n",
        "- Labels \n",
        "\n",
        "- The number of labels in the dataset are different \n",
        "\n",
        "- __high cardinality__ refers to uniqueness of data values \n",
        "\n",
        "- The lower the cardinality, the more duplicated elements in a column\n",
        "\n",
        "-  A column with the lowest possible cardinality would have the same value for every row\n",
        "\n",
        "- Highly cardinal variables dominate tree based algorithms\n",
        "\n",
        "- Labels may only be present in the training data set, but not in the test data set\n",
        "\n",
        "- Labels may appear in the test set that were not present in the training set\n",
        "\n",
        "\n",
        "__Tree methods are biased towards variables with many labels__\n"
      ]
    },
    {
      "cell_type": "code",
      "metadata": {
        "id": "42hbGwCeDd8-",
        "colab_type": "code",
        "colab": {
          "base_uri": "https://localhost:8080/",
          "height": 72
        },
        "outputId": "2166fb6e-3882-4c01-d7d0-55c1ae7888b1"
      },
      "source": [
        "import pandas as pd\n",
        "import matplotlib.pyplot as plt\n",
        "import seaborn as sns\n",
        "import numpy as np"
      ],
      "execution_count": 1,
      "outputs": [
        {
          "output_type": "stream",
          "text": [
            "/usr/local/lib/python3.6/dist-packages/statsmodels/tools/_testing.py:19: FutureWarning: pandas.util.testing is deprecated. Use the functions in the public API at pandas.testing instead.\n",
            "  import pandas.util.testing as tm\n"
          ],
          "name": "stderr"
        }
      ]
    },
    {
      "cell_type": "code",
      "metadata": {
        "id": "Ds9gl_oFEATI",
        "colab_type": "code",
        "outputId": "918cc089-49d0-4a58-abac-6d251685f24e",
        "colab": {
          "base_uri": "https://localhost:8080/",
          "height": 54
        }
      },
      "source": [
        "from google.colab import drive\n",
        "drive.mount('/content/gdrive')\n",
        "data = pd.read_csv(\"gdrive/My Drive/Colab Notebooks/FeatureEngineering/train.csv\")\n"
      ],
      "execution_count": 65,
      "outputs": [
        {
          "output_type": "stream",
          "text": [
            "Drive already mounted at /content/gdrive; to attempt to forcibly remount, call drive.mount(\"/content/gdrive\", force_remount=True).\n"
          ],
          "name": "stdout"
        }
      ]
    },
    {
      "cell_type": "code",
      "metadata": {
        "id": "XLJda_4IN9Td",
        "colab_type": "code",
        "outputId": "edf17897-7d1a-4642-c8ed-60ffc9fe5932",
        "colab": {
          "base_uri": "https://localhost:8080/",
          "height": 122
        }
      },
      "source": [
        "cat_cols = ['Name', 'Sex', 'Ticket', 'Cabin', 'Embarked']\n",
        "\n",
        "for i in cat_cols:\n",
        "  print('Number of categories in the variable {}: {}'.format(i,len(data[i].unique())))\n",
        "\n",
        "print('Total rows: {}'.format(len(data)))"
      ],
      "execution_count": 66,
      "outputs": [
        {
          "output_type": "stream",
          "text": [
            "Number of categories in the variable Name: 891\n",
            "Number of categories in the variable Sex: 2\n",
            "Number of categories in the variable Ticket: 681\n",
            "Number of categories in the variable Cabin: 148\n",
            "Number of categories in the variable Embarked: 4\n",
            "Total rows: 891\n"
          ],
          "name": "stdout"
        }
      ]
    },
    {
      "cell_type": "code",
      "metadata": {
        "id": "rpMjqOS-ENgM",
        "colab_type": "code",
        "colab": {
          "base_uri": "https://localhost:8080/",
          "height": 70
        },
        "outputId": "abf791fc-4959-4d36-c468-e92f586a1db2"
      },
      "source": [
        "data['Sex'].value_counts()"
      ],
      "execution_count": 67,
      "outputs": [
        {
          "output_type": "execute_result",
          "data": {
            "text/plain": [
              "male      577\n",
              "female    314\n",
              "Name: Sex, dtype: int64"
            ]
          },
          "metadata": {
            "tags": []
          },
          "execution_count": 67
        }
      ]
    },
    {
      "cell_type": "code",
      "metadata": {
        "id": "EyZNyK2pN_DH",
        "colab_type": "code",
        "outputId": "23221c87-d3d6-4e51-d818-47d035f1933d",
        "colab": {
          "base_uri": "https://localhost:8080/",
          "height": 1000
        }
      },
      "source": [
        "data['Cabin_processed'] = data['Cabin'].astype(str).str[0]\n",
        "data['Cabin_processed_X'] = data['Cabin'].astype(str).str[1]\n",
        "cat_cols = [ 'Sex', 'Embarked', 'Cabin_processed']\n",
        "\n",
        "for i in cat_cols:\n",
        "  sns.catplot(x=i, kind='count', data=data)"
      ],
      "execution_count": 68,
      "outputs": [
        {
          "output_type": "display_data",
          "data": {
            "image/png": "[encoded data removed]",
            "text/plain": [
              "<Figure size 360x360 with 1 Axes>"
            ]
          },
          "metadata": {
            "tags": [],
            "needs_background": "light"
          }
        },
        {
          "output_type": "display_data",
          "data": {
            "image/png": "[encoded data removed]",
            "text/plain": [
              "<Figure size 360x360 with 1 Axes>"
            ]
          },
          "metadata": {
            "tags": [],
            "needs_background": "light"
          }
        },
        {
          "output_type": "display_data",
          "data": {
            "image/png": "[encoded data removed]",
            "text/plain": [
              "<Figure size 360x360 with 1 Axes>"
            ]
          },
          "metadata": {
            "tags": [],
            "needs_background": "light"
          }
        }
      ]
    },
    {
      "cell_type": "code",
      "metadata": {
        "id": "qg7DSoutN_DK",
        "colab_type": "code",
        "outputId": "6656cefc-1745-4e4f-98fe-36b7436282b4",
        "colab": {
          "base_uri": "https://localhost:8080/",
          "height": 193
        }
      },
      "source": [
        "data['Cabin_processed'].value_counts() / len(data)"
      ],
      "execution_count": 69,
      "outputs": [
        {
          "output_type": "execute_result",
          "data": {
            "text/plain": [
              "n    0.771044\n",
              "C    0.066218\n",
              "B    0.052750\n",
              "D    0.037037\n",
              "E    0.035915\n",
              "A    0.016835\n",
              "F    0.014590\n",
              "G    0.004489\n",
              "T    0.001122\n",
              "Name: Cabin_processed, dtype: float64"
            ]
          },
          "metadata": {
            "tags": []
          },
          "execution_count": 69
        }
      ]
    },
    {
      "cell_type": "code",
      "metadata": {
        "id": "ctx76pZDK3Ob",
        "colab_type": "code",
        "colab": {}
      },
      "source": [
        ""
      ],
      "execution_count": 0,
      "outputs": []
    },
    {
      "cell_type": "code",
      "metadata": {
        "id": "3ZF7nymTN_DQ",
        "colab_type": "code",
        "outputId": "ebb8df0e-9cd3-4afe-fa66-076f47e84636",
        "colab": {
          "base_uri": "https://localhost:8080/",
          "height": 1000
        }
      },
      "source": [
        "for i in cat_cols:\n",
        "  sns.catplot(x=i,data=data, hue='Survived', kind='count', palette=\"ch:.25\")\n"
      ],
      "execution_count": 70,
      "outputs": [
        {
          "output_type": "display_data",
          "data": {
            "image/png": "[encoded data removed]",
            "text/plain": [
              "<Figure size 411.875x360 with 1 Axes>"
            ]
          },
          "metadata": {
            "tags": [],
            "needs_background": "light"
          }
        },
        {
          "output_type": "display_data",
          "data": {
            "image/png": "[encoded data removed]",
            "text/plain": [
              "<Figure size 411.875x360 with 1 Axes>"
            ]
          },
          "metadata": {
            "tags": [],
            "needs_background": "light"
          }
        },
        {
          "output_type": "display_data",
          "data": {
            "image/png": "[encoded data removed]",
            "text/plain": [
              "<Figure size 411.875x360 with 1 Axes>"
            ]
          },
          "metadata": {
            "tags": [],
            "needs_background": "light"
          }
        }
      ]
    },
    {
      "cell_type": "markdown",
      "metadata": {
        "id": "QuIbW2oWN_DU",
        "colab_type": "text"
      },
      "source": [
        "### Transform Rare Labels"
      ]
    },
    {
      "cell_type": "code",
      "metadata": {
        "scrolled": true,
        "id": "83ldtm_VN_DU",
        "colab_type": "code",
        "outputId": "d5e8e57d-8863-4c08-c4bc-483ec6c52b48",
        "colab": {
          "base_uri": "https://localhost:8080/",
          "height": 193
        }
      },
      "source": [
        "_temp = pd.Series(data['Cabin_processed'].value_counts() / len(data))\n",
        "_temp.sort_values(ascending=False)\n",
        "_temp"
      ],
      "execution_count": 71,
      "outputs": [
        {
          "output_type": "execute_result",
          "data": {
            "text/plain": [
              "n    0.771044\n",
              "C    0.066218\n",
              "B    0.052750\n",
              "D    0.037037\n",
              "E    0.035915\n",
              "A    0.016835\n",
              "F    0.014590\n",
              "G    0.004489\n",
              "T    0.001122\n",
              "Name: Cabin_processed, dtype: float64"
            ]
          },
          "metadata": {
            "tags": []
          },
          "execution_count": 71
        }
      ]
    },
    {
      "cell_type": "code",
      "metadata": {
        "id": "_QR2Q5vzPLOu",
        "colab_type": "code",
        "colab": {
          "base_uri": "https://localhost:8080/",
          "height": 193
        },
        "outputId": "6613f442-ac8c-44b9-f30b-bc1f40dd77d3"
      },
      "source": [
        "_temp = pd.Series(data['Cabin_processed'].value_counts() / len(data))\n",
        "_temp"
      ],
      "execution_count": 74,
      "outputs": [
        {
          "output_type": "execute_result",
          "data": {
            "text/plain": [
              "n    0.771044\n",
              "C    0.066218\n",
              "B    0.052750\n",
              "D    0.037037\n",
              "E    0.035915\n",
              "A    0.016835\n",
              "F    0.014590\n",
              "G    0.004489\n",
              "T    0.001122\n",
              "Name: Cabin_processed, dtype: float64"
            ]
          },
          "metadata": {
            "tags": []
          },
          "execution_count": 74
        }
      ]
    },
    {
      "cell_type": "code",
      "metadata": {
        "id": "olHBGf3YO2on",
        "colab_type": "code",
        "colab": {}
      },
      "source": [
        "for i in _labels:\n",
        "  data['Cabin_processed'].replace(i, 'rare', inplace=True)"
      ],
      "execution_count": 0,
      "outputs": []
    },
    {
      "cell_type": "code",
      "metadata": {
        "id": "ISnECN56QbSV",
        "colab_type": "code",
        "colab": {
          "base_uri": "https://localhost:8080/",
          "height": 175
        },
        "outputId": "db97b2bf-8cdc-417c-bbcd-7043442b72ae"
      },
      "source": [
        "_temp = pd.Series(data['Cabin_processed'].value_counts() / len(data))\n",
        "_temp"
      ],
      "execution_count": 80,
      "outputs": [
        {
          "output_type": "execute_result",
          "data": {
            "text/plain": [
              "n       0.771044\n",
              "C       0.066218\n",
              "B       0.052750\n",
              "D       0.037037\n",
              "E       0.035915\n",
              "A       0.016835\n",
              "F       0.014590\n",
              "rare    0.005612\n",
              "Name: Cabin_processed, dtype: float64"
            ]
          },
          "metadata": {
            "tags": []
          },
          "execution_count": 80
        }
      ]
    }
  ]
}