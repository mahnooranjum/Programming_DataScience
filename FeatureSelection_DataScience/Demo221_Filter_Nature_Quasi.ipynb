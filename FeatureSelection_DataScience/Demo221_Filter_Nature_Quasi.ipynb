{
  "nbformat": 4,
  "nbformat_minor": 0,
  "metadata": {
    "kernelspec": {
      "display_name": "Python 3",
      "language": "python",
      "name": "python3"
    },
    "language_info": {
      "codemirror_mode": {
        "name": "ipython",
        "version": 3
      },
      "file_extension": ".py",
      "mimetype": "text/x-python",
      "name": "python",
      "nbconvert_exporter": "python",
      "pygments_lexer": "ipython3",
      "version": "3.6.1"
    },
    "toc": {
      "nav_menu": {},
      "number_sections": true,
      "sideBar": true,
      "skip_h1_title": false,
      "toc_cell": false,
      "toc_position": {},
      "toc_section_display": "block",
      "toc_window_display": true
    },
    "colab": {
      "name": "Demo221_Filter_Nature_Quasi.ipynb",
      "provenance": [],
      "collapsed_sections": []
    }
  },
  "cells": [
    {
      "cell_type": "markdown",
      "metadata": {
        "id": "QFcygPx_pzEL"
      },
      "source": [
        "## Quasi-constant features\n",
        "\n",
        "\n",
        "*   show the same value for the great majority of the observations of the dataset\n",
        "*   provide little information\n",
        "\n"
      ]
    },
    {
      "cell_type": "code",
      "metadata": {
        "collapsed": true,
        "id": "GeSEDmRppzEN"
      },
      "source": [
        "import pandas as pd\n",
        "import numpy as np\n",
        "from sklearn.model_selection import train_test_split\n",
        "from sklearn.feature_selection import VarianceThreshold"
      ],
      "execution_count": null,
      "outputs": []
    },
    {
      "cell_type": "code",
      "metadata": {
        "colab": {
          "base_uri": "https://localhost:8080/"
        },
        "id": "5P86E2md-sRY",
        "outputId": "26178104-01bd-498f-e950-ab6f3d9267dc"
      },
      "source": [
        "from google.colab import drive\n",
        "drive.mount(\"/content/gdrive\")\n",
        "data = pd.read_csv('/content/gdrive/My Drive/Colab Notebooks/FeatureSelection/train_santander.csv', nrows = 5000)\n",
        "y = data.TARGET\n",
        "X = data.drop(columns=['TARGET'])\n",
        "X_train, X_test, y_train, y_test = train_test_split(X, y, test_size = 0.2)\n",
        "\n",
        "X_train.shape, X_test.shape"
      ],
      "execution_count": null,
      "outputs": [
        {
          "output_type": "stream",
          "name": "stdout",
          "text": [
            "Mounted at /content/gdrive\n"
          ]
        },
        {
          "output_type": "execute_result",
          "data": {
            "text/plain": [
              "((4000, 370), (1000, 370))"
            ]
          },
          "metadata": {},
          "execution_count": 2
        }
      ]
    },
    {
      "cell_type": "code",
      "metadata": {
        "scrolled": true,
        "id": "Y3ErsfGUpzEO",
        "colab": {
          "base_uri": "https://localhost:8080/"
        },
        "outputId": "de25ef91-d0b3-4da8-a015-f50754ea4513"
      },
      "source": [
        "[col for col in data.columns if data[col].isnull().sum() > 0]"
      ],
      "execution_count": null,
      "outputs": [
        {
          "output_type": "execute_result",
          "data": {
            "text/plain": [
              "[]"
            ]
          },
          "metadata": {},
          "execution_count": 3
        }
      ]
    },
    {
      "cell_type": "markdown",
      "metadata": {
        "id": "Z8si_07SpzEP"
      },
      "source": [
        "## Removing quasi-constant features\n",
        "\n",
        "Variance threshold "
      ]
    },
    {
      "cell_type": "code",
      "metadata": {
        "id": "TO2KErgLpzEP",
        "colab": {
          "base_uri": "https://localhost:8080/"
        },
        "outputId": "500f3bd9-f0d3-4c20-8dab-d334fde34049"
      },
      "source": [
        "obj = VarianceThreshold(threshold=0.01) \n",
        "obj.fit(X_train) "
      ],
      "execution_count": null,
      "outputs": [
        {
          "output_type": "execute_result",
          "data": {
            "text/plain": [
              "VarianceThreshold(threshold=0.01)"
            ]
          },
          "metadata": {},
          "execution_count": 4
        }
      ]
    },
    {
      "cell_type": "code",
      "metadata": {
        "id": "TGFkg0M9pzEQ",
        "colab": {
          "base_uri": "https://localhost:8080/"
        },
        "outputId": "f031e13d-cef1-40e3-937d-1c5c3cb0c4f6"
      },
      "source": [
        "# not quasi-constant\n",
        "sum(obj.get_support())"
      ],
      "execution_count": null,
      "outputs": [
        {
          "output_type": "execute_result",
          "data": {
            "text/plain": [
              "234"
            ]
          },
          "metadata": {},
          "execution_count": 6
        }
      ]
    },
    {
      "cell_type": "code",
      "metadata": {
        "scrolled": true,
        "id": "iZkEMrbepzEQ",
        "colab": {
          "base_uri": "https://localhost:8080/"
        },
        "outputId": "466ba6a7-b15c-4b4f-cbae-056964870644"
      },
      "source": [
        "# print the quasi-constant features\n",
        "len([x for x in X_train.columns if x not in X_train.columns[obj.get_support()]])"
      ],
      "execution_count": null,
      "outputs": [
        {
          "output_type": "execute_result",
          "data": {
            "text/plain": [
              "136"
            ]
          },
          "metadata": {},
          "execution_count": 8
        }
      ]
    },
    {
      "cell_type": "code",
      "metadata": {
        "id": "Y2ia89aACGkc"
      },
      "source": [
        "# [x for x in X_train.columns if x not in X_train.columns[obj.get_support()]]"
      ],
      "execution_count": null,
      "outputs": []
    },
    {
      "cell_type": "code",
      "metadata": {
        "id": "Hxnciwc4pzEU",
        "colab": {
          "base_uri": "https://localhost:8080/"
        },
        "outputId": "68f6c3b7-0b63-42b6-d2ee-2c1fd217db1a"
      },
      "source": [
        "X_train['imp_amort_var18_hace3'].value_counts() / np.float(len(X_train))"
      ],
      "execution_count": null,
      "outputs": [
        {
          "output_type": "execute_result",
          "data": {
            "text/plain": [
              "0    1.0\n",
              "Name: imp_amort_var18_hace3, dtype: float64"
            ]
          },
          "metadata": {},
          "execution_count": 11
        }
      ]
    },
    {
      "cell_type": "code",
      "metadata": {
        "id": "KtaHsOEFpzEV",
        "colab": {
          "base_uri": "https://localhost:8080/"
        },
        "outputId": "94fa929e-7f18-4666-ab78-0c12cd088bb8"
      },
      "source": [
        "# Remove\n",
        "X_train = obj.transform(X_train)\n",
        "X_test = obj.transform(X_test)\n",
        "\n",
        "X_train.shape, X_test.shape"
      ],
      "execution_count": null,
      "outputs": [
        {
          "output_type": "execute_result",
          "data": {
            "text/plain": [
              "((4000, 234), (1000, 234))"
            ]
          },
          "metadata": {},
          "execution_count": 12
        }
      ]
    },
    {
      "cell_type": "markdown",
      "metadata": {
        "id": "19XH777upzEW"
      },
      "source": [
        "### From scratch"
      ]
    },
    {
      "cell_type": "code",
      "metadata": {
        "id": "xWSUtNnHpzEW",
        "colab": {
          "base_uri": "https://localhost:8080/"
        },
        "outputId": "b04a4f8e-d86b-47d4-d223-fd2bc5045e00"
      },
      "source": [
        "data = pd.read_csv('/content/gdrive/My Drive/Colab Notebooks/FeatureSelection/train_santander.csv', nrows = 5000)\n",
        "y = data.TARGET\n",
        "X = data.drop(columns=['TARGET'])\n",
        "X_train, X_test, y_train, y_test = train_test_split(X, y, test_size = 0.2)\n",
        "\n",
        "X_train.shape, X_test.shape"
      ],
      "execution_count": null,
      "outputs": [
        {
          "output_type": "execute_result",
          "data": {
            "text/plain": [
              "((4000, 370), (1000, 370))"
            ]
          },
          "metadata": {},
          "execution_count": 13
        }
      ]
    },
    {
      "cell_type": "code",
      "metadata": {
        "scrolled": true,
        "id": "WeG0stz9pzEW",
        "colab": {
          "base_uri": "https://localhost:8080/"
        },
        "outputId": "0e74459a-16f9-410e-f01d-062b204d13dd"
      },
      "source": [
        "quasi_features = []\n",
        "for col in X_train.columns:\n",
        "    doms = (X_train[col].value_counts() / np.float(\n",
        "        len(X_train))).sort_values(ascending=False).values[0]\n",
        "    if doms > 0.998:\n",
        "        quasi_features.append(col)\n",
        "\n",
        "len(quasi_features)"
      ],
      "execution_count": null,
      "outputs": [
        {
          "output_type": "execute_result",
          "data": {
            "text/plain": [
              "175"
            ]
          },
          "metadata": {},
          "execution_count": 14
        }
      ]
    },
    {
      "cell_type": "code",
      "metadata": {
        "id": "kog-4KUvpzEX",
        "colab": {
          "base_uri": "https://localhost:8080/",
          "height": 35
        },
        "outputId": "8bf6348d-f896-46d2-95c4-d007823c9fab"
      },
      "source": [
        "quasi_features[0]"
      ],
      "execution_count": null,
      "outputs": [
        {
          "output_type": "execute_result",
          "data": {
            "application/vnd.google.colaboratory.intrinsic+json": {
              "type": "string"
            },
            "text/plain": [
              "'imp_op_var40_efect_ult1'"
            ]
          },
          "metadata": {},
          "execution_count": 15
        }
      ]
    },
    {
      "cell_type": "code",
      "metadata": {
        "scrolled": true,
        "id": "JCxr_JizpzEX",
        "colab": {
          "base_uri": "https://localhost:8080/"
        },
        "outputId": "f3a1f990-356c-4aae-f8ba-cb4ec2072f27"
      },
      "source": [
        "X_train['imp_op_var40_efect_ult1'].value_counts() / np.float(len(X_train))"
      ],
      "execution_count": null,
      "outputs": [
        {
          "output_type": "execute_result",
          "data": {
            "text/plain": [
              "0      0.99950\n",
              "750    0.00025\n",
              "600    0.00025\n",
              "Name: imp_op_var40_efect_ult1, dtype: float64"
            ]
          },
          "metadata": {},
          "execution_count": 16
        }
      ]
    }
  ]
}