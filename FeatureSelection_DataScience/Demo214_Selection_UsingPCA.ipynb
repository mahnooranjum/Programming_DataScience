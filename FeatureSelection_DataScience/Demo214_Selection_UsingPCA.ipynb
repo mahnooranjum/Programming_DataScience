{
  "nbformat": 4,
  "nbformat_minor": 0,
  "metadata": {
    "colab": {
      "name": "Demo214_Selection_UsingPCA.ipynb",
      "provenance": [],
      "collapsed_sections": []
    },
    "kernelspec": {
      "name": "python3",
      "display_name": "Python 3"
    }
  },
  "cells": [
    {
      "cell_type": "markdown",
      "metadata": {
        "id": "P9bJCDjdlgG6"
      },
      "source": [
        "# **Survival of the FITtest**\n"
      ]
    },
    {
      "cell_type": "code",
      "metadata": {
        "id": "aQwc0re5mFld"
      },
      "source": [
        "import numpy as np\n",
        "import matplotlib.pyplot as plt\n",
        "import pandas as pd\n",
        "import seaborn as sns"
      ],
      "execution_count": null,
      "outputs": []
    },
    {
      "cell_type": "markdown",
      "metadata": {
        "id": "keG44qpdQiVA"
      },
      "source": [
        "## Get  Dataset"
      ]
    },
    {
      "cell_type": "code",
      "metadata": {
        "id": "qyw8HvOuBEZm"
      },
      "source": [
        "from sklearn.datasets import load_breast_cancer\n",
        "data = load_breast_cancer()"
      ],
      "execution_count": null,
      "outputs": []
    },
    {
      "cell_type": "code",
      "metadata": {
        "id": "EukWofARwuL9",
        "colab": {
          "base_uri": "https://localhost:8080/"
        },
        "outputId": "d7fbe6b6-232e-4f10-ced4-1eab70c71e57"
      },
      "source": [
        "data.keys()"
      ],
      "execution_count": null,
      "outputs": [
        {
          "output_type": "execute_result",
          "data": {
            "text/plain": [
              "dict_keys(['data', 'target', 'target_names', 'DESCR', 'feature_names', 'filename'])"
            ]
          },
          "metadata": {},
          "execution_count": 3
        }
      ]
    },
    {
      "cell_type": "code",
      "metadata": {
        "id": "9BjoFGYJwyS0"
      },
      "source": [
        "X = data.data\n",
        "y = data.target"
      ],
      "execution_count": null,
      "outputs": []
    },
    {
      "cell_type": "code",
      "metadata": {
        "id": "oUJyshkNW2YQ"
      },
      "source": [
        "# TRAIN TEST SPLIT\n",
        "from sklearn.model_selection import train_test_split\n",
        "X_train, X_test, y_train, y_test = train_test_split(X, y, test_size = 0.1)"
      ],
      "execution_count": null,
      "outputs": []
    },
    {
      "cell_type": "code",
      "metadata": {
        "id": "Rr8oUBtew6X7"
      },
      "source": [
        "# Feature Scaling\n",
        "from sklearn.preprocessing import StandardScaler\n",
        "sc = StandardScaler()\n",
        "X_train = sc.fit_transform(X_train)\n",
        "X_test = sc.transform(X_test)"
      ],
      "execution_count": null,
      "outputs": []
    },
    {
      "cell_type": "code",
      "metadata": {
        "colab": {
          "base_uri": "https://localhost:8080/"
        },
        "id": "XNMMlAZ31Q2t",
        "outputId": "dd9db6ae-3ea1-42ef-a03c-0ba30251985f"
      },
      "source": [
        "# Reference: stackoverflow.com/questions/50796024/\n",
        "# Applying PCA\n",
        "from sklearn.decomposition import PCA\n",
        "model = PCA(n_components=5).fit(X_train)\n",
        "X_pc = model.transform(X_train)\n",
        "n_pcs= model.components_.shape[0]\n",
        "# max correlation on each principal component\n",
        "most_important = [np.abs(model.components_[i]).argmax() for i in range(n_pcs)]\n",
        "feature_names = list(range(X_train.shape[1]))\n",
        "important_names = [feature_names[most_important[i]] for i in range(n_pcs)]\n",
        "\n",
        "# print\n",
        "dic = {'PC{}'.format(i): important_names[i] for i in range(n_pcs)}\n",
        "\n",
        "dic"
      ],
      "execution_count": null,
      "outputs": [
        {
          "output_type": "execute_result",
          "data": {
            "text/plain": [
              "{'PC0': 7, 'PC1': 9, 'PC2': 11, 'PC3': 21, 'PC4': 4}"
            ]
          },
          "metadata": {},
          "execution_count": 7
        }
      ]
    },
    {
      "cell_type": "code",
      "metadata": {
        "colab": {
          "base_uri": "https://localhost:8080/",
          "height": 560
        },
        "id": "SC8Drlyw5LVw",
        "outputId": "c2547100-5af1-46ad-cda7-101ddfdb5d9e"
      },
      "source": [
        "fig, ax = plt.subplots(figsize=(10,8))\n",
        "sns.set_theme(style=\"whitegrid\", palette=\"pastel\")\n",
        "g = sns.barplot([x for x in range(n_pcs)], model.explained_variance_, ax=ax)\n",
        "g.set_xticklabels([])\n",
        "sns.set_style(\"whitegrid\")\n",
        "g.set_title(\"PCA scree plot\")\n"
      ],
      "execution_count": null,
      "outputs": [
        {
          "output_type": "stream",
          "text": [
            "/usr/local/lib/python3.7/dist-packages/seaborn/_decorators.py:43: FutureWarning: Pass the following variables as keyword args: x, y. From version 0.12, the only valid positional argument will be `data`, and passing other arguments without an explicit keyword will result in an error or misinterpretation.\n",
            "  FutureWarning\n"
          ],
          "name": "stderr"
        },
        {
          "output_type": "execute_result",
          "data": {
            "text/plain": [
              "Text(0.5, 1.0, 'PCA scree plot')"
            ]
          },
          "metadata": {},
          "execution_count": 8
        },
        {
          "output_type": "display_data",
          "data": {
            "image/png": "[encoded data removed]",
            "text/plain": [
              "<Figure size 720x576 with 1 Axes>"
            ]
          },
          "metadata": {
            "needs_background": "light"
          }
        }
      ]
    },
    {
      "cell_type": "code",
      "metadata": {
        "id": "vzRuKzGracLw"
      },
      "source": [
        "from sklearn.ensemble import RandomForestClassifier\n",
        "classifier = RandomForestClassifier()\n",
        "classifier.fit(X_train,y_train)\n",
        "importance = classifier.feature_importances_\n",
        "# summarize importance\n",
        "# for i,v in enumerate(importance):\n",
        "# \tprint('Feature: %0d, Score: %.5f' % (i,v))\n",
        "# plot importance\n",
        "\n"
      ],
      "execution_count": null,
      "outputs": []
    },
    {
      "cell_type": "code",
      "metadata": {
        "colab": {
          "base_uri": "https://localhost:8080/"
        },
        "id": "K3zDpewaU7hq",
        "outputId": "f69fd96d-4f1a-4006-f8ed-f0fb7943446b"
      },
      "source": [
        "type(importance)"
      ],
      "execution_count": null,
      "outputs": [
        {
          "output_type": "execute_result",
          "data": {
            "text/plain": [
              "numpy.ndarray"
            ]
          },
          "metadata": {},
          "execution_count": 10
        }
      ]
    },
    {
      "cell_type": "code",
      "metadata": {
        "colab": {
          "base_uri": "https://localhost:8080/"
        },
        "id": "qY774x0YVcQR",
        "outputId": "74fd249a-2a8e-4cc3-c649-340771a39503"
      },
      "source": [
        "n = 5\n",
        "indices = (-importance).argsort()[:n]\n",
        "print(indices)"
      ],
      "execution_count": null,
      "outputs": [
        {
          "output_type": "stream",
          "text": [
            "[23 22 27  7  2]\n"
          ],
          "name": "stdout"
        }
      ]
    },
    {
      "cell_type": "code",
      "metadata": {
        "colab": {
          "base_uri": "https://localhost:8080/"
        },
        "id": "Kfq3S-4t4lpX",
        "outputId": "f9ca7ec5-39fe-4b05-b25b-dea803055f02"
      },
      "source": [
        " important_names"
      ],
      "execution_count": null,
      "outputs": [
        {
          "output_type": "execute_result",
          "data": {
            "text/plain": [
              "[7, 9, 11, 21, 4]"
            ]
          },
          "metadata": {},
          "execution_count": 12
        }
      ]
    },
    {
      "cell_type": "code",
      "metadata": {
        "id": "XqFg4uImWcfP"
      },
      "source": [
        "y_pred = classifier.predict(X_test)"
      ],
      "execution_count": null,
      "outputs": []
    },
    {
      "cell_type": "code",
      "metadata": {
        "colab": {
          "base_uri": "https://localhost:8080/"
        },
        "id": "HGpqtTOrX6ye",
        "outputId": "ee76da33-6990-48a5-e880-52d5695644ab"
      },
      "source": [
        "X_train.shape"
      ],
      "execution_count": null,
      "outputs": [
        {
          "output_type": "execute_result",
          "data": {
            "text/plain": [
              "(512, 30)"
            ]
          },
          "metadata": {},
          "execution_count": 14
        }
      ]
    },
    {
      "cell_type": "code",
      "metadata": {
        "id": "dPz8dvWyifJm",
        "colab": {
          "base_uri": "https://localhost:8080/"
        },
        "outputId": "db89735f-e177-4164-c41c-fc3fe3c29e0f"
      },
      "source": [
        "from sklearn.metrics import accuracy_score\n",
        "acc_score = accuracy_score(y_test, y_pred)\n",
        "print(X_train.shape, acc_score)"
      ],
      "execution_count": null,
      "outputs": [
        {
          "output_type": "stream",
          "text": [
            "(512, 30) 0.9824561403508771\n"
          ],
          "name": "stdout"
        }
      ]
    },
    {
      "cell_type": "code",
      "metadata": {
        "colab": {
          "base_uri": "https://localhost:8080/"
        },
        "id": "c9PqYwuDW1Wr",
        "outputId": "573882b9-d0ac-491a-c817-1a8f6d4ba9ff"
      },
      "source": [
        "classifier = RandomForestClassifier()\n",
        "classifier.fit(X_train[:, important_names], y_train)\n",
        "y_pred = classifier.predict(X_test[:, important_names])\n",
        "acc_score = accuracy_score(y_test, y_pred)\n",
        "print(X_train[:, important_names].shape, acc_score)"
      ],
      "execution_count": null,
      "outputs": [
        {
          "output_type": "stream",
          "text": [
            "(512, 5) 0.9298245614035088\n"
          ],
          "name": "stdout"
        }
      ]
    }
  ]
}