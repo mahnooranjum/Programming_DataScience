{
  "nbformat": 4,
  "nbformat_minor": 0,
  "metadata": {
    "colab": {
      "name": "Demo211_Selection_XGBoost.ipynb",
      "provenance": [],
      "collapsed_sections": []
    },
    "kernelspec": {
      "name": "python3",
      "display_name": "Python 3"
    }
  },
  "cells": [
    {
      "cell_type": "markdown",
      "metadata": {
        "id": "P9bJCDjdlgG6"
      },
      "source": [
        "# **Survival of the FITtest**\n"
      ]
    },
    {
      "cell_type": "code",
      "metadata": {
        "id": "aQwc0re5mFld",
        "colab": {
          "base_uri": "https://localhost:8080/"
        },
        "outputId": "6fdf4a1b-5d7d-41d8-857f-17e0730a8122"
      },
      "source": [
        "import numpy as np\n",
        "import matplotlib.pyplot as plt\n",
        "import pandas as pd\n",
        "import seaborn as sns\n",
        "!sudo pip install xgboost"
      ],
      "execution_count": null,
      "outputs": [
        {
          "output_type": "stream",
          "text": [
            "Requirement already satisfied: xgboost in /usr/local/lib/python3.7/dist-packages (0.90)\n",
            "Requirement already satisfied: scipy in /usr/local/lib/python3.7/dist-packages (from xgboost) (1.4.1)\n",
            "Requirement already satisfied: numpy in /usr/local/lib/python3.7/dist-packages (from xgboost) (1.19.5)\n"
          ],
          "name": "stdout"
        }
      ]
    },
    {
      "cell_type": "code",
      "metadata": {
        "id": "I-tpfuNjbj-q"
      },
      "source": [
        "# Visualising the results\n",
        "def plot_model(classifier, X_set, y_set, y_test, y_pred, text):\n",
        "  from sklearn.metrics import accuracy_score\n",
        "  print(\"===== Accuracy Score =====\")\n",
        "  print(accuracy_score(y_test, y_pred))\n",
        "\n",
        "  from sklearn.metrics import classification_report\n",
        "  print(\"===== Accuracy Score =====\")\n",
        "  class_report = classification_report(y_test, y_pred)\n",
        "  print(class_report)\n",
        "  \n",
        "  from matplotlib.colors import ListedColormap\n",
        "  X1, X2 = np.meshgrid(np.arange(start = X_set[:, 0].min() - 1, stop = X_set[:, 0].max() + 1, step = 0.01),\n",
        "                    np.arange(start = X_set[:, 1].min() - 1, stop = X_set[:, 1].max() + 1, step = 0.01))\n",
        "  plt.contourf(X1, X2, classifier.predict(np.array([X1.ravel(), X2.ravel()]).T).reshape(X1.shape),\n",
        "            alpha = 0.75, cmap = ListedColormap(('pink', 'cyan')))\n",
        "  plt.xlim(X1.min(), X1.max())\n",
        "  plt.ylim(X2.min(), X2.max())\n",
        "  for i, j in enumerate(np.unique(y_set)):\n",
        "    plt.scatter(X_set[y_set == j, 0], X_set[y_set == j, 1],\n",
        "                c = ListedColormap(('red', 'blue'))(i), label = j)\n",
        "  plt.title(text)\n",
        "  plt.xlabel('X')\n",
        "  plt.ylabel('y')\n",
        "  plt.legend()\n",
        "  plt.show()"
      ],
      "execution_count": null,
      "outputs": []
    },
    {
      "cell_type": "markdown",
      "metadata": {
        "id": "keG44qpdQiVA"
      },
      "source": [
        "## Get Breast Cancer Dataset"
      ]
    },
    {
      "cell_type": "code",
      "metadata": {
        "id": "qyw8HvOuBEZm"
      },
      "source": [
        "from sklearn.datasets import load_breast_cancer\n",
        "data = load_breast_cancer()"
      ],
      "execution_count": null,
      "outputs": []
    },
    {
      "cell_type": "code",
      "metadata": {
        "id": "EukWofARwuL9",
        "colab": {
          "base_uri": "https://localhost:8080/"
        },
        "outputId": "71af71e3-1953-48af-f3c5-ea6fcf82460b"
      },
      "source": [
        "data.keys()"
      ],
      "execution_count": null,
      "outputs": [
        {
          "output_type": "execute_result",
          "data": {
            "text/plain": [
              "dict_keys(['data', 'target', 'target_names', 'DESCR', 'feature_names', 'filename'])"
            ]
          },
          "metadata": {},
          "execution_count": 4
        }
      ]
    },
    {
      "cell_type": "code",
      "metadata": {
        "id": "9BjoFGYJwyS0"
      },
      "source": [
        "X = data.data\n",
        "y = data.target"
      ],
      "execution_count": null,
      "outputs": []
    },
    {
      "cell_type": "code",
      "metadata": {
        "id": "oUJyshkNW2YQ"
      },
      "source": [
        "# TRAIN TEST SPLIT\n",
        "from sklearn.model_selection import train_test_split\n",
        "X_train, X_test, y_train, y_test = train_test_split(X, y, test_size = 0.1)"
      ],
      "execution_count": null,
      "outputs": []
    },
    {
      "cell_type": "code",
      "metadata": {
        "id": "Rr8oUBtew6X7"
      },
      "source": [
        "# Feature Scaling\n",
        "from sklearn.preprocessing import StandardScaler\n",
        "sc = StandardScaler()\n",
        "X_train = sc.fit_transform(X_train)\n",
        "X_test = sc.transform(X_test)"
      ],
      "execution_count": null,
      "outputs": []
    },
    {
      "cell_type": "code",
      "metadata": {
        "id": "vzRuKzGracLw",
        "colab": {
          "base_uri": "https://localhost:8080/",
          "height": 560
        },
        "outputId": "3b68bb78-2183-49ac-c300-ee0ac27a269b"
      },
      "source": [
        "import xgboost\n",
        "from xgboost import XGBClassifier\n",
        "# define the model\n",
        "model = XGBClassifier()\n",
        "model.fit(X_train, y_train)\n",
        "importance = model.feature_importances_\n",
        "# summarize importance\n",
        "# for i,v in enumerate(importance):\n",
        "# \tprint('Feature: %0d, Score: %.5f' % (i,v))\n",
        "# plot importance\n",
        "fig, ax = plt.subplots(figsize=(10,8))\n",
        "sns.set_theme(style=\"whitegrid\", palette=\"pastel\")\n",
        "g = sns.barplot([x for x in range(len(importance))], importance, ax=ax)\n",
        "g.set_xticklabels([])\n",
        "sns.set_style(\"whitegrid\")\n",
        "g.set_title(\"Feature Importance XGboost\")\n",
        "\n"
      ],
      "execution_count": null,
      "outputs": [
        {
          "output_type": "stream",
          "text": [
            "/usr/local/lib/python3.7/dist-packages/seaborn/_decorators.py:43: FutureWarning: Pass the following variables as keyword args: x, y. From version 0.12, the only valid positional argument will be `data`, and passing other arguments without an explicit keyword will result in an error or misinterpretation.\n",
            "  FutureWarning\n"
          ],
          "name": "stderr"
        },
        {
          "output_type": "execute_result",
          "data": {
            "text/plain": [
              "Text(0.5, 1.0, 'Feature Importance XGboost')"
            ]
          },
          "metadata": {},
          "execution_count": 8
        },
        {
          "output_type": "display_data",
          "data": {
            "image/png": "[encoded data removed]",
            "text/plain": [
              "<Figure size 720x576 with 1 Axes>"
            ]
          },
          "metadata": {
            "needs_background": "light"
          }
        }
      ]
    },
    {
      "cell_type": "code",
      "metadata": {
        "colab": {
          "base_uri": "https://localhost:8080/"
        },
        "id": "K3zDpewaU7hq",
        "outputId": "70a8b67d-db04-4b21-d0ab-83d9d0304ff7"
      },
      "source": [
        "type(importance)"
      ],
      "execution_count": null,
      "outputs": [
        {
          "output_type": "execute_result",
          "data": {
            "text/plain": [
              "numpy.ndarray"
            ]
          },
          "metadata": {},
          "execution_count": 9
        }
      ]
    },
    {
      "cell_type": "code",
      "metadata": {
        "colab": {
          "base_uri": "https://localhost:8080/"
        },
        "id": "qY774x0YVcQR",
        "outputId": "da47ccda-4e4d-4d7d-ef7b-372c3a6da80f"
      },
      "source": [
        "n = 5\n",
        "indices = (-importance).argsort()[:n]\n",
        "print(indices)"
      ],
      "execution_count": null,
      "outputs": [
        {
          "output_type": "stream",
          "text": [
            "[22 20 27 23  7]\n"
          ],
          "name": "stdout"
        }
      ]
    },
    {
      "cell_type": "code",
      "metadata": {
        "id": "XqFg4uImWcfP"
      },
      "source": [
        "y_pred = model.predict(X_test)\n",
        "y_pred = y_pred < 0.5"
      ],
      "execution_count": null,
      "outputs": []
    },
    {
      "cell_type": "code",
      "metadata": {
        "colab": {
          "base_uri": "https://localhost:8080/"
        },
        "id": "HGpqtTOrX6ye",
        "outputId": "ae58991e-9d44-4fd1-dda0-09d0f1aa1edb"
      },
      "source": [
        "X_train.shape"
      ],
      "execution_count": null,
      "outputs": [
        {
          "output_type": "execute_result",
          "data": {
            "text/plain": [
              "(512, 30)"
            ]
          },
          "metadata": {},
          "execution_count": 12
        }
      ]
    },
    {
      "cell_type": "code",
      "metadata": {
        "id": "dPz8dvWyifJm",
        "colab": {
          "base_uri": "https://localhost:8080/"
        },
        "outputId": "31329299-757b-4448-d4cf-024a23b3a179"
      },
      "source": [
        "from sklearn.metrics import accuracy_score\n",
        "acc_score = accuracy_score(y_test, y_pred)\n",
        "print(X_train.shape, acc_score)"
      ],
      "execution_count": null,
      "outputs": [
        {
          "output_type": "stream",
          "text": [
            "(512, 30) 0.03508771929824561\n"
          ],
          "name": "stdout"
        }
      ]
    },
    {
      "cell_type": "code",
      "metadata": {
        "colab": {
          "base_uri": "https://localhost:8080/"
        },
        "id": "c9PqYwuDW1Wr",
        "outputId": "102d6c54-6ddf-4696-f0e9-f1b12245734c"
      },
      "source": [
        "classifier = XGBClassifier()\n",
        "classifier.fit(X_train[:, indices], y_train)\n",
        "y_pred = classifier.predict(X_test[:, indices])\n",
        "acc_score = accuracy_score(y_test, y_pred)\n",
        "print(X_train[:, indices].shape, acc_score)"
      ],
      "execution_count": null,
      "outputs": [
        {
          "output_type": "stream",
          "text": [
            "(512, 5) 0.9473684210526315\n"
          ],
          "name": "stdout"
        }
      ]
    },
    {
      "cell_type": "code",
      "metadata": {
        "id": "uZSvYR4hXT4V"
      },
      "source": [
        ""
      ],
      "execution_count": null,
      "outputs": []
    }
  ]
}